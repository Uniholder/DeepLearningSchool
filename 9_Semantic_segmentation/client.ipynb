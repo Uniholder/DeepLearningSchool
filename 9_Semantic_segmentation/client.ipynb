{
 "cells": [
  {
   "cell_type": "code",
   "execution_count": 1,
   "id": "productive-aggregate",
   "metadata": {},
   "outputs": [],
   "source": [
    "import socket"
   ]
  },
  {
   "cell_type": "code",
   "execution_count": 2,
   "id": "stable-stylus",
   "metadata": {},
   "outputs": [],
   "source": [
    "req = 'asdasd'"
   ]
  },
  {
   "cell_type": "code",
   "execution_count": 3,
   "id": "brilliant-nightmare",
   "metadata": {},
   "outputs": [],
   "source": [
    "s = socket.socket(socket.AF_INET, socket.SOCK_STREAM)"
   ]
  },
  {
   "cell_type": "code",
   "execution_count": 5,
   "id": "fundamental-doctor",
   "metadata": {},
   "outputs": [],
   "source": [
    "s.connect(('127.0.0.1', 2222))"
   ]
  },
  {
   "cell_type": "code",
   "execution_count": null,
   "id": "national-twenty",
   "metadata": {},
   "outputs": [],
   "source": [
    "s.send(req.encode())\n",
    "rsp = s.recv(1024)\n",
    "print('Recieved:', str(rsp.decode()))"
   ]
  },
  {
   "cell_type": "code",
   "execution_count": 6,
   "id": "unable-curve",
   "metadata": {},
   "outputs": [],
   "source": [
    "s.close()"
   ]
  }
 ],
 "metadata": {
  "kernelspec": {
   "display_name": "Python 3",
   "language": "python",
   "name": "python3"
  },
  "language_info": {
   "codemirror_mode": {
    "name": "ipython",
    "version": 3
   },
   "file_extension": ".py",
   "mimetype": "text/x-python",
   "name": "python",
   "nbconvert_exporter": "python",
   "pygments_lexer": "ipython3",
   "version": "3.7.9"
  }
 },
 "nbformat": 4,
 "nbformat_minor": 5
}
