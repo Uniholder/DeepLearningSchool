{
 "cells": [
  {
   "cell_type": "code",
   "execution_count": 1,
   "id": "biological-porter",
   "metadata": {},
   "outputs": [],
   "source": [
    "import socket\n",
    "from _thread import start_new_thread\n",
    "\n",
    "s = socket.socket(socket.AF_INET, socket.SOCK_STREAM)\n",
    "s.bind(('0.0.0.0', 2222))\n",
    "s.listen(10)"
   ]
  },
  {
   "cell_type": "code",
   "execution_count": 2,
   "id": "brief-wrist",
   "metadata": {},
   "outputs": [],
   "source": [
    "def multi_threaded_client(connection):\n",
    "    while True:\n",
    "        data = conn.recv(1024)\n",
    "        if data.decode() == 'close':\n",
    "            conn.close()\n",
    "            break\n",
    "        if not data: break\n",
    "        conn.send(data)\n",
    "    conn.close()"
   ]
  },
  {
   "cell_type": "code",
   "execution_count": null,
   "id": "confident-spiritual",
   "metadata": {},
   "outputs": [],
   "source": [
    "# one-thread server\n",
    "import socket\n",
    "from _thread import start_new_thread\n",
    "\n",
    "s = socket.socket(socket.AF_INET, socket.SOCK_STREAM)\n",
    "s.bind(('0.0.0.0', 2222))\n",
    "s.listen(10)\n",
    "\n",
    "i, j = 0, 0\n",
    "while True:\n",
    "    print('connection:', i)\n",
    "    i += 1\n",
    "    conn, addr = s.accept()\n",
    "    print(f'connected to: {addr[0]}:{addr[1]}')\n",
    "    while True:\n",
    "        print('recieve data:', j)\n",
    "        j += 1\n",
    "        data = conn.recv(1024)\n",
    "        if data.decode() == 'close' or not data: break\n",
    "        conn.send(data)\n",
    "    conn.close()"
   ]
  },
  {
   "cell_type": "code",
   "execution_count": null,
   "id": "square-rabbit",
   "metadata": {},
   "outputs": [],
   "source": [
    "# multi-thread server\n",
    "import socket\n",
    "from _thread import start_new_thread\n",
    "\n",
    "s = socket.socket(socket.AF_INET, socket.SOCK_STREAM)\n",
    "s.bind(('0.0.0.0', 2222))\n",
    "s.listen(10)\n",
    "\n",
    "def multi_threaded_client(connection):\n",
    "    while True:\n",
    "        data = conn.recv(1024)\n",
    "        if data.decode() == 'close':\n",
    "            conn.close()\n",
    "            break\n",
    "        if not data: break\n",
    "        conn.send(data)\n",
    "    conn.close()\n",
    "\n",
    "while True:\n",
    "    conn, addr = s.accept()\n",
    "    print(f'connected to: {addr[0]}:{addr[1]}')\n",
    "    thread_count = 0\n",
    "    if thread_count <= 10:\n",
    "        start_new_thread(multi_threaded_client, (conn, ))\n",
    "        thread_count += 1\n",
    "s.close()"
   ]
  }
 ],
 "metadata": {
  "kernelspec": {
   "display_name": "Python 3",
   "language": "python",
   "name": "python3"
  },
  "language_info": {
   "codemirror_mode": {
    "name": "ipython",
    "version": 3
   },
   "file_extension": ".py",
   "mimetype": "text/x-python",
   "name": "python",
   "nbconvert_exporter": "python",
   "pygments_lexer": "ipython3",
   "version": "3.7.9"
  }
 },
 "nbformat": 4,
 "nbformat_minor": 5
}
