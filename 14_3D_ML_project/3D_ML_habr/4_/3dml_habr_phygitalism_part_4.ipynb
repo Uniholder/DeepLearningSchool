{
 "cells": [
  {
   "cell_type": "code",
   "execution_count": 6,
   "id": "cd4079a6",
   "metadata": {},
   "outputs": [
    {
     "name": "stdout",
     "output_type": "stream",
     "text": [
      "fatal: destination path 'SoftRas' already exists and is not an empty directory.\n",
      "ERROR conda.cli.main_run:execute(33): Subprocess for 'conda run ['python', 'setup.py', 'install']' command failed.  (See above for error)\n",
      "Traceback (most recent call last):\n",
      "  File \"setup.py\", line 3, in <module>\n",
      "    from torch.utils.cpp_extension import BuildExtension, CUDAExtension\n",
      "ModuleNotFoundError: No module named 'torch'\n",
      "\n"
     ]
    }
   ],
   "source": [
    "!git clone https://github.com/ShichenLiu/SoftRas.git\n",
    "!cd SoftRas && conda run -n base python setup.py install"
   ]
  },
  {
   "cell_type": "code",
   "execution_count": 4,
   "id": "2b728036",
   "metadata": {},
   "outputs": [
    {
     "ename": "ModuleNotFoundError",
     "evalue": "No module named 'soft_renderer'",
     "output_type": "error",
     "traceback": [
      "\u001b[0;31m---------------------------------------------------------------------------\u001b[0m",
      "\u001b[0;31mModuleNotFoundError\u001b[0m                       Traceback (most recent call last)",
      "\u001b[0;32m<ipython-input-4-6d75d3e351b5>\u001b[0m in \u001b[0;36m<module>\u001b[0;34m\u001b[0m\n\u001b[1;32m      4\u001b[0m \u001b[0;32mimport\u001b[0m \u001b[0mnumpy\u001b[0m \u001b[0;32mas\u001b[0m \u001b[0mnp\u001b[0m\u001b[0;34m\u001b[0m\u001b[0;34m\u001b[0m\u001b[0m\n\u001b[1;32m      5\u001b[0m \u001b[0;32mimport\u001b[0m \u001b[0mimageio\u001b[0m\u001b[0;34m\u001b[0m\u001b[0;34m\u001b[0m\u001b[0m\n\u001b[0;32m----> 6\u001b[0;31m \u001b[0;32mimport\u001b[0m \u001b[0msoft_renderer\u001b[0m \u001b[0;32mas\u001b[0m \u001b[0msr\u001b[0m\u001b[0;34m\u001b[0m\u001b[0;34m\u001b[0m\u001b[0m\n\u001b[0m",
      "\u001b[0;31mModuleNotFoundError\u001b[0m: No module named 'soft_renderer'"
     ]
    }
   ],
   "source": [
    "import matplotlib.pyplot as plt\n",
    "import os\n",
    "import tqdm\n",
    "import numpy as np\n",
    "import imageio\n",
    "import soft_renderer as sr"
   ]
  },
  {
   "cell_type": "code",
   "execution_count": null,
   "id": "a873184b",
   "metadata": {},
   "outputs": [],
   "source": []
  }
 ],
 "metadata": {
  "kernelspec": {
   "display_name": "Python 3",
   "language": "python",
   "name": "python3"
  },
  "language_info": {
   "codemirror_mode": {
    "name": "ipython",
    "version": 3
   },
   "file_extension": ".py",
   "mimetype": "text/x-python",
   "name": "python",
   "nbconvert_exporter": "python",
   "pygments_lexer": "ipython3",
   "version": "3.8.10"
  }
 },
 "nbformat": 4,
 "nbformat_minor": 5
}
