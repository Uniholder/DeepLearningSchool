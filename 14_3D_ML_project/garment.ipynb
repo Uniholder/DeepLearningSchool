{
 "cells": [
  {
   "cell_type": "code",
   "execution_count": null,
   "id": "f8a46667",
   "metadata": {},
   "outputs": [],
   "source": [
    "!git clone https://github.com/bharat-b7/MultiGarmentNetwork.git\n",
    "!wget https://datasets.d2.mpi-inf.mpg.de/MultiGarmentNetwork/Multi-Garmentdataset.zip\n",
    "!unzip Multi-Garmentdataset.zip\n",
    "!git clone https://github.com/pmh47/dirt.git\n",
    "!(cd dirt && pip install .)\n",
    "!git clone https://github.com/MPI-IS/mesh.git\n",
    "# !sudo apt-get install libboost-dev # don't need on colab\n",
    "!(cd mesh/ && BOOST_INCLUDE_DIRS=/usr/lib/x86_64-linux-gnu/ make all)\n",
    "!wget https://datasets.d2.mpi-inf.mpg.de/MultiGarmentNetwork/weights.zip\n",
    "!unzip weights.zip\n",
    "!mv Multi-Garment\\ Network/test_data.pkl MultiGarmentNetwork/test_data.pkl\n",
    "!mv Multi-Garment\\ Network/saved_model/ MultiGarmentNetwork/saved_model/\n",
    "!mv Multi-Garment\\ Network/assets/* MultiGarmentNetwork/assets/"
   ]
  },
  {
   "cell_type": "code",
   "execution_count": null,
   "id": "37dedf35",
   "metadata": {},
   "outputs": [],
   "source": [
    "!xvfb-run -a python MultiGarmentNetwork/visualize_scan.py"
   ]
  }
 ],
 "metadata": {
  "kernelspec": {
   "display_name": "Python 3",
   "language": "python",
   "name": "python3"
  },
  "language_info": {
   "codemirror_mode": {
    "name": "ipython",
    "version": 3
   },
   "file_extension": ".py",
   "mimetype": "text/x-python",
   "name": "python",
   "nbconvert_exporter": "python",
   "pygments_lexer": "ipython3",
   "version": "3.8.10"
  }
 },
 "nbformat": 4,
 "nbformat_minor": 5
}
