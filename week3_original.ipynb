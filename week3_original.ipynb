{
  "nbformat": 4,
  "nbformat_minor": 0,
  "metadata": {
    "anaconda-cloud": {},
    "kernelspec": {
      "display_name": "Python 3",
      "language": "python",
      "name": "python3"
    },
    "language_info": {
      "codemirror_mode": {
        "name": "ipython",
        "version": 3
      },
      "file_extension": ".py",
      "mimetype": "text/x-python",
      "name": "python",
      "nbconvert_exporter": "python",
      "pygments_lexer": "ipython3",
      "version": "3.7.9"
    },
    "colab": {
      "name": "week3_original.ipynb",
      "provenance": [],
      "toc_visible": true,
      "include_colab_link": true
    },
    "widgets": {
      "application/vnd.jupyter.widget-state+json": {
        "ba655ff016e847a191e315a8821d6ab8": {
          "model_module": "@jupyter-widgets/controls",
          "model_name": "HBoxModel",
          "state": {
            "_view_name": "HBoxView",
            "_dom_classes": [],
            "_model_name": "HBoxModel",
            "_view_module": "@jupyter-widgets/controls",
            "_model_module_version": "1.5.0",
            "_view_count": null,
            "_view_module_version": "1.5.0",
            "box_style": "",
            "layout": "IPY_MODEL_5e70548905f14104b2e0f7a5297e1ec7",
            "_model_module": "@jupyter-widgets/controls",
            "children": [
              "IPY_MODEL_f6ec56189f8745528bc16e7fa986a5c2",
              "IPY_MODEL_741aaa1a5db44b9e9705017df6d7a471"
            ]
          }
        },
        "5e70548905f14104b2e0f7a5297e1ec7": {
          "model_module": "@jupyter-widgets/base",
          "model_name": "LayoutModel",
          "state": {
            "_view_name": "LayoutView",
            "grid_template_rows": null,
            "right": null,
            "justify_content": null,
            "_view_module": "@jupyter-widgets/base",
            "overflow": null,
            "_model_module_version": "1.2.0",
            "_view_count": null,
            "flex_flow": null,
            "width": null,
            "min_width": null,
            "border": null,
            "align_items": null,
            "bottom": null,
            "_model_module": "@jupyter-widgets/base",
            "top": null,
            "grid_column": null,
            "overflow_y": null,
            "overflow_x": null,
            "grid_auto_flow": null,
            "grid_area": null,
            "grid_template_columns": null,
            "flex": null,
            "_model_name": "LayoutModel",
            "justify_items": null,
            "grid_row": null,
            "max_height": null,
            "align_content": null,
            "visibility": null,
            "align_self": null,
            "height": null,
            "min_height": null,
            "padding": null,
            "grid_auto_rows": null,
            "grid_gap": null,
            "max_width": null,
            "order": null,
            "_view_module_version": "1.2.0",
            "grid_template_areas": null,
            "object_position": null,
            "object_fit": null,
            "grid_auto_columns": null,
            "margin": null,
            "display": null,
            "left": null
          }
        },
        "f6ec56189f8745528bc16e7fa986a5c2": {
          "model_module": "@jupyter-widgets/controls",
          "model_name": "FloatProgressModel",
          "state": {
            "_view_name": "ProgressView",
            "style": "IPY_MODEL_b14efc519cb54c93ab699b35d6a6007d",
            "_dom_classes": [],
            "description": "",
            "_model_name": "FloatProgressModel",
            "bar_style": "success",
            "max": 1,
            "_view_module": "@jupyter-widgets/controls",
            "_model_module_version": "1.5.0",
            "value": 0,
            "_view_count": null,
            "_view_module_version": "1.5.0",
            "orientation": "horizontal",
            "min": 0,
            "description_tooltip": null,
            "_model_module": "@jupyter-widgets/controls",
            "layout": "IPY_MODEL_d79ba2de96db419b908d4fe51369e66e"
          }
        },
        "741aaa1a5db44b9e9705017df6d7a471": {
          "model_module": "@jupyter-widgets/controls",
          "model_name": "HTMLModel",
          "state": {
            "_view_name": "HTMLView",
            "style": "IPY_MODEL_e96737faf8fa4606bfba90802d68451d",
            "_dom_classes": [],
            "description": "",
            "_model_name": "HTMLModel",
            "placeholder": "​",
            "_view_module": "@jupyter-widgets/controls",
            "_model_module_version": "1.5.0",
            "value": " 0/0 [00:00&lt;?, ?it/s]",
            "_view_count": null,
            "_view_module_version": "1.5.0",
            "description_tooltip": null,
            "_model_module": "@jupyter-widgets/controls",
            "layout": "IPY_MODEL_4ff67fa154414ad0b79ae42e4b89bc76"
          }
        },
        "b14efc519cb54c93ab699b35d6a6007d": {
          "model_module": "@jupyter-widgets/controls",
          "model_name": "ProgressStyleModel",
          "state": {
            "_view_name": "StyleView",
            "_model_name": "ProgressStyleModel",
            "description_width": "initial",
            "_view_module": "@jupyter-widgets/base",
            "_model_module_version": "1.5.0",
            "_view_count": null,
            "_view_module_version": "1.2.0",
            "bar_color": null,
            "_model_module": "@jupyter-widgets/controls"
          }
        },
        "d79ba2de96db419b908d4fe51369e66e": {
          "model_module": "@jupyter-widgets/base",
          "model_name": "LayoutModel",
          "state": {
            "_view_name": "LayoutView",
            "grid_template_rows": null,
            "right": null,
            "justify_content": null,
            "_view_module": "@jupyter-widgets/base",
            "overflow": null,
            "_model_module_version": "1.2.0",
            "_view_count": null,
            "flex_flow": null,
            "width": null,
            "min_width": null,
            "border": null,
            "align_items": null,
            "bottom": null,
            "_model_module": "@jupyter-widgets/base",
            "top": null,
            "grid_column": null,
            "overflow_y": null,
            "overflow_x": null,
            "grid_auto_flow": null,
            "grid_area": null,
            "grid_template_columns": null,
            "flex": null,
            "_model_name": "LayoutModel",
            "justify_items": null,
            "grid_row": null,
            "max_height": null,
            "align_content": null,
            "visibility": null,
            "align_self": null,
            "height": null,
            "min_height": null,
            "padding": null,
            "grid_auto_rows": null,
            "grid_gap": null,
            "max_width": null,
            "order": null,
            "_view_module_version": "1.2.0",
            "grid_template_areas": null,
            "object_position": null,
            "object_fit": null,
            "grid_auto_columns": null,
            "margin": null,
            "display": null,
            "left": null
          }
        },
        "e96737faf8fa4606bfba90802d68451d": {
          "model_module": "@jupyter-widgets/controls",
          "model_name": "DescriptionStyleModel",
          "state": {
            "_view_name": "StyleView",
            "_model_name": "DescriptionStyleModel",
            "description_width": "",
            "_view_module": "@jupyter-widgets/base",
            "_model_module_version": "1.5.0",
            "_view_count": null,
            "_view_module_version": "1.2.0",
            "_model_module": "@jupyter-widgets/controls"
          }
        },
        "4ff67fa154414ad0b79ae42e4b89bc76": {
          "model_module": "@jupyter-widgets/base",
          "model_name": "LayoutModel",
          "state": {
            "_view_name": "LayoutView",
            "grid_template_rows": null,
            "right": null,
            "justify_content": null,
            "_view_module": "@jupyter-widgets/base",
            "overflow": null,
            "_model_module_version": "1.2.0",
            "_view_count": null,
            "flex_flow": null,
            "width": null,
            "min_width": null,
            "border": null,
            "align_items": null,
            "bottom": null,
            "_model_module": "@jupyter-widgets/base",
            "top": null,
            "grid_column": null,
            "overflow_y": null,
            "overflow_x": null,
            "grid_auto_flow": null,
            "grid_area": null,
            "grid_template_columns": null,
            "flex": null,
            "_model_name": "LayoutModel",
            "justify_items": null,
            "grid_row": null,
            "max_height": null,
            "align_content": null,
            "visibility": null,
            "align_self": null,
            "height": null,
            "min_height": null,
            "padding": null,
            "grid_auto_rows": null,
            "grid_gap": null,
            "max_width": null,
            "order": null,
            "_view_module_version": "1.2.0",
            "grid_template_areas": null,
            "object_position": null,
            "object_fit": null,
            "grid_auto_columns": null,
            "margin": null,
            "display": null,
            "left": null
          }
        }
      }
    }
  },
  "cells": [
    {
      "cell_type": "markdown",
      "metadata": {
        "id": "view-in-github",
        "colab_type": "text"
      },
      "source": [
        "<a href=\"https://colab.research.google.com/github/Uniholder/DeepLearningSchool/blob/main/week3_original.ipynb\" target=\"_parent\"><img src=\"https://colab.research.google.com/assets/colab-badge.svg\" alt=\"Open In Colab\"/></a>"
      ]
    },
    {
      "cell_type": "markdown",
      "metadata": {
        "id": "vnJ_kWEQml8R"
      },
      "source": [
        "<center>\n",
        "<img src=\"https://habrastorage.org/web/677/8e1/337/6778e1337c3d4b159d7e99df94227cb2.jpg\"/>\n",
        "    \n",
        "## Специализация \"Машинное обучение и анализ данных\"\n",
        "</center>\n",
        "<center>Автор материала: программист-исследователь Mail.ru Group, старший преподаватель Факультета Компьютерных Наук ВШЭ Юрий Кашницкий"
      ]
    },
    {
      "cell_type": "markdown",
      "metadata": {
        "id": "8RsvuC6Qml8a"
      },
      "source": [
        "# <center>  Capstone проект №1. Идентификация пользователей по посещенным веб-страницам\n",
        "<img src='http://i.istockimg.com/file_thumbview_approve/21546327/5/stock-illustration-21546327-identification-de-l-utilisateur.jpg'>\n",
        "\n",
        "# <center>Неделя 3. Визуальный анализ данных и построение признаков\n",
        "\n",
        "На 3 неделе мы займемся визуальным анализом данных и построением признаков. Сначала мы вместе построим и проанализируем несколько признаков, потом Вы сможете сами придумать и описать различные признаки. Задание имеет вид Peer-Review, так что творчество здесь активно приветствуется. Если задействуете IPython-виджеты, библиотеку Plotly, анимации и прочий интерактив, всем от этого будет только лучше.\n",
        "\n",
        "**План 3 недели:**\n",
        " - Часть 1. Построение признаков\n",
        " - Часть 2. Визуальный анализ данных\n",
        " - Часть 3. Дальнейшее построение признаков\n",
        " - Часть 4. Проверка построенных признаков\n",
        "\n",
        "**В этой части проекта Вам могут быть полезны видеозаписи следующих лекций курса \"Поиск структуры в данных\":**\n",
        "   - [Задача визуализации](https://www.coursera.org/learn/unsupervised-learning/lecture/hlvlT/zadacha-vizualizatsii)\n",
        "   - [Визуализация данных в sklearn](https://www.coursera.org/learn/unsupervised-learning/lecture/ityMo/vizualizatsiia-dannykh-v-sklearn)\n",
        "   \n",
        "**Также в задании будет использоваться библиотека Seaborn (ее можно дополнительно установить командой *pip install seaborn*), будет полезно обращаться к документациям [Matplotlib](http://matplotlib.org/users/) и [Seaborn](http://seaborn.pydata.org/), а также к примерам визуализации, описанным на StackOverflow.**\n",
        "\n"
      ]
    },
    {
      "cell_type": "markdown",
      "metadata": {
        "id": "pg0oGMIMml8b"
      },
      "source": [
        "## Часть 1. Построение признаков"
      ]
    },
    {
      "cell_type": "code",
      "metadata": {
        "id": "OTZDHRIDml8c"
      },
      "source": [
        "from __future__ import division, print_function\n",
        "# отключим всякие предупреждения Anaconda\n",
        "import warnings\n",
        "warnings.filterwarnings('ignore')\n",
        "from glob import glob\n",
        "import os\n",
        "from tqdm.notebook import tqdm\n",
        "import numpy as np\n",
        "import pandas as pd\n",
        "pd.set_option('display.max.columns', 25)\n",
        "import pickle\n",
        "#pip install seaborn\n",
        "import seaborn as sns\n",
        "%matplotlib inline\n",
        "from matplotlib import pyplot as plt\n",
        "\n",
        "from itertools import tee"
      ],
      "execution_count": null,
      "outputs": []
    },
    {
      "cell_type": "code",
      "metadata": {
        "id": "o-7U-LdEml8d"
      },
      "source": [
        "plt.rcParams['figure.figsize'] = (13, 8)"
      ],
      "execution_count": null,
      "outputs": []
    },
    {
      "cell_type": "code",
      "metadata": {
        "id": "9pTVgCNIml8d"
      },
      "source": [
        "# Поменяйте на свой путь к данным\n",
        "PATH_TO_DATA = ('capstone_user_identification')"
      ],
      "execution_count": null,
      "outputs": []
    },
    {
      "cell_type": "markdown",
      "metadata": {
        "id": "HP9u8_aaml8e"
      },
      "source": [
        "**Создайте на основе функций *prepare_train_set* и *prepare_sparse_train_set_window*  новую – *prepare_train_set_with_fe*, (от \"feature engineering\"), создайте следующие признаки:**\n",
        "- `session_timespan` – продолжительность сессии (разница между максимальным и минимальным временем посещения сайтов в сессии, в секундах)\n",
        "- `#unique_sites` – число уникальных сайтов в сессии \n",
        "- `start_hour` – час начала сессии (то есть час в записи минимального timestamp среди десяти)\n",
        "- `day_of_week` – день недели (то есть день недели в записи минимального timestamp среди десяти)\n",
        "\n",
        "Функция должна возвращать новый DataFrame (как возвращала функция *prepare_train_set*), только признаков должно быть на 4 больше. Порядок, в котором добавляются признаки: *site1*, ... *site10*, *session_timespan*, *#unique_sites*, *start_hour*, *day_of_week* и *user_id* (это видно и чуть ниже по тому, как функция вызывается)."
      ]
    },
    {
      "cell_type": "code",
      "metadata": {
        "id": "YTC8pUZyml8f"
      },
      "source": [
        "def session_string(session_it, session_length):\n",
        "    '''\n",
        "    Генератор\n",
        "    Принимает итератор по файлу\n",
        "    Возвращает строку\n",
        "    '''\n",
        "    try:\n",
        "        for i in range(session_length):\n",
        "            yield next(session_it)\n",
        "    except StopIteration:\n",
        "        return"
      ],
      "execution_count": null,
      "outputs": []
    },
    {
      "cell_type": "code",
      "metadata": {
        "id": "blEKPVc-ml8f"
      },
      "source": [
        "def feature_engineering(file, session_length, window_size, site_map, user_id):\n",
        "    '''\n",
        "    Генератор\n",
        "    Создаёт массив признаков пользователя\n",
        "    session_length: длина сессии\n",
        "    window_size: длина шага\n",
        "    site_map: словарь сайтов в формате 'site': site_id\n",
        "    user_id: целевой признак\n",
        "    '''\n",
        "    windows_it = iter(file) # итератор по всему файлу (по строкам)\n",
        "    i = 0\n",
        "\n",
        "    while True:\n",
        "        try:\n",
        "            if i % window_size == 0: # начинаем писать сессию\n",
        "                # разделяем итератор на два; новый итератор только по сессии (как вложенный цикл)\n",
        "                windows_it, session_it = tee(windows_it)\n",
        "                session = list(session_string(session_it, session_length))\n",
        "                if session: # чтобы не возвращать в конце пустую строку\n",
        "                    # обрабатываем сайты\n",
        "                    sites_fact = list(map(lambda x: x.split(',')[1].strip(), session))\n",
        "                    sites_ids = np.array([site_map[site] for site in sites_fact])\n",
        "                    # список сайтов\n",
        "                    sites = np.zeros(session_length)\n",
        "                    sites[:len(sites_fact)] = sites_ids\n",
        "                    # число уникальных сайтов\n",
        "                    n_unique_sites = np.unique(sites_ids).size\n",
        "                    \n",
        "                    # обрабатываем timestamp'ы\n",
        "                    times_fact = list(map(lambda x: pd.to_datetime(x.split(',')[0].strip()), session))\n",
        "                    timediffs = np.array([(times_fact[i+1] - times_fact[i]).seconds for i in range(len(times_fact) - 1)])\n",
        "                    # список разниц времён - по сути время посещения каждого сайта (кроме последнего)\n",
        "                    times = np.zeros(session_length - 1)\n",
        "                    times[:len(timediffs)] = timediffs\n",
        "                    # длина сессии (минус время посещения последнего сайта)\n",
        "                    session_timespan = (times_fact[-1] - times_fact[0]).seconds\n",
        "                    # час начала сессии\n",
        "                    start_hour = times_fact[0].hour\n",
        "                    # день недели начала сессии\n",
        "                    start_day_of_week = times_fact[0].weekday()\n",
        "                    \n",
        "                    yield np.concatenate((sites, times, [session_timespan], [n_unique_sites], \n",
        "                                          [start_hour], [start_day_of_week], [user_id]))\n",
        "        except StopIteration:\n",
        "            return\n",
        "\n",
        "        try:\n",
        "            next(windows_it)\n",
        "            i += 1\n",
        "        except StopIteration:\n",
        "            return"
      ],
      "execution_count": null,
      "outputs": []
    },
    {
      "cell_type": "code",
      "metadata": {
        "id": "axdNqY8Yml8g"
      },
      "source": [
        "def prepare_train_set_with_fe(path_to_csv_files, site_freq_path, feature_names, session_length=10, window_size=10):\n",
        "    '''\n",
        "    Преобразует набор файлов в датасет: строка - сессия\n",
        "    '''\n",
        "    \n",
        "    train_set, user_ids = [], []\n",
        "\n",
        "    # скачиваем словарь сайтов\n",
        "    site_dict = pd.read_pickle(site_freq_path)\n",
        "    site_map = {k: v[0] for k, v in site_dict.items()}\n",
        "\n",
        "    # выражаем\n",
        "    for file_ in tqdm(glob(os.path.join(path_to_csv_files, '*'))): # '*'\n",
        "        user_id = int(os.path.splitext(os.path.basename(file_))[0][-4:]) # берём user id из имени файла\n",
        "        with open(file_) as f:\n",
        "            f.readline() # пропускаем первую строку\n",
        "            # итерируемся по сессиям одного пользователя\n",
        "            for session in feature_engineering(f, session_length, window_size, site_map, user_id):\n",
        "                train_set.append(session)\n",
        "                user_ids.append(user_id)\n",
        "\n",
        "    return pd.DataFrame(train_set, dtype='int', columns=feature_names)"
      ],
      "execution_count": null,
      "outputs": []
    },
    {
      "cell_type": "markdown",
      "metadata": {
        "id": "nTLnf1_nml8h"
      },
      "source": [
        "**Проверим функцию на игрушечном примере.**"
      ]
    },
    {
      "cell_type": "code",
      "metadata": {
        "colab": {
          "referenced_widgets": [
            "5aa8458cf9454d9b858d58828e1ec85e"
          ]
        },
        "id": "5l_PTROHml8h",
        "outputId": "2fea98b8-c07f-482c-ebcc-030ebe49c81a"
      },
      "source": [
        "feature_names = ['site' + str(i) for i in range(1,11)] + \\\n",
        "                ['time_diff' + str(j) for j in range(1,10)] + \\\n",
        "                ['session_timespan', '#unique_sites', 'start_hour', \n",
        "                 'day_of_week', 'target']\n",
        "train_data_toy  = prepare_train_set_with_fe(os.path.join(PATH_TO_DATA, \n",
        "                                                         '3users'), \n",
        "                  site_freq_path=os.path.join(PATH_TO_DATA, \n",
        "                                              'site_freq_3users.pkl'),\n",
        "                  feature_names=feature_names, session_length=10)"
      ],
      "execution_count": null,
      "outputs": [
        {
          "output_type": "display_data",
          "data": {
            "application/vnd.jupyter.widget-view+json": {
              "model_id": "5aa8458cf9454d9b858d58828e1ec85e",
              "version_major": 2,
              "version_minor": 0
            },
            "text/plain": [
              "  0%|          | 0/3 [00:00<?, ?it/s]"
            ]
          },
          "metadata": {
            "tags": []
          }
        }
      ]
    },
    {
      "cell_type": "code",
      "metadata": {
        "id": "JMdGfv16ml8j",
        "outputId": "7beab801-175e-4789-e668-db20bf20bb04"
      },
      "source": [
        "train_data_toy"
      ],
      "execution_count": null,
      "outputs": [
        {
          "output_type": "execute_result",
          "data": {
            "text/html": [
              "<div>\n",
              "<style scoped>\n",
              "    .dataframe tbody tr th:only-of-type {\n",
              "        vertical-align: middle;\n",
              "    }\n",
              "\n",
              "    .dataframe tbody tr th {\n",
              "        vertical-align: top;\n",
              "    }\n",
              "\n",
              "    .dataframe thead th {\n",
              "        text-align: right;\n",
              "    }\n",
              "</style>\n",
              "<table border=\"1\" class=\"dataframe\">\n",
              "  <thead>\n",
              "    <tr style=\"text-align: right;\">\n",
              "      <th></th>\n",
              "      <th>site1</th>\n",
              "      <th>site2</th>\n",
              "      <th>site3</th>\n",
              "      <th>site4</th>\n",
              "      <th>site5</th>\n",
              "      <th>site6</th>\n",
              "      <th>site7</th>\n",
              "      <th>site8</th>\n",
              "      <th>site9</th>\n",
              "      <th>site10</th>\n",
              "      <th>time_diff1</th>\n",
              "      <th>time_diff2</th>\n",
              "      <th>time_diff3</th>\n",
              "      <th>time_diff4</th>\n",
              "      <th>time_diff5</th>\n",
              "      <th>time_diff6</th>\n",
              "      <th>time_diff7</th>\n",
              "      <th>time_diff8</th>\n",
              "      <th>time_diff9</th>\n",
              "      <th>session_timespan</th>\n",
              "      <th>#unique_sites</th>\n",
              "      <th>start_hour</th>\n",
              "      <th>day_of_week</th>\n",
              "      <th>target</th>\n",
              "    </tr>\n",
              "  </thead>\n",
              "  <tbody>\n",
              "    <tr>\n",
              "      <th>0</th>\n",
              "      <td>1</td>\n",
              "      <td>2</td>\n",
              "      <td>2</td>\n",
              "      <td>3</td>\n",
              "      <td>2</td>\n",
              "      <td>4</td>\n",
              "      <td>5</td>\n",
              "      <td>6</td>\n",
              "      <td>7</td>\n",
              "      <td>8</td>\n",
              "      <td>287</td>\n",
              "      <td>1184</td>\n",
              "      <td>6278</td>\n",
              "      <td>186</td>\n",
              "      <td>2</td>\n",
              "      <td>1</td>\n",
              "      <td>2</td>\n",
              "      <td>3</td>\n",
              "      <td>55</td>\n",
              "      <td>7998</td>\n",
              "      <td>8</td>\n",
              "      <td>9</td>\n",
              "      <td>4</td>\n",
              "      <td>1</td>\n",
              "    </tr>\n",
              "    <tr>\n",
              "      <th>1</th>\n",
              "      <td>1</td>\n",
              "      <td>4</td>\n",
              "      <td>4</td>\n",
              "      <td>4</td>\n",
              "      <td>0</td>\n",
              "      <td>0</td>\n",
              "      <td>0</td>\n",
              "      <td>0</td>\n",
              "      <td>0</td>\n",
              "      <td>0</td>\n",
              "      <td>2</td>\n",
              "      <td>3</td>\n",
              "      <td>55</td>\n",
              "      <td>0</td>\n",
              "      <td>0</td>\n",
              "      <td>0</td>\n",
              "      <td>0</td>\n",
              "      <td>0</td>\n",
              "      <td>0</td>\n",
              "      <td>60</td>\n",
              "      <td>2</td>\n",
              "      <td>12</td>\n",
              "      <td>4</td>\n",
              "      <td>1</td>\n",
              "    </tr>\n",
              "    <tr>\n",
              "      <th>2</th>\n",
              "      <td>1</td>\n",
              "      <td>2</td>\n",
              "      <td>9</td>\n",
              "      <td>9</td>\n",
              "      <td>2</td>\n",
              "      <td>0</td>\n",
              "      <td>0</td>\n",
              "      <td>0</td>\n",
              "      <td>0</td>\n",
              "      <td>0</td>\n",
              "      <td>287</td>\n",
              "      <td>1184</td>\n",
              "      <td>6278</td>\n",
              "      <td>186</td>\n",
              "      <td>0</td>\n",
              "      <td>0</td>\n",
              "      <td>0</td>\n",
              "      <td>0</td>\n",
              "      <td>0</td>\n",
              "      <td>7935</td>\n",
              "      <td>3</td>\n",
              "      <td>9</td>\n",
              "      <td>4</td>\n",
              "      <td>2</td>\n",
              "    </tr>\n",
              "    <tr>\n",
              "      <th>3</th>\n",
              "      <td>10</td>\n",
              "      <td>4</td>\n",
              "      <td>2</td>\n",
              "      <td>4</td>\n",
              "      <td>2</td>\n",
              "      <td>4</td>\n",
              "      <td>4</td>\n",
              "      <td>6</td>\n",
              "      <td>11</td>\n",
              "      <td>10</td>\n",
              "      <td>287</td>\n",
              "      <td>1184</td>\n",
              "      <td>6278</td>\n",
              "      <td>186</td>\n",
              "      <td>2</td>\n",
              "      <td>1</td>\n",
              "      <td>2</td>\n",
              "      <td>3</td>\n",
              "      <td>55</td>\n",
              "      <td>7998</td>\n",
              "      <td>5</td>\n",
              "      <td>9</td>\n",
              "      <td>4</td>\n",
              "      <td>3</td>\n",
              "    </tr>\n",
              "    <tr>\n",
              "      <th>4</th>\n",
              "      <td>10</td>\n",
              "      <td>4</td>\n",
              "      <td>2</td>\n",
              "      <td>0</td>\n",
              "      <td>0</td>\n",
              "      <td>0</td>\n",
              "      <td>0</td>\n",
              "      <td>0</td>\n",
              "      <td>0</td>\n",
              "      <td>0</td>\n",
              "      <td>287</td>\n",
              "      <td>1184</td>\n",
              "      <td>0</td>\n",
              "      <td>0</td>\n",
              "      <td>0</td>\n",
              "      <td>0</td>\n",
              "      <td>0</td>\n",
              "      <td>0</td>\n",
              "      <td>0</td>\n",
              "      <td>1471</td>\n",
              "      <td>3</td>\n",
              "      <td>12</td>\n",
              "      <td>4</td>\n",
              "      <td>3</td>\n",
              "    </tr>\n",
              "  </tbody>\n",
              "</table>\n",
              "</div>"
            ],
            "text/plain": [
              "   site1  site2  site3  site4  site5  site6  site7  site8  site9  site10  \\\n",
              "0      1      2      2      3      2      4      5      6      7       8   \n",
              "1      1      4      4      4      0      0      0      0      0       0   \n",
              "2      1      2      9      9      2      0      0      0      0       0   \n",
              "3     10      4      2      4      2      4      4      6     11      10   \n",
              "4     10      4      2      0      0      0      0      0      0       0   \n",
              "\n",
              "   time_diff1  time_diff2  time_diff3  time_diff4  time_diff5  time_diff6  \\\n",
              "0         287        1184        6278         186           2           1   \n",
              "1           2           3          55           0           0           0   \n",
              "2         287        1184        6278         186           0           0   \n",
              "3         287        1184        6278         186           2           1   \n",
              "4         287        1184           0           0           0           0   \n",
              "\n",
              "   time_diff7  time_diff8  time_diff9  session_timespan  #unique_sites  \\\n",
              "0           2           3          55              7998              8   \n",
              "1           0           0           0                60              2   \n",
              "2           0           0           0              7935              3   \n",
              "3           2           3          55              7998              5   \n",
              "4           0           0           0              1471              3   \n",
              "\n",
              "   start_hour  day_of_week  target  \n",
              "0           9            4       1  \n",
              "1          12            4       1  \n",
              "2           9            4       2  \n",
              "3           9            4       3  \n",
              "4          12            4       3  "
            ]
          },
          "metadata": {
            "tags": []
          },
          "execution_count": 363
        }
      ]
    },
    {
      "cell_type": "markdown",
      "metadata": {
        "id": "iipBDhRPml8k"
      },
      "source": [
        "**Примените функцию *prepare_train_set_with_fe* к данным по 10 пользователям, укажите *session_length*=10.**"
      ]
    },
    {
      "cell_type": "code",
      "metadata": {
        "colab": {
          "referenced_widgets": [
            "33986b99ff8a433f90de3b4f10d8cf51"
          ]
        },
        "id": "-nEGH7W-ml8k",
        "outputId": "bde3f28f-01e0-4836-e374-76db0087f742"
      },
      "source": [
        "%%time\n",
        "train_data_10users = prepare_train_set_with_fe(\n",
        "    os.path.join(PATH_TO_DATA, '10users'), \n",
        "    site_freq_path=os.path.join(PATH_TO_DATA, 'site_freq_10users.pkl'),\n",
        "    feature_names=feature_names, session_length=10\n",
        ")"
      ],
      "execution_count": null,
      "outputs": [
        {
          "output_type": "display_data",
          "data": {
            "application/vnd.jupyter.widget-view+json": {
              "model_id": "33986b99ff8a433f90de3b4f10d8cf51",
              "version_major": 2,
              "version_minor": 0
            },
            "text/plain": [
              "  0%|          | 0/10 [00:00<?, ?it/s]"
            ]
          },
          "metadata": {
            "tags": []
          }
        },
        {
          "output_type": "stream",
          "text": [
            "Wall time: 14.1 s\n"
          ],
          "name": "stdout"
        }
      ]
    },
    {
      "cell_type": "code",
      "metadata": {
        "id": "ZDnSJgHrml8l",
        "outputId": "52962890-0342-47fa-c6f3-0a409503fbd7"
      },
      "source": [
        "train_data_10users.head()"
      ],
      "execution_count": null,
      "outputs": [
        {
          "output_type": "execute_result",
          "data": {
            "text/html": [
              "<div>\n",
              "<style scoped>\n",
              "    .dataframe tbody tr th:only-of-type {\n",
              "        vertical-align: middle;\n",
              "    }\n",
              "\n",
              "    .dataframe tbody tr th {\n",
              "        vertical-align: top;\n",
              "    }\n",
              "\n",
              "    .dataframe thead th {\n",
              "        text-align: right;\n",
              "    }\n",
              "</style>\n",
              "<table border=\"1\" class=\"dataframe\">\n",
              "  <thead>\n",
              "    <tr style=\"text-align: right;\">\n",
              "      <th></th>\n",
              "      <th>site1</th>\n",
              "      <th>site2</th>\n",
              "      <th>site3</th>\n",
              "      <th>site4</th>\n",
              "      <th>site5</th>\n",
              "      <th>site6</th>\n",
              "      <th>site7</th>\n",
              "      <th>site8</th>\n",
              "      <th>site9</th>\n",
              "      <th>site10</th>\n",
              "      <th>time_diff1</th>\n",
              "      <th>time_diff2</th>\n",
              "      <th>time_diff3</th>\n",
              "      <th>time_diff4</th>\n",
              "      <th>time_diff5</th>\n",
              "      <th>time_diff6</th>\n",
              "      <th>time_diff7</th>\n",
              "      <th>time_diff8</th>\n",
              "      <th>time_diff9</th>\n",
              "      <th>session_timespan</th>\n",
              "      <th>#unique_sites</th>\n",
              "      <th>start_hour</th>\n",
              "      <th>day_of_week</th>\n",
              "      <th>target</th>\n",
              "    </tr>\n",
              "  </thead>\n",
              "  <tbody>\n",
              "    <tr>\n",
              "      <th>0</th>\n",
              "      <td>1</td>\n",
              "      <td>2</td>\n",
              "      <td>3</td>\n",
              "      <td>4</td>\n",
              "      <td>3</td>\n",
              "      <td>3</td>\n",
              "      <td>4</td>\n",
              "      <td>3</td>\n",
              "      <td>5</td>\n",
              "      <td>3</td>\n",
              "      <td>10</td>\n",
              "      <td>0</td>\n",
              "      <td>0</td>\n",
              "      <td>1</td>\n",
              "      <td>20</td>\n",
              "      <td>1</td>\n",
              "      <td>0</td>\n",
              "      <td>1</td>\n",
              "      <td>0</td>\n",
              "      <td>33</td>\n",
              "      <td>5</td>\n",
              "      <td>8</td>\n",
              "      <td>4</td>\n",
              "      <td>31</td>\n",
              "    </tr>\n",
              "    <tr>\n",
              "      <th>1</th>\n",
              "      <td>6</td>\n",
              "      <td>7</td>\n",
              "      <td>8</td>\n",
              "      <td>9</td>\n",
              "      <td>3</td>\n",
              "      <td>10</td>\n",
              "      <td>11</td>\n",
              "      <td>12</td>\n",
              "      <td>13</td>\n",
              "      <td>14</td>\n",
              "      <td>1</td>\n",
              "      <td>0</td>\n",
              "      <td>163</td>\n",
              "      <td>105</td>\n",
              "      <td>0</td>\n",
              "      <td>1</td>\n",
              "      <td>3</td>\n",
              "      <td>3</td>\n",
              "      <td>8</td>\n",
              "      <td>284</td>\n",
              "      <td>10</td>\n",
              "      <td>8</td>\n",
              "      <td>4</td>\n",
              "      <td>31</td>\n",
              "    </tr>\n",
              "    <tr>\n",
              "      <th>2</th>\n",
              "      <td>14</td>\n",
              "      <td>4</td>\n",
              "      <td>14</td>\n",
              "      <td>14</td>\n",
              "      <td>15</td>\n",
              "      <td>16</td>\n",
              "      <td>6</td>\n",
              "      <td>17</td>\n",
              "      <td>18</td>\n",
              "      <td>14</td>\n",
              "      <td>0</td>\n",
              "      <td>14</td>\n",
              "      <td>1</td>\n",
              "      <td>242</td>\n",
              "      <td>0</td>\n",
              "      <td>0</td>\n",
              "      <td>1</td>\n",
              "      <td>0</td>\n",
              "      <td>0</td>\n",
              "      <td>258</td>\n",
              "      <td>7</td>\n",
              "      <td>8</td>\n",
              "      <td>4</td>\n",
              "      <td>31</td>\n",
              "    </tr>\n",
              "    <tr>\n",
              "      <th>3</th>\n",
              "      <td>19</td>\n",
              "      <td>20</td>\n",
              "      <td>19</td>\n",
              "      <td>14</td>\n",
              "      <td>14</td>\n",
              "      <td>14</td>\n",
              "      <td>14</td>\n",
              "      <td>21</td>\n",
              "      <td>22</td>\n",
              "      <td>23</td>\n",
              "      <td>2</td>\n",
              "      <td>1</td>\n",
              "      <td>0</td>\n",
              "      <td>1</td>\n",
              "      <td>25</td>\n",
              "      <td>1</td>\n",
              "      <td>0</td>\n",
              "      <td>0</td>\n",
              "      <td>0</td>\n",
              "      <td>30</td>\n",
              "      <td>6</td>\n",
              "      <td>8</td>\n",
              "      <td>4</td>\n",
              "      <td>31</td>\n",
              "    </tr>\n",
              "    <tr>\n",
              "      <th>4</th>\n",
              "      <td>24</td>\n",
              "      <td>14</td>\n",
              "      <td>15</td>\n",
              "      <td>25</td>\n",
              "      <td>26</td>\n",
              "      <td>27</td>\n",
              "      <td>28</td>\n",
              "      <td>29</td>\n",
              "      <td>30</td>\n",
              "      <td>29</td>\n",
              "      <td>1</td>\n",
              "      <td>0</td>\n",
              "      <td>1</td>\n",
              "      <td>1</td>\n",
              "      <td>1</td>\n",
              "      <td>0</td>\n",
              "      <td>1</td>\n",
              "      <td>1</td>\n",
              "      <td>0</td>\n",
              "      <td>6</td>\n",
              "      <td>9</td>\n",
              "      <td>8</td>\n",
              "      <td>4</td>\n",
              "      <td>31</td>\n",
              "    </tr>\n",
              "  </tbody>\n",
              "</table>\n",
              "</div>"
            ],
            "text/plain": [
              "   site1  site2  site3  site4  site5  site6  site7  site8  site9  site10  \\\n",
              "0      1      2      3      4      3      3      4      3      5       3   \n",
              "1      6      7      8      9      3     10     11     12     13      14   \n",
              "2     14      4     14     14     15     16      6     17     18      14   \n",
              "3     19     20     19     14     14     14     14     21     22      23   \n",
              "4     24     14     15     25     26     27     28     29     30      29   \n",
              "\n",
              "   time_diff1  time_diff2  time_diff3  time_diff4  time_diff5  time_diff6  \\\n",
              "0          10           0           0           1          20           1   \n",
              "1           1           0         163         105           0           1   \n",
              "2           0          14           1         242           0           0   \n",
              "3           2           1           0           1          25           1   \n",
              "4           1           0           1           1           1           0   \n",
              "\n",
              "   time_diff7  time_diff8  time_diff9  session_timespan  #unique_sites  \\\n",
              "0           0           1           0                33              5   \n",
              "1           3           3           8               284             10   \n",
              "2           1           0           0               258              7   \n",
              "3           0           0           0                30              6   \n",
              "4           1           1           0                 6              9   \n",
              "\n",
              "   start_hour  day_of_week  target  \n",
              "0           8            4      31  \n",
              "1           8            4      31  \n",
              "2           8            4      31  \n",
              "3           8            4      31  \n",
              "4           8            4      31  "
            ]
          },
          "metadata": {
            "tags": []
          },
          "execution_count": 365
        }
      ]
    },
    {
      "cell_type": "markdown",
      "metadata": {
        "id": "S-4luGEiml8m"
      },
      "source": [
        "**Примените функцию *prepare_train_set_with_fe* к данным по 150 пользователям, укажите *session_length*=10.**"
      ]
    },
    {
      "cell_type": "code",
      "metadata": {
        "colab": {
          "referenced_widgets": [
            "d166089834b34234a04f42fd019a5abb"
          ]
        },
        "id": "vzwJxEjOml8m",
        "outputId": "4161ecbd-21a5-4bde-b804-d2c85a6f4a7b"
      },
      "source": [
        "%%time\n",
        "train_data_150users = prepare_train_set_with_fe(\n",
        "    os.path.join(PATH_TO_DATA, '150users'), \n",
        "    site_freq_path=os.path.join(PATH_TO_DATA, 'site_freq_150users.pkl'),\n",
        "    feature_names=feature_names, session_length=10\n",
        ")"
      ],
      "execution_count": null,
      "outputs": [
        {
          "output_type": "display_data",
          "data": {
            "application/vnd.jupyter.widget-view+json": {
              "model_id": "d166089834b34234a04f42fd019a5abb",
              "version_major": 2,
              "version_minor": 0
            },
            "text/plain": [
              "  0%|          | 0/150 [00:00<?, ?it/s]"
            ]
          },
          "metadata": {
            "tags": []
          }
        },
        {
          "output_type": "stream",
          "text": [
            "Wall time: 2min 18s\n"
          ],
          "name": "stdout"
        }
      ]
    },
    {
      "cell_type": "markdown",
      "metadata": {
        "id": "iY70ZRpmml8n"
      },
      "source": [
        "**Сохраните в pickle-файлы признаки *session_timespan*, *#unique_sites*, *start_hour* и *day_of_week* для 10 и 150 пользователей.**"
      ]
    },
    {
      "cell_type": "code",
      "metadata": {
        "id": "1J9oqxRkml8n"
      },
      "source": [
        "new_features = ['time_diff' + str(j) for j in range(1,10)] + \\\n",
        "               ['session_timespan', '#unique_sites', 'start_hour', 'day_of_week']"
      ],
      "execution_count": null,
      "outputs": []
    },
    {
      "cell_type": "code",
      "metadata": {
        "id": "Uo8_skrsml8o",
        "outputId": "a2217471-c45d-423d-e57e-a6e1b5904a5d"
      },
      "source": [
        "train_data_10users[new_features]"
      ],
      "execution_count": null,
      "outputs": [
        {
          "output_type": "execute_result",
          "data": {
            "text/html": [
              "<div>\n",
              "<style scoped>\n",
              "    .dataframe tbody tr th:only-of-type {\n",
              "        vertical-align: middle;\n",
              "    }\n",
              "\n",
              "    .dataframe tbody tr th {\n",
              "        vertical-align: top;\n",
              "    }\n",
              "\n",
              "    .dataframe thead th {\n",
              "        text-align: right;\n",
              "    }\n",
              "</style>\n",
              "<table border=\"1\" class=\"dataframe\">\n",
              "  <thead>\n",
              "    <tr style=\"text-align: right;\">\n",
              "      <th></th>\n",
              "      <th>time_diff1</th>\n",
              "      <th>time_diff2</th>\n",
              "      <th>time_diff3</th>\n",
              "      <th>time_diff4</th>\n",
              "      <th>time_diff5</th>\n",
              "      <th>time_diff6</th>\n",
              "      <th>time_diff7</th>\n",
              "      <th>time_diff8</th>\n",
              "      <th>time_diff9</th>\n",
              "      <th>session_timespan</th>\n",
              "      <th>#unique_sites</th>\n",
              "      <th>start_hour</th>\n",
              "      <th>day_of_week</th>\n",
              "      <th>target</th>\n",
              "    </tr>\n",
              "  </thead>\n",
              "  <tbody>\n",
              "    <tr>\n",
              "      <th>0</th>\n",
              "      <td>10</td>\n",
              "      <td>0</td>\n",
              "      <td>0</td>\n",
              "      <td>1</td>\n",
              "      <td>20</td>\n",
              "      <td>1</td>\n",
              "      <td>0</td>\n",
              "      <td>1</td>\n",
              "      <td>0</td>\n",
              "      <td>33</td>\n",
              "      <td>5</td>\n",
              "      <td>8</td>\n",
              "      <td>4</td>\n",
              "      <td>31</td>\n",
              "    </tr>\n",
              "    <tr>\n",
              "      <th>1</th>\n",
              "      <td>1</td>\n",
              "      <td>0</td>\n",
              "      <td>163</td>\n",
              "      <td>105</td>\n",
              "      <td>0</td>\n",
              "      <td>1</td>\n",
              "      <td>3</td>\n",
              "      <td>3</td>\n",
              "      <td>8</td>\n",
              "      <td>284</td>\n",
              "      <td>10</td>\n",
              "      <td>8</td>\n",
              "      <td>4</td>\n",
              "      <td>31</td>\n",
              "    </tr>\n",
              "    <tr>\n",
              "      <th>2</th>\n",
              "      <td>0</td>\n",
              "      <td>14</td>\n",
              "      <td>1</td>\n",
              "      <td>242</td>\n",
              "      <td>0</td>\n",
              "      <td>0</td>\n",
              "      <td>1</td>\n",
              "      <td>0</td>\n",
              "      <td>0</td>\n",
              "      <td>258</td>\n",
              "      <td>7</td>\n",
              "      <td>8</td>\n",
              "      <td>4</td>\n",
              "      <td>31</td>\n",
              "    </tr>\n",
              "    <tr>\n",
              "      <th>3</th>\n",
              "      <td>2</td>\n",
              "      <td>1</td>\n",
              "      <td>0</td>\n",
              "      <td>1</td>\n",
              "      <td>25</td>\n",
              "      <td>1</td>\n",
              "      <td>0</td>\n",
              "      <td>0</td>\n",
              "      <td>0</td>\n",
              "      <td>30</td>\n",
              "      <td>6</td>\n",
              "      <td>8</td>\n",
              "      <td>4</td>\n",
              "      <td>31</td>\n",
              "    </tr>\n",
              "    <tr>\n",
              "      <th>4</th>\n",
              "      <td>1</td>\n",
              "      <td>0</td>\n",
              "      <td>1</td>\n",
              "      <td>1</td>\n",
              "      <td>1</td>\n",
              "      <td>0</td>\n",
              "      <td>1</td>\n",
              "      <td>1</td>\n",
              "      <td>0</td>\n",
              "      <td>6</td>\n",
              "      <td>9</td>\n",
              "      <td>8</td>\n",
              "      <td>4</td>\n",
              "      <td>31</td>\n",
              "    </tr>\n",
              "    <tr>\n",
              "      <th>...</th>\n",
              "      <td>...</td>\n",
              "      <td>...</td>\n",
              "      <td>...</td>\n",
              "      <td>...</td>\n",
              "      <td>...</td>\n",
              "      <td>...</td>\n",
              "      <td>...</td>\n",
              "      <td>...</td>\n",
              "      <td>...</td>\n",
              "      <td>...</td>\n",
              "      <td>...</td>\n",
              "      <td>...</td>\n",
              "      <td>...</td>\n",
              "      <td>...</td>\n",
              "    </tr>\n",
              "    <tr>\n",
              "      <th>14056</th>\n",
              "      <td>0</td>\n",
              "      <td>1</td>\n",
              "      <td>0</td>\n",
              "      <td>1</td>\n",
              "      <td>0</td>\n",
              "      <td>1</td>\n",
              "      <td>23</td>\n",
              "      <td>1</td>\n",
              "      <td>0</td>\n",
              "      <td>27</td>\n",
              "      <td>8</td>\n",
              "      <td>15</td>\n",
              "      <td>2</td>\n",
              "      <td>241</td>\n",
              "    </tr>\n",
              "    <tr>\n",
              "      <th>14057</th>\n",
              "      <td>0</td>\n",
              "      <td>0</td>\n",
              "      <td>2</td>\n",
              "      <td>0</td>\n",
              "      <td>0</td>\n",
              "      <td>0</td>\n",
              "      <td>2</td>\n",
              "      <td>1</td>\n",
              "      <td>6</td>\n",
              "      <td>11</td>\n",
              "      <td>8</td>\n",
              "      <td>15</td>\n",
              "      <td>2</td>\n",
              "      <td>241</td>\n",
              "    </tr>\n",
              "    <tr>\n",
              "      <th>14058</th>\n",
              "      <td>1</td>\n",
              "      <td>1</td>\n",
              "      <td>0</td>\n",
              "      <td>0</td>\n",
              "      <td>1</td>\n",
              "      <td>0</td>\n",
              "      <td>0</td>\n",
              "      <td>5</td>\n",
              "      <td>8</td>\n",
              "      <td>16</td>\n",
              "      <td>6</td>\n",
              "      <td>15</td>\n",
              "      <td>2</td>\n",
              "      <td>241</td>\n",
              "    </tr>\n",
              "    <tr>\n",
              "      <th>14059</th>\n",
              "      <td>2</td>\n",
              "      <td>1</td>\n",
              "      <td>51</td>\n",
              "      <td>173</td>\n",
              "      <td>1</td>\n",
              "      <td>12</td>\n",
              "      <td>1</td>\n",
              "      <td>1</td>\n",
              "      <td>0</td>\n",
              "      <td>242</td>\n",
              "      <td>5</td>\n",
              "      <td>15</td>\n",
              "      <td>2</td>\n",
              "      <td>241</td>\n",
              "    </tr>\n",
              "    <tr>\n",
              "      <th>14060</th>\n",
              "      <td>0</td>\n",
              "      <td>0</td>\n",
              "      <td>0</td>\n",
              "      <td>0</td>\n",
              "      <td>0</td>\n",
              "      <td>0</td>\n",
              "      <td>0</td>\n",
              "      <td>0</td>\n",
              "      <td>0</td>\n",
              "      <td>0</td>\n",
              "      <td>2</td>\n",
              "      <td>15</td>\n",
              "      <td>2</td>\n",
              "      <td>241</td>\n",
              "    </tr>\n",
              "  </tbody>\n",
              "</table>\n",
              "<p>14061 rows × 14 columns</p>\n",
              "</div>"
            ],
            "text/plain": [
              "       time_diff1  time_diff2  time_diff3  time_diff4  time_diff5  time_diff6  \\\n",
              "0              10           0           0           1          20           1   \n",
              "1               1           0         163         105           0           1   \n",
              "2               0          14           1         242           0           0   \n",
              "3               2           1           0           1          25           1   \n",
              "4               1           0           1           1           1           0   \n",
              "...           ...         ...         ...         ...         ...         ...   \n",
              "14056           0           1           0           1           0           1   \n",
              "14057           0           0           2           0           0           0   \n",
              "14058           1           1           0           0           1           0   \n",
              "14059           2           1          51         173           1          12   \n",
              "14060           0           0           0           0           0           0   \n",
              "\n",
              "       time_diff7  time_diff8  time_diff9  session_timespan  #unique_sites  \\\n",
              "0               0           1           0                33              5   \n",
              "1               3           3           8               284             10   \n",
              "2               1           0           0               258              7   \n",
              "3               0           0           0                30              6   \n",
              "4               1           1           0                 6              9   \n",
              "...           ...         ...         ...               ...            ...   \n",
              "14056          23           1           0                27              8   \n",
              "14057           2           1           6                11              8   \n",
              "14058           0           5           8                16              6   \n",
              "14059           1           1           0               242              5   \n",
              "14060           0           0           0                 0              2   \n",
              "\n",
              "       start_hour  day_of_week  target  \n",
              "0               8            4      31  \n",
              "1               8            4      31  \n",
              "2               8            4      31  \n",
              "3               8            4      31  \n",
              "4               8            4      31  \n",
              "...           ...          ...     ...  \n",
              "14056          15            2     241  \n",
              "14057          15            2     241  \n",
              "14058          15            2     241  \n",
              "14059          15            2     241  \n",
              "14060          15            2     241  \n",
              "\n",
              "[14061 rows x 14 columns]"
            ]
          },
          "metadata": {
            "tags": []
          },
          "execution_count": 373
        }
      ]
    },
    {
      "cell_type": "code",
      "metadata": {
        "id": "BzugYL5dml8o"
      },
      "source": [
        "new_features_10users = train_data_10users[new_features]\n",
        "new_features_150users = train_data_150users[new_features]"
      ],
      "execution_count": null,
      "outputs": []
    },
    {
      "cell_type": "code",
      "metadata": {
        "id": "IXoZA6o2ml8p"
      },
      "source": [
        "with open(os.path.join(PATH_TO_DATA, 'new_features_10users.pkl'), 'wb') as new_features_10users_pkl:\n",
        "    pickle.dump(new_features_10users, new_features_10users_pkl)\n",
        "with open(os.path.join(PATH_TO_DATA, 'new_features_150users.pkl'), 'wb') as new_features_150users_pkl:\n",
        "    pickle.dump(new_features_150users, new_features_150users_pkl)"
      ],
      "execution_count": null,
      "outputs": []
    },
    {
      "cell_type": "markdown",
      "metadata": {
        "id": "widHPqRmml8q"
      },
      "source": [
        "## Часть 2. Визуальный анализ данных"
      ]
    },
    {
      "cell_type": "markdown",
      "metadata": {
        "id": "tl7lO1cjml8q"
      },
      "source": [
        "**Забавы ради, для потехи дадим пользователям имена и ассоциируем с ними цвета.**"
      ]
    },
    {
      "cell_type": "code",
      "metadata": {
        "id": "nbASiGTWml8r"
      },
      "source": [
        "id_name_dict = {128: 'Mary-Kate', 39: 'Ashley', 207: 'Lindsey', 127: 'Naomi', 237: 'Avril',\n",
        "               33: 'Bob', 50: 'Bill', 31: 'John', 100: 'Dick', 241: 'Ed'}\n",
        "train_data_10users['target'] = train_data_10users['target'].map(id_name_dict)"
      ],
      "execution_count": null,
      "outputs": []
    },
    {
      "cell_type": "code",
      "metadata": {
        "id": "CKPC4Sijml8r"
      },
      "source": [
        "color_dic = {'Mary-Kate': 'pink', 'Ashley': 'darkviolet', 'Lindsey':'blueviolet', \n",
        "             'Naomi': 'hotpink', 'Avril': 'orchid', \n",
        "             'Bob': 'firebrick', 'Bill': 'gold', 'John': 'forestgreen', \n",
        "             'Dick': 'slategrey', 'Ed':'brown'}"
      ],
      "execution_count": null,
      "outputs": []
    },
    {
      "cell_type": "markdown",
      "metadata": {
        "id": "gcYqnacJml8r"
      },
      "source": [
        "**1. Постройте гистограмму распределения длины сессии в секундах (*session_timespan*). Ограничьте по *x* значением 200 (иначе слишком тяжелый хвост). Сделайте гистограмму цвета *darkviolet*, подпишите оси по-русски.**"
      ]
    },
    {
      "cell_type": "code",
      "metadata": {
        "id": "O6EpFCW6ml8s",
        "outputId": "7ef0f412-31eb-460c-d072-62f0af5c5084"
      },
      "source": [
        "train_data_10users['session_timespan'][train_data_10users.session_timespan < 200].hist(color='darkviolet')\n",
        "plt.xlabel('Длина сессии (сек)');"
      ],
      "execution_count": null,
      "outputs": [
        {
          "output_type": "display_data",
          "data": {
            "image/png": "[encoded data removed]",
            "text/plain": [
              "<Figure size 936x576 with 1 Axes>"
            ]
          },
          "metadata": {
            "tags": [],
            "needs_background": "light"
          }
        }
      ]
    },
    {
      "cell_type": "markdown",
      "metadata": {
        "id": "XCkWROMUml8s"
      },
      "source": [
        "**2. Постройте гистограмму распределения числа уникальных сайтов в сессии (*#unique_sites*). Сделайте гистограмму цвета *aqua*, подпишите оси по-русски.**"
      ]
    },
    {
      "cell_type": "code",
      "metadata": {
        "id": "isx0xdYuml8s",
        "outputId": "0a65b9ff-25ed-4d95-f485-241feb076b4f"
      },
      "source": [
        "train_data_10users['#unique_sites'].hist(color='aqua')\n",
        "plt.xlabel('Число уникальных сайтов в сессии');"
      ],
      "execution_count": null,
      "outputs": [
        {
          "output_type": "display_data",
          "data": {
            "image/png": "[encoded data removed]",
            "text/plain": [
              "<Figure size 936x576 with 1 Axes>"
            ]
          },
          "metadata": {
            "tags": [],
            "needs_background": "light"
          }
        }
      ]
    },
    {
      "cell_type": "markdown",
      "metadata": {
        "id": "HDxnqo4fml8t"
      },
      "source": [
        "**3. Постройте гистограммы распределения числа уникальных сайтов в сессии (*#unique_sites*) для каждого из 10 пользователей по отдельности. Используйте *subplots*, чтоб разместить все 10 картинок на одной большой. Пометьте легендой каждую картинку, на легенде должно быть написано имя пользователя. Для каждого пользователя раскрасьте гистограмму его/ее цветом (*color_dic*). Подпишите оси по-русски в каждой из 10 гистограмм.**"
      ]
    },
    {
      "cell_type": "code",
      "metadata": {
        "id": "Otzdw4umml8t",
        "outputId": "f18b820f-787b-4c14-b6c4-963599c59530"
      },
      "source": [
        "fig, axes = plt.subplots(nrows=3, ncols=4, figsize=(16, 10))\n",
        "\n",
        "# как вариант, можно и по-другому\n",
        "plt.subplots_adjust(hspace=0.3)\n",
        "for idx, (user, sub_df) in enumerate(train_data_10users.groupby(by='target')):\n",
        "    axes[idx//4, idx%4].hist(sub_df['#unique_sites'], color=color_dic[user], label=user)\n",
        "    axes[idx//4, idx%4].legend()\n",
        "    axes[idx//4, idx%4].set_xlabel('Число уникальных сайтов в сессии')"
      ],
      "execution_count": null,
      "outputs": [
        {
          "output_type": "display_data",
          "data": {
            "image/png": "[encoded data removed]",
            "text/plain": [
              "<Figure size 1152x720 with 12 Axes>"
            ]
          },
          "metadata": {
            "tags": [],
            "needs_background": "light"
          }
        }
      ]
    },
    {
      "cell_type": "code",
      "metadata": {
        "scrolled": true,
        "id": "RVCoJ29Hml8t"
      },
      "source": [
        "# по-другому можно так\n",
        "# train_data_10users.hist('#unique_sites', by='target', figsize=(16, 16));"
      ],
      "execution_count": null,
      "outputs": []
    },
    {
      "cell_type": "markdown",
      "metadata": {
        "id": "sKx20mgDml8u"
      },
      "source": [
        "**4. Постройте гистограмму распределения часа начала сессии (*start_hour*). Сделайте гистограмму цвета *darkgreen*, подпишите оси по-русски.**"
      ]
    },
    {
      "cell_type": "code",
      "metadata": {
        "id": "ogytH6Vdml8u",
        "outputId": "003126bb-6e1d-4f57-e7a0-879b252435c0"
      },
      "source": [
        "train_data_10users['start_hour'].hist(color='darkgreen')\n",
        "plt.xlabel('Час начала сессии');"
      ],
      "execution_count": null,
      "outputs": [
        {
          "output_type": "display_data",
          "data": {
            "image/png": "[encoded data removed]",
            "text/plain": [
              "<Figure size 936x576 with 1 Axes>"
            ]
          },
          "metadata": {
            "tags": [],
            "needs_background": "light"
          }
        }
      ]
    },
    {
      "cell_type": "markdown",
      "metadata": {
        "id": "NN1Fq6Cnml8u"
      },
      "source": [
        "**5. Постройте гистограммы распределения часа начала сессии (*start_hour*) для каждого из 10 пользователей по отдельности. Используйте *subplots*, чтоб разместить все 10 картинок на одной большой. Пометьте легендой каждую картинку, на легенде должно быть написано имя пользователя. Для каждого пользователя раскрасьте гистограмму его/ее цветом (*color_dic*). Подпишите оси по-русски в каждой из 10 гистограмм.**"
      ]
    },
    {
      "cell_type": "code",
      "metadata": {
        "id": "mTiwndiTml8v",
        "outputId": "3c658abe-f9b3-49e8-d434-cc979d4e27af"
      },
      "source": [
        "fig, axes = plt.subplots(nrows=3, ncols=4, figsize=(16, 10))\n",
        "\n",
        "# как вариант, можно и по-другому\n",
        "plt.subplots_adjust(hspace=0.3)\n",
        "for idx, (user, sub_df) in enumerate(train_data_10users.groupby(by='target')):\n",
        "    axes[idx//4, idx%4].hist(sub_df['start_hour'], color=color_dic[user], label=user)\n",
        "    axes[idx//4, idx%4].legend()\n",
        "    axes[idx//4, idx%4].set_xlabel('Час начала сессии')"
      ],
      "execution_count": null,
      "outputs": [
        {
          "output_type": "display_data",
          "data": {
            "image/png": "[encoded data removed]",
            "text/plain": [
              "<Figure size 1152x720 with 12 Axes>"
            ]
          },
          "metadata": {
            "tags": [],
            "needs_background": "light"
          }
        }
      ]
    },
    {
      "cell_type": "markdown",
      "metadata": {
        "id": "DOZjZQ0cml8v"
      },
      "source": [
        "**6. Постройте гистограмму распределения дня недели, в который началась сессия (*day_of_week*). Сделайте гистограмму цвета *sienna*, подпишите оси по-русски.**"
      ]
    },
    {
      "cell_type": "code",
      "metadata": {
        "id": "lAwY53NPml8v",
        "outputId": "3eb3c216-e638-4e16-9abb-602e5aafff67"
      },
      "source": [
        "train_data_10users['day_of_week'].hist(color='sienna')\n",
        "plt.xlabel('День недели начала сессии');"
      ],
      "execution_count": null,
      "outputs": [
        {
          "output_type": "display_data",
          "data": {
            "image/png": "[encoded data removed]",
            "text/plain": [
              "<Figure size 936x576 with 1 Axes>"
            ]
          },
          "metadata": {
            "tags": [],
            "needs_background": "light"
          }
        }
      ]
    },
    {
      "cell_type": "markdown",
      "metadata": {
        "id": "V2dh_890ml8w"
      },
      "source": [
        "**7. Постройте гистограммы распределения дня недели, в который началась сессия (*day_of_week*) для каждого из 10 пользователей по отдельности. Используйте *subplots*, чтоб разместить все 10 картинок на одной большой. Измените метки по оси *X* на ['Пн', 'Вт', 'Ср', 'Чт', 'Пт', 'Сб', 'Вс'] – метод *set_xticklabels*. Пометьте легендой каждую картинку, на легенде должно быть написано имя пользователя. Для каждого пользователя раскрасьте гистограмму его/ее цветом (*color_dic*). Подпишите по-русски название каждой из 10 гистограмм.**"
      ]
    },
    {
      "cell_type": "code",
      "metadata": {
        "id": "veJBuU8Hml8w",
        "outputId": "ea886485-a565-4588-f0fe-4936d2ca9f9b"
      },
      "source": [
        "fig, axes = plt.subplots(nrows=3, ncols=4, figsize=(16, 10))\n",
        "\n",
        "# как вариант, можно и по-другому\n",
        "plt.subplots_adjust(hspace=0.3)\n",
        "for idx, (user, sub_df) in enumerate(train_data_10users.groupby(by='target')):\n",
        "    axes[idx//4, idx%4].hist(sub_df['day_of_week'], color=color_dic[user], label=user, bins=7)\n",
        "    axes[idx//4, idx%4].legend()\n",
        "    axes[idx//4, idx%4].set_xlabel('День недели начала сессии')\n",
        "    axes[idx//4, idx%4].set_xticks([0, 1, 2, 3, 4, 5, 6])\n",
        "    axes[idx//4, idx%4].set_xticklabels(['Пн', 'Вт', 'Ср', 'Чт', 'Пт', 'Сб', 'Вс'])"
      ],
      "execution_count": null,
      "outputs": [
        {
          "output_type": "display_data",
          "data": {
            "image/png": "[encoded data removed]",
            "text/plain": [
              "<Figure size 1152x720 with 12 Axes>"
            ]
          },
          "metadata": {
            "tags": [],
            "needs_background": "light"
          }
        }
      ]
    },
    {
      "cell_type": "markdown",
      "metadata": {
        "id": "ti30bPWkml8w"
      },
      "source": [
        "**8. Сделайте выводы про каждого пользователя по построенным графикам.**"
      ]
    },
    {
      "cell_type": "markdown",
      "metadata": {
        "id": "3JMvzWyFml8x"
      },
      "source": [
        "||Ashley|Avril|Bill|Bob|Dick|\n",
        "|-|-|-|-|-|-|\n",
        "|Посещение уникальных сайтов|Посещает в среднем 7 сайтов за сессию; также есть сессии с одним уникальным сайтом - пребывание на одном сайте|Распредение ~нормальное вокруг 6|Профиль похож на пользователя Ashley|Распредение ~нормальное вокруг 6|Мода - 2, распределение более равномерное|\n",
        "|Время начала сессии|Начало сессии в основном приходится на утро; также большое количество сессий начинается около 15 (вероятно послеобеденное время), перед этим \"яма\"|Большинство сессий начинаются в середине дня|Начало сессий в основном приходится на 9 и 15 часов|Начало сессий в основном приходится на утро и 15 часов|Сесии начинаются в основном в 9, 15, 20 часов|\n",
        "|День недели начала сессии|Сессии начинаются в будние дни, по выходным сессий нет|Сессии +- равномерно распределены по дням недели; пт, сб - \"яма\"|Сессии в основном начинаются в рабочие дни + вск|Сессии только по будним дням|Сессии чаще по средам и субботам|\n",
        "|Возможное объяснение|Можно предположить что сессии связаны с рабочими задачами|Профиль ничем не примечателен|Можно предположить что сессии чаще связаны с рабочими задачами|Предположение: сессии связаны с рабочими задачами|Активное использование в течение дня, но чаще 2 дня в неделю; возможно рабочее использование интернета, но работа с особым графиком|"
      ]
    },
    {
      "cell_type": "markdown",
      "metadata": {
        "id": "tA6JFsQQml8x"
      },
      "source": [
        "||Ed|John|Lindsey|Mary-Kate|Naomi|\n",
        "|-|-|-|-|-|-|\n",
        "|Посещение уникальных сайтов|Распредение ~нормальное вокруг 7|Распредение скошено вправо; в сессиях преобладают различные сайты|Аналогично пользователю John|Аналогично пользователю Dick|Распредение ~нормальное вокруг 6|\n",
        "|Время начала сессии|Распредение похоже на нормальное вокруг 16 часов|Рабочее время с всплесками в 12 и 15 часов|Аналогично пользователю John|Количество сессий растёт к концу дня|Мода = 12|\n",
        "|День недели начала сессии|В основном среда и выходные|Рабочие дни|В основном рабочие дни|Будние дни, но чаще в выходные|Будние дни|\n",
        "|Возможное объяснение|График использования по дням похож на полдьзователя Dick|Рабочие задачи, вероятно, поиск информации на разных сайтах|В основном рабочие дни,есть, но меньше посещений в выходные|Можно предположить что использование интернеты связано в основном с личными делами|Рабочие задачи, но рабочий день начинается позже|"
      ]
    },
    {
      "cell_type": "markdown",
      "metadata": {
        "id": "6wVjXHFmml8x"
      },
      "source": [
        "**Загрузите сохраненный ранее в pickle-файл частотный словарь сайтов для 10 пользователей.**"
      ]
    },
    {
      "cell_type": "code",
      "metadata": {
        "id": "ExQlotrRml8x"
      },
      "source": [
        "site_freq_10users = pd.read_pickle(os.path.join(PATH_TO_DATA, 'site_freq_10users.pkl'))"
      ],
      "execution_count": null,
      "outputs": []
    },
    {
      "cell_type": "markdown",
      "metadata": {
        "id": "rA4e_wQNml8y"
      },
      "source": [
        "**Определите топ-10 самых посещаемых сайтов (*top10_sites*) и соответствующие кол-ва посещений (*top10_freqs*).**"
      ]
    },
    {
      "cell_type": "code",
      "metadata": {
        "id": "ay11_wmLml8y",
        "outputId": "d7f3e7fc-b7fe-484a-906f-49d4ea44d62c"
      },
      "source": [
        "top10 = sorted(site_freq_10users.items(), key=lambda x: x[1][1], reverse=True)[:10]\n",
        "top10"
      ],
      "execution_count": null,
      "outputs": [
        {
          "output_type": "execute_result",
          "data": {
            "text/plain": [
              "[('s.youtube.com', (210, 8300)),\n",
              " ('www.google.fr', (51, 7813)),\n",
              " ('www.google.com', (4, 5441)),\n",
              " ('mail.google.com', (183, 4158)),\n",
              " ('www.facebook.com', (15, 4141)),\n",
              " ('apis.google.com', (52, 3758)),\n",
              " ('r3---sn-gxo5uxg-jqbe.googlevideo.com', (700, 3244)),\n",
              " ('r1---sn-gxo5uxg-jqbe.googlevideo.com', (214, 3094)),\n",
              " ('plus.google.com', (187, 2630)),\n",
              " ('accounts.google.com', (184, 2089))]"
            ]
          },
          "metadata": {
            "tags": []
          },
          "execution_count": 221
        }
      ]
    },
    {
      "cell_type": "code",
      "metadata": {
        "id": "5skMwEdHml8y"
      },
      "source": [
        "top10_freqs = [x[1][1] for x in top10]\n",
        "top10_sites = [x[0] for x in top10]"
      ],
      "execution_count": null,
      "outputs": []
    },
    {
      "cell_type": "markdown",
      "metadata": {
        "id": "BrYEJ-kbml8z"
      },
      "source": [
        "**9. Нарисуйте *seaborn barplot*, показывающий частоты посещений топ-10 сайтов. Сделайте подписи сайтов вертикальными, иначе они сливаются (*xticks*).**"
      ]
    },
    {
      "cell_type": "code",
      "metadata": {
        "id": "wUEqAcUWml8z",
        "outputId": "89b5911e-c6d9-4f52-9a07-8d7db462e1ca"
      },
      "source": [
        "chart = sns.barplot(x=top10_sites, y=top10_freqs)\n",
        "chart.set_xticklabels(chart.get_xticklabels(), rotation=90);"
      ],
      "execution_count": null,
      "outputs": [
        {
          "output_type": "display_data",
          "data": {
            "image/png": "[encoded data removed]",
            "text/plain": [
              "<Figure size 936x576 with 1 Axes>"
            ]
          },
          "metadata": {
            "tags": [],
            "needs_background": "light"
          }
        }
      ]
    },
    {
      "cell_type": "markdown",
      "metadata": {
        "id": "UYBDw6kpml80"
      },
      "source": [
        "## Часть 3. Проверка построенных признаков\n",
        "Эта часть скорее техническая, смысл ее – убедиться, что мы все одинаково создали признаки *session_timespan, #unique_sites, start_hour* и *day_of_week*."
      ]
    },
    {
      "cell_type": "markdown",
      "metadata": {
        "id": "MmgBH72dml80"
      },
      "source": [
        "**10. Выведите медианную продолжительность сессии (*session_timespan*) для сессий 10 пользователей.**"
      ]
    },
    {
      "cell_type": "code",
      "metadata": {
        "id": "wi3C1M6oml80",
        "outputId": "3a7f9a20-104b-435a-f26b-88de53e37cb2"
      },
      "source": [
        "train_data_10users.session_timespan.median()"
      ],
      "execution_count": null,
      "outputs": [
        {
          "output_type": "execute_result",
          "data": {
            "text/plain": [
              "37.0"
            ]
          },
          "metadata": {
            "tags": []
          },
          "execution_count": 236
        }
      ]
    },
    {
      "cell_type": "markdown",
      "metadata": {
        "id": "CZTn8SFXml80"
      },
      "source": [
        "**11. Выведите медианный день недели, в который началась сессия, для сессий 10 пользователей.**"
      ]
    },
    {
      "cell_type": "code",
      "metadata": {
        "id": "zHQBX77Tml81",
        "outputId": "805c72b8-cf43-4500-bc9f-633ed3a8068a"
      },
      "source": [
        "train_data_10users.day_of_week.median()"
      ],
      "execution_count": null,
      "outputs": [
        {
          "output_type": "execute_result",
          "data": {
            "text/plain": [
              "2.0"
            ]
          },
          "metadata": {
            "tags": []
          },
          "execution_count": 240
        }
      ]
    },
    {
      "cell_type": "markdown",
      "metadata": {
        "id": "2tzeIFxbml81"
      },
      "source": [
        "**12. Выведите медианный час начала сессии для сессий 150 пользователей.**"
      ]
    },
    {
      "cell_type": "code",
      "metadata": {
        "id": "L1viBzXrml81",
        "outputId": "ea5c9dfb-bc11-42c6-c865-024364457f60"
      },
      "source": [
        "train_data_150users.start_hour.median()"
      ],
      "execution_count": null,
      "outputs": [
        {
          "output_type": "execute_result",
          "data": {
            "text/plain": [
              "13.0"
            ]
          },
          "metadata": {
            "tags": []
          },
          "execution_count": 242
        }
      ]
    },
    {
      "cell_type": "markdown",
      "metadata": {
        "id": "Er4ZedhMml82"
      },
      "source": [
        "**13. Выведите медианное значение числа уникальных сайтов в сессиях 150 пользователей.**"
      ]
    },
    {
      "cell_type": "code",
      "metadata": {
        "id": "ib3tI8fkml82",
        "outputId": "e5ae19f3-2778-477a-b116-a6c95658f16f"
      },
      "source": [
        "train_data_150users['#unique_sites'].median()"
      ],
      "execution_count": null,
      "outputs": [
        {
          "output_type": "execute_result",
          "data": {
            "text/plain": [
              "7.0"
            ]
          },
          "metadata": {
            "tags": []
          },
          "execution_count": 245
        }
      ]
    },
    {
      "cell_type": "markdown",
      "metadata": {
        "id": "1Kp1p5sJml82"
      },
      "source": [
        "## Часть 4. Дальнейшее построение признаков"
      ]
    },
    {
      "cell_type": "markdown",
      "metadata": {
        "id": "7qp2mSbzml83"
      },
      "source": [
        "Это задание творческое, тут надо придумать, как еще учесть время посещения веб-страниц и прочие признаки. \n",
        "\n",
        "На следующей неделе мы будем использовать \"мешок\" сайтов  для классификации сессий по принадлежности разным пользователям, а эти новые признаки, которые Вы сейчас создадите, потом добавим и посмотрим, улучшается ли модель. Поэтому можно их создать в виде отдельных матриц и сохранить их также отдельно.  \n",
        "\n",
        "В этой части задания Вы можете построить и визуально исследовать самые разные признаки (ничто фантазию не ограничивает):\n",
        "- год, месяц и день начала сессии\n",
        "- час начала сессии (с учетом года, месяца и дня)\n",
        "- время суток\n",
        "- среднее время пребывания на сайте, посчитать можно, скажем, для топ-30 популярных сайтов\n",
        "- индикаторы посещения популярных сайтов (скажем, тоже для топ-30 популярных сайтов)\n",
        "- частота посещения Facebook\n",
        "- ..."
      ]
    },
    {
      "cell_type": "markdown",
      "metadata": {
        "id": "5Hmdr7nfml83"
      },
      "source": [
        "**Напишите функцию для создания новых признаков и примените ее к исходным данным – каталогам с 10 и 150 файлами. Сделайте это только для набора данных, полученного с параметрами *session_length=10* и *window_size=10*. Сериализуйте полученные матрицы с помощью pickle. Функция может возвращать как только новые признаки, так и старые с новыми. При этом сигнатура функции может быть другой – тут уже свобода выбора.**"
      ]
    },
    {
      "cell_type": "code",
      "metadata": {
        "id": "URQpxHlXyWhc"
      },
      "source": [
        "# !unzip capstone_user_identification.zip"
      ],
      "execution_count": null,
      "outputs": []
    },
    {
      "cell_type": "code",
      "metadata": {
        "colab": {
          "base_uri": "https://localhost:8080/",
          "height": 439
        },
        "id": "hzf4H-WInqXE",
        "outputId": "433d4b88-b1b2-4008-ebed-f8412960aef3"
      },
      "source": [
        "# train_data_10users = pd.read_csv(os.path.join(PATH_TO_DATA, 'train_data_10users.csv'), index_col='session_id')\n",
        "# new_features_10users = pd.read_pickle(os.path.join(PATH_TO_DATA, 'new_features_10users.pkl'))\n",
        "# new_new_features_10users = pd.read_pickle(os.path.join(PATH_TO_DATA, 'new_new_features_10users.pkl'))\n",
        "# train_data_10users = pd.concat([train_data_10users, new_features_10users, new_new_features_10users], axis=1)\n",
        "# train_data_10users"
      ],
      "execution_count": null,
      "outputs": [
        {
          "output_type": "execute_result",
          "data": {
            "text/html": [
              "<div>\n",
              "<style scoped>\n",
              "    .dataframe tbody tr th:only-of-type {\n",
              "        vertical-align: middle;\n",
              "    }\n",
              "\n",
              "    .dataframe tbody tr th {\n",
              "        vertical-align: top;\n",
              "    }\n",
              "\n",
              "    .dataframe thead th {\n",
              "        text-align: right;\n",
              "    }\n",
              "</style>\n",
              "<table border=\"1\" class=\"dataframe\">\n",
              "  <thead>\n",
              "    <tr style=\"text-align: right;\">\n",
              "      <th></th>\n",
              "      <th>site1</th>\n",
              "      <th>site2</th>\n",
              "      <th>site3</th>\n",
              "      <th>site4</th>\n",
              "      <th>site5</th>\n",
              "      <th>site6</th>\n",
              "      <th>site7</th>\n",
              "      <th>site8</th>\n",
              "      <th>site9</th>\n",
              "      <th>site10</th>\n",
              "      <th>user_id</th>\n",
              "      <th>time_diff1</th>\n",
              "      <th>...</th>\n",
              "      <th>#unique_sites</th>\n",
              "      <th>start_hour</th>\n",
              "      <th>day_of_week</th>\n",
              "      <th>start_year</th>\n",
              "      <th>start_month</th>\n",
              "      <th>start_day</th>\n",
              "      <th>is_weekend</th>\n",
              "      <th>start_hour</th>\n",
              "      <th>day_time</th>\n",
              "      <th>visit_mean_time</th>\n",
              "      <th>facebook_visited</th>\n",
              "      <th>popular_share</th>\n",
              "    </tr>\n",
              "  </thead>\n",
              "  <tbody>\n",
              "    <tr>\n",
              "      <th>0</th>\n",
              "      <td>1</td>\n",
              "      <td>2</td>\n",
              "      <td>3</td>\n",
              "      <td>4</td>\n",
              "      <td>3</td>\n",
              "      <td>3</td>\n",
              "      <td>4</td>\n",
              "      <td>3</td>\n",
              "      <td>5</td>\n",
              "      <td>3</td>\n",
              "      <td>31</td>\n",
              "      <td>10</td>\n",
              "      <td>...</td>\n",
              "      <td>5</td>\n",
              "      <td>8</td>\n",
              "      <td>4</td>\n",
              "      <td>2013</td>\n",
              "      <td>11</td>\n",
              "      <td>15</td>\n",
              "      <td>0</td>\n",
              "      <td>8</td>\n",
              "      <td>1</td>\n",
              "      <td>3.666667</td>\n",
              "      <td>0</td>\n",
              "      <td>0.0</td>\n",
              "    </tr>\n",
              "    <tr>\n",
              "      <th>1</th>\n",
              "      <td>6</td>\n",
              "      <td>7</td>\n",
              "      <td>8</td>\n",
              "      <td>9</td>\n",
              "      <td>3</td>\n",
              "      <td>10</td>\n",
              "      <td>11</td>\n",
              "      <td>12</td>\n",
              "      <td>13</td>\n",
              "      <td>14</td>\n",
              "      <td>31</td>\n",
              "      <td>1</td>\n",
              "      <td>...</td>\n",
              "      <td>10</td>\n",
              "      <td>8</td>\n",
              "      <td>4</td>\n",
              "      <td>2013</td>\n",
              "      <td>11</td>\n",
              "      <td>15</td>\n",
              "      <td>0</td>\n",
              "      <td>8</td>\n",
              "      <td>1</td>\n",
              "      <td>31.555556</td>\n",
              "      <td>0</td>\n",
              "      <td>0.0</td>\n",
              "    </tr>\n",
              "    <tr>\n",
              "      <th>2</th>\n",
              "      <td>14</td>\n",
              "      <td>4</td>\n",
              "      <td>14</td>\n",
              "      <td>14</td>\n",
              "      <td>15</td>\n",
              "      <td>16</td>\n",
              "      <td>6</td>\n",
              "      <td>17</td>\n",
              "      <td>18</td>\n",
              "      <td>14</td>\n",
              "      <td>31</td>\n",
              "      <td>0</td>\n",
              "      <td>...</td>\n",
              "      <td>7</td>\n",
              "      <td>8</td>\n",
              "      <td>4</td>\n",
              "      <td>2013</td>\n",
              "      <td>11</td>\n",
              "      <td>15</td>\n",
              "      <td>0</td>\n",
              "      <td>8</td>\n",
              "      <td>1</td>\n",
              "      <td>28.666667</td>\n",
              "      <td>0</td>\n",
              "      <td>0.0</td>\n",
              "    </tr>\n",
              "    <tr>\n",
              "      <th>3</th>\n",
              "      <td>19</td>\n",
              "      <td>20</td>\n",
              "      <td>19</td>\n",
              "      <td>14</td>\n",
              "      <td>14</td>\n",
              "      <td>14</td>\n",
              "      <td>14</td>\n",
              "      <td>21</td>\n",
              "      <td>22</td>\n",
              "      <td>23</td>\n",
              "      <td>31</td>\n",
              "      <td>2</td>\n",
              "      <td>...</td>\n",
              "      <td>6</td>\n",
              "      <td>8</td>\n",
              "      <td>4</td>\n",
              "      <td>2013</td>\n",
              "      <td>11</td>\n",
              "      <td>15</td>\n",
              "      <td>0</td>\n",
              "      <td>8</td>\n",
              "      <td>1</td>\n",
              "      <td>3.333333</td>\n",
              "      <td>0</td>\n",
              "      <td>0.0</td>\n",
              "    </tr>\n",
              "    <tr>\n",
              "      <th>4</th>\n",
              "      <td>24</td>\n",
              "      <td>14</td>\n",
              "      <td>15</td>\n",
              "      <td>25</td>\n",
              "      <td>26</td>\n",
              "      <td>27</td>\n",
              "      <td>28</td>\n",
              "      <td>29</td>\n",
              "      <td>30</td>\n",
              "      <td>29</td>\n",
              "      <td>31</td>\n",
              "      <td>1</td>\n",
              "      <td>...</td>\n",
              "      <td>9</td>\n",
              "      <td>8</td>\n",
              "      <td>4</td>\n",
              "      <td>2013</td>\n",
              "      <td>11</td>\n",
              "      <td>15</td>\n",
              "      <td>0</td>\n",
              "      <td>8</td>\n",
              "      <td>1</td>\n",
              "      <td>0.666667</td>\n",
              "      <td>0</td>\n",
              "      <td>0.0</td>\n",
              "    </tr>\n",
              "    <tr>\n",
              "      <th>...</th>\n",
              "      <td>...</td>\n",
              "      <td>...</td>\n",
              "      <td>...</td>\n",
              "      <td>...</td>\n",
              "      <td>...</td>\n",
              "      <td>...</td>\n",
              "      <td>...</td>\n",
              "      <td>...</td>\n",
              "      <td>...</td>\n",
              "      <td>...</td>\n",
              "      <td>...</td>\n",
              "      <td>...</td>\n",
              "      <td>...</td>\n",
              "      <td>...</td>\n",
              "      <td>...</td>\n",
              "      <td>...</td>\n",
              "      <td>...</td>\n",
              "      <td>...</td>\n",
              "      <td>...</td>\n",
              "      <td>...</td>\n",
              "      <td>...</td>\n",
              "      <td>...</td>\n",
              "      <td>...</td>\n",
              "      <td>...</td>\n",
              "      <td>...</td>\n",
              "    </tr>\n",
              "    <tr>\n",
              "      <th>14056</th>\n",
              "      <td>4</td>\n",
              "      <td>183</td>\n",
              "      <td>52</td>\n",
              "      <td>184</td>\n",
              "      <td>51</td>\n",
              "      <td>185</td>\n",
              "      <td>4</td>\n",
              "      <td>52</td>\n",
              "      <td>186</td>\n",
              "      <td>3585</td>\n",
              "      <td>241</td>\n",
              "      <td>0</td>\n",
              "      <td>...</td>\n",
              "      <td>8</td>\n",
              "      <td>15</td>\n",
              "      <td>2</td>\n",
              "      <td>2014</td>\n",
              "      <td>3</td>\n",
              "      <td>26</td>\n",
              "      <td>0</td>\n",
              "      <td>15</td>\n",
              "      <td>2</td>\n",
              "      <td>3.000000</td>\n",
              "      <td>0</td>\n",
              "      <td>0.0</td>\n",
              "    </tr>\n",
              "    <tr>\n",
              "      <th>14057</th>\n",
              "      <td>184</td>\n",
              "      <td>185</td>\n",
              "      <td>3585</td>\n",
              "      <td>186</td>\n",
              "      <td>188</td>\n",
              "      <td>4</td>\n",
              "      <td>183</td>\n",
              "      <td>187</td>\n",
              "      <td>183</td>\n",
              "      <td>188</td>\n",
              "      <td>241</td>\n",
              "      <td>0</td>\n",
              "      <td>...</td>\n",
              "      <td>8</td>\n",
              "      <td>15</td>\n",
              "      <td>2</td>\n",
              "      <td>2014</td>\n",
              "      <td>3</td>\n",
              "      <td>26</td>\n",
              "      <td>0</td>\n",
              "      <td>15</td>\n",
              "      <td>2</td>\n",
              "      <td>1.222222</td>\n",
              "      <td>0</td>\n",
              "      <td>0.0</td>\n",
              "    </tr>\n",
              "    <tr>\n",
              "      <th>14058</th>\n",
              "      <td>189</td>\n",
              "      <td>183</td>\n",
              "      <td>187</td>\n",
              "      <td>52</td>\n",
              "      <td>184</td>\n",
              "      <td>615</td>\n",
              "      <td>187</td>\n",
              "      <td>189</td>\n",
              "      <td>183</td>\n",
              "      <td>183</td>\n",
              "      <td>241</td>\n",
              "      <td>1</td>\n",
              "      <td>...</td>\n",
              "      <td>6</td>\n",
              "      <td>15</td>\n",
              "      <td>2</td>\n",
              "      <td>2014</td>\n",
              "      <td>3</td>\n",
              "      <td>26</td>\n",
              "      <td>0</td>\n",
              "      <td>15</td>\n",
              "      <td>2</td>\n",
              "      <td>1.777778</td>\n",
              "      <td>0</td>\n",
              "      <td>0.0</td>\n",
              "    </tr>\n",
              "    <tr>\n",
              "      <th>14059</th>\n",
              "      <td>183</td>\n",
              "      <td>183</td>\n",
              "      <td>183</td>\n",
              "      <td>95</td>\n",
              "      <td>615</td>\n",
              "      <td>183</td>\n",
              "      <td>4</td>\n",
              "      <td>4</td>\n",
              "      <td>187</td>\n",
              "      <td>183</td>\n",
              "      <td>241</td>\n",
              "      <td>2</td>\n",
              "      <td>...</td>\n",
              "      <td>5</td>\n",
              "      <td>15</td>\n",
              "      <td>2</td>\n",
              "      <td>2014</td>\n",
              "      <td>3</td>\n",
              "      <td>26</td>\n",
              "      <td>0</td>\n",
              "      <td>15</td>\n",
              "      <td>2</td>\n",
              "      <td>26.888889</td>\n",
              "      <td>0</td>\n",
              "      <td>0.0</td>\n",
              "    </tr>\n",
              "    <tr>\n",
              "      <th>14060</th>\n",
              "      <td>184</td>\n",
              "      <td>185</td>\n",
              "      <td>0</td>\n",
              "      <td>0</td>\n",
              "      <td>0</td>\n",
              "      <td>0</td>\n",
              "      <td>0</td>\n",
              "      <td>0</td>\n",
              "      <td>0</td>\n",
              "      <td>0</td>\n",
              "      <td>241</td>\n",
              "      <td>0</td>\n",
              "      <td>...</td>\n",
              "      <td>2</td>\n",
              "      <td>15</td>\n",
              "      <td>2</td>\n",
              "      <td>2014</td>\n",
              "      <td>3</td>\n",
              "      <td>26</td>\n",
              "      <td>0</td>\n",
              "      <td>15</td>\n",
              "      <td>2</td>\n",
              "      <td>0.000000</td>\n",
              "      <td>0</td>\n",
              "      <td>0.0</td>\n",
              "    </tr>\n",
              "  </tbody>\n",
              "</table>\n",
              "<p>14061 rows × 33 columns</p>\n",
              "</div>"
            ],
            "text/plain": [
              "       site1  site2  site3  site4  site5  site6  site7  site8  site9  site10  \\\n",
              "0          1      2      3      4      3      3      4      3      5       3   \n",
              "1          6      7      8      9      3     10     11     12     13      14   \n",
              "2         14      4     14     14     15     16      6     17     18      14   \n",
              "3         19     20     19     14     14     14     14     21     22      23   \n",
              "4         24     14     15     25     26     27     28     29     30      29   \n",
              "...      ...    ...    ...    ...    ...    ...    ...    ...    ...     ...   \n",
              "14056      4    183     52    184     51    185      4     52    186    3585   \n",
              "14057    184    185   3585    186    188      4    183    187    183     188   \n",
              "14058    189    183    187     52    184    615    187    189    183     183   \n",
              "14059    183    183    183     95    615    183      4      4    187     183   \n",
              "14060    184    185      0      0      0      0      0      0      0       0   \n",
              "\n",
              "       user_id  time_diff1  ...  #unique_sites  start_hour  day_of_week  \\\n",
              "0           31          10  ...              5           8            4   \n",
              "1           31           1  ...             10           8            4   \n",
              "2           31           0  ...              7           8            4   \n",
              "3           31           2  ...              6           8            4   \n",
              "4           31           1  ...              9           8            4   \n",
              "...        ...         ...  ...            ...         ...          ...   \n",
              "14056      241           0  ...              8          15            2   \n",
              "14057      241           0  ...              8          15            2   \n",
              "14058      241           1  ...              6          15            2   \n",
              "14059      241           2  ...              5          15            2   \n",
              "14060      241           0  ...              2          15            2   \n",
              "\n",
              "       start_year  start_month  start_day  is_weekend  start_hour  day_time  \\\n",
              "0            2013           11         15           0           8         1   \n",
              "1            2013           11         15           0           8         1   \n",
              "2            2013           11         15           0           8         1   \n",
              "3            2013           11         15           0           8         1   \n",
              "4            2013           11         15           0           8         1   \n",
              "...           ...          ...        ...         ...         ...       ...   \n",
              "14056        2014            3         26           0          15         2   \n",
              "14057        2014            3         26           0          15         2   \n",
              "14058        2014            3         26           0          15         2   \n",
              "14059        2014            3         26           0          15         2   \n",
              "14060        2014            3         26           0          15         2   \n",
              "\n",
              "       visit_mean_time  facebook_visited  popular_share  \n",
              "0             3.666667                 0            0.0  \n",
              "1            31.555556                 0            0.0  \n",
              "2            28.666667                 0            0.0  \n",
              "3             3.333333                 0            0.0  \n",
              "4             0.666667                 0            0.0  \n",
              "...                ...               ...            ...  \n",
              "14056         3.000000                 0            0.0  \n",
              "14057         1.222222                 0            0.0  \n",
              "14058         1.777778                 0            0.0  \n",
              "14059        26.888889                 0            0.0  \n",
              "14060         0.000000                 0            0.0  \n",
              "\n",
              "[14061 rows x 33 columns]"
            ]
          },
          "metadata": {
            "tags": []
          },
          "execution_count": 29
        }
      ]
    },
    {
      "cell_type": "code",
      "metadata": {
        "colab": {
          "base_uri": "https://localhost:8080/",
          "height": 439
        },
        "id": "sMryh6Zcrrzw",
        "outputId": "a116754b-1614-4158-d70e-7b2a216d1297"
      },
      "source": [
        "# train_data_150users = pd.read_csv(os.path.join(PATH_TO_DATA, 'train_data_150users.csv'), index_col='session_id')\n",
        "# new_features_150users = pd.read_pickle(os.path.join(PATH_TO_DATA, 'new_features_150users.pkl'))\n",
        "# new_new_features_150users = pd.read_pickle(os.path.join(PATH_TO_DATA, 'new_new_features_150users.pkl'))\n",
        "# train_data_150users = pd.concat([train_data_150users, new_features_150users, new_new_features_150users], axis=1)\n",
        "# train_data_150users"
      ],
      "execution_count": null,
      "outputs": [
        {
          "output_type": "execute_result",
          "data": {
            "text/html": [
              "<div>\n",
              "<style scoped>\n",
              "    .dataframe tbody tr th:only-of-type {\n",
              "        vertical-align: middle;\n",
              "    }\n",
              "\n",
              "    .dataframe tbody tr th {\n",
              "        vertical-align: top;\n",
              "    }\n",
              "\n",
              "    .dataframe thead th {\n",
              "        text-align: right;\n",
              "    }\n",
              "</style>\n",
              "<table border=\"1\" class=\"dataframe\">\n",
              "  <thead>\n",
              "    <tr style=\"text-align: right;\">\n",
              "      <th></th>\n",
              "      <th>site1</th>\n",
              "      <th>site2</th>\n",
              "      <th>site3</th>\n",
              "      <th>site4</th>\n",
              "      <th>site5</th>\n",
              "      <th>site6</th>\n",
              "      <th>site7</th>\n",
              "      <th>site8</th>\n",
              "      <th>site9</th>\n",
              "      <th>site10</th>\n",
              "      <th>user_id</th>\n",
              "      <th>time_diff1</th>\n",
              "      <th>...</th>\n",
              "      <th>#unique_sites</th>\n",
              "      <th>start_hour</th>\n",
              "      <th>day_of_week</th>\n",
              "      <th>start_year</th>\n",
              "      <th>start_month</th>\n",
              "      <th>start_day</th>\n",
              "      <th>is_weekend</th>\n",
              "      <th>start_hour</th>\n",
              "      <th>day_time</th>\n",
              "      <th>visit_mean_time</th>\n",
              "      <th>facebook_visited</th>\n",
              "      <th>popular_share</th>\n",
              "    </tr>\n",
              "  </thead>\n",
              "  <tbody>\n",
              "    <tr>\n",
              "      <th>0</th>\n",
              "      <td>1</td>\n",
              "      <td>1</td>\n",
              "      <td>2</td>\n",
              "      <td>3</td>\n",
              "      <td>1</td>\n",
              "      <td>2</td>\n",
              "      <td>1</td>\n",
              "      <td>3</td>\n",
              "      <td>4</td>\n",
              "      <td>5</td>\n",
              "      <td>6</td>\n",
              "      <td>1</td>\n",
              "      <td>...</td>\n",
              "      <td>5</td>\n",
              "      <td>8</td>\n",
              "      <td>4</td>\n",
              "      <td>2013</td>\n",
              "      <td>11</td>\n",
              "      <td>15</td>\n",
              "      <td>0</td>\n",
              "      <td>8</td>\n",
              "      <td>1</td>\n",
              "      <td>6.333333</td>\n",
              "      <td>0</td>\n",
              "      <td>0.0</td>\n",
              "    </tr>\n",
              "    <tr>\n",
              "      <th>1</th>\n",
              "      <td>3</td>\n",
              "      <td>6</td>\n",
              "      <td>7</td>\n",
              "      <td>4</td>\n",
              "      <td>5</td>\n",
              "      <td>5</td>\n",
              "      <td>8</td>\n",
              "      <td>9</td>\n",
              "      <td>10</td>\n",
              "      <td>10</td>\n",
              "      <td>6</td>\n",
              "      <td>0</td>\n",
              "      <td>...</td>\n",
              "      <td>8</td>\n",
              "      <td>8</td>\n",
              "      <td>4</td>\n",
              "      <td>2013</td>\n",
              "      <td>11</td>\n",
              "      <td>15</td>\n",
              "      <td>0</td>\n",
              "      <td>8</td>\n",
              "      <td>1</td>\n",
              "      <td>179.777778</td>\n",
              "      <td>0</td>\n",
              "      <td>0.0</td>\n",
              "    </tr>\n",
              "    <tr>\n",
              "      <th>2</th>\n",
              "      <td>5</td>\n",
              "      <td>11</td>\n",
              "      <td>1</td>\n",
              "      <td>1</td>\n",
              "      <td>1</td>\n",
              "      <td>1</td>\n",
              "      <td>9</td>\n",
              "      <td>5</td>\n",
              "      <td>3</td>\n",
              "      <td>1</td>\n",
              "      <td>6</td>\n",
              "      <td>1</td>\n",
              "      <td>...</td>\n",
              "      <td>5</td>\n",
              "      <td>8</td>\n",
              "      <td>4</td>\n",
              "      <td>2013</td>\n",
              "      <td>11</td>\n",
              "      <td>15</td>\n",
              "      <td>0</td>\n",
              "      <td>8</td>\n",
              "      <td>1</td>\n",
              "      <td>223.333333</td>\n",
              "      <td>0</td>\n",
              "      <td>0.0</td>\n",
              "    </tr>\n",
              "    <tr>\n",
              "      <th>3</th>\n",
              "      <td>1</td>\n",
              "      <td>1</td>\n",
              "      <td>12</td>\n",
              "      <td>12</td>\n",
              "      <td>13</td>\n",
              "      <td>12</td>\n",
              "      <td>12</td>\n",
              "      <td>1</td>\n",
              "      <td>14</td>\n",
              "      <td>1</td>\n",
              "      <td>6</td>\n",
              "      <td>1</td>\n",
              "      <td>...</td>\n",
              "      <td>4</td>\n",
              "      <td>9</td>\n",
              "      <td>4</td>\n",
              "      <td>2013</td>\n",
              "      <td>11</td>\n",
              "      <td>15</td>\n",
              "      <td>0</td>\n",
              "      <td>9</td>\n",
              "      <td>1</td>\n",
              "      <td>222.888889</td>\n",
              "      <td>0</td>\n",
              "      <td>0.0</td>\n",
              "    </tr>\n",
              "    <tr>\n",
              "      <th>4</th>\n",
              "      <td>1</td>\n",
              "      <td>1</td>\n",
              "      <td>15</td>\n",
              "      <td>1</td>\n",
              "      <td>16</td>\n",
              "      <td>17</td>\n",
              "      <td>16</td>\n",
              "      <td>17</td>\n",
              "      <td>18</td>\n",
              "      <td>15</td>\n",
              "      <td>6</td>\n",
              "      <td>4</td>\n",
              "      <td>...</td>\n",
              "      <td>5</td>\n",
              "      <td>9</td>\n",
              "      <td>4</td>\n",
              "      <td>2013</td>\n",
              "      <td>11</td>\n",
              "      <td>15</td>\n",
              "      <td>0</td>\n",
              "      <td>9</td>\n",
              "      <td>1</td>\n",
              "      <td>1.111111</td>\n",
              "      <td>0</td>\n",
              "      <td>0.0</td>\n",
              "    </tr>\n",
              "    <tr>\n",
              "      <th>...</th>\n",
              "      <td>...</td>\n",
              "      <td>...</td>\n",
              "      <td>...</td>\n",
              "      <td>...</td>\n",
              "      <td>...</td>\n",
              "      <td>...</td>\n",
              "      <td>...</td>\n",
              "      <td>...</td>\n",
              "      <td>...</td>\n",
              "      <td>...</td>\n",
              "      <td>...</td>\n",
              "      <td>...</td>\n",
              "      <td>...</td>\n",
              "      <td>...</td>\n",
              "      <td>...</td>\n",
              "      <td>...</td>\n",
              "      <td>...</td>\n",
              "      <td>...</td>\n",
              "      <td>...</td>\n",
              "      <td>...</td>\n",
              "      <td>...</td>\n",
              "      <td>...</td>\n",
              "      <td>...</td>\n",
              "      <td>...</td>\n",
              "      <td>...</td>\n",
              "    </tr>\n",
              "    <tr>\n",
              "      <th>137014</th>\n",
              "      <td>779</td>\n",
              "      <td>1390</td>\n",
              "      <td>1063</td>\n",
              "      <td>1393</td>\n",
              "      <td>779</td>\n",
              "      <td>1389</td>\n",
              "      <td>1390</td>\n",
              "      <td>1389</td>\n",
              "      <td>779</td>\n",
              "      <td>33</td>\n",
              "      <td>2902</td>\n",
              "      <td>0</td>\n",
              "      <td>...</td>\n",
              "      <td>6</td>\n",
              "      <td>17</td>\n",
              "      <td>0</td>\n",
              "      <td>2014</td>\n",
              "      <td>4</td>\n",
              "      <td>14</td>\n",
              "      <td>0</td>\n",
              "      <td>17</td>\n",
              "      <td>2</td>\n",
              "      <td>0.222222</td>\n",
              "      <td>0</td>\n",
              "      <td>0.0</td>\n",
              "    </tr>\n",
              "    <tr>\n",
              "      <th>137015</th>\n",
              "      <td>6</td>\n",
              "      <td>1390</td>\n",
              "      <td>33</td>\n",
              "      <td>449</td>\n",
              "      <td>2065</td>\n",
              "      <td>1393</td>\n",
              "      <td>297</td>\n",
              "      <td>3</td>\n",
              "      <td>1</td>\n",
              "      <td>1389</td>\n",
              "      <td>2902</td>\n",
              "      <td>0</td>\n",
              "      <td>...</td>\n",
              "      <td>10</td>\n",
              "      <td>17</td>\n",
              "      <td>0</td>\n",
              "      <td>2014</td>\n",
              "      <td>4</td>\n",
              "      <td>14</td>\n",
              "      <td>0</td>\n",
              "      <td>17</td>\n",
              "      <td>2</td>\n",
              "      <td>23.333333</td>\n",
              "      <td>0</td>\n",
              "      <td>0.0</td>\n",
              "    </tr>\n",
              "    <tr>\n",
              "      <th>137016</th>\n",
              "      <td>1389</td>\n",
              "      <td>1386</td>\n",
              "      <td>1389</td>\n",
              "      <td>1388</td>\n",
              "      <td>779</td>\n",
              "      <td>1271</td>\n",
              "      <td>58</td>\n",
              "      <td>1289</td>\n",
              "      <td>1540</td>\n",
              "      <td>314</td>\n",
              "      <td>2902</td>\n",
              "      <td>3</td>\n",
              "      <td>...</td>\n",
              "      <td>9</td>\n",
              "      <td>17</td>\n",
              "      <td>0</td>\n",
              "      <td>2014</td>\n",
              "      <td>4</td>\n",
              "      <td>14</td>\n",
              "      <td>0</td>\n",
              "      <td>17</td>\n",
              "      <td>2</td>\n",
              "      <td>0.666667</td>\n",
              "      <td>0</td>\n",
              "      <td>0.0</td>\n",
              "    </tr>\n",
              "    <tr>\n",
              "      <th>137017</th>\n",
              "      <td>41</td>\n",
              "      <td>779</td>\n",
              "      <td>1392</td>\n",
              "      <td>1063</td>\n",
              "      <td>779</td>\n",
              "      <td>1394</td>\n",
              "      <td>2064</td>\n",
              "      <td>297</td>\n",
              "      <td>1389</td>\n",
              "      <td>1390</td>\n",
              "      <td>2902</td>\n",
              "      <td>0</td>\n",
              "      <td>...</td>\n",
              "      <td>9</td>\n",
              "      <td>17</td>\n",
              "      <td>0</td>\n",
              "      <td>2014</td>\n",
              "      <td>4</td>\n",
              "      <td>14</td>\n",
              "      <td>0</td>\n",
              "      <td>17</td>\n",
              "      <td>2</td>\n",
              "      <td>0.444444</td>\n",
              "      <td>0</td>\n",
              "      <td>0.0</td>\n",
              "    </tr>\n",
              "    <tr>\n",
              "      <th>137018</th>\n",
              "      <td>779</td>\n",
              "      <td>27797</td>\n",
              "      <td>0</td>\n",
              "      <td>0</td>\n",
              "      <td>0</td>\n",
              "      <td>0</td>\n",
              "      <td>0</td>\n",
              "      <td>0</td>\n",
              "      <td>0</td>\n",
              "      <td>0</td>\n",
              "      <td>2902</td>\n",
              "      <td>80832</td>\n",
              "      <td>...</td>\n",
              "      <td>2</td>\n",
              "      <td>17</td>\n",
              "      <td>0</td>\n",
              "      <td>2014</td>\n",
              "      <td>4</td>\n",
              "      <td>14</td>\n",
              "      <td>0</td>\n",
              "      <td>17</td>\n",
              "      <td>2</td>\n",
              "      <td>80832.000000</td>\n",
              "      <td>0</td>\n",
              "      <td>0.1</td>\n",
              "    </tr>\n",
              "  </tbody>\n",
              "</table>\n",
              "<p>137019 rows × 33 columns</p>\n",
              "</div>"
            ],
            "text/plain": [
              "        site1  site2  site3  site4  site5  site6  site7  site8  site9  site10  \\\n",
              "0           1      1      2      3      1      2      1      3      4       5   \n",
              "1           3      6      7      4      5      5      8      9     10      10   \n",
              "2           5     11      1      1      1      1      9      5      3       1   \n",
              "3           1      1     12     12     13     12     12      1     14       1   \n",
              "4           1      1     15      1     16     17     16     17     18      15   \n",
              "...       ...    ...    ...    ...    ...    ...    ...    ...    ...     ...   \n",
              "137014    779   1390   1063   1393    779   1389   1390   1389    779      33   \n",
              "137015      6   1390     33    449   2065   1393    297      3      1    1389   \n",
              "137016   1389   1386   1389   1388    779   1271     58   1289   1540     314   \n",
              "137017     41    779   1392   1063    779   1394   2064    297   1389    1390   \n",
              "137018    779  27797      0      0      0      0      0      0      0       0   \n",
              "\n",
              "        user_id  time_diff1  ...  #unique_sites  start_hour  day_of_week  \\\n",
              "0             6           1  ...              5           8            4   \n",
              "1             6           0  ...              8           8            4   \n",
              "2             6           1  ...              5           8            4   \n",
              "3             6           1  ...              4           9            4   \n",
              "4             6           4  ...              5           9            4   \n",
              "...         ...         ...  ...            ...         ...          ...   \n",
              "137014     2902           0  ...              6          17            0   \n",
              "137015     2902           0  ...             10          17            0   \n",
              "137016     2902           3  ...              9          17            0   \n",
              "137017     2902           0  ...              9          17            0   \n",
              "137018     2902       80832  ...              2          17            0   \n",
              "\n",
              "        start_year  start_month  start_day  is_weekend  start_hour  day_time  \\\n",
              "0             2013           11         15           0           8         1   \n",
              "1             2013           11         15           0           8         1   \n",
              "2             2013           11         15           0           8         1   \n",
              "3             2013           11         15           0           9         1   \n",
              "4             2013           11         15           0           9         1   \n",
              "...            ...          ...        ...         ...         ...       ...   \n",
              "137014        2014            4         14           0          17         2   \n",
              "137015        2014            4         14           0          17         2   \n",
              "137016        2014            4         14           0          17         2   \n",
              "137017        2014            4         14           0          17         2   \n",
              "137018        2014            4         14           0          17         2   \n",
              "\n",
              "        visit_mean_time  facebook_visited  popular_share  \n",
              "0              6.333333                 0            0.0  \n",
              "1            179.777778                 0            0.0  \n",
              "2            223.333333                 0            0.0  \n",
              "3            222.888889                 0            0.0  \n",
              "4              1.111111                 0            0.0  \n",
              "...                 ...               ...            ...  \n",
              "137014         0.222222                 0            0.0  \n",
              "137015        23.333333                 0            0.0  \n",
              "137016         0.666667                 0            0.0  \n",
              "137017         0.444444                 0            0.0  \n",
              "137018     80832.000000                 0            0.1  \n",
              "\n",
              "[137019 rows x 33 columns]"
            ]
          },
          "metadata": {
            "tags": []
          },
          "execution_count": 30
        }
      ]
    },
    {
      "cell_type": "code",
      "metadata": {
        "id": "vFg6RKeMwL8w"
      },
      "source": [
        "site_freq_10users = pd.read_pickle(os.path.join(PATH_TO_DATA, 'site_freq_10users.pkl'))\n",
        "site_freq_150users = pd.read_pickle(os.path.join(PATH_TO_DATA, 'site_freq_150users.pkl'))"
      ],
      "execution_count": null,
      "outputs": []
    },
    {
      "cell_type": "code",
      "metadata": {
        "colab": {
          "base_uri": "https://localhost:8080/"
        },
        "id": "LlyWZXDPml83",
        "outputId": "d7ce525b-af1f-4922-ae0e-612442dbb2f0"
      },
      "source": [
        "facebook_sites = {k: v for k, v in site_freq_10users.items() if 'facebook' in k}\n",
        "facebook_sites"
      ],
      "execution_count": null,
      "outputs": [
        {
          "output_type": "execute_result",
          "data": {
            "text/plain": [
              "{'api-read.facebook.com': (3795, 4),\n",
              " 'api.facebook.com': (1477, 52),\n",
              " 'apps.facebook.com': (3794, 11),\n",
              " 'ar-ar.facebook.com': (2851, 4),\n",
              " 'badge.facebook.com': (573, 24),\n",
              " 'connect.facebook.net': (64, 482),\n",
              " 'developers.facebook.com': (2371, 4),\n",
              " 'facebook.com': (1960, 20),\n",
              " 'fr-fr.facebook.com': (614, 24),\n",
              " 'fr.facebook.com': (4570, 3),\n",
              " 'graph.facebook.com': (1344, 59),\n",
              " 'l.facebook.com': (3828, 1),\n",
              " 's-static.ak.facebook.com': (66, 1388),\n",
              " 'static-0.facebook.com': (3827, 3),\n",
              " 'static.ak.connect.facebook.com': (2666, 5),\n",
              " 'static.ak.facebook.com': (63, 1265),\n",
              " 'www.facebook.com': (15, 4141)}"
            ]
          },
          "metadata": {
            "tags": []
          },
          "execution_count": 46
        }
      ]
    },
    {
      "cell_type": "code",
      "metadata": {
        "colab": {
          "base_uri": "https://localhost:8080/",
          "height": 439
        },
        "id": "AR186igBml84",
        "outputId": "347fd6c4-0dfc-4488-c45f-c7cc19f7b21a"
      },
      "source": [
        "train_data_10users[train_data_10users.site1 == 15]"
      ],
      "execution_count": null,
      "outputs": [
        {
          "output_type": "execute_result",
          "data": {
            "text/html": [
              "<div>\n",
              "<style scoped>\n",
              "    .dataframe tbody tr th:only-of-type {\n",
              "        vertical-align: middle;\n",
              "    }\n",
              "\n",
              "    .dataframe tbody tr th {\n",
              "        vertical-align: top;\n",
              "    }\n",
              "\n",
              "    .dataframe thead th {\n",
              "        text-align: right;\n",
              "    }\n",
              "</style>\n",
              "<table border=\"1\" class=\"dataframe\">\n",
              "  <thead>\n",
              "    <tr style=\"text-align: right;\">\n",
              "      <th></th>\n",
              "      <th>site1</th>\n",
              "      <th>site2</th>\n",
              "      <th>site3</th>\n",
              "      <th>site4</th>\n",
              "      <th>site5</th>\n",
              "      <th>site6</th>\n",
              "      <th>site7</th>\n",
              "      <th>site8</th>\n",
              "      <th>site9</th>\n",
              "      <th>site10</th>\n",
              "      <th>user_id</th>\n",
              "      <th>time_diff1</th>\n",
              "      <th>...</th>\n",
              "      <th>#unique_sites</th>\n",
              "      <th>start_hour</th>\n",
              "      <th>day_of_week</th>\n",
              "      <th>start_year</th>\n",
              "      <th>start_month</th>\n",
              "      <th>start_day</th>\n",
              "      <th>is_weekend</th>\n",
              "      <th>start_hour</th>\n",
              "      <th>day_time</th>\n",
              "      <th>visit_mean_time</th>\n",
              "      <th>facebook_visited</th>\n",
              "      <th>popular_share</th>\n",
              "    </tr>\n",
              "  </thead>\n",
              "  <tbody>\n",
              "    <tr>\n",
              "      <th>85</th>\n",
              "      <td>15</td>\n",
              "      <td>8</td>\n",
              "      <td>197</td>\n",
              "      <td>16</td>\n",
              "      <td>5</td>\n",
              "      <td>198</td>\n",
              "      <td>14</td>\n",
              "      <td>199</td>\n",
              "      <td>145</td>\n",
              "      <td>200</td>\n",
              "      <td>31</td>\n",
              "      <td>0</td>\n",
              "      <td>...</td>\n",
              "      <td>10</td>\n",
              "      <td>13</td>\n",
              "      <td>3</td>\n",
              "      <td>2013</td>\n",
              "      <td>12</td>\n",
              "      <td>12</td>\n",
              "      <td>0</td>\n",
              "      <td>13</td>\n",
              "      <td>2</td>\n",
              "      <td>0.555556</td>\n",
              "      <td>0</td>\n",
              "      <td>0.0</td>\n",
              "    </tr>\n",
              "    <tr>\n",
              "      <th>135</th>\n",
              "      <td>15</td>\n",
              "      <td>249</td>\n",
              "      <td>248</td>\n",
              "      <td>66</td>\n",
              "      <td>63</td>\n",
              "      <td>64</td>\n",
              "      <td>10</td>\n",
              "      <td>52</td>\n",
              "      <td>248</td>\n",
              "      <td>250</td>\n",
              "      <td>31</td>\n",
              "      <td>0</td>\n",
              "      <td>...</td>\n",
              "      <td>9</td>\n",
              "      <td>11</td>\n",
              "      <td>4</td>\n",
              "      <td>2013</td>\n",
              "      <td>12</td>\n",
              "      <td>20</td>\n",
              "      <td>0</td>\n",
              "      <td>11</td>\n",
              "      <td>1</td>\n",
              "      <td>0.888889</td>\n",
              "      <td>0</td>\n",
              "      <td>0.0</td>\n",
              "    </tr>\n",
              "    <tr>\n",
              "      <th>162</th>\n",
              "      <td>15</td>\n",
              "      <td>286</td>\n",
              "      <td>285</td>\n",
              "      <td>52</td>\n",
              "      <td>72</td>\n",
              "      <td>286</td>\n",
              "      <td>299</td>\n",
              "      <td>285</td>\n",
              "      <td>300</td>\n",
              "      <td>301</td>\n",
              "      <td>31</td>\n",
              "      <td>1</td>\n",
              "      <td>...</td>\n",
              "      <td>8</td>\n",
              "      <td>11</td>\n",
              "      <td>4</td>\n",
              "      <td>2013</td>\n",
              "      <td>12</td>\n",
              "      <td>20</td>\n",
              "      <td>0</td>\n",
              "      <td>11</td>\n",
              "      <td>1</td>\n",
              "      <td>0.222222</td>\n",
              "      <td>0</td>\n",
              "      <td>0.0</td>\n",
              "    </tr>\n",
              "    <tr>\n",
              "      <th>173</th>\n",
              "      <td>15</td>\n",
              "      <td>72</td>\n",
              "      <td>51</td>\n",
              "      <td>300</td>\n",
              "      <td>227</td>\n",
              "      <td>289</td>\n",
              "      <td>300</td>\n",
              "      <td>51</td>\n",
              "      <td>4</td>\n",
              "      <td>227</td>\n",
              "      <td>31</td>\n",
              "      <td>4</td>\n",
              "      <td>...</td>\n",
              "      <td>7</td>\n",
              "      <td>11</td>\n",
              "      <td>4</td>\n",
              "      <td>2013</td>\n",
              "      <td>12</td>\n",
              "      <td>20</td>\n",
              "      <td>0</td>\n",
              "      <td>11</td>\n",
              "      <td>1</td>\n",
              "      <td>48.333333</td>\n",
              "      <td>0</td>\n",
              "      <td>0.0</td>\n",
              "    </tr>\n",
              "    <tr>\n",
              "      <th>200</th>\n",
              "      <td>15</td>\n",
              "      <td>63</td>\n",
              "      <td>252</td>\n",
              "      <td>335</td>\n",
              "      <td>351</td>\n",
              "      <td>351</td>\n",
              "      <td>319</td>\n",
              "      <td>335</td>\n",
              "      <td>72</td>\n",
              "      <td>351</td>\n",
              "      <td>31</td>\n",
              "      <td>0</td>\n",
              "      <td>...</td>\n",
              "      <td>7</td>\n",
              "      <td>12</td>\n",
              "      <td>4</td>\n",
              "      <td>2013</td>\n",
              "      <td>12</td>\n",
              "      <td>20</td>\n",
              "      <td>0</td>\n",
              "      <td>12</td>\n",
              "      <td>2</td>\n",
              "      <td>0.888889</td>\n",
              "      <td>0</td>\n",
              "      <td>0.0</td>\n",
              "    </tr>\n",
              "    <tr>\n",
              "      <th>...</th>\n",
              "      <td>...</td>\n",
              "      <td>...</td>\n",
              "      <td>...</td>\n",
              "      <td>...</td>\n",
              "      <td>...</td>\n",
              "      <td>...</td>\n",
              "      <td>...</td>\n",
              "      <td>...</td>\n",
              "      <td>...</td>\n",
              "      <td>...</td>\n",
              "      <td>...</td>\n",
              "      <td>...</td>\n",
              "      <td>...</td>\n",
              "      <td>...</td>\n",
              "      <td>...</td>\n",
              "      <td>...</td>\n",
              "      <td>...</td>\n",
              "      <td>...</td>\n",
              "      <td>...</td>\n",
              "      <td>...</td>\n",
              "      <td>...</td>\n",
              "      <td>...</td>\n",
              "      <td>...</td>\n",
              "      <td>...</td>\n",
              "      <td>...</td>\n",
              "    </tr>\n",
              "    <tr>\n",
              "      <th>13823</th>\n",
              "      <td>15</td>\n",
              "      <td>1347</td>\n",
              "      <td>100</td>\n",
              "      <td>1348</td>\n",
              "      <td>1349</td>\n",
              "      <td>106</td>\n",
              "      <td>106</td>\n",
              "      <td>51</td>\n",
              "      <td>51</td>\n",
              "      <td>2036</td>\n",
              "      <td>241</td>\n",
              "      <td>1</td>\n",
              "      <td>...</td>\n",
              "      <td>8</td>\n",
              "      <td>13</td>\n",
              "      <td>5</td>\n",
              "      <td>2014</td>\n",
              "      <td>1</td>\n",
              "      <td>25</td>\n",
              "      <td>1</td>\n",
              "      <td>13</td>\n",
              "      <td>2</td>\n",
              "      <td>5.000000</td>\n",
              "      <td>0</td>\n",
              "      <td>0.0</td>\n",
              "    </tr>\n",
              "    <tr>\n",
              "      <th>13891</th>\n",
              "      <td>15</td>\n",
              "      <td>2691</td>\n",
              "      <td>64</td>\n",
              "      <td>66</td>\n",
              "      <td>2692</td>\n",
              "      <td>59</td>\n",
              "      <td>63</td>\n",
              "      <td>60</td>\n",
              "      <td>594</td>\n",
              "      <td>336</td>\n",
              "      <td>241</td>\n",
              "      <td>0</td>\n",
              "      <td>...</td>\n",
              "      <td>10</td>\n",
              "      <td>13</td>\n",
              "      <td>6</td>\n",
              "      <td>2014</td>\n",
              "      <td>1</td>\n",
              "      <td>26</td>\n",
              "      <td>1</td>\n",
              "      <td>13</td>\n",
              "      <td>2</td>\n",
              "      <td>0.111111</td>\n",
              "      <td>0</td>\n",
              "      <td>0.0</td>\n",
              "    </tr>\n",
              "    <tr>\n",
              "      <th>13892</th>\n",
              "      <td>15</td>\n",
              "      <td>336</td>\n",
              "      <td>15</td>\n",
              "      <td>1960</td>\n",
              "      <td>69</td>\n",
              "      <td>2691</td>\n",
              "      <td>59</td>\n",
              "      <td>15</td>\n",
              "      <td>2691</td>\n",
              "      <td>15</td>\n",
              "      <td>241</td>\n",
              "      <td>0</td>\n",
              "      <td>...</td>\n",
              "      <td>6</td>\n",
              "      <td>13</td>\n",
              "      <td>6</td>\n",
              "      <td>2014</td>\n",
              "      <td>1</td>\n",
              "      <td>26</td>\n",
              "      <td>1</td>\n",
              "      <td>13</td>\n",
              "      <td>2</td>\n",
              "      <td>0.333333</td>\n",
              "      <td>0</td>\n",
              "      <td>0.0</td>\n",
              "    </tr>\n",
              "    <tr>\n",
              "      <th>13903</th>\n",
              "      <td>15</td>\n",
              "      <td>2730</td>\n",
              "      <td>2730</td>\n",
              "      <td>51</td>\n",
              "      <td>70</td>\n",
              "      <td>847</td>\n",
              "      <td>2731</td>\n",
              "      <td>705</td>\n",
              "      <td>568</td>\n",
              "      <td>2713</td>\n",
              "      <td>241</td>\n",
              "      <td>0</td>\n",
              "      <td>...</td>\n",
              "      <td>9</td>\n",
              "      <td>14</td>\n",
              "      <td>6</td>\n",
              "      <td>2014</td>\n",
              "      <td>1</td>\n",
              "      <td>26</td>\n",
              "      <td>1</td>\n",
              "      <td>14</td>\n",
              "      <td>2</td>\n",
              "      <td>0.222222</td>\n",
              "      <td>0</td>\n",
              "      <td>0.0</td>\n",
              "    </tr>\n",
              "    <tr>\n",
              "      <th>14026</th>\n",
              "      <td>15</td>\n",
              "      <td>1379</td>\n",
              "      <td>1379</td>\n",
              "      <td>1379</td>\n",
              "      <td>70</td>\n",
              "      <td>1087</td>\n",
              "      <td>1409</td>\n",
              "      <td>1087</td>\n",
              "      <td>1406</td>\n",
              "      <td>1408</td>\n",
              "      <td>241</td>\n",
              "      <td>0</td>\n",
              "      <td>...</td>\n",
              "      <td>7</td>\n",
              "      <td>17</td>\n",
              "      <td>2</td>\n",
              "      <td>2014</td>\n",
              "      <td>2</td>\n",
              "      <td>12</td>\n",
              "      <td>0</td>\n",
              "      <td>17</td>\n",
              "      <td>2</td>\n",
              "      <td>0.444444</td>\n",
              "      <td>0</td>\n",
              "      <td>0.0</td>\n",
              "    </tr>\n",
              "  </tbody>\n",
              "</table>\n",
              "<p>423 rows × 33 columns</p>\n",
              "</div>"
            ],
            "text/plain": [
              "       site1  site2  site3  site4  site5  site6  site7  site8  site9  site10  \\\n",
              "85        15      8    197     16      5    198     14    199    145     200   \n",
              "135       15    249    248     66     63     64     10     52    248     250   \n",
              "162       15    286    285     52     72    286    299    285    300     301   \n",
              "173       15     72     51    300    227    289    300     51      4     227   \n",
              "200       15     63    252    335    351    351    319    335     72     351   \n",
              "...      ...    ...    ...    ...    ...    ...    ...    ...    ...     ...   \n",
              "13823     15   1347    100   1348   1349    106    106     51     51    2036   \n",
              "13891     15   2691     64     66   2692     59     63     60    594     336   \n",
              "13892     15    336     15   1960     69   2691     59     15   2691      15   \n",
              "13903     15   2730   2730     51     70    847   2731    705    568    2713   \n",
              "14026     15   1379   1379   1379     70   1087   1409   1087   1406    1408   \n",
              "\n",
              "       user_id  time_diff1  ...  #unique_sites  start_hour  day_of_week  \\\n",
              "85          31           0  ...             10          13            3   \n",
              "135         31           0  ...              9          11            4   \n",
              "162         31           1  ...              8          11            4   \n",
              "173         31           4  ...              7          11            4   \n",
              "200         31           0  ...              7          12            4   \n",
              "...        ...         ...  ...            ...         ...          ...   \n",
              "13823      241           1  ...              8          13            5   \n",
              "13891      241           0  ...             10          13            6   \n",
              "13892      241           0  ...              6          13            6   \n",
              "13903      241           0  ...              9          14            6   \n",
              "14026      241           0  ...              7          17            2   \n",
              "\n",
              "       start_year  start_month  start_day  is_weekend  start_hour  day_time  \\\n",
              "85           2013           12         12           0          13         2   \n",
              "135          2013           12         20           0          11         1   \n",
              "162          2013           12         20           0          11         1   \n",
              "173          2013           12         20           0          11         1   \n",
              "200          2013           12         20           0          12         2   \n",
              "...           ...          ...        ...         ...         ...       ...   \n",
              "13823        2014            1         25           1          13         2   \n",
              "13891        2014            1         26           1          13         2   \n",
              "13892        2014            1         26           1          13         2   \n",
              "13903        2014            1         26           1          14         2   \n",
              "14026        2014            2         12           0          17         2   \n",
              "\n",
              "       visit_mean_time  facebook_visited  popular_share  \n",
              "85            0.555556                 0            0.0  \n",
              "135           0.888889                 0            0.0  \n",
              "162           0.222222                 0            0.0  \n",
              "173          48.333333                 0            0.0  \n",
              "200           0.888889                 0            0.0  \n",
              "...                ...               ...            ...  \n",
              "13823         5.000000                 0            0.0  \n",
              "13891         0.111111                 0            0.0  \n",
              "13892         0.333333                 0            0.0  \n",
              "13903         0.222222                 0            0.0  \n",
              "14026         0.444444                 0            0.0  \n",
              "\n",
              "[423 rows x 33 columns]"
            ]
          },
          "metadata": {
            "tags": []
          },
          "execution_count": 48
        }
      ]
    },
    {
      "cell_type": "markdown",
      "metadata": {
        "id": "I9m9KWp9ml83"
      },
      "source": [
        "Расширим генератор feature_engineering новыми признаками"
      ]
    },
    {
      "cell_type": "code",
      "metadata": {
        "id": "oYZWFnZNml85"
      },
      "source": [
        "def feature_engineering(file, session_length, window_size, site_map, user_id):\n",
        "    '''\n",
        "    Генератор\n",
        "    Создаёт признаки сессии:\n",
        "    - список сайтов\n",
        "    - время посещения сайта (разница во времени между посещениями сайтов)\n",
        "    - длина сессии\n",
        "    - количество уникальных сайтов в сессии\n",
        "    - час начала сессии\n",
        "    - день недели начала сессии\n",
        "    - год начала сессии\n",
        "    - месяц начала сессии\n",
        "    - день начала сессии\n",
        "    - выходной (бинарный)\n",
        "    - время суток начала сессии\n",
        "    - среднее время на сайте\n",
        "    - посещение facebook (бинарный)\n",
        "    - доля популярных сайтов в сессии\n",
        "    \n",
        "    - user_id: целевой признак\n",
        "    '''\n",
        "    windows_it = iter(file) # итератор по всему файлу (по строкам)\n",
        "    i = 0\n",
        "\n",
        "    while True:\n",
        "        try:\n",
        "            if i % window_size == 0: # начинаем писать сессию\n",
        "                # разделяем итератор на два; новый итератор только по сессии (как вложенный цикл)\n",
        "                windows_it, session_it = tee(windows_it)\n",
        "                session = list(session_string(session_it, session_length))\n",
        "                if session: # чтобы не возвращать в конце пустую строку\n",
        "                    # обрабатываем сайты\n",
        "                    sites_fact = list(map(lambda x: x.split(',')[1].strip(), session))\n",
        "                    sites_ids = np.array([site_map[site] for site in sites_fact])\n",
        "                    # список сайтов\n",
        "                    sites = np.zeros(session_length)\n",
        "                    sites[:len(sites_fact)] = sites_ids\n",
        "                    # число уникальных сайтов\n",
        "                    n_unique_sites = np.unique(sites_ids).size\n",
        "                    # посещение facebook (бинарный)\n",
        "                    facebook_sites = [v for k, v in site_freq_10users.items() if 'google' in k]\n",
        "                    facebook_visited = (len(set(sites).intersection(set(facebook_sites))) > 0)\n",
        "                    # доля популярных сайтов в сессии\n",
        "                    top30 = [v[1] for v in sorted(site_map.items(), key=lambda x: x[1], reverse=True)[:30]]\n",
        "                    popular_share = len(set(sites).intersection(set(top30))) / session_length\n",
        "                    \n",
        "                    # обрабатываем timestamp'ы\n",
        "                    times_fact = list(map(lambda x: pd.to_datetime(x.split(',')[0].strip()), session))\n",
        "                    timediffs = np.array([(times_fact[i+1] - times_fact[i]).seconds for i in range(len(times_fact) - 1)])\n",
        "                    # список разниц времён - по сути время посещения каждого сайта (кроме последнего)\n",
        "                    times = np.zeros(session_length - 1)\n",
        "                    times[:len(timediffs)] = timediffs\n",
        "                    # длина сессии (минус время посещения последнего сайта)\n",
        "                    session_timespan = (times_fact[-1] - times_fact[0]).seconds\n",
        "                    # час начала сессии\n",
        "                    start_hour = times_fact[0].hour\n",
        "                    # день недели начала сессии\n",
        "                    start_day_of_week = times_fact[0].day_of_week\n",
        "                    # год начала сессии\n",
        "                    start_year = times_fact[0].year\n",
        "                    # месяц начала сессии\n",
        "                    start_month = times_fact[0].month\n",
        "                    # день начала сессии\n",
        "                    start_day = times_fact[0].day\n",
        "                    # выходной (бинарный)\n",
        "                    is_weekend = (start_day_of_week // 5 == 1)\n",
        "                    # время суток\n",
        "                    if start_hour >= 0 and start_hour < 6:     # ночь\n",
        "                        day_time = 0\n",
        "                    elif start_hour >= 6 and start_hour < 12:  # утро\n",
        "                        day_time = 1\n",
        "                    elif start_hour >= 12 and start_hour < 18: # день\n",
        "                        day_time = 2\n",
        "                    else:                                      # вечер\n",
        "                        day_time = 3\n",
        "                    # среднее время на сайте\n",
        "                    visit_mean_time = timediffs.mean()\n",
        "                    \n",
        "                    yield np.concatenate((sites, times, [session_timespan], [n_unique_sites], \n",
        "                                          [start_hour], [start_day_of_week], [start_year], [start_month], [start_day],\n",
        "                                          [is_weekend], [day_time], [visit_mean_time],\n",
        "                                          [facebook_visited], [popular_share],\n",
        "                                          [user_id]))\n",
        "        except StopIteration:\n",
        "            return\n",
        "\n",
        "        try:\n",
        "            next(windows_it)\n",
        "            i += 1\n",
        "        except StopIteration:\n",
        "            return"
      ],
      "execution_count": null,
      "outputs": []
    },
    {
      "cell_type": "code",
      "metadata": {
        "scrolled": true,
        "colab": {
          "base_uri": "https://localhost:8080/",
          "height": 147,
          "referenced_widgets": [
            "ba655ff016e847a191e315a8821d6ab8",
            "5e70548905f14104b2e0f7a5297e1ec7",
            "f6ec56189f8745528bc16e7fa986a5c2",
            "741aaa1a5db44b9e9705017df6d7a471",
            "b14efc519cb54c93ab699b35d6a6007d",
            "d79ba2de96db419b908d4fe51369e66e",
            "e96737faf8fa4606bfba90802d68451d",
            "4ff67fa154414ad0b79ae42e4b89bc76"
          ]
        },
        "id": "6uzc5KU0ml85",
        "outputId": "19110aae-a0bc-40c7-c11f-e367ee509edf"
      },
      "source": [
        "# проверка\n",
        "feature_names = ['site' + str(i) for i in range(1,11)] + \\\n",
        "                ['time_diff' + str(j) for j in range(1,10)] + \\\n",
        "                ['session_timespan', '#unique_sites', 'start_hour', \n",
        "                 'start_day_of_week', 'start_year', 'start_month', 'start_day', 'is_weekend',\n",
        "                 'day_time', 'visit_mean_time', 'facebook_visited', 'popular_share', 'target']\n",
        "train_data_fe  = prepare_train_set_with_fe(os.path.join(PATH_TO_DATA, '3users'), \n",
        "                                            site_freq_path=os.path.join(PATH_TO_DATA, 'site_freq_3users.pkl'),\n",
        "                                            feature_names=feature_names, session_length=10)\n",
        "train_data_fe"
      ],
      "execution_count": null,
      "outputs": [
        {
          "output_type": "display_data",
          "data": {
            "application/vnd.jupyter.widget-view+json": {
              "model_id": "ba655ff016e847a191e315a8821d6ab8",
              "version_minor": 0,
              "version_major": 2
            },
            "text/plain": [
              "HBox(children=(FloatProgress(value=1.0, bar_style='info', max=1.0), HTML(value='')))"
            ]
          },
          "metadata": {
            "tags": []
          }
        },
        {
          "output_type": "stream",
          "text": [
            "\n"
          ],
          "name": "stdout"
        },
        {
          "output_type": "execute_result",
          "data": {
            "text/html": [
              "<div>\n",
              "<style scoped>\n",
              "    .dataframe tbody tr th:only-of-type {\n",
              "        vertical-align: middle;\n",
              "    }\n",
              "\n",
              "    .dataframe tbody tr th {\n",
              "        vertical-align: top;\n",
              "    }\n",
              "\n",
              "    .dataframe thead th {\n",
              "        text-align: right;\n",
              "    }\n",
              "</style>\n",
              "<table border=\"1\" class=\"dataframe\">\n",
              "  <thead>\n",
              "    <tr style=\"text-align: right;\">\n",
              "      <th></th>\n",
              "      <th>site1</th>\n",
              "      <th>site2</th>\n",
              "      <th>site3</th>\n",
              "      <th>site4</th>\n",
              "      <th>site5</th>\n",
              "      <th>site6</th>\n",
              "      <th>site7</th>\n",
              "      <th>site8</th>\n",
              "      <th>site9</th>\n",
              "      <th>site10</th>\n",
              "      <th>time_diff1</th>\n",
              "      <th>time_diff2</th>\n",
              "      <th>...</th>\n",
              "      <th>#unique_sites</th>\n",
              "      <th>start_hour</th>\n",
              "      <th>start_day_of_week</th>\n",
              "      <th>start_year</th>\n",
              "      <th>start_month</th>\n",
              "      <th>start_day</th>\n",
              "      <th>is_weekend</th>\n",
              "      <th>day_time</th>\n",
              "      <th>visit_mean_time</th>\n",
              "      <th>facebook_visited</th>\n",
              "      <th>popular_share</th>\n",
              "      <th>target</th>\n",
              "    </tr>\n",
              "  </thead>\n",
              "  <tbody>\n",
              "  </tbody>\n",
              "</table>\n",
              "<p>0 rows × 32 columns</p>\n",
              "</div>"
            ],
            "text/plain": [
              "Empty DataFrame\n",
              "Columns: [site1, site2, site3, site4, site5, site6, site7, site8, site9, site10, time_diff1, time_diff2, time_diff3, time_diff4, time_diff5, time_diff6, time_diff7, time_diff8, time_diff9, session_timespan, #unique_sites, start_hour, start_day_of_week, start_year, start_month, start_day, is_weekend, day_time, visit_mean_time, facebook_visited, popular_share, target]\n",
              "Index: []\n",
              "\n",
              "[0 rows x 32 columns]"
            ]
          },
          "metadata": {
            "tags": []
          },
          "execution_count": 51
        }
      ]
    },
    {
      "cell_type": "markdown",
      "metadata": {
        "id": "3wJEiJCsml85"
      },
      "source": [
        "Применим новую функцию к данным по 10 пользователям"
      ]
    },
    {
      "cell_type": "code",
      "metadata": {
        "colab": {
          "referenced_widgets": [
            "4f528c3336534f9c9afa6bbd5f0c225f"
          ]
        },
        "id": "okWkTe3rml86",
        "outputId": "de026f36-d0ba-4fa6-c138-6f552472d61b"
      },
      "source": [
        "%%time\n",
        "train_data_10users = prepare_train_set_with_fe(\n",
        "    os.path.join(PATH_TO_DATA, '10users'), \n",
        "    site_freq_path=os.path.join(PATH_TO_DATA, 'site_freq_10users.pkl'),\n",
        "    feature_names=feature_names, session_length=10\n",
        ")"
      ],
      "execution_count": null,
      "outputs": [
        {
          "output_type": "display_data",
          "data": {
            "application/vnd.jupyter.widget-view+json": {
              "model_id": "4f528c3336534f9c9afa6bbd5f0c225f",
              "version_major": 2,
              "version_minor": 0
            },
            "text/plain": [
              "  0%|          | 0/10 [00:00<?, ?it/s]"
            ]
          },
          "metadata": {
            "tags": []
          }
        },
        {
          "output_type": "stream",
          "text": [
            "Wall time: 27.7 s\n"
          ],
          "name": "stdout"
        }
      ]
    },
    {
      "cell_type": "markdown",
      "metadata": {
        "id": "0DyBiOUwml86"
      },
      "source": [
        "Применим новую функцию к данным по 150 пользователям"
      ]
    },
    {
      "cell_type": "code",
      "metadata": {
        "colab": {
          "referenced_widgets": [
            "3ee60f1873854af5a9447368b89d7c3c"
          ]
        },
        "id": "N9Fg3S5iml86",
        "outputId": "6de09f32-96bc-43b3-b344-8b0ee72ac357"
      },
      "source": [
        "%%time\n",
        "train_data_150users = prepare_train_set_with_fe(\n",
        "    os.path.join(PATH_TO_DATA, '150users'), \n",
        "    site_freq_path=os.path.join(PATH_TO_DATA, 'site_freq_150users.pkl'),\n",
        "    feature_names=feature_names, session_length=10\n",
        ")"
      ],
      "execution_count": null,
      "outputs": [
        {
          "output_type": "display_data",
          "data": {
            "application/vnd.jupyter.widget-view+json": {
              "model_id": "3ee60f1873854af5a9447368b89d7c3c",
              "version_major": 2,
              "version_minor": 0
            },
            "text/plain": [
              "  0%|          | 0/150 [00:00<?, ?it/s]"
            ]
          },
          "metadata": {
            "tags": []
          }
        },
        {
          "output_type": "stream",
          "text": [
            "Wall time: 16min 36s\n"
          ],
          "name": "stdout"
        }
      ]
    },
    {
      "cell_type": "code",
      "metadata": {
        "id": "J5w9gzmFml87"
      },
      "source": [
        "new_new_features = ['start_year', 'start_month', 'start_day', 'is_weekend', 'start_hour',\n",
        "                    'day_time', 'visit_mean_time', 'facebook_visited', 'popular_share']"
      ],
      "execution_count": null,
      "outputs": []
    },
    {
      "cell_type": "code",
      "metadata": {
        "id": "jgaMRn1Kml87",
        "outputId": "ea6f354d-3f27-4d0a-c291-5b94648c68f7"
      },
      "source": [
        "train_data_10users.iloc[:, 10:]"
      ],
      "execution_count": null,
      "outputs": [
        {
          "output_type": "execute_result",
          "data": {
            "text/html": [
              "<div>\n",
              "<style scoped>\n",
              "    .dataframe tbody tr th:only-of-type {\n",
              "        vertical-align: middle;\n",
              "    }\n",
              "\n",
              "    .dataframe tbody tr th {\n",
              "        vertical-align: top;\n",
              "    }\n",
              "\n",
              "    .dataframe thead th {\n",
              "        text-align: right;\n",
              "    }\n",
              "</style>\n",
              "<table border=\"1\" class=\"dataframe\">\n",
              "  <thead>\n",
              "    <tr style=\"text-align: right;\">\n",
              "      <th></th>\n",
              "      <th>time_diff1</th>\n",
              "      <th>time_diff2</th>\n",
              "      <th>time_diff3</th>\n",
              "      <th>time_diff4</th>\n",
              "      <th>time_diff5</th>\n",
              "      <th>time_diff6</th>\n",
              "      <th>time_diff7</th>\n",
              "      <th>time_diff8</th>\n",
              "      <th>time_diff9</th>\n",
              "      <th>session_timespan</th>\n",
              "      <th>#unique_sites</th>\n",
              "      <th>start_hour</th>\n",
              "      <th>start_day_of_week</th>\n",
              "      <th>start_year</th>\n",
              "      <th>start_month</th>\n",
              "      <th>start_day</th>\n",
              "      <th>is_weekend</th>\n",
              "      <th>day_time</th>\n",
              "      <th>visit_mean_time</th>\n",
              "      <th>facebook_visited</th>\n",
              "      <th>popular_share</th>\n",
              "      <th>target</th>\n",
              "    </tr>\n",
              "  </thead>\n",
              "  <tbody>\n",
              "    <tr>\n",
              "      <th>0</th>\n",
              "      <td>10</td>\n",
              "      <td>0</td>\n",
              "      <td>0</td>\n",
              "      <td>1</td>\n",
              "      <td>20</td>\n",
              "      <td>1</td>\n",
              "      <td>0</td>\n",
              "      <td>1</td>\n",
              "      <td>0</td>\n",
              "      <td>33</td>\n",
              "      <td>5</td>\n",
              "      <td>8</td>\n",
              "      <td>4</td>\n",
              "      <td>2013</td>\n",
              "      <td>11</td>\n",
              "      <td>15</td>\n",
              "      <td>0</td>\n",
              "      <td>1</td>\n",
              "      <td>3.666667</td>\n",
              "      <td>0</td>\n",
              "      <td>0.0</td>\n",
              "      <td>31</td>\n",
              "    </tr>\n",
              "    <tr>\n",
              "      <th>1</th>\n",
              "      <td>1</td>\n",
              "      <td>0</td>\n",
              "      <td>163</td>\n",
              "      <td>105</td>\n",
              "      <td>0</td>\n",
              "      <td>1</td>\n",
              "      <td>3</td>\n",
              "      <td>3</td>\n",
              "      <td>8</td>\n",
              "      <td>284</td>\n",
              "      <td>10</td>\n",
              "      <td>8</td>\n",
              "      <td>4</td>\n",
              "      <td>2013</td>\n",
              "      <td>11</td>\n",
              "      <td>15</td>\n",
              "      <td>0</td>\n",
              "      <td>1</td>\n",
              "      <td>31.555556</td>\n",
              "      <td>0</td>\n",
              "      <td>0.0</td>\n",
              "      <td>31</td>\n",
              "    </tr>\n",
              "    <tr>\n",
              "      <th>2</th>\n",
              "      <td>0</td>\n",
              "      <td>14</td>\n",
              "      <td>1</td>\n",
              "      <td>242</td>\n",
              "      <td>0</td>\n",
              "      <td>0</td>\n",
              "      <td>1</td>\n",
              "      <td>0</td>\n",
              "      <td>0</td>\n",
              "      <td>258</td>\n",
              "      <td>7</td>\n",
              "      <td>8</td>\n",
              "      <td>4</td>\n",
              "      <td>2013</td>\n",
              "      <td>11</td>\n",
              "      <td>15</td>\n",
              "      <td>0</td>\n",
              "      <td>1</td>\n",
              "      <td>28.666667</td>\n",
              "      <td>0</td>\n",
              "      <td>0.0</td>\n",
              "      <td>31</td>\n",
              "    </tr>\n",
              "    <tr>\n",
              "      <th>3</th>\n",
              "      <td>2</td>\n",
              "      <td>1</td>\n",
              "      <td>0</td>\n",
              "      <td>1</td>\n",
              "      <td>25</td>\n",
              "      <td>1</td>\n",
              "      <td>0</td>\n",
              "      <td>0</td>\n",
              "      <td>0</td>\n",
              "      <td>30</td>\n",
              "      <td>6</td>\n",
              "      <td>8</td>\n",
              "      <td>4</td>\n",
              "      <td>2013</td>\n",
              "      <td>11</td>\n",
              "      <td>15</td>\n",
              "      <td>0</td>\n",
              "      <td>1</td>\n",
              "      <td>3.333333</td>\n",
              "      <td>0</td>\n",
              "      <td>0.0</td>\n",
              "      <td>31</td>\n",
              "    </tr>\n",
              "    <tr>\n",
              "      <th>4</th>\n",
              "      <td>1</td>\n",
              "      <td>0</td>\n",
              "      <td>1</td>\n",
              "      <td>1</td>\n",
              "      <td>1</td>\n",
              "      <td>0</td>\n",
              "      <td>1</td>\n",
              "      <td>1</td>\n",
              "      <td>0</td>\n",
              "      <td>6</td>\n",
              "      <td>9</td>\n",
              "      <td>8</td>\n",
              "      <td>4</td>\n",
              "      <td>2013</td>\n",
              "      <td>11</td>\n",
              "      <td>15</td>\n",
              "      <td>0</td>\n",
              "      <td>1</td>\n",
              "      <td>0.666667</td>\n",
              "      <td>0</td>\n",
              "      <td>0.0</td>\n",
              "      <td>31</td>\n",
              "    </tr>\n",
              "    <tr>\n",
              "      <th>...</th>\n",
              "      <td>...</td>\n",
              "      <td>...</td>\n",
              "      <td>...</td>\n",
              "      <td>...</td>\n",
              "      <td>...</td>\n",
              "      <td>...</td>\n",
              "      <td>...</td>\n",
              "      <td>...</td>\n",
              "      <td>...</td>\n",
              "      <td>...</td>\n",
              "      <td>...</td>\n",
              "      <td>...</td>\n",
              "      <td>...</td>\n",
              "      <td>...</td>\n",
              "      <td>...</td>\n",
              "      <td>...</td>\n",
              "      <td>...</td>\n",
              "      <td>...</td>\n",
              "      <td>...</td>\n",
              "      <td>...</td>\n",
              "      <td>...</td>\n",
              "      <td>...</td>\n",
              "    </tr>\n",
              "    <tr>\n",
              "      <th>14056</th>\n",
              "      <td>0</td>\n",
              "      <td>1</td>\n",
              "      <td>0</td>\n",
              "      <td>1</td>\n",
              "      <td>0</td>\n",
              "      <td>1</td>\n",
              "      <td>23</td>\n",
              "      <td>1</td>\n",
              "      <td>0</td>\n",
              "      <td>27</td>\n",
              "      <td>8</td>\n",
              "      <td>15</td>\n",
              "      <td>2</td>\n",
              "      <td>2014</td>\n",
              "      <td>3</td>\n",
              "      <td>26</td>\n",
              "      <td>0</td>\n",
              "      <td>2</td>\n",
              "      <td>3.000000</td>\n",
              "      <td>0</td>\n",
              "      <td>0.0</td>\n",
              "      <td>241</td>\n",
              "    </tr>\n",
              "    <tr>\n",
              "      <th>14057</th>\n",
              "      <td>0</td>\n",
              "      <td>0</td>\n",
              "      <td>2</td>\n",
              "      <td>0</td>\n",
              "      <td>0</td>\n",
              "      <td>0</td>\n",
              "      <td>2</td>\n",
              "      <td>1</td>\n",
              "      <td>6</td>\n",
              "      <td>11</td>\n",
              "      <td>8</td>\n",
              "      <td>15</td>\n",
              "      <td>2</td>\n",
              "      <td>2014</td>\n",
              "      <td>3</td>\n",
              "      <td>26</td>\n",
              "      <td>0</td>\n",
              "      <td>2</td>\n",
              "      <td>1.222222</td>\n",
              "      <td>0</td>\n",
              "      <td>0.0</td>\n",
              "      <td>241</td>\n",
              "    </tr>\n",
              "    <tr>\n",
              "      <th>14058</th>\n",
              "      <td>1</td>\n",
              "      <td>1</td>\n",
              "      <td>0</td>\n",
              "      <td>0</td>\n",
              "      <td>1</td>\n",
              "      <td>0</td>\n",
              "      <td>0</td>\n",
              "      <td>5</td>\n",
              "      <td>8</td>\n",
              "      <td>16</td>\n",
              "      <td>6</td>\n",
              "      <td>15</td>\n",
              "      <td>2</td>\n",
              "      <td>2014</td>\n",
              "      <td>3</td>\n",
              "      <td>26</td>\n",
              "      <td>0</td>\n",
              "      <td>2</td>\n",
              "      <td>1.777778</td>\n",
              "      <td>0</td>\n",
              "      <td>0.0</td>\n",
              "      <td>241</td>\n",
              "    </tr>\n",
              "    <tr>\n",
              "      <th>14059</th>\n",
              "      <td>2</td>\n",
              "      <td>1</td>\n",
              "      <td>51</td>\n",
              "      <td>173</td>\n",
              "      <td>1</td>\n",
              "      <td>12</td>\n",
              "      <td>1</td>\n",
              "      <td>1</td>\n",
              "      <td>0</td>\n",
              "      <td>242</td>\n",
              "      <td>5</td>\n",
              "      <td>15</td>\n",
              "      <td>2</td>\n",
              "      <td>2014</td>\n",
              "      <td>3</td>\n",
              "      <td>26</td>\n",
              "      <td>0</td>\n",
              "      <td>2</td>\n",
              "      <td>26.888889</td>\n",
              "      <td>0</td>\n",
              "      <td>0.0</td>\n",
              "      <td>241</td>\n",
              "    </tr>\n",
              "    <tr>\n",
              "      <th>14060</th>\n",
              "      <td>0</td>\n",
              "      <td>0</td>\n",
              "      <td>0</td>\n",
              "      <td>0</td>\n",
              "      <td>0</td>\n",
              "      <td>0</td>\n",
              "      <td>0</td>\n",
              "      <td>0</td>\n",
              "      <td>0</td>\n",
              "      <td>0</td>\n",
              "      <td>2</td>\n",
              "      <td>15</td>\n",
              "      <td>2</td>\n",
              "      <td>2014</td>\n",
              "      <td>3</td>\n",
              "      <td>26</td>\n",
              "      <td>0</td>\n",
              "      <td>2</td>\n",
              "      <td>0.000000</td>\n",
              "      <td>0</td>\n",
              "      <td>0.0</td>\n",
              "      <td>241</td>\n",
              "    </tr>\n",
              "  </tbody>\n",
              "</table>\n",
              "<p>14061 rows × 22 columns</p>\n",
              "</div>"
            ],
            "text/plain": [
              "       time_diff1  time_diff2  time_diff3  time_diff4  time_diff5  time_diff6  \\\n",
              "0              10           0           0           1          20           1   \n",
              "1               1           0         163         105           0           1   \n",
              "2               0          14           1         242           0           0   \n",
              "3               2           1           0           1          25           1   \n",
              "4               1           0           1           1           1           0   \n",
              "...           ...         ...         ...         ...         ...         ...   \n",
              "14056           0           1           0           1           0           1   \n",
              "14057           0           0           2           0           0           0   \n",
              "14058           1           1           0           0           1           0   \n",
              "14059           2           1          51         173           1          12   \n",
              "14060           0           0           0           0           0           0   \n",
              "\n",
              "       time_diff7  time_diff8  time_diff9  session_timespan  #unique_sites  \\\n",
              "0               0           1           0                33              5   \n",
              "1               3           3           8               284             10   \n",
              "2               1           0           0               258              7   \n",
              "3               0           0           0                30              6   \n",
              "4               1           1           0                 6              9   \n",
              "...           ...         ...         ...               ...            ...   \n",
              "14056          23           1           0                27              8   \n",
              "14057           2           1           6                11              8   \n",
              "14058           0           5           8                16              6   \n",
              "14059           1           1           0               242              5   \n",
              "14060           0           0           0                 0              2   \n",
              "\n",
              "       start_hour  start_day_of_week  start_year  start_month  start_day  \\\n",
              "0               8                  4        2013           11         15   \n",
              "1               8                  4        2013           11         15   \n",
              "2               8                  4        2013           11         15   \n",
              "3               8                  4        2013           11         15   \n",
              "4               8                  4        2013           11         15   \n",
              "...           ...                ...         ...          ...        ...   \n",
              "14056          15                  2        2014            3         26   \n",
              "14057          15                  2        2014            3         26   \n",
              "14058          15                  2        2014            3         26   \n",
              "14059          15                  2        2014            3         26   \n",
              "14060          15                  2        2014            3         26   \n",
              "\n",
              "       is_weekend  day_time  visit_mean_time  facebook_visited  popular_share  \\\n",
              "0               0         1         3.666667                 0            0.0   \n",
              "1               0         1        31.555556                 0            0.0   \n",
              "2               0         1        28.666667                 0            0.0   \n",
              "3               0         1         3.333333                 0            0.0   \n",
              "4               0         1         0.666667                 0            0.0   \n",
              "...           ...       ...              ...               ...            ...   \n",
              "14056           0         2         3.000000                 0            0.0   \n",
              "14057           0         2         1.222222                 0            0.0   \n",
              "14058           0         2         1.777778                 0            0.0   \n",
              "14059           0         2        26.888889                 0            0.0   \n",
              "14060           0         2         0.000000                 0            0.0   \n",
              "\n",
              "       target  \n",
              "0          31  \n",
              "1          31  \n",
              "2          31  \n",
              "3          31  \n",
              "4          31  \n",
              "...       ...  \n",
              "14056     241  \n",
              "14057     241  \n",
              "14058     241  \n",
              "14059     241  \n",
              "14060     241  \n",
              "\n",
              "[14061 rows x 22 columns]"
            ]
          },
          "metadata": {
            "tags": []
          },
          "execution_count": 419
        }
      ]
    },
    {
      "cell_type": "code",
      "metadata": {
        "id": "WPzGRkEVml87",
        "outputId": "c722dd64-77de-44c3-87af-0863e072ef3a"
      },
      "source": [
        "train_data_10users[new_new_features]"
      ],
      "execution_count": null,
      "outputs": [
        {
          "output_type": "execute_result",
          "data": {
            "text/html": [
              "<div>\n",
              "<style scoped>\n",
              "    .dataframe tbody tr th:only-of-type {\n",
              "        vertical-align: middle;\n",
              "    }\n",
              "\n",
              "    .dataframe tbody tr th {\n",
              "        vertical-align: top;\n",
              "    }\n",
              "\n",
              "    .dataframe thead th {\n",
              "        text-align: right;\n",
              "    }\n",
              "</style>\n",
              "<table border=\"1\" class=\"dataframe\">\n",
              "  <thead>\n",
              "    <tr style=\"text-align: right;\">\n",
              "      <th></th>\n",
              "      <th>start_year</th>\n",
              "      <th>start_month</th>\n",
              "      <th>start_day</th>\n",
              "      <th>is_weekend</th>\n",
              "      <th>start_hour</th>\n",
              "      <th>day_time</th>\n",
              "      <th>visit_mean_time</th>\n",
              "      <th>facebook_visited</th>\n",
              "      <th>popular_share</th>\n",
              "    </tr>\n",
              "  </thead>\n",
              "  <tbody>\n",
              "    <tr>\n",
              "      <th>0</th>\n",
              "      <td>2013</td>\n",
              "      <td>11</td>\n",
              "      <td>15</td>\n",
              "      <td>0</td>\n",
              "      <td>8</td>\n",
              "      <td>1</td>\n",
              "      <td>3.666667</td>\n",
              "      <td>0</td>\n",
              "      <td>0.0</td>\n",
              "    </tr>\n",
              "    <tr>\n",
              "      <th>1</th>\n",
              "      <td>2013</td>\n",
              "      <td>11</td>\n",
              "      <td>15</td>\n",
              "      <td>0</td>\n",
              "      <td>8</td>\n",
              "      <td>1</td>\n",
              "      <td>31.555556</td>\n",
              "      <td>0</td>\n",
              "      <td>0.0</td>\n",
              "    </tr>\n",
              "    <tr>\n",
              "      <th>2</th>\n",
              "      <td>2013</td>\n",
              "      <td>11</td>\n",
              "      <td>15</td>\n",
              "      <td>0</td>\n",
              "      <td>8</td>\n",
              "      <td>1</td>\n",
              "      <td>28.666667</td>\n",
              "      <td>0</td>\n",
              "      <td>0.0</td>\n",
              "    </tr>\n",
              "    <tr>\n",
              "      <th>3</th>\n",
              "      <td>2013</td>\n",
              "      <td>11</td>\n",
              "      <td>15</td>\n",
              "      <td>0</td>\n",
              "      <td>8</td>\n",
              "      <td>1</td>\n",
              "      <td>3.333333</td>\n",
              "      <td>0</td>\n",
              "      <td>0.0</td>\n",
              "    </tr>\n",
              "    <tr>\n",
              "      <th>4</th>\n",
              "      <td>2013</td>\n",
              "      <td>11</td>\n",
              "      <td>15</td>\n",
              "      <td>0</td>\n",
              "      <td>8</td>\n",
              "      <td>1</td>\n",
              "      <td>0.666667</td>\n",
              "      <td>0</td>\n",
              "      <td>0.0</td>\n",
              "    </tr>\n",
              "    <tr>\n",
              "      <th>...</th>\n",
              "      <td>...</td>\n",
              "      <td>...</td>\n",
              "      <td>...</td>\n",
              "      <td>...</td>\n",
              "      <td>...</td>\n",
              "      <td>...</td>\n",
              "      <td>...</td>\n",
              "      <td>...</td>\n",
              "      <td>...</td>\n",
              "    </tr>\n",
              "    <tr>\n",
              "      <th>14056</th>\n",
              "      <td>2014</td>\n",
              "      <td>3</td>\n",
              "      <td>26</td>\n",
              "      <td>0</td>\n",
              "      <td>15</td>\n",
              "      <td>2</td>\n",
              "      <td>3.000000</td>\n",
              "      <td>0</td>\n",
              "      <td>0.0</td>\n",
              "    </tr>\n",
              "    <tr>\n",
              "      <th>14057</th>\n",
              "      <td>2014</td>\n",
              "      <td>3</td>\n",
              "      <td>26</td>\n",
              "      <td>0</td>\n",
              "      <td>15</td>\n",
              "      <td>2</td>\n",
              "      <td>1.222222</td>\n",
              "      <td>0</td>\n",
              "      <td>0.0</td>\n",
              "    </tr>\n",
              "    <tr>\n",
              "      <th>14058</th>\n",
              "      <td>2014</td>\n",
              "      <td>3</td>\n",
              "      <td>26</td>\n",
              "      <td>0</td>\n",
              "      <td>15</td>\n",
              "      <td>2</td>\n",
              "      <td>1.777778</td>\n",
              "      <td>0</td>\n",
              "      <td>0.0</td>\n",
              "    </tr>\n",
              "    <tr>\n",
              "      <th>14059</th>\n",
              "      <td>2014</td>\n",
              "      <td>3</td>\n",
              "      <td>26</td>\n",
              "      <td>0</td>\n",
              "      <td>15</td>\n",
              "      <td>2</td>\n",
              "      <td>26.888889</td>\n",
              "      <td>0</td>\n",
              "      <td>0.0</td>\n",
              "    </tr>\n",
              "    <tr>\n",
              "      <th>14060</th>\n",
              "      <td>2014</td>\n",
              "      <td>3</td>\n",
              "      <td>26</td>\n",
              "      <td>0</td>\n",
              "      <td>15</td>\n",
              "      <td>2</td>\n",
              "      <td>0.000000</td>\n",
              "      <td>0</td>\n",
              "      <td>0.0</td>\n",
              "    </tr>\n",
              "  </tbody>\n",
              "</table>\n",
              "<p>14061 rows × 9 columns</p>\n",
              "</div>"
            ],
            "text/plain": [
              "       start_year  start_month  start_day  is_weekend  start_hour  day_time  \\\n",
              "0            2013           11         15           0           8         1   \n",
              "1            2013           11         15           0           8         1   \n",
              "2            2013           11         15           0           8         1   \n",
              "3            2013           11         15           0           8         1   \n",
              "4            2013           11         15           0           8         1   \n",
              "...           ...          ...        ...         ...         ...       ...   \n",
              "14056        2014            3         26           0          15         2   \n",
              "14057        2014            3         26           0          15         2   \n",
              "14058        2014            3         26           0          15         2   \n",
              "14059        2014            3         26           0          15         2   \n",
              "14060        2014            3         26           0          15         2   \n",
              "\n",
              "       visit_mean_time  facebook_visited  popular_share  \n",
              "0             3.666667                 0            0.0  \n",
              "1            31.555556                 0            0.0  \n",
              "2            28.666667                 0            0.0  \n",
              "3             3.333333                 0            0.0  \n",
              "4             0.666667                 0            0.0  \n",
              "...                ...               ...            ...  \n",
              "14056         3.000000                 0            0.0  \n",
              "14057         1.222222                 0            0.0  \n",
              "14058         1.777778                 0            0.0  \n",
              "14059        26.888889                 0            0.0  \n",
              "14060         0.000000                 0            0.0  \n",
              "\n",
              "[14061 rows x 9 columns]"
            ]
          },
          "metadata": {
            "tags": []
          },
          "execution_count": 420
        }
      ]
    },
    {
      "cell_type": "code",
      "metadata": {
        "id": "9T9M39bAml88"
      },
      "source": [
        "new_features_10users = train_data_10users[new_new_features]"
      ],
      "execution_count": null,
      "outputs": []
    },
    {
      "cell_type": "code",
      "metadata": {
        "id": "Bd0xTVgeml88",
        "outputId": "c07da73d-d13a-487d-d95c-20d38e4faed7"
      },
      "source": [
        "new_features_10users"
      ],
      "execution_count": null,
      "outputs": [
        {
          "output_type": "execute_result",
          "data": {
            "text/html": [
              "<div>\n",
              "<style scoped>\n",
              "    .dataframe tbody tr th:only-of-type {\n",
              "        vertical-align: middle;\n",
              "    }\n",
              "\n",
              "    .dataframe tbody tr th {\n",
              "        vertical-align: top;\n",
              "    }\n",
              "\n",
              "    .dataframe thead th {\n",
              "        text-align: right;\n",
              "    }\n",
              "</style>\n",
              "<table border=\"1\" class=\"dataframe\">\n",
              "  <thead>\n",
              "    <tr style=\"text-align: right;\">\n",
              "      <th></th>\n",
              "      <th>start_year</th>\n",
              "      <th>start_month</th>\n",
              "      <th>start_day</th>\n",
              "      <th>is_weekend</th>\n",
              "      <th>start_hour</th>\n",
              "      <th>day_time</th>\n",
              "      <th>visit_mean_time</th>\n",
              "      <th>facebook_visited</th>\n",
              "      <th>popular_share</th>\n",
              "    </tr>\n",
              "  </thead>\n",
              "  <tbody>\n",
              "    <tr>\n",
              "      <th>0</th>\n",
              "      <td>2013</td>\n",
              "      <td>11</td>\n",
              "      <td>15</td>\n",
              "      <td>0</td>\n",
              "      <td>8</td>\n",
              "      <td>1</td>\n",
              "      <td>3.666667</td>\n",
              "      <td>0</td>\n",
              "      <td>0.0</td>\n",
              "    </tr>\n",
              "    <tr>\n",
              "      <th>1</th>\n",
              "      <td>2013</td>\n",
              "      <td>11</td>\n",
              "      <td>15</td>\n",
              "      <td>0</td>\n",
              "      <td>8</td>\n",
              "      <td>1</td>\n",
              "      <td>31.555556</td>\n",
              "      <td>0</td>\n",
              "      <td>0.0</td>\n",
              "    </tr>\n",
              "    <tr>\n",
              "      <th>2</th>\n",
              "      <td>2013</td>\n",
              "      <td>11</td>\n",
              "      <td>15</td>\n",
              "      <td>0</td>\n",
              "      <td>8</td>\n",
              "      <td>1</td>\n",
              "      <td>28.666667</td>\n",
              "      <td>0</td>\n",
              "      <td>0.0</td>\n",
              "    </tr>\n",
              "    <tr>\n",
              "      <th>3</th>\n",
              "      <td>2013</td>\n",
              "      <td>11</td>\n",
              "      <td>15</td>\n",
              "      <td>0</td>\n",
              "      <td>8</td>\n",
              "      <td>1</td>\n",
              "      <td>3.333333</td>\n",
              "      <td>0</td>\n",
              "      <td>0.0</td>\n",
              "    </tr>\n",
              "    <tr>\n",
              "      <th>4</th>\n",
              "      <td>2013</td>\n",
              "      <td>11</td>\n",
              "      <td>15</td>\n",
              "      <td>0</td>\n",
              "      <td>8</td>\n",
              "      <td>1</td>\n",
              "      <td>0.666667</td>\n",
              "      <td>0</td>\n",
              "      <td>0.0</td>\n",
              "    </tr>\n",
              "    <tr>\n",
              "      <th>...</th>\n",
              "      <td>...</td>\n",
              "      <td>...</td>\n",
              "      <td>...</td>\n",
              "      <td>...</td>\n",
              "      <td>...</td>\n",
              "      <td>...</td>\n",
              "      <td>...</td>\n",
              "      <td>...</td>\n",
              "      <td>...</td>\n",
              "    </tr>\n",
              "    <tr>\n",
              "      <th>14056</th>\n",
              "      <td>2014</td>\n",
              "      <td>3</td>\n",
              "      <td>26</td>\n",
              "      <td>0</td>\n",
              "      <td>15</td>\n",
              "      <td>2</td>\n",
              "      <td>3.000000</td>\n",
              "      <td>0</td>\n",
              "      <td>0.0</td>\n",
              "    </tr>\n",
              "    <tr>\n",
              "      <th>14057</th>\n",
              "      <td>2014</td>\n",
              "      <td>3</td>\n",
              "      <td>26</td>\n",
              "      <td>0</td>\n",
              "      <td>15</td>\n",
              "      <td>2</td>\n",
              "      <td>1.222222</td>\n",
              "      <td>0</td>\n",
              "      <td>0.0</td>\n",
              "    </tr>\n",
              "    <tr>\n",
              "      <th>14058</th>\n",
              "      <td>2014</td>\n",
              "      <td>3</td>\n",
              "      <td>26</td>\n",
              "      <td>0</td>\n",
              "      <td>15</td>\n",
              "      <td>2</td>\n",
              "      <td>1.777778</td>\n",
              "      <td>0</td>\n",
              "      <td>0.0</td>\n",
              "    </tr>\n",
              "    <tr>\n",
              "      <th>14059</th>\n",
              "      <td>2014</td>\n",
              "      <td>3</td>\n",
              "      <td>26</td>\n",
              "      <td>0</td>\n",
              "      <td>15</td>\n",
              "      <td>2</td>\n",
              "      <td>26.888889</td>\n",
              "      <td>0</td>\n",
              "      <td>0.0</td>\n",
              "    </tr>\n",
              "    <tr>\n",
              "      <th>14060</th>\n",
              "      <td>2014</td>\n",
              "      <td>3</td>\n",
              "      <td>26</td>\n",
              "      <td>0</td>\n",
              "      <td>15</td>\n",
              "      <td>2</td>\n",
              "      <td>0.000000</td>\n",
              "      <td>0</td>\n",
              "      <td>0.0</td>\n",
              "    </tr>\n",
              "  </tbody>\n",
              "</table>\n",
              "<p>14061 rows × 9 columns</p>\n",
              "</div>"
            ],
            "text/plain": [
              "       start_year  start_month  start_day  is_weekend  start_hour  day_time  \\\n",
              "0            2013           11         15           0           8         1   \n",
              "1            2013           11         15           0           8         1   \n",
              "2            2013           11         15           0           8         1   \n",
              "3            2013           11         15           0           8         1   \n",
              "4            2013           11         15           0           8         1   \n",
              "...           ...          ...        ...         ...         ...       ...   \n",
              "14056        2014            3         26           0          15         2   \n",
              "14057        2014            3         26           0          15         2   \n",
              "14058        2014            3         26           0          15         2   \n",
              "14059        2014            3         26           0          15         2   \n",
              "14060        2014            3         26           0          15         2   \n",
              "\n",
              "       visit_mean_time  facebook_visited  popular_share  \n",
              "0             3.666667                 0            0.0  \n",
              "1            31.555556                 0            0.0  \n",
              "2            28.666667                 0            0.0  \n",
              "3             3.333333                 0            0.0  \n",
              "4             0.666667                 0            0.0  \n",
              "...                ...               ...            ...  \n",
              "14056         3.000000                 0            0.0  \n",
              "14057         1.222222                 0            0.0  \n",
              "14058         1.777778                 0            0.0  \n",
              "14059        26.888889                 0            0.0  \n",
              "14060         0.000000                 0            0.0  \n",
              "\n",
              "[14061 rows x 9 columns]"
            ]
          },
          "metadata": {
            "tags": []
          },
          "execution_count": 422
        }
      ]
    },
    {
      "cell_type": "code",
      "metadata": {
        "id": "8_Np86tZml88"
      },
      "source": [
        "new_features_150users = train_data_150users[new_new_features]"
      ],
      "execution_count": null,
      "outputs": []
    },
    {
      "cell_type": "code",
      "metadata": {
        "id": "GivM9jdIml89"
      },
      "source": [
        "with open(os.path.join(PATH_TO_DATA, 'new_new_features_10users.pkl'), 'wb') as new_features_10users_pkl:\n",
        "    pickle.dump(new_features_10users, new_features_10users_pkl)\n",
        "with open(os.path.join(PATH_TO_DATA, 'new_new_features_150users.pkl'), 'wb') as new_features_150users_pkl:\n",
        "    pickle.dump(new_features_150users, new_features_150users_pkl)"
      ],
      "execution_count": null,
      "outputs": []
    },
    {
      "cell_type": "markdown",
      "metadata": {
        "id": "EhP8-ySKml89"
      },
      "source": [
        "**14. Постройте картинки для новых признаков, поисследуйте их, прокомментируйте результаты.**"
      ]
    },
    {
      "cell_type": "code",
      "metadata": {
        "id": "Iq4KZsGuml89",
        "outputId": "8c4055af-5005-4edb-aca9-02ff740ab5ce"
      },
      "source": [
        "train_data_10users.facebook_visited.value_counts()"
      ],
      "execution_count": null,
      "outputs": [
        {
          "output_type": "execute_result",
          "data": {
            "text/plain": [
              "0    14061\n",
              "Name: facebook_visited, dtype: int64"
            ]
          },
          "metadata": {
            "tags": []
          },
          "execution_count": 500
        }
      ]
    },
    {
      "cell_type": "markdown",
      "metadata": {
        "id": "3yuX2nr3ml89"
      },
      "source": [
        "**Год начала сессии**"
      ]
    },
    {
      "cell_type": "code",
      "metadata": {
        "id": "XCaAEEjhml8-",
        "outputId": "32e358f4-d2c9-4131-f13b-6841eccfd5d4"
      },
      "source": [
        "train_data_10users.start_year.hist();"
      ],
      "execution_count": null,
      "outputs": [
        {
          "output_type": "display_data",
          "data": {
            "image/png": "[encoded data removed]",
            "text/plain": [
              "<Figure size 936x576 with 1 Axes>"
            ]
          },
          "metadata": {
            "tags": [],
            "needs_background": "light"
          }
        }
      ]
    },
    {
      "cell_type": "code",
      "metadata": {
        "id": "bRgm9uutml8-",
        "outputId": "2c9dc372-5d23-407e-f040-253e9c2e86d0"
      },
      "source": [
        "train_data_10users.hist('start_year', by='target', figsize=(16, 16));"
      ],
      "execution_count": null,
      "outputs": [
        {
          "output_type": "display_data",
          "data": {
            "image/png": "[encoded data removed]",
            "text/plain": [
              "<Figure size 1152x1152 with 12 Axes>"
            ]
          },
          "metadata": {
            "tags": [],
            "needs_background": "light"
          }
        }
      ]
    },
    {
      "cell_type": "markdown",
      "metadata": {
        "id": "WPEv1wHwml8-"
      },
      "source": [
        "**Месяц начала сессии**"
      ]
    },
    {
      "cell_type": "code",
      "metadata": {
        "id": "GPg03FFDml8_",
        "outputId": "8fcfdad2-e4d2-44d6-eb8f-4ddaddd1e8ca"
      },
      "source": [
        "train_data_10users.start_month.hist();"
      ],
      "execution_count": null,
      "outputs": [
        {
          "output_type": "display_data",
          "data": {
            "image/png": "[encoded data removed]",
            "text/plain": [
              "<Figure size 936x576 with 1 Axes>"
            ]
          },
          "metadata": {
            "tags": [],
            "needs_background": "light"
          }
        }
      ]
    },
    {
      "cell_type": "code",
      "metadata": {
        "id": "wR5b5Wl0ml8_",
        "outputId": "61274403-c1d5-4fb0-d9e8-576319b1b5ad"
      },
      "source": [
        "train_data_10users.hist('start_month', by='target', figsize=(16, 16));"
      ],
      "execution_count": null,
      "outputs": [
        {
          "output_type": "display_data",
          "data": {
            "image/png": "[encoded data removed]",
            "text/plain": [
              "<Figure size 1152x1152 with 12 Axes>"
            ]
          },
          "metadata": {
            "tags": [],
            "needs_background": "light"
          }
        }
      ]
    },
    {
      "cell_type": "markdown",
      "metadata": {
        "id": "h1HOHjuuml8_"
      },
      "source": [
        "**День начала сессии**"
      ]
    },
    {
      "cell_type": "code",
      "metadata": {
        "scrolled": false,
        "id": "UqVLF45Qml9A",
        "outputId": "20f18a83-677d-4e94-f154-69d7d38af919"
      },
      "source": [
        "train_data_10users.start_day.hist();"
      ],
      "execution_count": null,
      "outputs": [
        {
          "output_type": "display_data",
          "data": {
            "image/png": "[encoded data removed]",
            "text/plain": [
              "<Figure size 936x576 with 1 Axes>"
            ]
          },
          "metadata": {
            "tags": [],
            "needs_background": "light"
          }
        }
      ]
    },
    {
      "cell_type": "code",
      "metadata": {
        "id": "7WryX9N9ml9A",
        "outputId": "527f55dd-9b49-4825-cfad-372b16c18e9b"
      },
      "source": [
        "train_data_10users.hist('start_day', by='target', figsize=(16, 16));"
      ],
      "execution_count": null,
      "outputs": [
        {
          "output_type": "display_data",
          "data": {
            "image/png": "[encoded data removed]",
            "text/plain": [
              "<Figure size 1152x1152 with 12 Axes>"
            ]
          },
          "metadata": {
            "tags": [],
            "needs_background": "light"
          }
        }
      ]
    },
    {
      "cell_type": "markdown",
      "metadata": {
        "id": "LA0-L7qYml9B"
      },
      "source": [
        "**Выходной**"
      ]
    },
    {
      "cell_type": "code",
      "metadata": {
        "id": "MWcKEuHRml9B",
        "outputId": "b5bda6e4-098a-40b9-af81-6e1534ef585f"
      },
      "source": [
        "train_data_10users.is_weekend.hist();"
      ],
      "execution_count": null,
      "outputs": [
        {
          "output_type": "display_data",
          "data": {
            "image/png": "[encoded data removed]",
            "text/plain": [
              "<Figure size 936x576 with 1 Axes>"
            ]
          },
          "metadata": {
            "tags": [],
            "needs_background": "light"
          }
        }
      ]
    },
    {
      "cell_type": "code",
      "metadata": {
        "id": "0ypgqL12ml9B",
        "outputId": "b1f5ec7d-cd17-4b14-93eb-7156fb10827c"
      },
      "source": [
        "train_data_10users.hist('is_weekend', by='target', figsize=(16, 16))"
      ],
      "execution_count": null,
      "outputs": [
        {
          "output_type": "display_data",
          "data": {
            "image/png": "[encoded data removed]",
            "text/plain": [
              "<Figure size 1152x1152 with 12 Axes>"
            ]
          },
          "metadata": {
            "tags": [],
            "needs_background": "light"
          }
        }
      ]
    },
    {
      "cell_type": "markdown",
      "metadata": {
        "id": "IJHGBRXHml9C"
      },
      "source": [
        "**Час начала сессии**"
      ]
    },
    {
      "cell_type": "code",
      "metadata": {
        "id": "6fmqymQbml9C",
        "outputId": "3183935c-0ed8-4ada-e2bb-0815663ff348"
      },
      "source": [
        "train_data_10users.start_hour.hist();"
      ],
      "execution_count": null,
      "outputs": [
        {
          "output_type": "display_data",
          "data": {
            "image/png": "[encoded data removed]",
            "text/plain": [
              "<Figure size 936x576 with 1 Axes>"
            ]
          },
          "metadata": {
            "tags": [],
            "needs_background": "light"
          }
        }
      ]
    },
    {
      "cell_type": "code",
      "metadata": {
        "id": "2LfvHAgvml9C",
        "outputId": "2b2a3088-a12a-4c5c-e487-71aaa94cf164"
      },
      "source": [
        "train_data_10users.hist('start_hour', by='target', figsize=(16, 16));"
      ],
      "execution_count": null,
      "outputs": [
        {
          "output_type": "display_data",
          "data": {
            "image/png": "[encoded data removed]",
            "text/plain": [
              "<Figure size 1152x1152 with 12 Axes>"
            ]
          },
          "metadata": {
            "tags": [],
            "needs_background": "light"
          }
        }
      ]
    },
    {
      "cell_type": "markdown",
      "metadata": {
        "id": "np_V_2f-ml9D"
      },
      "source": [
        "**Время суток**"
      ]
    },
    {
      "cell_type": "code",
      "metadata": {
        "id": "3D8BDRXnml9D",
        "outputId": "192ea148-aa99-4486-96fa-8b117c9269c2"
      },
      "source": [
        "train_data_10users.day_time.hist()\n",
        "plt.xticks([0, 1, 2, 3], labels=['Ночь', 'Утро', 'День', 'Вечер']);"
      ],
      "execution_count": null,
      "outputs": [
        {
          "output_type": "display_data",
          "data": {
            "image/png": "[encoded data removed]",
            "text/plain": [
              "<Figure size 936x576 with 1 Axes>"
            ]
          },
          "metadata": {
            "tags": [],
            "needs_background": "light"
          }
        }
      ]
    },
    {
      "cell_type": "code",
      "metadata": {
        "id": "etHmOfzRml9D",
        "outputId": "640c9d48-33f6-4d0a-c2c9-4b3c1c0109e1"
      },
      "source": [
        "train_data_10users.hist('day_time', by='target', figsize=(16, 16));"
      ],
      "execution_count": null,
      "outputs": [
        {
          "output_type": "display_data",
          "data": {
            "image/png": "[encoded data removed]",
            "text/plain": [
              "<Figure size 1152x1152 with 12 Axes>"
            ]
          },
          "metadata": {
            "tags": [],
            "needs_background": "light"
          }
        }
      ]
    },
    {
      "cell_type": "markdown",
      "metadata": {
        "id": "MB8cabm8ml9E"
      },
      "source": [
        "**Среднее время посещения сайта**"
      ]
    },
    {
      "cell_type": "code",
      "metadata": {
        "id": "q9Do9PImml9E",
        "outputId": "2435aa8f-da39-438a-c9af-061d8d9827e7"
      },
      "source": [
        "train_data_10users.visit_mean_time.hist();"
      ],
      "execution_count": null,
      "outputs": [
        {
          "output_type": "display_data",
          "data": {
            "image/png": "[encoded data removed]",
            "text/plain": [
              "<Figure size 936x576 with 1 Axes>"
            ]
          },
          "metadata": {
            "tags": [],
            "needs_background": "light"
          }
        }
      ]
    },
    {
      "cell_type": "code",
      "metadata": {
        "id": "2CRqzMdlml9E",
        "outputId": "0dd288d9-37d2-488a-e3d1-edae54c164f7"
      },
      "source": [
        "train_data_10users.hist('visit_mean_time', by='target', figsize=(16, 16));"
      ],
      "execution_count": null,
      "outputs": [
        {
          "output_type": "display_data",
          "data": {
            "image/png": "[encoded data removed]",
            "text/plain": [
              "<Figure size 1152x1152 with 12 Axes>"
            ]
          },
          "metadata": {
            "tags": [],
            "needs_background": "light"
          }
        }
      ]
    },
    {
      "cell_type": "markdown",
      "metadata": {
        "id": "f4p80pyjml9F"
      },
      "source": [
        "**Индикатор посещения Facebook**"
      ]
    },
    {
      "cell_type": "code",
      "metadata": {
        "scrolled": true,
        "id": "xeVNlJs_ml9F",
        "outputId": "05747726-338f-4689-89e1-83785ba9c0f8"
      },
      "source": [
        "new_new_features"
      ],
      "execution_count": null,
      "outputs": [
        {
          "output_type": "execute_result",
          "data": {
            "text/plain": [
              "['start_year',\n",
              " 'start_month',\n",
              " 'start_day',\n",
              " 'is_weekend',\n",
              " 'start_hour',\n",
              " 'day_time',\n",
              " 'visit_mean_time',\n",
              " 'facebook_visited',\n",
              " 'popular_share']"
            ]
          },
          "metadata": {
            "tags": []
          },
          "execution_count": 466
        }
      ]
    },
    {
      "cell_type": "code",
      "metadata": {
        "id": "vOcpaxJKml9F",
        "outputId": "e6e92717-caa2-4973-ca4a-5104d4a305b2"
      },
      "source": [
        "train_data_10users.facebook_visited.hist();"
      ],
      "execution_count": null,
      "outputs": [
        {
          "output_type": "display_data",
          "data": {
            "image/png": "[encoded data removed]",
            "text/plain": [
              "<Figure size 936x576 with 1 Axes>"
            ]
          },
          "metadata": {
            "tags": [],
            "needs_background": "light"
          }
        }
      ]
    },
    {
      "cell_type": "code",
      "metadata": {
        "id": "w3pD0Nq9ml9G",
        "outputId": "398bf1e7-5db6-468d-da30-c9dcfb059e4f"
      },
      "source": [
        "train_data_10users.hist('facebook_visited', by='target', figsize=(16, 16));"
      ],
      "execution_count": null,
      "outputs": [
        {
          "output_type": "display_data",
          "data": {
            "image/png": "[encoded data removed]",
            "text/plain": [
              "<Figure size 1152x1152 with 12 Axes>"
            ]
          },
          "metadata": {
            "tags": [],
            "needs_background": "light"
          }
        }
      ]
    },
    {
      "cell_type": "code",
      "metadata": {
        "id": "uJIe8-SEml9G"
      },
      "source": [
        ""
      ],
      "execution_count": null,
      "outputs": []
    },
    {
      "cell_type": "markdown",
      "metadata": {
        "id": "74GqCjUlml9G"
      },
      "source": [
        "**В конце сохраните в pickle-файлы только те признаки, которые, как Вы предполагаете, помогут идентифицировать пользователя более точно. Это касается и признаков, которые мы вместе создали в начале (*session_timespan, #unique_sites, start_hour, day_of_week*), и Ваших собственных. Можно создать все эти признаки не только для сессий из 10 сайтов, но и для других сочетаний параметров *session_length* и *window_size*.**"
      ]
    },
    {
      "cell_type": "code",
      "metadata": {
        "collapsed": true,
        "id": "f1dwtEbaml9H"
      },
      "source": [
        "selected_features_10users = ''' ВАШ КОД ЗДЕСЬ ''' \n",
        "selected_features_150users = ''' ВАШ КОД ЗДЕСЬ ''' "
      ],
      "execution_count": null,
      "outputs": []
    },
    {
      "cell_type": "code",
      "metadata": {
        "collapsed": true,
        "id": "NZc2qVrDml9H"
      },
      "source": [
        "with open(os.path.join(PATH_TO_DATA, \n",
        "                       'selected_features_10users.pkl'), 'wb') as selected_features_10users_pkl:\n",
        "    pickle.dump(selected_features_10users, selected_features_10users_pkl, \n",
        "                protocol=2)\n",
        "with open(os.path.join(PATH_TO_DATA, \n",
        "                       'selected_features_150users.pkl'), 'wb') as selected_features_150users_pkl:\n",
        "    pickle.dump(selected_features_150users, selected_features_150users_pkl, \n",
        "                protocol=2)"
      ],
      "execution_count": null,
      "outputs": []
    },
    {
      "cell_type": "markdown",
      "metadata": {
        "id": "zk4wsVG6ml9H"
      },
      "source": [
        "## Критерии оценки работы:\n",
        "- Верно ли отображена гистограмма session_timespan из п. 1? (max. 3 балла)\n",
        "- Верно ли отображена гистограмма #unique_sites из п. 2? (max. 3 балла)\n",
        "- Верно ли отображены гистограммы #unique_sites по каждому пользователю из п. 3? (max. 6 баллов)\n",
        "- Верно ли отображена гистограмма start_hour из п. 4? (max. 3 балла)\n",
        "- Верно ли отображены гистограммы start_hour по каждому пользователю из п. 5? (max. 6 баллов)\n",
        "- Верно ли отображена гистограмма day_of_week из п. 6? (max. 3 балла)\n",
        "- Верно ли отображены гистограммы day_of_week по каждому пользователю из п. 7? (max. 6 баллов)\n",
        "- Насколько сделанные выводы в п. 8 соответствуют построенным картинкам? (max. 6 баллов)\n",
        "- Верно ли отображен barplot для 10 популярных сайтов из п. 9? (max. 6 баллов)\n",
        "- Правильно ли посчитана медианная продолжительность сессий в п. 10? (max. 3 балла)\n",
        "- Правильно ли посчитан медианный день недели начала сессии в п. 11? (max. 3 балла)\n",
        "- Правильно ли посчитан медианный час начала сессии в п. 12? (max. 3 балла)\n",
        "- Правильно ли посчитано медианное значение числа уникальных сайтов в сессиях 150 пользователей п. 13? (max. 3 балла)\n",
        "- Есть ли оригинальные построенные признаки и картинки к ним? Оцените также и качество картинок. (max. 8 баллов)"
      ]
    },
    {
      "cell_type": "markdown",
      "metadata": {
        "id": "uWCvAqCqml9I"
      },
      "source": [
        "## Пути улучшения\n",
        "7 неделя посвящена общему описанию проекта (`html`, `ipynb` или `pdf`) и взаимному оцениванию. Что еще можно добавить по 3 части проекта:\n",
        "- IPython-widgets, интерактив и анимация (стоящие статьи по этому ремеслу – [раз](https://habrahabr.ru/post/308162/) и  [два](https://habrahabr.ru/company/ods/blog/323210/))\n",
        "- можно попробовать изобразить исходные данные в некотором пространстве, например, Word2Vec, потом выделить главные компоненты или t-SNE  (только пользуйтесь эффективными реализациями типа [Multicore-TSNE](https://github.com/DmitryUlyanov/Multicore-TSNE), не Sklearn) и раскрасить по целевому классу. Но нет гарантий, что получится что-то значимо отличающееся от каши\n",
        "\n",
        "На следующей неделе мы наконец приступим к обучению моделей классификации. "
      ]
    }
  ]
}