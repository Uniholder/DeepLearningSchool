{
  "nbformat": 4,
  "nbformat_minor": 0,
  "metadata": {
    "colab": {
      "name": "SoftRas expl.ipynb",
      "provenance": []
    },
    "kernelspec": {
      "name": "python3",
      "display_name": "Python 3"
    },
    "accelerator": "GPU"
  },
  "cells": [
    {
      "cell_type": "markdown",
      "metadata": {
        "id": "JaXcEbV_G9mY"
      },
      "source": [
        "Установить SoftRas на Colab не предоставляется возможным. Цель данного упражнения - поиграться с параметрами дифференциального рендеринга (сигма и гамма). Результат\n",
        "\n",
        "<img src=\"https://hsto.org/webt/rk/sl/jq/rksljq08_ua0vxcc2dfuccrtpty.gif\">"
      ]
    },
    {
      "cell_type": "markdown",
      "metadata": {
        "id": "R8PUyFpskFaM"
      },
      "source": [
        "Настройка окружения для работы с библиотекой SoftRas"
      ]
    },
    {
      "cell_type": "code",
      "metadata": {
        "id": "OW57jVy4dI5k"
      },
      "source": [
        "!wget -O ./miniconda.sh https://repo.anaconda.com/miniconda/Miniconda3-py37_4.8.3-Linux-x86_64.sh && bash ./miniconda.sh -bfp /usr/local\n",
        "!conda install -y pytorch==1.1.0 torchvision==0.3.0 cudatoolkit=10.0 -c pytorch\n",
        "!git clone https://github.com/ShichenLiu/SoftRas.git\n",
        "!cd SoftRas && conda run -n base python setup.py install\n",
        "!conda install -y ipykernel"
      ],
      "execution_count": null,
      "outputs": []
    },
    {
      "cell_type": "markdown",
      "metadata": {
        "id": "dfRJkCuVkMp9"
      },
      "source": [
        "Для того чтобы работать с данной библиотекой в Colab, нужно записать команды которые вы хотите выполнить в .py файл, а после"
      ]
    },
    {
      "cell_type": "code",
      "metadata": {
        "id": "ZQ4A51cateMS",
        "colab": {
          "base_uri": "https://localhost:8080/",
          "height": 34
        },
        "outputId": "060e1d61-de97-46b9-a513-cbc9c36a75e5"
      },
      "source": [
        "%%writefile test_render.py\n",
        "import soft_renderer as sr"
      ],
      "execution_count": null,
      "outputs": [
        {
          "output_type": "stream",
          "text": [
            "Writing test_render.py\n"
          ],
          "name": "stdout"
        }
      ]
    },
    {
      "cell_type": "code",
      "metadata": {
        "id": "21eXr9TujcUN"
      },
      "source": [
        "!conda run -n base python test_render.py"
      ],
      "execution_count": null,
      "outputs": []
    },
    {
      "cell_type": "markdown",
      "metadata": {
        "id": "H7xpsxlLlc4D"
      },
      "source": [
        "Выполним тестовый пример рендеринга из библиотеки SoftRas. Результаты будут сохранены в дирректории `./SoftRas/data/results`."
      ]
    },
    {
      "cell_type": "code",
      "metadata": {
        "id": "K8F62bMCwaSO"
      },
      "source": [
        "!cd SoftRas/examples/ && conda run -n base python demo_render.py"
      ],
      "execution_count": null,
      "outputs": []
    }
  ]
}