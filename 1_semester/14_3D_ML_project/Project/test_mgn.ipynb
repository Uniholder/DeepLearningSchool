{
 "cells": [
  {
   "cell_type": "code",
   "execution_count": 2,
   "id": "aa7cd3e3",
   "metadata": {},
   "outputs": [],
   "source": [
    "import os\n",
    "from os.path import exists, join, split\n",
    "from glob import glob\n",
    "import numpy as np\n",
    "import _pickle as pkl\n",
    "from psbody.mesh import Mesh, MeshViewer, MeshViewers\n",
    "\n",
    "from MultiGarmentNetwork.utils.smpl_paths import SmplPaths\n",
    "from MultiGarmentNetwork.lib.ch_smpl import Smpl\n",
    "from MultiGarmentNetwork.dress_SMPL import load_smpl_from_file, pose_garment\n",
    "from MultiGarmentNetwork.utils.interpenetration_ind import remove_interpenetration_fast\n",
    "\n",
    "from IPython.display import Image"
   ]
  },
  {
   "cell_type": "code",
   "execution_count": 3,
   "id": "5c919c1b",
   "metadata": {},
   "outputs": [],
   "source": [
    "path = '../Multi-Garment_dataset/'\n",
    "# all_scans = glob(path + '*')\n",
    "garment_classes = ['Pants', 'ShortPants', 'ShirtNoCoat', 'TShirtNoCoat', 'LongCoat']\n",
    "gar_dict = {}\n",
    "\n",
    "for gar in garment_classes:\n",
    "    gar_dict[gar] = glob(join(path, '*', gar + '.obj'))"
   ]
  },
  {
   "cell_type": "code",
   "execution_count": 4,
   "id": "336afe8c",
   "metadata": {},
   "outputs": [],
   "source": [
    "# dp = SmplPaths()\n",
    "# vt, ft = dp.get_vt_ft_hres()\n",
    "# smpl = Smpl(dp.get_hres_smpl_model_data())"
   ]
  },
  {
   "cell_type": "code",
   "execution_count": 5,
   "id": "a4a908e9",
   "metadata": {},
   "outputs": [],
   "source": [
    "## This file contains correspondances between garment vertices and smpl body\n",
    "fts_file = 'MultiGarmentNetwork/assets/garment_fts.pkl'\n",
    "vert_indices, fts = pkl.load(open(fts_file, 'rb') , encoding='latin1')\n",
    "# fts['naked'] = ft"
   ]
  },
  {
   "cell_type": "code",
   "execution_count": 6,
   "id": "3c7b41eb",
   "metadata": {},
   "outputs": [],
   "source": [
    "## Choose any garment type\n",
    "garment_type = 'Pants'\n",
    "index = np.random.randint(0, len(gar_dict[garment_type]))   ## Randomly pick from the digital wardrobe"
   ]
  },
  {
   "cell_type": "code",
   "execution_count": 7,
   "id": "0bea52d4",
   "metadata": {},
   "outputs": [],
   "source": [
    "with_tex = True\n",
    "garment_path = gar_dict[garment_type][index]"
   ]
  },
  {
   "cell_type": "code",
   "execution_count": 8,
   "id": "b8355580",
   "metadata": {},
   "outputs": [
    {
     "data": {
      "text/plain": [
       "'../Multi-Garment_dataset/125611521914479/Pants.obj'"
      ]
     },
     "execution_count": 8,
     "metadata": {},
     "output_type": "execute_result"
    }
   ],
   "source": [
    "garment_path"
   ]
  },
  {
   "cell_type": "code",
   "execution_count": 19,
   "id": "ffaf4b18",
   "metadata": {},
   "outputs": [],
   "source": [
    "## Load SMPL body for the garment\n",
    "path = split(garment_path)[0]\n",
    "garment_org_body = load_smpl_from_file(join(path, 'registration.pkl'))\n",
    "garment_org_body = Mesh(garment_org_body.v, garment_org_body.f)"
   ]
  },
  {
   "cell_type": "code",
   "execution_count": 16,
   "id": "06486ca2",
   "metadata": {},
   "outputs": [],
   "source": [
    "## Load unposed garment\n",
    "garment_unposed = Mesh(filename=garment_path)\n",
    "garment_unposed.set_texture_image(join(path, 'multi_tex.jpg'))"
   ]
  },
  {
   "cell_type": "code",
   "execution_count": 17,
   "id": "ac0c4a5a",
   "metadata": {},
   "outputs": [],
   "source": [
    "## Pose garments\n",
    "dat = pkl.load(open(join(path, 'registration.pkl'), 'rb') , encoding='latin1')\n",
    "dat['gender'] = 'neutral'\n",
    "garment_posed = pose_garment(garment_unposed, vert_indices[garment_type], dat)\n",
    "garment_posed = remove_interpenetration_fast(garment_posed, garment_org_body)"
   ]
  },
  {
   "cell_type": "code",
   "execution_count": 18,
   "id": "13cb9ec6",
   "metadata": {},
   "outputs": [
    {
     "data": {
      "text/plain": [
       "<psbody.mesh.mesh.Mesh at 0x7fb25ea31b80>"
      ]
     },
     "execution_count": 18,
     "metadata": {},
     "output_type": "execute_result"
    }
   ],
   "source": [
    "garment_posed"
   ]
  },
  {
   "cell_type": "code",
   "execution_count": 13,
   "id": "6def07a2",
   "metadata": {},
   "outputs": [],
   "source": [
    "if with_tex:\n",
    "    garment_posed.vt = garment_unposed.vt\n",
    "    garment_posed.ft = garment_unposed.ft\n",
    "    garment_posed.set_texture_image(join(path, 'multi_tex.jpg'))"
   ]
  },
  {
   "cell_type": "code",
   "execution_count": 20,
   "id": "0ceb0183",
   "metadata": {
    "scrolled": true
   },
   "outputs": [
    {
     "data": {
      "text/plain": [
       "<psbody.mesh.meshviewer.Dummy at 0x7fa89e851be0>"
      ]
     },
     "execution_count": 20,
     "metadata": {},
     "output_type": "execute_result"
    }
   ],
   "source": [
    "mvs = MeshViewers((1, 3), keepalive=True)\n",
    "\n",
    "mvs[0][2].set_background_color(np.array([1,1,1]))\n",
    "mvs[0][1].set_background_color(np.array([1,1,1]))\n",
    "mvs[0][0].set_background_color(np.array([1,1,1]))"
   ]
  },
  {
   "cell_type": "code",
   "execution_count": 21,
   "id": "6b0cb7b0",
   "metadata": {},
   "outputs": [
    {
     "data": {
      "text/plain": [
       "<psbody.mesh.meshviewer.Dummy at 0x7fa89e851af0>"
      ]
     },
     "execution_count": 21,
     "metadata": {},
     "output_type": "execute_result"
    }
   ],
   "source": [
    "mvs"
   ]
  },
  {
   "cell_type": "code",
   "execution_count": 22,
   "id": "d28cea0d",
   "metadata": {},
   "outputs": [
    {
     "data": {
      "text/plain": [
       "<psbody.mesh.meshviewer.Dummy at 0x7fa89dd32790>"
      ]
     },
     "execution_count": 22,
     "metadata": {},
     "output_type": "execute_result"
    }
   ],
   "source": [
    "mvs[0][1].set_static_meshes([garment_org_body])\n",
    "mvs[0][1].save_snapshot('garment_org_body.png', blocking=True)"
   ]
  },
  {
   "cell_type": "code",
   "execution_count": 23,
   "id": "74d86266",
   "metadata": {},
   "outputs": [
    {
     "data": {
      "text/plain": [
       "<psbody.mesh.meshviewer.Dummy at 0x7fa89dd320a0>"
      ]
     },
     "execution_count": 23,
     "metadata": {},
     "output_type": "execute_result"
    }
   ],
   "source": [
    "mvs[0][2].set_static_meshes([garment_org_body, garment_posed])\n",
    "mvs[0][2].save_snapshot('garment_org_body_garment_posed.png', blocking=True)"
   ]
  },
  {
   "cell_type": "code",
   "execution_count": 24,
   "id": "732abd93",
   "metadata": {},
   "outputs": [
    {
     "data": {
      "text/plain": [
       "<psbody.mesh.meshviewer.Dummy at 0x7fa8f06ccf10>"
      ]
     },
     "execution_count": 24,
     "metadata": {},
     "output_type": "execute_result"
    }
   ],
   "source": [
    "mvs[0][0].set_static_meshes([garment_unposed])\n",
    "mvs[0][0].save_snapshot('garment_unposed.png', blocking=True)"
   ]
  },
  {
   "cell_type": "code",
   "execution_count": 46,
   "id": "3f581b19",
   "metadata": {},
   "outputs": [],
   "source": [
    "# Image('garment_org_body.png')"
   ]
  },
  {
   "cell_type": "code",
   "execution_count": null,
   "id": "60012b53",
   "metadata": {},
   "outputs": [],
   "source": []
  }
 ],
 "metadata": {
  "kernelspec": {
   "display_name": "Python 3",
   "language": "python",
   "name": "python3"
  },
  "language_info": {
   "codemirror_mode": {
    "name": "ipython",
    "version": 3
   },
   "file_extension": ".py",
   "mimetype": "text/x-python",
   "name": "python",
   "nbconvert_exporter": "python",
   "pygments_lexer": "ipython3",
   "version": "3.8.10"
  }
 },
 "nbformat": 4,
 "nbformat_minor": 5
}
