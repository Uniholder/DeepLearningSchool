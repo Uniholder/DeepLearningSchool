{
 "cells": [
  {
   "cell_type": "code",
   "execution_count": 5,
   "id": "a9590645",
   "metadata": {},
   "outputs": [],
   "source": [
    "from PIL import Image\n",
    "import os\n",
    "from tqdm.notebook import tqdm"
   ]
  },
  {
   "cell_type": "code",
   "execution_count": 22,
   "id": "3f271932",
   "metadata": {},
   "outputs": [],
   "source": [
    "PATH_OLD = '../data/faces_dataset_small/faces/'\n",
    "PATH_NEW = '../data/faces_dataset_small_jpg_512/faces/'\n",
    "SIZE = 512"
   ]
  },
  {
   "cell_type": "code",
   "execution_count": 16,
   "id": "0b4e8724",
   "metadata": {},
   "outputs": [
    {
     "data": {
      "application/vnd.jupyter.widget-view+json": {
       "model_id": "62b78c1b66dd40ffb9bf9a551bdb58da",
       "version_major": 2,
       "version_minor": 0
      },
      "text/plain": [
       "  0%|          | 0/3143 [00:00<?, ?it/s]"
      ]
     },
     "metadata": {},
     "output_type": "display_data"
    }
   ],
   "source": [
    "# size x size jpg\n",
    "for filename in tqdm(os.listdir(PATH)):\n",
    "    filename_w_e = os.path.splitext(filename)[0]\n",
    "    image = Image.open(os.path.join(PATH_OLD, filename))\n",
    "    resized_image_jpg = image.resize((SIZE, SIZE)).convert('RGB')\n",
    "    resized_image_jpg.save(os.path.join(PATH_NEW, filename_w_e + '.jpg'))"
   ]
  },
  {
   "cell_type": "code",
   "execution_count": 19,
   "id": "ab18edda",
   "metadata": {},
   "outputs": [
    {
     "data": {
      "application/vnd.jupyter.widget-view+json": {
       "model_id": "33432447ad544bf4a9d95a040cfe7968",
       "version_major": 2,
       "version_minor": 0
      },
      "text/plain": [
       "  0%|          | 0/3143 [00:00<?, ?it/s]"
      ]
     },
     "metadata": {},
     "output_type": "display_data"
    }
   ],
   "source": [
    "# size x size png\n",
    "for filename in tqdm(os.listdir(PATH)):\n",
    "    image = Image.open(os.path.join(PATH_OLD, filename))\n",
    "    resized_image_jpg = image.resize((SIZE, SIZE))\n",
    "    resized_image_jpg.save(os.path.join(PATH_NEW, filename))"
   ]
  },
  {
   "cell_type": "code",
   "execution_count": 23,
   "id": "c1c8390f",
   "metadata": {},
   "outputs": [
    {
     "data": {
      "application/vnd.jupyter.widget-view+json": {
       "model_id": "e00407d0a9af437e976b598a5fb21f16",
       "version_major": 2,
       "version_minor": 0
      },
      "text/plain": [
       "  0%|          | 0/3143 [00:00<?, ?it/s]"
      ]
     },
     "metadata": {},
     "output_type": "display_data"
    }
   ],
   "source": [
    "# size x size jpg\n",
    "for filename in tqdm(os.listdir(PATH)):\n",
    "    filename_w_e = os.path.splitext(filename)[0]\n",
    "    image = Image.open(os.path.join(PATH_OLD, filename))\n",
    "    resized_image_jpg = image.resize((SIZE, SIZE)).convert('RGB')\n",
    "    resized_image_jpg.save(os.path.join(PATH_NEW, filename_w_e + '.jpg'))"
   ]
  }
 ],
 "metadata": {
  "kernelspec": {
   "display_name": "Python 3",
   "language": "python",
   "name": "python3"
  },
  "language_info": {
   "codemirror_mode": {
    "name": "ipython",
    "version": 3
   },
   "file_extension": ".py",
   "mimetype": "text/x-python",
   "name": "python",
   "nbconvert_exporter": "python",
   "pygments_lexer": "ipython3",
   "version": "3.8.8"
  }
 },
 "nbformat": 4,
 "nbformat_minor": 5
}
