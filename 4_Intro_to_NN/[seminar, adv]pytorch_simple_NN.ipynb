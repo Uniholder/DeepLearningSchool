{
 "cells": [
  {
   "cell_type": "markdown",
   "metadata": {
    "id": "sSyQnExiOOcf"
   },
   "source": [
    "<p style=\"align: center;\"><img align=center src=\"https://s8.hostingkartinok.com/uploads/images/2018/08/308b49fcfbc619d629fe4604bceb67ac.jpg\" width=500 height=450/></p>\n",
    "\n",
    "<h3 style=\"text-align: center;\"><b>\"Глубокое обучение\". Продвинутый поток</b></h3>\n",
    "\n",
    "<h2 style=\"text-align: center;\"><b>Семинар 6. PyTorch. Создание и обучение нейронных сетей </b></h2>\n"
   ]
  },
  {
   "cell_type": "markdown",
   "metadata": {
    "id": "D4GdBvkZOp8M"
   },
   "source": [
    "# Neural networks training using PyTorch\n",
    "\n",
    "In this notebook we build and train simple neural network using PyTorch. Our goal is to show the basics of torch framework and achieve simple understandings of how problemsolving with neural networks looks like."
   ]
  },
  {
   "cell_type": "code",
   "execution_count": 1,
   "metadata": {
    "id": "x4kC-U8dOpZU"
   },
   "outputs": [],
   "source": [
    "import torch"
   ]
  },
  {
   "cell_type": "code",
   "execution_count": 2,
   "metadata": {
    "colab": {
     "base_uri": "https://localhost:8080/"
    },
    "id": "DiMnj_xTWFW3",
    "outputId": "2f2591b7-c22e-4a8a-ce03-3313b9955774"
   },
   "outputs": [
    {
     "data": {
      "text/plain": [
       "device(type='cuda', index=0)"
      ]
     },
     "execution_count": 2,
     "metadata": {},
     "output_type": "execute_result"
    }
   ],
   "source": [
    "device = torch.device('cuda:0') if torch.cuda.is_available else torch.device('cpu')\n",
    "device"
   ]
  },
  {
   "cell_type": "markdown",
   "metadata": {
    "id": "t4BjZJQ2PdGw"
   },
   "source": [
    "## Dataset Preparation\n",
    "\n",
    "Here we learn some basic data preparation functions and classes from PyTorch as:\n",
    "\n",
    "- `torch.utils.data.Dataset` and `torch.utils.data.DataLoader`\n",
    "- dataset downloading api\n",
    "\n",
    "First we would like to define our problem. Here we load the MNIST dataset (with PyTorch API)\n",
    "\n",
    "MNIST:\n",
    "- 28x28 images of `0`, `1`, .. `9`\n",
    "- each pixel is grayscaled (float value in [0, 1))\n",
    "- targets are int values in [0, 9] (10 classes)\n",
    "- objects are ($x_i$, $y_i$), where $x_i$ shape is (1, 28, 28), $y_i$ is int value\n",
    "\n",
    "For our purposes we will flatten the input ($x$), so our data during train will have shapes:\n",
    "\n",
    "- `x_batch` shape `(batch_size, 784)`\n",
    "- `y_batch` shape `(batch_size)`\n",
    "\n"
   ]
  },
  {
   "cell_type": "code",
   "execution_count": 3,
   "metadata": {
    "id": "4-L2wfz7Pczm"
   },
   "outputs": [],
   "source": [
    "from torchvision.datasets import MNIST\n",
    "import torchvision.transforms as tfs"
   ]
  },
  {
   "cell_type": "code",
   "execution_count": 4,
   "metadata": {
    "id": "67geRKgxUKcV"
   },
   "outputs": [],
   "source": [
    "data_tfs = tfs.Compose([\n",
    "  tfs.ToTensor(),\n",
    "  tfs.Normalize((0.5), (0.5))\n",
    "])"
   ]
  },
  {
   "cell_type": "code",
   "execution_count": 5,
   "metadata": {
    "colab": {
     "base_uri": "https://localhost:8080/"
    },
    "id": "g6a9Qwrqrh5y",
    "outputId": "425ec4dd-f237-49b8-8d7f-e883f6ea082c"
   },
   "outputs": [
    {
     "data": {
      "text/plain": [
       "('MNIST.tar.gz', <http.client.HTTPMessage at 0x27a20f9e448>)"
      ]
     },
     "execution_count": 5,
     "metadata": {},
     "output_type": "execute_result"
    }
   ],
   "source": [
    "# workaround for 503 for windows\n",
    "import urllib.request\n",
    "url = 'http://www.di.ens.fr/~lelarge/MNIST.tar.gz'\n",
    "filename = 'MNIST.tar.gz'\n",
    "urllib.request.urlretrieve(url, filename)"
   ]
  },
  {
   "cell_type": "code",
   "execution_count": 6,
   "metadata": {
    "colab": {
     "base_uri": "https://localhost:8080/"
    },
    "id": "ZQqVN2JTuPSq",
    "outputId": "ba22826f-8f94-46fc-9285-7300f5063fdf"
   },
   "outputs": [
    {
     "name": "stderr",
     "output_type": "stream",
     "text": [
      "'wget' is not recognized as an internal or external command,\n",
      "operable program or batch file.\n",
      "x MNIST/\n",
      "x MNIST/raw/\n",
      "x MNIST/raw/train-labels-idx1-ubyte\n",
      "x MNIST/raw/t10k-labels-idx1-ubyte.gz\n",
      "x MNIST/raw/t10k-labels-idx1-ubyte\n",
      "x MNIST/raw/t10k-images-idx3-ubyte.gz\n",
      "x MNIST/raw/train-images-idx3-ubyte\n",
      "x MNIST/raw/train-labels-idx1-ubyte.gz\n",
      "x MNIST/raw/t10k-images-idx3-ubyte\n",
      "x MNIST/raw/train-images-idx3-ubyte.gz\n",
      "x MNIST/processed/\n",
      "x MNIST/processed/training.pt\n",
      "x MNIST/processed/test.pt\n"
     ]
    }
   ],
   "source": [
    "# workaround for linux\n",
    "!wget www.di.ens.fr/~lelarge/MNIST.tar.gz\n",
    "!tar -zxvf MNIST.tar.gz"
   ]
  },
  {
   "cell_type": "code",
   "execution_count": 7,
   "metadata": {
    "id": "KrrlpkzbQxbl"
   },
   "outputs": [],
   "source": [
    "# install for train and test\n",
    "root = './'\n",
    "# train = MNIST(root, train=True,  transform=data_tfs, download=True) # download doesn't work: 503\n",
    "# test  = MNIST(root, train=False, transform=data_tfs, download=True) # download doesn't work: 503\n",
    "\n",
    "train = MNIST(root, train=True,  transform=data_tfs, download=False)\n",
    "test  = MNIST(root, train=False, transform=data_tfs, download=False)"
   ]
  },
  {
   "cell_type": "code",
   "execution_count": 8,
   "metadata": {
    "colab": {
     "base_uri": "https://localhost:8080/"
    },
    "id": "X4gMHMSBTdEm",
    "outputId": "d4edbc3a-7be7-442b-ef54-37468a4d28de"
   },
   "outputs": [
    {
     "name": "stdout",
     "output_type": "stream",
     "text": [
      "Data size:\n",
      "\t train 60000,\n",
      "\t test 10000\n",
      "Data shape:\n",
      "\t features torch.Size([1, 28, 28]),\n",
      "\t target <class 'int'>\n"
     ]
    }
   ],
   "source": [
    "print(f'Data size:\\n\\t train {len(train)},\\n\\t test {len(test)}')\n",
    "print(f'Data shape:\\n\\t features {train[0][0].shape},\\n\\t target {type(test[0][1])}')"
   ]
  },
  {
   "cell_type": "markdown",
   "metadata": {
    "id": "omdMTw-XTDz5"
   },
   "source": [
    "New thing we don't need to make batch loader by ourselves. Let us use the torch implementation of it called `DataLoader` from `torch.utils.data`"
   ]
  },
  {
   "cell_type": "code",
   "execution_count": 9,
   "metadata": {
    "id": "oTbQiE7DTDMG"
   },
   "outputs": [],
   "source": [
    "from torch.utils.data import DataLoader\n",
    "\n",
    "batch_size = 128\n",
    "\n",
    "train_loader = DataLoader(train, batch_size=batch_size, drop_last=True)\n",
    "test_loader = DataLoader(test, batch_size=batch_size, drop_last=True)"
   ]
  },
  {
   "cell_type": "code",
   "execution_count": 10,
   "metadata": {
    "colab": {
     "base_uri": "https://localhost:8080/"
    },
    "id": "MkQ86w8fXFXL",
    "outputId": "1f648e79-509c-430c-f2b2-aad9b0fb6937"
   },
   "outputs": [
    {
     "data": {
      "text/plain": [
       "(torch.Size([128, 1, 28, 28]), torch.Size([128]))"
      ]
     },
     "execution_count": 10,
     "metadata": {},
     "output_type": "execute_result"
    }
   ],
   "source": [
    "x_batch, y_batch = next(iter(train_loader))\n",
    "x_batch.shape, y_batch.shape"
   ]
  },
  {
   "cell_type": "code",
   "execution_count": 11,
   "metadata": {
    "colab": {
     "base_uri": "https://localhost:8080/"
    },
    "id": "QqLlBA-HBZED",
    "outputId": "b6799b96-e8d4-4ca6-999e-6be708a6681b"
   },
   "outputs": [
    {
     "data": {
      "text/plain": [
       "tensor([5, 0, 4, 1, 9, 2, 1, 3, 1, 4, 3, 5, 3, 6, 1, 7, 2, 8, 6, 9, 4, 0, 9, 1,\n",
       "        1, 2, 4, 3, 2, 7, 3, 8, 6, 9, 0, 5, 6, 0, 7, 6, 1, 8, 7, 9, 3, 9, 8, 5,\n",
       "        9, 3, 3, 0, 7, 4, 9, 8, 0, 9, 4, 1, 4, 4, 6, 0, 4, 5, 6, 1, 0, 0, 1, 7,\n",
       "        1, 6, 3, 0, 2, 1, 1, 7, 9, 0, 2, 6, 7, 8, 3, 9, 0, 4, 6, 7, 4, 6, 8, 0,\n",
       "        7, 8, 3, 1, 5, 7, 1, 7, 1, 1, 6, 3, 0, 2, 9, 3, 1, 1, 0, 4, 9, 2, 0, 0,\n",
       "        2, 0, 2, 7, 1, 8, 6, 4])"
      ]
     },
     "execution_count": 11,
     "metadata": {},
     "output_type": "execute_result"
    }
   ],
   "source": [
    "y_batch"
   ]
  },
  {
   "cell_type": "markdown",
   "metadata": {
    "id": "4brdJhe0XeKm"
   },
   "source": [
    "Finally we prepared our data, so let's build some model to classify the images!"
   ]
  },
  {
   "cell_type": "markdown",
   "metadata": {
    "id": "-niriIktOclz"
   },
   "source": [
    "## Model and Train (of abnormal people)\n",
    "\n",
    "We know how the torch computes the gradient functions during the computation of expression. Using `.backward()` method on expression **we pass the tree of gradient computing till the leafs** which are reliable for parameters of our model.\n",
    "\n",
    "Thus, we use this knowledge to find the optimal weights of some model, which is represented by some expression.\n",
    "\n",
    "Assume,\n",
    "1. We want to learn linear model\n",
    "2. For each class we use own weights to calculate logits\n",
    "3. We use softmax on logits for probabilities of each class\n",
    "4. Train on batches using sgd"
   ]
  },
  {
   "cell_type": "code",
   "execution_count": 12,
   "metadata": {
    "id": "ZwQ0rR_EZiGL"
   },
   "outputs": [],
   "source": [
    "features = 784\n",
    "classes = 10"
   ]
  },
  {
   "cell_type": "code",
   "execution_count": 13,
   "metadata": {
    "colab": {
     "base_uri": "https://localhost:8080/"
    },
    "id": "KZ-qXVG5mVq3",
    "outputId": "da54b37b-d1b5-4fac-d594-3ba6feb5d61c"
   },
   "outputs": [
    {
     "data": {
      "text/plain": [
       "tensor([[ 0.0037,  0.0204,  0.0357,  ..., -0.0133, -0.0126,  0.0076],\n",
       "        [ 0.0116,  0.0063, -0.0213,  ...,  0.0144,  0.0046, -0.0094],\n",
       "        [-0.0275, -0.0286,  0.0355,  ...,  0.0068,  0.0008, -0.0215],\n",
       "        ...,\n",
       "        [-0.0329,  0.0048, -0.0071,  ...,  0.0254,  0.0307, -0.0036],\n",
       "        [-0.0352, -0.0304,  0.0209,  ..., -0.0242, -0.0128,  0.0121],\n",
       "        [ 0.0090,  0.0207,  0.0191,  ...,  0.0041,  0.0078, -0.0302]],\n",
       "       requires_grad=True)"
      ]
     },
     "execution_count": 13,
     "metadata": {},
     "output_type": "execute_result"
    }
   ],
   "source": [
    "W = torch.FloatTensor(features, classes).uniform_(-1, 1) / features**0.5\n",
    "W.requires_grad_()"
   ]
  },
  {
   "cell_type": "markdown",
   "metadata": {
    "id": "PUVgNd-LaRhZ"
   },
   "source": [
    "SGD train loop"
   ]
  },
  {
   "cell_type": "code",
   "execution_count": 14,
   "metadata": {
    "id": "v6lQU1rgaWjY"
   },
   "outputs": [],
   "source": [
    "epochs = 3\n",
    "lr=1e-2\n",
    "history = []"
   ]
  },
  {
   "cell_type": "code",
   "execution_count": 15,
   "metadata": {
    "id": "QMBcROViilwY"
   },
   "outputs": [],
   "source": [
    "import numpy as np\n",
    "from torch.nn.functional import cross_entropy"
   ]
  },
  {
   "cell_type": "code",
   "execution_count": 16,
   "metadata": {
    "colab": {
     "base_uri": "https://localhost:8080/"
    },
    "id": "kKkfwxQhA32L",
    "outputId": "6bce10e6-d166-45fb-d9f4-fd682ebc7686"
   },
   "outputs": [
    {
     "ename": "NameError",
     "evalue": "name 'probabilities' is not defined",
     "output_type": "error",
     "traceback": [
      "\u001b[1;31m---------------------------------------------------------------------------\u001b[0m",
      "\u001b[1;31mNameError\u001b[0m                                 Traceback (most recent call last)",
      "\u001b[1;32m<ipython-input-16-d96f7f095ddc>\u001b[0m in \u001b[0;36m<module>\u001b[1;34m\u001b[0m\n\u001b[1;32m----> 1\u001b[1;33m \u001b[0mprobabilities\u001b[0m\u001b[1;33m[\u001b[0m\u001b[0mrange\u001b[0m\u001b[1;33m(\u001b[0m\u001b[1;36m128\u001b[0m\u001b[1;33m)\u001b[0m\u001b[1;33m]\u001b[0m\u001b[1;33m.\u001b[0m\u001b[0msize\u001b[0m\u001b[1;33m(\u001b[0m\u001b[1;33m)\u001b[0m\u001b[1;33m\u001b[0m\u001b[1;33m\u001b[0m\u001b[0m\n\u001b[0m",
      "\u001b[1;31mNameError\u001b[0m: name 'probabilities' is not defined"
     ]
    }
   ],
   "source": [
    "probabilities[range(128)].size()"
   ]
  },
  {
   "cell_type": "code",
   "execution_count": null,
   "metadata": {
    "colab": {
     "base_uri": "https://localhost:8080/"
    },
    "id": "cN9s_HMwCxFd",
    "outputId": "ba6bbf3c-c40f-4d34-97bf-a1da820e05d1"
   },
   "outputs": [],
   "source": [
    "probabilities[range(batch_size), y_batch]"
   ]
  },
  {
   "cell_type": "code",
   "execution_count": 29,
   "metadata": {},
   "outputs": [
    {
     "data": {
      "text/plain": [
       "tensor([9, 3, 3, 7, 4, 1, 9, 1, 0, 6, 0, 1, 2, 4, 5, 6, 7, 8, 9, 0, 1, 2, 3, 4,\n",
       "        5, 6, 7, 8, 9, 0, 1, 2, 3, 4, 5, 6, 7, 8, 9, 3, 2, 9, 3, 2, 1, 4, 5, 5,\n",
       "        2, 3, 2, 1, 3, 9, 7, 2, 1, 2, 8, 9, 1, 8, 8, 7, 0, 6, 7, 7, 8, 7, 5, 0,\n",
       "        6, 1, 5, 7, 4, 6, 1, 2, 7, 9, 9, 0, 3, 8, 4, 4, 1, 8, 6, 5, 0, 0, 3, 7,\n",
       "        1, 6, 4, 2, 6, 6, 0, 4, 5, 4, 1, 3, 8, 6, 3, 9, 9, 5, 9, 3, 6, 4, 7, 6,\n",
       "        2, 2, 0, 9, 4, 0, 1, 2], device='cuda:0')"
      ]
     },
     "execution_count": 29,
     "metadata": {},
     "output_type": "execute_result"
    }
   ],
   "source": [
    "y_batch"
   ]
  },
  {
   "cell_type": "code",
   "execution_count": 17,
   "metadata": {
    "colab": {
     "base_uri": "https://localhost:8080/",
     "height": 151,
     "referenced_widgets": [
      "a57d5afb1dbc44aabb9e648ea2c82928",
      "95ef05423eaf468aae41e434e0e0f2f2",
      "7a407d1a54ed49dab0cfc3b1c4ea1f18",
      "94c116b75e9d4f6dacd8e897f4d97993",
      "b04da34316664441a1bd8f530ad1d201",
      "280a84f279544cbb8ffa2095bd805c53",
      "c40a8338e1e54f0ca39f3f554e103056",
      "b3d9bc4ffec144449b9a051865fc78ee"
     ]
    },
    "id": "V1Cqa86BOWu1",
    "outputId": "bd482017-d953-4bbb-b752-1e156ca8d9de"
   },
   "outputs": [
    {
     "data": {
      "application/vnd.jupyter.widget-view+json": {
       "model_id": "e5a7fe16186d4672bebc6056a466f1e0",
       "version_major": 2,
       "version_minor": 0
      },
      "text/plain": [
       "  0%|          | 0/3 [00:00<?, ?it/s]"
      ]
     },
     "metadata": {},
     "output_type": "display_data"
    },
    {
     "name": "stdout",
     "output_type": "stream",
     "text": [
      "1,\t loss: 0.19628578424453735\n",
      "2,\t loss: 0.14026837050914764\n",
      "3,\t loss: 0.12005198001861572\n",
      "Wall time: 24.3 s\n"
     ]
    }
   ],
   "source": [
    "%%time\n",
    "from tqdm.notebook import tqdm\n",
    "for i in tqdm(range(epochs)):\n",
    "    for x_batch, y_batch in train_loader:\n",
    "        # load batches of data correctly\n",
    "        x_batch = x_batch.reshape(x_batch.shape[0], -1)\n",
    "\n",
    "        # compute loss (log loss a.k.a. cross entropy)\n",
    "        logits = x_batch @ W\n",
    "        probabilities = torch.exp(logits) / torch.exp(logits).sum(dim=1, keepdims=True)\n",
    "\n",
    "        loss = -torch.log(probabilities[range(batch_size), y_batch]).mean()\n",
    "        history.append(loss.item())\n",
    "\n",
    "        # calc gradients\n",
    "        loss.backward()\n",
    "\n",
    "        # step of gradient descent\n",
    "        grad = W.grad\n",
    "        with torch.no_grad():\n",
    "            W -= lr * grad\n",
    "        W.grad.zero_()\n",
    "\n",
    "    print(f'{i+1},\\t loss: {history[-1]}')"
   ]
  },
  {
   "cell_type": "markdown",
   "metadata": {
    "id": "a4_T6SIEevn6"
   },
   "source": [
    "And of course we should plot the loss through our training"
   ]
  },
  {
   "cell_type": "code",
   "execution_count": 18,
   "metadata": {
    "id": "K-pkgEBtfyIU"
   },
   "outputs": [],
   "source": [
    "import matplotlib.pyplot as plt"
   ]
  },
  {
   "cell_type": "code",
   "execution_count": 19,
   "metadata": {
    "colab": {
     "base_uri": "https://localhost:8080/",
     "height": 458
    },
    "id": "ISFcr5Pab8tZ",
    "outputId": "62bdf7f3-ea5d-4ae1-e374-50c94ceaf18e"
   },
   "outputs": [
    {
     "data": {
      "image/png": "[encoded data removed]",
      "text/plain": [
       "<Figure size 720x504 with 1 Axes>"
      ]
     },
     "metadata": {
      "needs_background": "light"
     },
     "output_type": "display_data"
    }
   ],
   "source": [
    "plt.figure(figsize=(10, 7))\n",
    "\n",
    "plt.plot(history)\n",
    "\n",
    "plt.title('Loss by batch iterations')\n",
    "plt.ylabel('Entropy Loss')\n",
    "plt.xlabel('batches')\n",
    "\n",
    "plt.show()"
   ]
  },
  {
   "cell_type": "markdown",
   "metadata": {
    "id": "zDAEdkQsovxN"
   },
   "source": [
    "Some quality metrics for our linear model"
   ]
  },
  {
   "cell_type": "code",
   "execution_count": 20,
   "metadata": {
    "id": "PNtRCtcJfktA"
   },
   "outputs": [],
   "source": [
    "from sklearn.metrics import accuracy_score"
   ]
  },
  {
   "cell_type": "code",
   "execution_count": 21,
   "metadata": {
    "colab": {
     "base_uri": "https://localhost:8080/"
    },
    "id": "GwR-p1UXo-PT",
    "outputId": "6b55cd3a-915a-4ee0-d2ba-5e079eaefac6"
   },
   "outputs": [
    {
     "name": "stdout",
     "output_type": "stream",
     "text": [
      "Test accuracy 0.901\n"
     ]
    }
   ],
   "source": [
    "acc = 0\n",
    "batches = 0\n",
    "\n",
    "for x_batch, y_batch in test_loader:\n",
    "    # load batches of data correctly\n",
    "    batches += 1\n",
    "    x_batch = x_batch.view(x_batch.shape[0], -1)\n",
    "    y_batch = y_batch\n",
    "\n",
    "    preds = torch.argmax(x_batch @ W, dim=1)\n",
    "    acc += (preds==y_batch).cpu().numpy().mean()\n",
    "\n",
    "print(f'Test accuracy {acc / batches:.3}')"
   ]
  },
  {
   "cell_type": "markdown",
   "metadata": {
    "id": "Dmr2DLSxqGQx"
   },
   "source": [
    "Result, we now see that every variable or tensor is provided with its own `grad` and `grad_fn`. This part showed we can directly manipulate with them. Also it is very inconvinient, but sometimes we should be able to access such flexibility.\n",
    "\n",
    "Of course PyTorch has higher level of operations between weights and grads, than we saw above. Next part introduces high level of modeling and training neural networks. \n"
   ]
  },
  {
   "cell_type": "markdown",
   "metadata": {
    "id": "wgsY-55IrCGQ"
   },
   "source": [
    "## Model\n",
    "\n",
    "PyTorch is flexible framework to build any kind of neural network\n",
    "\n",
    "Here is a table of comparison:\n",
    "\n",
    "```\n",
    "| API             | Flexibility | Convenience |\n",
    "|-----------------|-------------|-------------|\n",
    "| Barebone        | High        | Low         |\n",
    "| `nn.Module`     | High        | Medium      |\n",
    "| `nn.Sequential` | Low         | High        |\n",
    "```"
   ]
  },
  {
   "cell_type": "markdown",
   "metadata": {
    "id": "v5JkAMkRr7Z9"
   },
   "source": [
    "1. barebone is the approach where we directly manipulate with ternsors. In the example above we had the objective function directly expressed by weights. If we develop this method into classes we would get this level of API. **On this level we code modules by ourselves**\n",
    "\n",
    "2. [`nn.Module`](https://pytorch.org/docs/stable/nn.html) is the parent class for many PyTorch introduced modules. There are plenty of them. They are pretty enough to use them out-of-the-box with required parameters. Mostly we use:\n",
    "\n",
    "- `nn.Linear`\n",
    "- `nn.Softmax`, `nn.LogSoftmax`\n",
    "- `nn.ReLU`, `nn.ELU`, `nn.LeakyReLU`\n",
    "- `nn.Tanh`, `nn.Sigmoid`\n",
    "- `nn.LSTM`, `nn.GRU`\n",
    "- `nn.Conv1d`, `nn.Conv2d`\n",
    "- `nn.MaxPool1d`, `nn.AdaptiveMaxPool1d` and others pooling\n",
    "- `nn.BatchNorm1d`, `nn.BatchNorm2d`\n",
    "- `nn.Dropout`\n",
    "- losses: `nn.CrossEntropyLoss`, `nn.NLLLoss`, `nn.MSELoss`\n",
    "- etc\n",
    "\n",
    "3. `nn.Sequential` is no more than sequence of different modules based on `nn.Module`. They are initiatiated by a list of modules, where output from one module goes as input for next in sequence.\n",
    "\n",
    "\n",
    "Let's **develop a simple sequential** to classify MNIST using **two linear layers** model."
   ]
  },
  {
   "cell_type": "code",
   "execution_count": 22,
   "metadata": {
    "id": "V4d3LntkwSyk"
   },
   "outputs": [],
   "source": [
    "import torch.nn as nn\n",
    "from torchsummary import summary"
   ]
  },
  {
   "cell_type": "code",
   "execution_count": 23,
   "metadata": {
    "colab": {
     "base_uri": "https://localhost:8080/"
    },
    "id": "1EAghRDFwcCM",
    "outputId": "dbfbfe86-0696-46cb-ece5-ddb78c66c18d"
   },
   "outputs": [
    {
     "data": {
      "text/plain": [
       "Sequential(\n",
       "  (0): Linear(in_features=784, out_features=64, bias=True)\n",
       "  (1): ReLU()\n",
       "  (2): Linear(in_features=64, out_features=10, bias=True)\n",
       ")"
      ]
     },
     "execution_count": 23,
     "metadata": {},
     "output_type": "execute_result"
    }
   ],
   "source": [
    "model = nn.Sequential(\n",
    "  nn.Linear(features, 64),\n",
    "  nn.ReLU(),\n",
    "  nn.Linear(64, classes)\n",
    ")\n",
    "\n",
    "# It is the same as:\n",
    "#\n",
    "# model = nn.Sequential()\n",
    "# model.add_module('0', nn.Linear(features, 64))\n",
    "# model.add_module('1', nn.Linear(64, classes))\n",
    "\n",
    "model.to(device)"
   ]
  },
  {
   "cell_type": "markdown",
   "metadata": {
    "id": "jb4dP98KxQI8"
   },
   "source": [
    "We can check if everything is fine with hidden layers by `torchsummary.summary`. It needs the shape of input data to produce visualisation of model"
   ]
  },
  {
   "cell_type": "code",
   "execution_count": 30,
   "metadata": {
    "colab": {
     "base_uri": "https://localhost:8080/"
    },
    "id": "BiZ3fQBnxNvh",
    "outputId": "9d4fc354-14cd-4311-f8b6-bec7d44fbebf"
   },
   "outputs": [
    {
     "name": "stdout",
     "output_type": "stream",
     "text": [
      "==========================================================================================\n",
      "Layer (type:depth-idx)                   Output Shape              Param #\n",
      "==========================================================================================\n",
      "├─Linear: 1-1                            [-1, 64]                  50,240\n",
      "├─ReLU: 1-2                              [-1, 64]                  --\n",
      "├─Linear: 1-3                            [-1, 10]                  650\n",
      "==========================================================================================\n",
      "Total params: 50,890\n",
      "Trainable params: 50,890\n",
      "Non-trainable params: 0\n",
      "Total mult-adds (M): 0.05\n",
      "==========================================================================================\n",
      "Input size (MB): 0.00\n",
      "Forward/backward pass size (MB): 0.00\n",
      "Params size (MB): 0.19\n",
      "Estimated Total Size (MB): 0.20\n",
      "==========================================================================================\n"
     ]
    },
    {
     "data": {
      "text/plain": [
       "==========================================================================================\n",
       "Layer (type:depth-idx)                   Output Shape              Param #\n",
       "==========================================================================================\n",
       "├─Linear: 1-1                            [-1, 64]                  50,240\n",
       "├─ReLU: 1-2                              [-1, 64]                  --\n",
       "├─Linear: 1-3                            [-1, 10]                  650\n",
       "==========================================================================================\n",
       "Total params: 50,890\n",
       "Trainable params: 50,890\n",
       "Non-trainable params: 0\n",
       "Total mult-adds (M): 0.05\n",
       "==========================================================================================\n",
       "Input size (MB): 0.00\n",
       "Forward/backward pass size (MB): 0.00\n",
       "Params size (MB): 0.19\n",
       "Estimated Total Size (MB): 0.20\n",
       "=========================================================================================="
      ]
     },
     "execution_count": 30,
     "metadata": {},
     "output_type": "execute_result"
    }
   ],
   "source": [
    "summary(model, (features,))\n",
    "# batch_size=228"
   ]
  },
  {
   "cell_type": "markdown",
   "metadata": {
    "id": "nfjR9itOwPO5"
   },
   "source": [
    "## Train\n",
    "\n",
    "As we know, most important thing to do in solving problem are **3 things**:\n",
    "\n",
    "1. Model\n",
    "2. Objective (loss function)\n",
    "3. Optimizing (objective w.r.t. model parameters)\n",
    "\n",
    "Good, everything we must do when using PyTorch is **define these 3 things**:\n",
    "\n",
    "1. Model: from `nn.Module` API\n",
    "2. Loss: again, `nn.Module` or [`nn.functional`](https://pytorch.org/docs/stable/nn.functional.html) API\n",
    "3. Optimizer: based on [`torch.optim.Optimizer`](https://pytorch.org/docs/stable/optim.html)\n",
    "\n",
    "In the previous tasks when it came to optimize objective we used **direct solution or gradient descent optimizations**\n",
    "\n",
    "Of course, there are plenty upgrades of gradient descent. It can use **adaptive step value**, **previous step gradients** and others. PyTorch also provides some classes for gradient optimizations. They are initializing with parameters they should tune for better loss value and during descent they do the step in gradient-based descent method.\n",
    "\n",
    "Here is the most used optimizers, based on which descent algorithm is used:\n",
    "\n",
    "- `torch.optim.Adam` uses both second and first momentum of gradient, very popular for its speed of convergence, simplicity. [paper](https://arxiv.org/abs/1412.6980)\n",
    "\n",
    "- `torch.optim.SGD` - good-old stochastic gradient descent. Can be used with Nesterov momentum optimization\n",
    "\n",
    "- `torch.optim.Adagrad` - [paper](https://jmlr.org/papers/v12/duchi11a.html)\n",
    "\n",
    "- `torch.optim.RMSprop` - introduced in [slides](https://www.cs.toronto.edu/~tijmen/csc321/slides/lecture_slides_lec6.pdf)\n",
    "\n"
   ]
  },
  {
   "cell_type": "markdown",
   "metadata": {
    "id": "_joC4G5v3M1J"
   },
   "source": [
    "First define the last 2 things: criterion and optimizer"
   ]
  },
  {
   "cell_type": "code",
   "execution_count": 26,
   "metadata": {
    "id": "QrEObxR2r67C"
   },
   "outputs": [],
   "source": [
    "criterion = nn.CrossEntropyLoss()      # (logsoftmax + negative likelihood) in its core, applied to logits\n",
    "\n",
    "optimizer = torch.optim.Adam(model.parameters(), lr=1e-3, betas=(0.9, 0.99))"
   ]
  },
  {
   "cell_type": "markdown",
   "metadata": {
    "id": "PqXeZ4Gu4XuE"
   },
   "source": [
    "Finally, we are heading to **train loop**!\n",
    "\n",
    "Previously we iterated over epochs and batches (this is called train loop). So, let's do it here"
   ]
  },
  {
   "cell_type": "code",
   "execution_count": 27,
   "metadata": {
    "id": "k_meINtk45pO"
   },
   "outputs": [],
   "source": [
    "epochs = 3\n",
    "history = []"
   ]
  },
  {
   "cell_type": "code",
   "execution_count": 31,
   "metadata": {},
   "outputs": [
    {
     "data": {
      "text/plain": [
       "tensor([[-6.3509, -6.3452, -6.6759,  ...,  0.1938, -1.7405,  5.2187],\n",
       "        [-3.9390, -8.8548,  1.2753,  ..., -3.7644,  2.2558,  0.5723],\n",
       "        [-5.2778, -5.5117,  0.8953,  ..., -3.7345,  2.9952,  0.5794],\n",
       "        ...,\n",
       "        [ 9.5127, -7.6298, -3.5366,  ...,  0.4990, -4.7871, -4.6499],\n",
       "        [-9.7366,  5.4847, -0.7109,  ..., -3.1990,  0.7617, -4.3019],\n",
       "        [-5.4243, -3.3785,  8.1982,  ..., -9.3311,  1.4205, -6.4469]],\n",
       "       device='cuda:0', grad_fn=<AddmmBackward>)"
      ]
     },
     "execution_count": 31,
     "metadata": {},
     "output_type": "execute_result"
    }
   ],
   "source": [
    "logits"
   ]
  },
  {
   "cell_type": "code",
   "execution_count": 32,
   "metadata": {},
   "outputs": [
    {
     "data": {
      "text/plain": [
       "tensor([9, 3, 3, 7, 4, 1, 9, 1, 0, 6, 0, 1, 2, 4, 5, 6, 7, 8, 9, 0, 1, 2, 3, 4,\n",
       "        5, 6, 7, 8, 9, 0, 1, 2, 3, 4, 5, 6, 7, 8, 9, 3, 2, 9, 3, 2, 1, 4, 5, 5,\n",
       "        2, 3, 2, 1, 3, 9, 7, 2, 1, 2, 8, 9, 1, 8, 8, 7, 0, 6, 7, 7, 8, 7, 5, 0,\n",
       "        6, 1, 5, 7, 4, 6, 1, 2, 7, 9, 9, 0, 3, 8, 4, 4, 1, 8, 6, 5, 0, 0, 3, 7,\n",
       "        1, 6, 4, 2, 6, 6, 0, 4, 5, 4, 1, 3, 8, 6, 3, 9, 9, 5, 9, 3, 6, 4, 7, 6,\n",
       "        2, 2, 0, 9, 4, 0, 1, 2], device='cuda:0')"
      ]
     },
     "execution_count": 32,
     "metadata": {},
     "output_type": "execute_result"
    }
   ],
   "source": [
    "y_batch"
   ]
  },
  {
   "cell_type": "code",
   "execution_count": 28,
   "metadata": {
    "colab": {
     "base_uri": "https://localhost:8080/"
    },
    "id": "sc6CbL4p45pY",
    "outputId": "faa9408a-3631-4136-a01b-5724e2e40fed"
   },
   "outputs": [
    {
     "name": "stdout",
     "output_type": "stream",
     "text": [
      "1,\t loss: 0.08154094219207764\n",
      "2,\t loss: 0.06294267624616623\n",
      "3,\t loss: 0.05054087936878204\n"
     ]
    }
   ],
   "source": [
    "for i in range(epochs):\n",
    "    for x_batch, y_batch in train_loader:\n",
    "        # 1. load batches of data correctly\n",
    "        x_batch = x_batch.view(x_batch.shape[0], -1).to(device)\n",
    "        y_batch = y_batch.to(device)\n",
    "\n",
    "        # 2. compute scores with .forward or .__call__\n",
    "        logits = model(x_batch)\n",
    "\n",
    "        # 3. compute loss\n",
    "        loss = criterion(logits, y_batch)\n",
    "        history.append(loss.item())\n",
    "\n",
    "        # 4. calc gradients\n",
    "        optimizer.zero_grad()\n",
    "        loss.backward()\n",
    "\n",
    "        # 5. step of gradient descent\n",
    "        optimizer.step()\n",
    "\n",
    "    print(f'{i+1},\\t loss: {history[-1]}')"
   ]
  },
  {
   "cell_type": "markdown",
   "metadata": {
    "id": "0Jot--gp5xEy"
   },
   "source": [
    "Plot and accurracy just to check the correctness."
   ]
  },
  {
   "cell_type": "code",
   "execution_count": 53,
   "metadata": {
    "collapsed": true,
    "id": "IePLJ3uq5u6H"
   },
   "outputs": [],
   "source": [
    "import matplotlib.pyplot as plt"
   ]
  },
  {
   "cell_type": "code",
   "execution_count": 54,
   "metadata": {
    "colab": {
     "base_uri": "https://localhost:8080/",
     "height": 458
    },
    "id": "mq6vkP095u6L",
    "outputId": "462c275d-ede0-4c14-d30b-2de284362efc"
   },
   "outputs": [
    {
     "data": {
      "image/png": "[encoded data removed]",
      "text/plain": [
       "<Figure size 720x504 with 1 Axes>"
      ]
     },
     "metadata": {
      "needs_background": "light",
      "tags": []
     },
     "output_type": "display_data"
    }
   ],
   "source": [
    "plt.figure(figsize=(10, 7))\n",
    "\n",
    "plt.plot(history)\n",
    "\n",
    "plt.title('Loss by batch iterations')\n",
    "plt.ylabel('Entropy Loss')\n",
    "plt.xlabel('batches')\n",
    "\n",
    "plt.show()"
   ]
  },
  {
   "cell_type": "markdown",
   "metadata": {
    "id": "tekBJ55N5u6O"
   },
   "source": [
    "Some quality metrics for our two layer model"
   ]
  },
  {
   "cell_type": "code",
   "execution_count": 55,
   "metadata": {
    "collapsed": true,
    "id": "ZqoMcdz75u6O"
   },
   "outputs": [],
   "source": [
    "from sklearn.metrics import accuracy_score"
   ]
  },
  {
   "cell_type": "code",
   "execution_count": 56,
   "metadata": {
    "colab": {
     "base_uri": "https://localhost:8080/"
    },
    "id": "051KxUi_5u6Q",
    "outputId": "a488bfdd-403b-41f9-ca7f-dbade2d9a831"
   },
   "outputs": [
    {
     "name": "stdout",
     "output_type": "stream",
     "text": [
      "Test accuracy 0.937\n"
     ]
    }
   ],
   "source": [
    "acc = 0\n",
    "batches = 0\n",
    "\n",
    "for x_batch, y_batch in test_loader:\n",
    "    # load batch of data correctly\n",
    "    batches += 1\n",
    "    x_batch = x_batch.view(x_batch.shape[0], -1).to(device)\n",
    "    y_batch = y_batch.to(device)\n",
    "\n",
    "    preds = torch.argmax(model(x_batch), dim=1)\n",
    "    acc += (preds==y_batch).cpu().numpy().mean()\n",
    "\n",
    "print(f'Test accuracy {acc / batches:.3}')"
   ]
  },
  {
   "cell_type": "markdown",
   "metadata": {
    "id": "wh14WDiz6KKe"
   },
   "source": [
    "## Summary\n",
    "\n",
    "We have build and trained the most simple neural network. It has been done by defining:\n",
    "\n",
    "1. `model`\n",
    "2. `criterion`\n",
    "1. `optimizer`\n",
    "\n",
    "Remember the steps during train on batch:\n",
    "\n",
    "1. load batch\n",
    "2. do forward pass of model (get `scores`)\n",
    "3. calculate `loss` (using criterion over `scores` and true labels of batch)\n",
    "4. perform `loss.backward()` (compute gradients of loss w.r.t. parameters)\n",
    "5. do optimization step (`optimizer.step()`)\n",
    "* zero gradients (place it everywhere but not between 4 and 5)\n",
    "* validating (after each epoch)\n",
    "\n"
   ]
  }
 ],
 "metadata": {
  "accelerator": "GPU",
  "colab": {
   "collapsed_sections": [],
   "name": "[seminar, adv]pytorch_simple_NN.ipynb",
   "provenance": [],
   "toc_visible": true
  },
  "kernelspec": {
   "display_name": "Python 3",
   "language": "python",
   "name": "python3"
  },
  "language_info": {
   "codemirror_mode": {
    "name": "ipython",
    "version": 3
   },
   "file_extension": ".py",
   "mimetype": "text/x-python",
   "name": "python",
   "nbconvert_exporter": "python",
   "pygments_lexer": "ipython3",
   "version": "3.7.9"
  },
  "widgets": {
   "application/vnd.jupyter.widget-state+json": {
    "280a84f279544cbb8ffa2095bd805c53": {
     "model_module": "@jupyter-widgets/base",
     "model_name": "LayoutModel",
     "state": {
      "_model_module": "@jupyter-widgets/base",
      "_model_module_version": "1.2.0",
      "_model_name": "LayoutModel",
      "_view_count": null,
      "_view_module": "@jupyter-widgets/base",
      "_view_module_version": "1.2.0",
      "_view_name": "LayoutView",
      "align_content": null,
      "align_items": null,
      "align_self": null,
      "border": null,
      "bottom": null,
      "display": null,
      "flex": null,
      "flex_flow": null,
      "grid_area": null,
      "grid_auto_columns": null,
      "grid_auto_flow": null,
      "grid_auto_rows": null,
      "grid_column": null,
      "grid_gap": null,
      "grid_row": null,
      "grid_template_areas": null,
      "grid_template_columns": null,
      "grid_template_rows": null,
      "height": null,
      "justify_content": null,
      "justify_items": null,
      "left": null,
      "margin": null,
      "max_height": null,
      "max_width": null,
      "min_height": null,
      "min_width": null,
      "object_fit": null,
      "object_position": null,
      "order": null,
      "overflow": null,
      "overflow_x": null,
      "overflow_y": null,
      "padding": null,
      "right": null,
      "top": null,
      "visibility": null,
      "width": null
     }
    },
    "7a407d1a54ed49dab0cfc3b1c4ea1f18": {
     "model_module": "@jupyter-widgets/controls",
     "model_name": "FloatProgressModel",
     "state": {
      "_dom_classes": [],
      "_model_module": "@jupyter-widgets/controls",
      "_model_module_version": "1.5.0",
      "_model_name": "FloatProgressModel",
      "_view_count": null,
      "_view_module": "@jupyter-widgets/controls",
      "_view_module_version": "1.5.0",
      "_view_name": "ProgressView",
      "bar_style": "success",
      "description": "100%",
      "description_tooltip": null,
      "layout": "IPY_MODEL_280a84f279544cbb8ffa2095bd805c53",
      "max": 3,
      "min": 0,
      "orientation": "horizontal",
      "style": "IPY_MODEL_b04da34316664441a1bd8f530ad1d201",
      "value": 3
     }
    },
    "94c116b75e9d4f6dacd8e897f4d97993": {
     "model_module": "@jupyter-widgets/controls",
     "model_name": "HTMLModel",
     "state": {
      "_dom_classes": [],
      "_model_module": "@jupyter-widgets/controls",
      "_model_module_version": "1.5.0",
      "_model_name": "HTMLModel",
      "_view_count": null,
      "_view_module": "@jupyter-widgets/controls",
      "_view_module_version": "1.5.0",
      "_view_name": "HTMLView",
      "description": "",
      "description_tooltip": null,
      "layout": "IPY_MODEL_b3d9bc4ffec144449b9a051865fc78ee",
      "placeholder": "​",
      "style": "IPY_MODEL_c40a8338e1e54f0ca39f3f554e103056",
      "value": " 3/3 [04:04&lt;00:00, 81.43s/it]"
     }
    },
    "95ef05423eaf468aae41e434e0e0f2f2": {
     "model_module": "@jupyter-widgets/base",
     "model_name": "LayoutModel",
     "state": {
      "_model_module": "@jupyter-widgets/base",
      "_model_module_version": "1.2.0",
      "_model_name": "LayoutModel",
      "_view_count": null,
      "_view_module": "@jupyter-widgets/base",
      "_view_module_version": "1.2.0",
      "_view_name": "LayoutView",
      "align_content": null,
      "align_items": null,
      "align_self": null,
      "border": null,
      "bottom": null,
      "display": null,
      "flex": null,
      "flex_flow": null,
      "grid_area": null,
      "grid_auto_columns": null,
      "grid_auto_flow": null,
      "grid_auto_rows": null,
      "grid_column": null,
      "grid_gap": null,
      "grid_row": null,
      "grid_template_areas": null,
      "grid_template_columns": null,
      "grid_template_rows": null,
      "height": null,
      "justify_content": null,
      "justify_items": null,
      "left": null,
      "margin": null,
      "max_height": null,
      "max_width": null,
      "min_height": null,
      "min_width": null,
      "object_fit": null,
      "object_position": null,
      "order": null,
      "overflow": null,
      "overflow_x": null,
      "overflow_y": null,
      "padding": null,
      "right": null,
      "top": null,
      "visibility": null,
      "width": null
     }
    },
    "a57d5afb1dbc44aabb9e648ea2c82928": {
     "model_module": "@jupyter-widgets/controls",
     "model_name": "HBoxModel",
     "state": {
      "_dom_classes": [],
      "_model_module": "@jupyter-widgets/controls",
      "_model_module_version": "1.5.0",
      "_model_name": "HBoxModel",
      "_view_count": null,
      "_view_module": "@jupyter-widgets/controls",
      "_view_module_version": "1.5.0",
      "_view_name": "HBoxView",
      "box_style": "",
      "children": [
       "IPY_MODEL_7a407d1a54ed49dab0cfc3b1c4ea1f18",
       "IPY_MODEL_94c116b75e9d4f6dacd8e897f4d97993"
      ],
      "layout": "IPY_MODEL_95ef05423eaf468aae41e434e0e0f2f2"
     }
    },
    "b04da34316664441a1bd8f530ad1d201": {
     "model_module": "@jupyter-widgets/controls",
     "model_name": "ProgressStyleModel",
     "state": {
      "_model_module": "@jupyter-widgets/controls",
      "_model_module_version": "1.5.0",
      "_model_name": "ProgressStyleModel",
      "_view_count": null,
      "_view_module": "@jupyter-widgets/base",
      "_view_module_version": "1.2.0",
      "_view_name": "StyleView",
      "bar_color": null,
      "description_width": "initial"
     }
    },
    "b3d9bc4ffec144449b9a051865fc78ee": {
     "model_module": "@jupyter-widgets/base",
     "model_name": "LayoutModel",
     "state": {
      "_model_module": "@jupyter-widgets/base",
      "_model_module_version": "1.2.0",
      "_model_name": "LayoutModel",
      "_view_count": null,
      "_view_module": "@jupyter-widgets/base",
      "_view_module_version": "1.2.0",
      "_view_name": "LayoutView",
      "align_content": null,
      "align_items": null,
      "align_self": null,
      "border": null,
      "bottom": null,
      "display": null,
      "flex": null,
      "flex_flow": null,
      "grid_area": null,
      "grid_auto_columns": null,
      "grid_auto_flow": null,
      "grid_auto_rows": null,
      "grid_column": null,
      "grid_gap": null,
      "grid_row": null,
      "grid_template_areas": null,
      "grid_template_columns": null,
      "grid_template_rows": null,
      "height": null,
      "justify_content": null,
      "justify_items": null,
      "left": null,
      "margin": null,
      "max_height": null,
      "max_width": null,
      "min_height": null,
      "min_width": null,
      "object_fit": null,
      "object_position": null,
      "order": null,
      "overflow": null,
      "overflow_x": null,
      "overflow_y": null,
      "padding": null,
      "right": null,
      "top": null,
      "visibility": null,
      "width": null
     }
    },
    "c40a8338e1e54f0ca39f3f554e103056": {
     "model_module": "@jupyter-widgets/controls",
     "model_name": "DescriptionStyleModel",
     "state": {
      "_model_module": "@jupyter-widgets/controls",
      "_model_module_version": "1.5.0",
      "_model_name": "DescriptionStyleModel",
      "_view_count": null,
      "_view_module": "@jupyter-widgets/base",
      "_view_module_version": "1.2.0",
      "_view_name": "StyleView",
      "description_width": ""
     }
    }
   }
  }
 },
 "nbformat": 4,
 "nbformat_minor": 1
}
