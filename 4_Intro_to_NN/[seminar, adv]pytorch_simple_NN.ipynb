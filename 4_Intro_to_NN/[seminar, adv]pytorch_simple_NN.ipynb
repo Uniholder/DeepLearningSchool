{
  "nbformat": 4,
  "nbformat_minor": 0,
  "metadata": {
    "accelerator": "GPU",
    "colab": {
      "name": "[seminar, adv]pytorch_simple_NN.ipynb",
      "provenance": [],
      "collapsed_sections": [],
      "toc_visible": true
    },
    "kernelspec": {
      "display_name": "Python 3",
      "language": "python",
      "name": "python3"
    },
    "language_info": {
      "codemirror_mode": {
        "name": "ipython",
        "version": 3
      },
      "file_extension": ".py",
      "mimetype": "text/x-python",
      "name": "python",
      "nbconvert_exporter": "python",
      "pygments_lexer": "ipython3",
      "version": "3.7.9"
    },
    "widgets": {
      "application/vnd.jupyter.widget-state+json": {
        "a57d5afb1dbc44aabb9e648ea2c82928": {
          "model_module": "@jupyter-widgets/controls",
          "model_name": "HBoxModel",
          "state": {
            "_view_name": "HBoxView",
            "_dom_classes": [],
            "_model_name": "HBoxModel",
            "_view_module": "@jupyter-widgets/controls",
            "_model_module_version": "1.5.0",
            "_view_count": null,
            "_view_module_version": "1.5.0",
            "box_style": "",
            "layout": "IPY_MODEL_95ef05423eaf468aae41e434e0e0f2f2",
            "_model_module": "@jupyter-widgets/controls",
            "children": [
              "IPY_MODEL_7a407d1a54ed49dab0cfc3b1c4ea1f18",
              "IPY_MODEL_94c116b75e9d4f6dacd8e897f4d97993"
            ]
          }
        },
        "95ef05423eaf468aae41e434e0e0f2f2": {
          "model_module": "@jupyter-widgets/base",
          "model_name": "LayoutModel",
          "state": {
            "_view_name": "LayoutView",
            "grid_template_rows": null,
            "right": null,
            "justify_content": null,
            "_view_module": "@jupyter-widgets/base",
            "overflow": null,
            "_model_module_version": "1.2.0",
            "_view_count": null,
            "flex_flow": null,
            "width": null,
            "min_width": null,
            "border": null,
            "align_items": null,
            "bottom": null,
            "_model_module": "@jupyter-widgets/base",
            "top": null,
            "grid_column": null,
            "overflow_y": null,
            "overflow_x": null,
            "grid_auto_flow": null,
            "grid_area": null,
            "grid_template_columns": null,
            "flex": null,
            "_model_name": "LayoutModel",
            "justify_items": null,
            "grid_row": null,
            "max_height": null,
            "align_content": null,
            "visibility": null,
            "align_self": null,
            "height": null,
            "min_height": null,
            "padding": null,
            "grid_auto_rows": null,
            "grid_gap": null,
            "max_width": null,
            "order": null,
            "_view_module_version": "1.2.0",
            "grid_template_areas": null,
            "object_position": null,
            "object_fit": null,
            "grid_auto_columns": null,
            "margin": null,
            "display": null,
            "left": null
          }
        },
        "7a407d1a54ed49dab0cfc3b1c4ea1f18": {
          "model_module": "@jupyter-widgets/controls",
          "model_name": "FloatProgressModel",
          "state": {
            "_view_name": "ProgressView",
            "style": "IPY_MODEL_b04da34316664441a1bd8f530ad1d201",
            "_dom_classes": [],
            "description": "100%",
            "_model_name": "FloatProgressModel",
            "bar_style": "success",
            "max": 3,
            "_view_module": "@jupyter-widgets/controls",
            "_model_module_version": "1.5.0",
            "value": 3,
            "_view_count": null,
            "_view_module_version": "1.5.0",
            "orientation": "horizontal",
            "min": 0,
            "description_tooltip": null,
            "_model_module": "@jupyter-widgets/controls",
            "layout": "IPY_MODEL_280a84f279544cbb8ffa2095bd805c53"
          }
        },
        "94c116b75e9d4f6dacd8e897f4d97993": {
          "model_module": "@jupyter-widgets/controls",
          "model_name": "HTMLModel",
          "state": {
            "_view_name": "HTMLView",
            "style": "IPY_MODEL_c40a8338e1e54f0ca39f3f554e103056",
            "_dom_classes": [],
            "description": "",
            "_model_name": "HTMLModel",
            "placeholder": "​",
            "_view_module": "@jupyter-widgets/controls",
            "_model_module_version": "1.5.0",
            "value": " 3/3 [04:04&lt;00:00, 81.43s/it]",
            "_view_count": null,
            "_view_module_version": "1.5.0",
            "description_tooltip": null,
            "_model_module": "@jupyter-widgets/controls",
            "layout": "IPY_MODEL_b3d9bc4ffec144449b9a051865fc78ee"
          }
        },
        "b04da34316664441a1bd8f530ad1d201": {
          "model_module": "@jupyter-widgets/controls",
          "model_name": "ProgressStyleModel",
          "state": {
            "_view_name": "StyleView",
            "_model_name": "ProgressStyleModel",
            "description_width": "initial",
            "_view_module": "@jupyter-widgets/base",
            "_model_module_version": "1.5.0",
            "_view_count": null,
            "_view_module_version": "1.2.0",
            "bar_color": null,
            "_model_module": "@jupyter-widgets/controls"
          }
        },
        "280a84f279544cbb8ffa2095bd805c53": {
          "model_module": "@jupyter-widgets/base",
          "model_name": "LayoutModel",
          "state": {
            "_view_name": "LayoutView",
            "grid_template_rows": null,
            "right": null,
            "justify_content": null,
            "_view_module": "@jupyter-widgets/base",
            "overflow": null,
            "_model_module_version": "1.2.0",
            "_view_count": null,
            "flex_flow": null,
            "width": null,
            "min_width": null,
            "border": null,
            "align_items": null,
            "bottom": null,
            "_model_module": "@jupyter-widgets/base",
            "top": null,
            "grid_column": null,
            "overflow_y": null,
            "overflow_x": null,
            "grid_auto_flow": null,
            "grid_area": null,
            "grid_template_columns": null,
            "flex": null,
            "_model_name": "LayoutModel",
            "justify_items": null,
            "grid_row": null,
            "max_height": null,
            "align_content": null,
            "visibility": null,
            "align_self": null,
            "height": null,
            "min_height": null,
            "padding": null,
            "grid_auto_rows": null,
            "grid_gap": null,
            "max_width": null,
            "order": null,
            "_view_module_version": "1.2.0",
            "grid_template_areas": null,
            "object_position": null,
            "object_fit": null,
            "grid_auto_columns": null,
            "margin": null,
            "display": null,
            "left": null
          }
        },
        "c40a8338e1e54f0ca39f3f554e103056": {
          "model_module": "@jupyter-widgets/controls",
          "model_name": "DescriptionStyleModel",
          "state": {
            "_view_name": "StyleView",
            "_model_name": "DescriptionStyleModel",
            "description_width": "",
            "_view_module": "@jupyter-widgets/base",
            "_model_module_version": "1.5.0",
            "_view_count": null,
            "_view_module_version": "1.2.0",
            "_model_module": "@jupyter-widgets/controls"
          }
        },
        "b3d9bc4ffec144449b9a051865fc78ee": {
          "model_module": "@jupyter-widgets/base",
          "model_name": "LayoutModel",
          "state": {
            "_view_name": "LayoutView",
            "grid_template_rows": null,
            "right": null,
            "justify_content": null,
            "_view_module": "@jupyter-widgets/base",
            "overflow": null,
            "_model_module_version": "1.2.0",
            "_view_count": null,
            "flex_flow": null,
            "width": null,
            "min_width": null,
            "border": null,
            "align_items": null,
            "bottom": null,
            "_model_module": "@jupyter-widgets/base",
            "top": null,
            "grid_column": null,
            "overflow_y": null,
            "overflow_x": null,
            "grid_auto_flow": null,
            "grid_area": null,
            "grid_template_columns": null,
            "flex": null,
            "_model_name": "LayoutModel",
            "justify_items": null,
            "grid_row": null,
            "max_height": null,
            "align_content": null,
            "visibility": null,
            "align_self": null,
            "height": null,
            "min_height": null,
            "padding": null,
            "grid_auto_rows": null,
            "grid_gap": null,
            "max_width": null,
            "order": null,
            "_view_module_version": "1.2.0",
            "grid_template_areas": null,
            "object_position": null,
            "object_fit": null,
            "grid_auto_columns": null,
            "margin": null,
            "display": null,
            "left": null
          }
        }
      }
    }
  },
  "cells": [
    {
      "cell_type": "markdown",
      "metadata": {
        "id": "sSyQnExiOOcf"
      },
      "source": [
        "<p style=\"align: center;\"><img align=center src=\"https://s8.hostingkartinok.com/uploads/images/2018/08/308b49fcfbc619d629fe4604bceb67ac.jpg\" width=500 height=450/></p>\n",
        "\n",
        "<h3 style=\"text-align: center;\"><b>\"Глубокое обучение\". Продвинутый поток</b></h3>\n",
        "\n",
        "<h2 style=\"text-align: center;\"><b>Семинар 6. PyTorch. Создание и обучение нейронных сетей </b></h2>\n"
      ]
    },
    {
      "cell_type": "markdown",
      "metadata": {
        "id": "D4GdBvkZOp8M"
      },
      "source": [
        "# Neural networks training using PyTorch\n",
        "\n",
        "In this notebook we build and train simple neural network using PyTorch. Our goal is to show the basics of torch framework and achieve simple understandings of how problemsolving with neural networks looks like."
      ]
    },
    {
      "cell_type": "code",
      "metadata": {
        "id": "x4kC-U8dOpZU"
      },
      "source": [
        "import torch"
      ],
      "execution_count": 26,
      "outputs": []
    },
    {
      "cell_type": "code",
      "metadata": {
        "colab": {
          "base_uri": "https://localhost:8080/"
        },
        "id": "DiMnj_xTWFW3",
        "outputId": "2f2591b7-c22e-4a8a-ce03-3313b9955774"
      },
      "source": [
        "device = torch.device('cuda:0') if torch.cuda.is_available else torch.device('cpu')\n",
        "device"
      ],
      "execution_count": 27,
      "outputs": [
        {
          "output_type": "execute_result",
          "data": {
            "text/plain": [
              "device(type='cuda', index=0)"
            ]
          },
          "metadata": {
            "tags": []
          },
          "execution_count": 27
        }
      ]
    },
    {
      "cell_type": "markdown",
      "metadata": {
        "id": "t4BjZJQ2PdGw"
      },
      "source": [
        "## Dataset Preparation\n",
        "\n",
        "Here we learn some basic data preparation functions and classes from PyTorch as:\n",
        "\n",
        "- `torch.utils.data.Dataset` and `torch.utils.data.DataLoader`\n",
        "- dataset downloading api\n",
        "\n",
        "First we would like to define our problem. Here we load the MNIST dataset (with PyTorch API)\n",
        "\n",
        "MNIST:\n",
        "- 28x28 images of `0`, `1`, .. `9`\n",
        "- each pixel is grayscaled (float value in [0, 1))\n",
        "- targets are int values in [0, 9] (10 classes)\n",
        "- objects are ($x_i$, $y_i$), where $x_i$ shape is (1, 28, 28), $y_i$ is int value\n",
        "\n",
        "For our purposes we will flatten the input ($x$), so our data during train will have shapes:\n",
        "\n",
        "- `x_batch` shape `(batch_size, 784)`\n",
        "- `y_batch` shape `(batch_size)`\n",
        "\n"
      ]
    },
    {
      "cell_type": "code",
      "metadata": {
        "id": "4-L2wfz7Pczm"
      },
      "source": [
        "from torchvision.datasets import MNIST\n",
        "import torchvision.transforms as tfs"
      ],
      "execution_count": 3,
      "outputs": []
    },
    {
      "cell_type": "code",
      "metadata": {
        "id": "67geRKgxUKcV"
      },
      "source": [
        "data_tfs = tfs.Compose([\n",
        "  tfs.ToTensor(),\n",
        "  tfs.Normalize((0.5), (0.5))\n",
        "])"
      ],
      "execution_count": 4,
      "outputs": []
    },
    {
      "cell_type": "code",
      "metadata": {
        "colab": {
          "base_uri": "https://localhost:8080/"
        },
        "id": "g6a9Qwrqrh5y",
        "outputId": "425ec4dd-f237-49b8-8d7f-e883f6ea082c"
      },
      "source": [
        "# workaround for 503 for windows\n",
        "import urllib.request\n",
        "url = 'http://www.di.ens.fr/~lelarge/MNIST.tar.gz'\n",
        "filename = 'MNIST.tar.gz'\n",
        "urllib.request.urlretrieve(url, filename)"
      ],
      "execution_count": 6,
      "outputs": [
        {
          "output_type": "execute_result",
          "data": {
            "text/plain": [
              "('MNIST.tar.gz', <http.client.HTTPMessage at 0x7f32eb8f8410>)"
            ]
          },
          "metadata": {
            "tags": []
          },
          "execution_count": 6
        }
      ]
    },
    {
      "cell_type": "code",
      "metadata": {
        "colab": {
          "base_uri": "https://localhost:8080/"
        },
        "id": "ZQqVN2JTuPSq",
        "outputId": "ba22826f-8f94-46fc-9285-7300f5063fdf"
      },
      "source": [
        "# workaround for linux\r\n",
        "!wget www.di.ens.fr/~lelarge/MNIST.tar.gz\r\n",
        "!tar -zxvf MNIST.tar.gz"
      ],
      "execution_count": 7,
      "outputs": [
        {
          "output_type": "stream",
          "text": [
            "--2021-03-18 09:45:02--  http://www.di.ens.fr/~lelarge/MNIST.tar.gz\n",
            "Resolving www.di.ens.fr (www.di.ens.fr)... 129.199.99.14\n",
            "Connecting to www.di.ens.fr (www.di.ens.fr)|129.199.99.14|:80... connected.\n",
            "HTTP request sent, awaiting response... 302 Found\n",
            "Location: https://www.di.ens.fr/~lelarge/MNIST.tar.gz [following]\n",
            "--2021-03-18 09:45:02--  https://www.di.ens.fr/~lelarge/MNIST.tar.gz\n",
            "Connecting to www.di.ens.fr (www.di.ens.fr)|129.199.99.14|:443... connected.\n",
            "HTTP request sent, awaiting response... 200 OK\n",
            "Length: unspecified [application/x-gzip]\n",
            "Saving to: ‘MNIST.tar.gz.1’\n",
            "\n",
            "MNIST.tar.gz.1          [      <=>           ]  33.20M  29.1MB/s    in 1.1s    \n",
            "\n",
            "2021-03-18 09:45:04 (29.1 MB/s) - ‘MNIST.tar.gz.1’ saved [34813078]\n",
            "\n",
            "MNIST/\n",
            "MNIST/raw/\n",
            "MNIST/raw/train-labels-idx1-ubyte\n",
            "MNIST/raw/t10k-labels-idx1-ubyte.gz\n",
            "MNIST/raw/t10k-labels-idx1-ubyte\n",
            "MNIST/raw/t10k-images-idx3-ubyte.gz\n",
            "MNIST/raw/train-images-idx3-ubyte\n",
            "MNIST/raw/train-labels-idx1-ubyte.gz\n",
            "MNIST/raw/t10k-images-idx3-ubyte\n",
            "MNIST/raw/train-images-idx3-ubyte.gz\n",
            "MNIST/processed/\n",
            "MNIST/processed/training.pt\n",
            "MNIST/processed/test.pt\n"
          ],
          "name": "stdout"
        }
      ]
    },
    {
      "cell_type": "code",
      "metadata": {
        "id": "KrrlpkzbQxbl"
      },
      "source": [
        "# install for train and test\n",
        "root = './'\n",
        "# train = MNIST(root, train=True,  transform=data_tfs, download=True) # download doesn't work: 503\n",
        "# test  = MNIST(root, train=False, transform=data_tfs, download=True) # download doesn't work: 503\n",
        "\n",
        "train = MNIST(root, train=True,  transform=data_tfs, download=False)\n",
        "test  = MNIST(root, train=False, transform=data_tfs, download=False)"
      ],
      "execution_count": 8,
      "outputs": []
    },
    {
      "cell_type": "code",
      "metadata": {
        "colab": {
          "base_uri": "https://localhost:8080/"
        },
        "id": "X4gMHMSBTdEm",
        "outputId": "d4edbc3a-7be7-442b-ef54-37468a4d28de"
      },
      "source": [
        "print(f'Data size:\\n\\t train {len(train)},\\n\\t test {len(test)}')\n",
        "print(f'Data shape:\\n\\t features {train[0][0].shape},\\n\\t target {type(test[0][1])}')"
      ],
      "execution_count": 9,
      "outputs": [
        {
          "output_type": "stream",
          "text": [
            "Data size:\n",
            "\t train 60000,\n",
            "\t test 10000\n",
            "Data shape:\n",
            "\t features torch.Size([1, 28, 28]),\n",
            "\t target <class 'int'>\n"
          ],
          "name": "stdout"
        }
      ]
    },
    {
      "cell_type": "markdown",
      "metadata": {
        "id": "omdMTw-XTDz5"
      },
      "source": [
        "New thing we don't need to make batch loader by ourselves. Let us use the torch implementation of it called `DataLoader` from `torch.utils.data`"
      ]
    },
    {
      "cell_type": "code",
      "metadata": {
        "id": "oTbQiE7DTDMG"
      },
      "source": [
        "from torch.utils.data import DataLoader\n",
        "\n",
        "batch_size = 128\n",
        "\n",
        "train_loader = DataLoader(train, batch_size=batch_size, drop_last=True)\n",
        "test_loader = DataLoader(test, batch_size=batch_size, drop_last=True)"
      ],
      "execution_count": 10,
      "outputs": []
    },
    {
      "cell_type": "code",
      "metadata": {
        "colab": {
          "base_uri": "https://localhost:8080/"
        },
        "id": "MkQ86w8fXFXL",
        "outputId": "1f648e79-509c-430c-f2b2-aad9b0fb6937"
      },
      "source": [
        "x_batch, y_batch = next(iter(train_loader))\n",
        "x_batch.shape, y_batch.shape"
      ],
      "execution_count": 37,
      "outputs": [
        {
          "output_type": "execute_result",
          "data": {
            "text/plain": [
              "(torch.Size([128, 1, 28, 28]), torch.Size([128]))"
            ]
          },
          "metadata": {
            "tags": []
          },
          "execution_count": 37
        }
      ]
    },
    {
      "cell_type": "code",
      "metadata": {
        "colab": {
          "base_uri": "https://localhost:8080/"
        },
        "id": "QqLlBA-HBZED",
        "outputId": "b6799b96-e8d4-4ca6-999e-6be708a6681b"
      },
      "source": [
        "y_batch"
      ],
      "execution_count": 38,
      "outputs": [
        {
          "output_type": "execute_result",
          "data": {
            "text/plain": [
              "tensor([5, 0, 4, 1, 9, 2, 1, 3, 1, 4, 3, 5, 3, 6, 1, 7, 2, 8, 6, 9, 4, 0, 9, 1,\n",
              "        1, 2, 4, 3, 2, 7, 3, 8, 6, 9, 0, 5, 6, 0, 7, 6, 1, 8, 7, 9, 3, 9, 8, 5,\n",
              "        9, 3, 3, 0, 7, 4, 9, 8, 0, 9, 4, 1, 4, 4, 6, 0, 4, 5, 6, 1, 0, 0, 1, 7,\n",
              "        1, 6, 3, 0, 2, 1, 1, 7, 9, 0, 2, 6, 7, 8, 3, 9, 0, 4, 6, 7, 4, 6, 8, 0,\n",
              "        7, 8, 3, 1, 5, 7, 1, 7, 1, 1, 6, 3, 0, 2, 9, 3, 1, 1, 0, 4, 9, 2, 0, 0,\n",
              "        2, 0, 2, 7, 1, 8, 6, 4])"
            ]
          },
          "metadata": {
            "tags": []
          },
          "execution_count": 38
        }
      ]
    },
    {
      "cell_type": "markdown",
      "metadata": {
        "id": "4brdJhe0XeKm"
      },
      "source": [
        "Finally we prepared our data, so let's build some model to classify the images!"
      ]
    },
    {
      "cell_type": "markdown",
      "metadata": {
        "id": "-niriIktOclz"
      },
      "source": [
        "## Model and Train (of abnormal people)\n",
        "\n",
        "We know how the torch computes the gradient functions during the computation of expression. Using `.backward()` method on expression **we pass the tree of gradient computing till the leafs** which are reliable for parameters of our model.\n",
        "\n",
        "Thus, we use this knowledge to find the optimal weights of some model, which is represented by some expression.\n",
        "\n",
        "Assume,\n",
        "1. We want to learn linear model\n",
        "2. For each class we use own weights to calculate logits\n",
        "3. We use softmax on logits for probabilities of each class\n",
        "4. Train on batches using sgd"
      ]
    },
    {
      "cell_type": "code",
      "metadata": {
        "id": "ZwQ0rR_EZiGL"
      },
      "source": [
        "features = 784\n",
        "classes = 10"
      ],
      "execution_count": 12,
      "outputs": []
    },
    {
      "cell_type": "code",
      "metadata": {
        "colab": {
          "base_uri": "https://localhost:8080/"
        },
        "id": "KZ-qXVG5mVq3",
        "outputId": "da54b37b-d1b5-4fac-d594-3ba6feb5d61c"
      },
      "source": [
        "W = torch.FloatTensor(features, classes).uniform_(-1, 1) / features**0.5\n",
        "W.requires_grad_()"
      ],
      "execution_count": 28,
      "outputs": [
        {
          "output_type": "execute_result",
          "data": {
            "text/plain": [
              "tensor([[-0.0336,  0.0329, -0.0198,  ..., -0.0273,  0.0035,  0.0164],\n",
              "        [ 0.0348,  0.0352, -0.0205,  ...,  0.0348,  0.0268,  0.0102],\n",
              "        [-0.0135,  0.0081,  0.0179,  ..., -0.0034, -0.0354, -0.0164],\n",
              "        ...,\n",
              "        [ 0.0024, -0.0079, -0.0282,  ...,  0.0196,  0.0307, -0.0245],\n",
              "        [ 0.0143, -0.0245,  0.0024,  ..., -0.0139, -0.0189, -0.0226],\n",
              "        [ 0.0015,  0.0107, -0.0123,  ..., -0.0212, -0.0150, -0.0131]],\n",
              "       requires_grad=True)"
            ]
          },
          "metadata": {
            "tags": []
          },
          "execution_count": 28
        }
      ]
    },
    {
      "cell_type": "markdown",
      "metadata": {
        "id": "PUVgNd-LaRhZ"
      },
      "source": [
        "SGD train loop"
      ]
    },
    {
      "cell_type": "code",
      "metadata": {
        "id": "v6lQU1rgaWjY"
      },
      "source": [
        "epochs = 3\n",
        "lr=1e-2\n",
        "history = []"
      ],
      "execution_count": 31,
      "outputs": []
    },
    {
      "cell_type": "code",
      "metadata": {
        "id": "QMBcROViilwY"
      },
      "source": [
        "import numpy as np\n",
        "from torch.nn.functional import cross_entropy"
      ],
      "execution_count": 32,
      "outputs": []
    },
    {
      "cell_type": "code",
      "metadata": {
        "colab": {
          "base_uri": "https://localhost:8080/"
        },
        "id": "kKkfwxQhA32L",
        "outputId": "6bce10e6-d166-45fb-d9f4-fd682ebc7686"
      },
      "source": [
        "probabilities[range(128)].size()"
      ],
      "execution_count": 41,
      "outputs": [
        {
          "output_type": "execute_result",
          "data": {
            "text/plain": [
              "torch.Size([128, 10])"
            ]
          },
          "metadata": {
            "tags": []
          },
          "execution_count": 41
        }
      ]
    },
    {
      "cell_type": "code",
      "metadata": {
        "colab": {
          "base_uri": "https://localhost:8080/"
        },
        "id": "cN9s_HMwCxFd",
        "outputId": "ba6bbf3c-c40f-4d34-97bf-a1da820e05d1"
      },
      "source": [
        "probabilities[range(batch_size), y_batch]"
      ],
      "execution_count": 42,
      "outputs": [
        {
          "output_type": "execute_result",
          "data": {
            "text/plain": [
              "tensor([8.9303e-02, 3.8102e-03, 1.8170e-02, 2.0726e-06, 2.8047e-02, 2.7393e-02,\n",
              "        4.6131e-05, 3.1475e-02, 1.8185e-05, 1.7125e-04, 9.3011e-03, 1.5377e-03,\n",
              "        2.6106e-03, 1.1912e-02, 3.4470e-04, 3.3873e-06, 2.2795e-05, 8.8330e-01,\n",
              "        1.8959e-03, 1.1530e-04, 1.2623e-05, 2.6162e-02, 1.5024e-04, 1.1266e-03,\n",
              "        4.9585e-05, 6.4234e-04, 3.6538e-03, 2.2766e-04, 7.5606e-05, 1.2573e-03,\n",
              "        3.3037e-03, 1.3498e-03, 9.5405e-06, 1.8849e-03, 3.8606e-02, 7.5491e-04,\n",
              "        6.3245e-06, 5.1660e-03, 1.7989e-01, 3.7497e-06, 1.5222e-05, 7.1399e-03,\n",
              "        9.5526e-05, 6.3907e-05, 2.3590e-03, 6.3701e-03, 3.4183e-02, 8.3316e-01,\n",
              "        3.7305e-05, 9.0495e-01, 1.3660e-04, 1.0034e-04, 5.3104e-04, 1.2001e-01,\n",
              "        9.3850e-02, 1.7818e-03, 1.3752e-04, 9.3111e-04, 2.0960e-04, 2.5431e-05,\n",
              "        4.3014e-05, 5.7618e-05, 1.7639e-03, 1.9286e-04, 1.0968e-05, 6.1641e-03,\n",
              "        1.3643e-06, 1.7758e-06, 7.4105e-04, 5.0509e-04, 4.2202e-03, 2.0458e-03,\n",
              "        1.3743e-05, 3.3338e-03, 2.3428e-03, 1.4954e-04, 4.2057e-03, 6.5772e-06,\n",
              "        9.6444e-01, 8.9055e-06, 4.4009e-03, 1.5818e-03, 6.6250e-05, 1.4354e-04,\n",
              "        2.3518e-04, 9.7165e-01, 4.1069e-05, 3.1230e-03, 3.7482e-04, 1.2239e-03,\n",
              "        9.8250e-01, 3.7491e-03, 8.0166e-08, 2.3488e-04, 6.9735e-04, 6.4270e-05,\n",
              "        4.1125e-04, 6.0227e-03, 2.7834e-06, 1.6061e-04, 9.0706e-04, 9.7523e-06,\n",
              "        1.1639e-08, 1.1336e-04, 1.7335e-04, 2.7286e-04, 1.0931e-03, 8.7194e-01,\n",
              "        2.3048e-04, 5.2216e-03, 6.0477e-03, 2.5516e-03, 5.8677e-04, 2.2127e-04,\n",
              "        3.4229e-05, 1.9682e-04, 6.7638e-05, 9.9148e-05, 2.1669e-04, 7.0600e-05,\n",
              "        9.9300e-01, 1.0492e-03, 1.4756e-04, 2.4184e-01, 1.0170e-02, 4.3317e-05,\n",
              "        2.3875e-03, 1.1689e-03], grad_fn=<IndexBackward>)"
            ]
          },
          "metadata": {
            "tags": []
          },
          "execution_count": 42
        }
      ]
    },
    {
      "cell_type": "code",
      "metadata": {
        "colab": {
          "base_uri": "https://localhost:8080/",
          "height": 151,
          "referenced_widgets": [
            "a57d5afb1dbc44aabb9e648ea2c82928",
            "95ef05423eaf468aae41e434e0e0f2f2",
            "7a407d1a54ed49dab0cfc3b1c4ea1f18",
            "94c116b75e9d4f6dacd8e897f4d97993",
            "b04da34316664441a1bd8f530ad1d201",
            "280a84f279544cbb8ffa2095bd805c53",
            "c40a8338e1e54f0ca39f3f554e103056",
            "b3d9bc4ffec144449b9a051865fc78ee"
          ]
        },
        "id": "V1Cqa86BOWu1",
        "outputId": "bd482017-d953-4bbb-b752-1e156ca8d9de"
      },
      "source": [
        "%%time\n",
        "from tqdm.notebook import tqdm\n",
        "for i in tqdm(range(epochs)):\n",
        "    for x_batch, y_batch in train_loader:\n",
        "        # load batches of data correctly\n",
        "        x_batch = x_batch.reshape(x_batch.shape[0], -1)\n",
        "\n",
        "        # compute loss (log loss a.k.a. cross entropy)\n",
        "        logits = x_batch @ W\n",
        "        probabilities = torch.exp(logits) / torch.exp(logits).sum(dim=1, keepdims=True)\n",
        "\n",
        "        loss = -torch.log(probabilities[range(batch_size), y_batch]).mean()\n",
        "        history.append(loss.item())\n",
        "\n",
        "        # calc gradients\n",
        "        loss.backward()\n",
        "\n",
        "        # step of gradient descent\n",
        "        grad = W.grad\n",
        "        with torch.no_grad():\n",
        "            W -= lr * grad\n",
        "        W.grad.zero_()\n",
        "\n",
        "    print(f'{i+1},\\t loss: {history[-1]}')"
      ],
      "execution_count": 33,
      "outputs": [
        {
          "output_type": "display_data",
          "data": {
            "application/vnd.jupyter.widget-view+json": {
              "model_id": "a57d5afb1dbc44aabb9e648ea2c82928",
              "version_minor": 0,
              "version_major": 2
            },
            "text/plain": [
              "HBox(children=(FloatProgress(value=0.0, max=3.0), HTML(value='')))"
            ]
          },
          "metadata": {
            "tags": []
          }
        },
        {
          "output_type": "stream",
          "text": [
            "1,\t loss: 0.1961236596107483\n",
            "2,\t loss: 0.14084438979625702\n",
            "3,\t loss: 0.12069758027791977\n",
            "\n",
            "CPU times: user 32.9 s, sys: 30.3 ms, total: 32.9 s\n",
            "Wall time: 33.1 s\n"
          ],
          "name": "stdout"
        }
      ]
    },
    {
      "cell_type": "markdown",
      "metadata": {
        "id": "a4_T6SIEevn6"
      },
      "source": [
        "And of course we should plot the loss through our training"
      ]
    },
    {
      "cell_type": "code",
      "metadata": {
        "id": "K-pkgEBtfyIU"
      },
      "source": [
        "import matplotlib.pyplot as plt"
      ],
      "execution_count": 43,
      "outputs": []
    },
    {
      "cell_type": "code",
      "metadata": {
        "colab": {
          "base_uri": "https://localhost:8080/",
          "height": 458
        },
        "id": "ISFcr5Pab8tZ",
        "outputId": "62bdf7f3-ea5d-4ae1-e374-50c94ceaf18e"
      },
      "source": [
        "plt.figure(figsize=(10, 7))\n",
        "\n",
        "plt.plot(history)\n",
        "\n",
        "plt.title('Loss by batch iterations')\n",
        "plt.ylabel('Entropy Loss')\n",
        "plt.xlabel('batches')\n",
        "\n",
        "plt.show()"
      ],
      "execution_count": 44,
      "outputs": [
        {
          "output_type": "display_data",
          "data": {
            "image/png": "[encoded data removed]",
            "text/plain": [
              "<Figure size 720x504 with 1 Axes>"
            ]
          },
          "metadata": {
            "tags": [],
            "needs_background": "light"
          }
        }
      ]
    },
    {
      "cell_type": "markdown",
      "metadata": {
        "id": "zDAEdkQsovxN"
      },
      "source": [
        "Some quality metrics for our linear model"
      ]
    },
    {
      "cell_type": "code",
      "metadata": {
        "id": "PNtRCtcJfktA"
      },
      "source": [
        "from sklearn.metrics import accuracy_score"
      ],
      "execution_count": 45,
      "outputs": []
    },
    {
      "cell_type": "code",
      "metadata": {
        "colab": {
          "base_uri": "https://localhost:8080/"
        },
        "id": "GwR-p1UXo-PT",
        "outputId": "6b55cd3a-915a-4ee0-d2ba-5e079eaefac6"
      },
      "source": [
        "acc = 0\n",
        "batches = 0\n",
        "\n",
        "for x_batch, y_batch in test_loader:\n",
        "    # load batches of data correctly\n",
        "    batches += 1\n",
        "    x_batch = x_batch.view(x_batch.shape[0], -1)\n",
        "    y_batch = y_batch\n",
        "\n",
        "    preds = torch.argmax(x_batch @ W, dim=1)\n",
        "    acc += (preds==y_batch).cpu().numpy().mean()\n",
        "\n",
        "print(f'Test accuracy {acc / batches:.3}')"
      ],
      "execution_count": 46,
      "outputs": [
        {
          "output_type": "stream",
          "text": [
            "Test accuracy 0.901\n"
          ],
          "name": "stdout"
        }
      ]
    },
    {
      "cell_type": "markdown",
      "metadata": {
        "id": "Dmr2DLSxqGQx"
      },
      "source": [
        "Result, we now see that every variable or tensor is provided with its own `grad` and `grad_fn`. This part showed we can directly manipulate with them. Also it is very inconvinient, but sometimes we should be able to access such flexibility.\n",
        "\n",
        "Of course PyTorch has higher level of operations between weights and grads, than we saw above. Next part introduces high level of modeling and training neural networks. \n"
      ]
    },
    {
      "cell_type": "markdown",
      "metadata": {
        "id": "wgsY-55IrCGQ"
      },
      "source": [
        "## Model\n",
        "\n",
        "PyTorch is flexible framework to build any kind of neural network\n",
        "\n",
        "Here is a table of comparison:\n",
        "\n",
        "```\n",
        "| API             | Flexibility | Convenience |\n",
        "|-----------------|-------------|-------------|\n",
        "| Barebone        | High        | Low         |\n",
        "| `nn.Module`     | High        | Medium      |\n",
        "| `nn.Sequential` | Low         | High        |\n",
        "```"
      ]
    },
    {
      "cell_type": "markdown",
      "metadata": {
        "id": "v5JkAMkRr7Z9"
      },
      "source": [
        "1. barebone is the approach where we directly manipulate with ternsors. In the example above we had the objective function directly expressed by weights. If we develop this method into classes we would get this level of API. **On this level we code modules by ourselves**\n",
        "\n",
        "2. [`nn.Module`](https://pytorch.org/docs/stable/nn.html) is the parent class for many PyTorch introduced modules. There are plenty of them. They are pretty enough to use them out-of-the-box with required parameters. Mostly we use:\n",
        "\n",
        "- `nn.Linear`\n",
        "- `nn.Softmax`, `nn.LogSoftmax`\n",
        "- `nn.ReLU`, `nn.ELU`, `nn.LeakyReLU`\n",
        "- `nn.Tanh`, `nn.Sigmoid`\n",
        "- `nn.LSTM`, `nn.GRU`\n",
        "- `nn.Conv1d`, `nn.Conv2d`\n",
        "- `nn.MaxPool1d`, `nn.AdaptiveMaxPool1d` and others pooling\n",
        "- `nn.BatchNorm1d`, `nn.BatchNorm2d`\n",
        "- `nn.Dropout`\n",
        "- losses: `nn.CrossEntropyLoss`, `nn.NLLLoss`, `nn.MSELoss`\n",
        "- etc\n",
        "\n",
        "3. `nn.Sequential` is no more than sequence of different modules based on `nn.Module`. They are initiatiated by a list of modules, where output from one module goes as input for next in sequence.\n",
        "\n",
        "\n",
        "Let's **develop a simple sequential** to classify MNIST using **two linear layers** model."
      ]
    },
    {
      "cell_type": "code",
      "metadata": {
        "id": "V4d3LntkwSyk"
      },
      "source": [
        "import torch.nn as nn\n",
        "from torchsummary import summary"
      ],
      "execution_count": 47,
      "outputs": []
    },
    {
      "cell_type": "code",
      "metadata": {
        "colab": {
          "base_uri": "https://localhost:8080/"
        },
        "id": "1EAghRDFwcCM",
        "outputId": "dbfbfe86-0696-46cb-ece5-ddb78c66c18d"
      },
      "source": [
        "model = nn.Sequential(\n",
        "  nn.Linear(features, 64),\n",
        "  nn.ReLU(),\n",
        "  nn.Linear(64, classes)\n",
        ")\n",
        "\n",
        "# It is the same as:\n",
        "#\n",
        "# model = nn.Sequential()\n",
        "# model.add_module('0', nn.Linear(features, 64))\n",
        "# model.add_module('1', nn.Linear(64, classes))\n",
        "\n",
        "model.to(device)"
      ],
      "execution_count": 48,
      "outputs": [
        {
          "output_type": "execute_result",
          "data": {
            "text/plain": [
              "Sequential(\n",
              "  (0): Linear(in_features=784, out_features=64, bias=True)\n",
              "  (1): ReLU()\n",
              "  (2): Linear(in_features=64, out_features=10, bias=True)\n",
              ")"
            ]
          },
          "metadata": {
            "tags": []
          },
          "execution_count": 48
        }
      ]
    },
    {
      "cell_type": "markdown",
      "metadata": {
        "id": "jb4dP98KxQI8"
      },
      "source": [
        "We can check if everything is fine with hidden layers by `torchsummary.summary`. It needs the shape of input data to produce visualisation of model"
      ]
    },
    {
      "cell_type": "code",
      "metadata": {
        "colab": {
          "base_uri": "https://localhost:8080/"
        },
        "id": "BiZ3fQBnxNvh",
        "outputId": "9d4fc354-14cd-4311-f8b6-bec7d44fbebf"
      },
      "source": [
        "summary(model, (features,), batch_size=228)"
      ],
      "execution_count": 49,
      "outputs": [
        {
          "output_type": "stream",
          "text": [
            "----------------------------------------------------------------\n",
            "        Layer (type)               Output Shape         Param #\n",
            "================================================================\n",
            "            Linear-1                  [228, 64]          50,240\n",
            "              ReLU-2                  [228, 64]               0\n",
            "            Linear-3                  [228, 10]             650\n",
            "================================================================\n",
            "Total params: 50,890\n",
            "Trainable params: 50,890\n",
            "Non-trainable params: 0\n",
            "----------------------------------------------------------------\n",
            "Input size (MB): 0.68\n",
            "Forward/backward pass size (MB): 0.24\n",
            "Params size (MB): 0.19\n",
            "Estimated Total Size (MB): 1.12\n",
            "----------------------------------------------------------------\n"
          ],
          "name": "stdout"
        }
      ]
    },
    {
      "cell_type": "markdown",
      "metadata": {
        "id": "nfjR9itOwPO5"
      },
      "source": [
        "## Train\n",
        "\n",
        "As we know, most important thing to do in solving problem are **3 things**:\n",
        "\n",
        "1. Model\n",
        "2. Objective (loss function)\n",
        "3. Optimizing (objective w.r.t. model parameters)\n",
        "\n",
        "Good, everything we must do when using PyTorch is **define these 3 things**:\n",
        "\n",
        "1. Model: from `nn.Module` API\n",
        "2. Loss: again, `nn.Module` or [`nn.functional`](https://pytorch.org/docs/stable/nn.functional.html) API\n",
        "3. Optimizer: based on [`torch.optim.Optimizer`](https://pytorch.org/docs/stable/optim.html)\n",
        "\n",
        "In the previous tasks when it came to optimize objective we used **direct solution or gradient descent optimizations**\n",
        "\n",
        "Of course, there are plenty upgrades of gradient descent. It can use **adaptive step value**, **previous step gradients** and others. PyTorch also provides some classes for gradient optimizations. They are initializing with parameters they should tune for better loss value and during descent they do the step in gradient-based descent method.\n",
        "\n",
        "Here is the most used optimizers, based on which descent algorithm is used:\n",
        "\n",
        "- `torch.optim.Adam` uses both second and first momentum of gradient, very popular for its speed of convergence, simplicity. [paper](https://arxiv.org/abs/1412.6980)\n",
        "\n",
        "- `torch.optim.SGD` - good-old stochastic gradient descent. Can be used with Nesterov momentum optimization\n",
        "\n",
        "- `torch.optim.Adagrad` - [paper](https://jmlr.org/papers/v12/duchi11a.html)\n",
        "\n",
        "- `torch.optim.RMSprop` - introduced in [slides](https://www.cs.toronto.edu/~tijmen/csc321/slides/lecture_slides_lec6.pdf)\n",
        "\n"
      ]
    },
    {
      "cell_type": "markdown",
      "metadata": {
        "id": "_joC4G5v3M1J"
      },
      "source": [
        "First define the last 2 things: criterion and optimizer"
      ]
    },
    {
      "cell_type": "code",
      "metadata": {
        "id": "QrEObxR2r67C"
      },
      "source": [
        "criterion = nn.CrossEntropyLoss()      # (logsoftmax + negative likelihood) in its core, applied to logits\n",
        "\n",
        "optimizer = torch.optim.Adam(model.parameters(), lr=1e-3, betas=(0.9, 0.99))"
      ],
      "execution_count": 50,
      "outputs": []
    },
    {
      "cell_type": "markdown",
      "metadata": {
        "id": "PqXeZ4Gu4XuE"
      },
      "source": [
        "Finally, we are heading to **train loop**!\n",
        "\n",
        "Previously we iterated over epochs and batches (this is called train loop). So, let's do it here"
      ]
    },
    {
      "cell_type": "code",
      "metadata": {
        "id": "k_meINtk45pO"
      },
      "source": [
        "epochs = 3\n",
        "history = []"
      ],
      "execution_count": 51,
      "outputs": []
    },
    {
      "cell_type": "code",
      "metadata": {
        "colab": {
          "base_uri": "https://localhost:8080/"
        },
        "id": "sc6CbL4p45pY",
        "outputId": "faa9408a-3631-4136-a01b-5724e2e40fed"
      },
      "source": [
        "for i in range(epochs):\n",
        "  for x_batch, y_batch in train_loader:\n",
        "    # 1. load batches of data correctly\n",
        "    x_batch = x_batch.view(x_batch.shape[0], -1).to(device)\n",
        "    y_batch = y_batch.to(device)\n",
        "\n",
        "    # 2. compute scores with .forward or .__call__\n",
        "    logits = model(x_batch)\n",
        "\n",
        "    # 3. compute loss\n",
        "    loss = criterion(logits, y_batch)\n",
        "    history.append(loss.item())\n",
        "\n",
        "    # 4. calc gradients\n",
        "    optimizer.zero_grad()\n",
        "    loss.backward()\n",
        "\n",
        "    # 5. step of gradient descent\n",
        "    optimizer.step()\n",
        "\n",
        "  print(f'{i+1},\\t loss: {history[-1]}')"
      ],
      "execution_count": 52,
      "outputs": [
        {
          "output_type": "stream",
          "text": [
            "1,\t loss: 0.09225530922412872\n",
            "2,\t loss: 0.06022396311163902\n",
            "3,\t loss: 0.05188600718975067\n"
          ],
          "name": "stdout"
        }
      ]
    },
    {
      "cell_type": "markdown",
      "metadata": {
        "id": "0Jot--gp5xEy"
      },
      "source": [
        "Plot and accurracy just to check the correctness."
      ]
    },
    {
      "cell_type": "code",
      "metadata": {
        "id": "IePLJ3uq5u6H"
      },
      "source": [
        "import matplotlib.pyplot as plt"
      ],
      "execution_count": 53,
      "outputs": []
    },
    {
      "cell_type": "code",
      "metadata": {
        "colab": {
          "base_uri": "https://localhost:8080/",
          "height": 458
        },
        "id": "mq6vkP095u6L",
        "outputId": "462c275d-ede0-4c14-d30b-2de284362efc"
      },
      "source": [
        "plt.figure(figsize=(10, 7))\n",
        "\n",
        "plt.plot(history)\n",
        "\n",
        "plt.title('Loss by batch iterations')\n",
        "plt.ylabel('Entropy Loss')\n",
        "plt.xlabel('batches')\n",
        "\n",
        "plt.show()"
      ],
      "execution_count": 54,
      "outputs": [
        {
          "output_type": "display_data",
          "data": {
            "image/png": "[encoded data removed]",
            "text/plain": [
              "<Figure size 720x504 with 1 Axes>"
            ]
          },
          "metadata": {
            "tags": [],
            "needs_background": "light"
          }
        }
      ]
    },
    {
      "cell_type": "markdown",
      "metadata": {
        "id": "tekBJ55N5u6O"
      },
      "source": [
        "Some quality metrics for our two layer model"
      ]
    },
    {
      "cell_type": "code",
      "metadata": {
        "id": "ZqoMcdz75u6O"
      },
      "source": [
        "from sklearn.metrics import accuracy_score"
      ],
      "execution_count": 55,
      "outputs": []
    },
    {
      "cell_type": "code",
      "metadata": {
        "colab": {
          "base_uri": "https://localhost:8080/"
        },
        "id": "051KxUi_5u6Q",
        "outputId": "a488bfdd-403b-41f9-ca7f-dbade2d9a831"
      },
      "source": [
        "acc = 0\n",
        "batches = 0\n",
        "\n",
        "for x_batch, y_batch in test_loader:\n",
        "  # load batch of data correctly\n",
        "  batches += 1\n",
        "  x_batch = x_batch.view(x_batch.shape[0], -1).to(device)\n",
        "  y_batch = y_batch.to(device)\n",
        "\n",
        "  preds = torch.argmax(model(x_batch), dim=1)\n",
        "  acc += (preds==y_batch).cpu().numpy().mean()\n",
        "\n",
        "print(f'Test accuracy {acc / batches:.3}')"
      ],
      "execution_count": 56,
      "outputs": [
        {
          "output_type": "stream",
          "text": [
            "Test accuracy 0.937\n"
          ],
          "name": "stdout"
        }
      ]
    },
    {
      "cell_type": "markdown",
      "metadata": {
        "id": "wh14WDiz6KKe"
      },
      "source": [
        "## Summary\n",
        "\n",
        "We have build and trained the most simple neural network. It has been done by defining:\n",
        "\n",
        "1. `model`\n",
        "2. `criterion`\n",
        "1. `optimizer`\n",
        "\n",
        "Remember the steps during train on batch:\n",
        "\n",
        "1. load batch\n",
        "2. do forward pass of model (get `scores`)\n",
        "3. calculate `loss` (using criterion over `scores` and true labels of batch)\n",
        "4. perform `loss.backward()` (compute gradients of loss w.r.t. parameters)\n",
        "5. do optimization step (`optimizer.step()`)\n",
        "* zero gradients (place it everywhere but not between 4 and 5)\n",
        "* validating (after each epoch)\n",
        "\n"
      ]
    }
  ]
}