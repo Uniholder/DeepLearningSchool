{
  "nbformat": 4,
  "nbformat_minor": 5,
  "metadata": {
    "kernelspec": {
      "display_name": "Python 3",
      "language": "python",
      "name": "python3"
    },
    "language_info": {
      "codemirror_mode": {
        "name": "ipython",
        "version": 3
      },
      "file_extension": ".py",
      "mimetype": "text/x-python",
      "name": "python",
      "nbconvert_exporter": "python",
      "pygments_lexer": "ipython3",
      "version": "3.8.10"
    },
    "colab": {
      "name": "Untitled.ipynb",
      "provenance": [],
      "include_colab_link": true
    },
    "accelerator": "GPU"
  },
  "cells": [
    {
      "cell_type": "markdown",
      "metadata": {
        "id": "view-in-github",
        "colab_type": "text"
      },
      "source": [
        "<a href=\"https://colab.research.google.com/github/Uniholder/DeepLearningSchool/blob/main/14_3D_ML_project/Untitled.ipynb\" target=\"_parent\"><img src=\"https://colab.research.google.com/assets/colab-badge.svg\" alt=\"Open In Colab\"/></a>"
      ]
    },
    {
      "cell_type": "code",
      "metadata": {
        "id": "9bb89735"
      },
      "source": [
        "# for colab\n",
        "!sudo apt-get install -y xvfb\n",
        "!pip install torchgeometry\n",
        "!sudo apt-get install ffmpeg libosmesa6-dev\n",
        "!git clone https://github.com/facebookresearch/frankmocap.git \n",
        "!pip install -r frankmocap/docs/requirements.txt \n",
        "!pip install pytorch3d \n",
        "!(cd frankmocap/ && sh scripts/install_frankmocap.sh) \n",
        "!mkdir frankmocap/extra_data/smpl/ \n",
        "!gdown --id 1t4tvZCbRT37iBOpVCoOBHHQ4D6KsOAz3 -O frankmocap/extra_data/smpl/basicModel_neutral_lbs_10_207_0_v1.0.0.pkl\n",
        "!gdown --id 10cEgesBBsd-NyDyCUsvYoA58TQXynjJT -O frankmocap/extra_data/smpl/SMPLX_NEUTRAL.pkl\n",
        "# !gdown --id 1hdUSTIQlwasSh41sGTockNApgINNEXGG -O frankmocap/extra_data/smpl/J_regressor_extra_smplx.npy\n",
        "# !gdown --id 16kMiHFR0BUxc3AcWUdm46DdOA0ieOVP8 # -O smplx-03-28-46060-w_spin_mlc3d_46582-2089_2020_03_28-21_56_16.pt"
      ],
      "id": "9bb89735",
      "execution_count": null,
      "outputs": []
    },
    {
      "cell_type": "code",
      "metadata": {
        "id": "fe8cfc70"
      },
      "source": [
        "!(cd frankmocap && xvfb-run -a python -m demo.demo_bodymocap --input_path ./sample_data/1.jpg --out_dir ./mocap_output)"
      ],
      "id": "fe8cfc70",
      "execution_count": null,
      "outputs": []
    }
  ]
}