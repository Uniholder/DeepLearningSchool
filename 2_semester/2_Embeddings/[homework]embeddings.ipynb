{
 "cells": [
  {
   "cell_type": "markdown",
   "metadata": {
    "colab_type": "text",
    "id": "view-in-github"
   },
   "source": [
    "<a href=\"https://colab.research.google.com/github/Uniholder/DeepLearningSchool/blob/main/2_semester/2_Embeddings/%5Bhomework%5Dembeddings.ipynb\" target=\"_parent\"><img src=\"https://colab.research.google.com/assets/colab-badge.svg\" alt=\"Open In Colab\"/></a>"
   ]
  },
  {
   "cell_type": "markdown",
   "metadata": {
    "id": "Ot3c4fjZwC4T"
   },
   "source": [
    "<img src=\"https://s8.hostingkartinok.com/uploads/images/2018/08/308b49fcfbc619d629fe4604bceb67ac.jpg\" width=500, height=450>\n",
    "<h3 style=\"text-align: center;\"><b>Физтех-Школа Прикладной математики и информатики (ФПМИ) МФТИ</b></h3>"
   ]
  },
  {
   "cell_type": "markdown",
   "metadata": {
    "id": "P2JdzEXmwRU5"
   },
   "source": [
    "---"
   ]
  },
  {
   "cell_type": "markdown",
   "metadata": {
    "id": "eYtJxkhKpYK2"
   },
   "source": [
    "# Embeddings\n",
    "\n",
    "Привет! В этом домашнем задании мы с помощью эмбеддингов решим задачу семантической классификации твитов.\n",
    "\n",
    "Для этого мы воспользуемся предобученными эмбеддингами word2vec."
   ]
  },
  {
   "cell_type": "markdown",
   "metadata": {
    "id": "jBOdoFS8AdpP"
   },
   "source": [
    "Для начала скачаем датасет для семантической классификации твитов:"
   ]
  },
  {
   "cell_type": "code",
   "execution_count": 2,
   "metadata": {
    "id": "wXjhtsfF_gBK",
    "scrolled": true
   },
   "outputs": [],
   "source": [
    "# !gdown --id 1eE1FiUkXkcbw0McId4i7qY-L8hH-_Qph\n",
    "# !unzip archive.zip"
   ]
  },
  {
   "cell_type": "markdown",
   "metadata": {
    "id": "Sh6wW-K53Mle"
   },
   "source": [
    "Импортируем нужные библиотеки:"
   ]
  },
  {
   "cell_type": "code",
   "execution_count": 3,
   "metadata": {
    "id": "A2Y5CHRm6NFe"
   },
   "outputs": [],
   "source": [
    "import math\n",
    "import random\n",
    "import string\n",
    "import os\n",
    "\n",
    "import numpy as np\n",
    "import pandas as pd\n",
    "import seaborn as sns\n",
    "\n",
    "import torch\n",
    "import nltk\n",
    "import gensim\n",
    "import gensim.downloader as api"
   ]
  },
  {
   "cell_type": "code",
   "execution_count": 4,
   "metadata": {
    "id": "73Lb0wbESrgQ"
   },
   "outputs": [],
   "source": [
    "random.seed(42)\n",
    "np.random.seed(42)\n",
    "torch.random.manual_seed(42)\n",
    "torch.cuda.random.manual_seed(42)\n",
    "torch.cuda.random.manual_seed_all(42)\n",
    "\n",
    "device = \"cuda\" if torch.cuda.is_available() else \"cpu\"\n",
    "PATH_TO_DATA = '../data'"
   ]
  },
  {
   "cell_type": "code",
   "execution_count": 5,
   "metadata": {
    "id": "L_Wv-4bu83Fl"
   },
   "outputs": [],
   "source": [
    "data = pd.read_csv(\n",
    "    os.path.join(PATH_TO_DATA, \"training.1600000.processed.noemoticon.csv\"),\n",
    "    encoding=\"latin\", \n",
    "    header=None, \n",
    "    names=[\"emotion\", \"id\", \"date\", \"flag\", \"user\", \"text\"]\n",
    ")"
   ]
  },
  {
   "cell_type": "markdown",
   "metadata": {
    "id": "RY1pvYDS3Yuj"
   },
   "source": [
    "Посмотрим на данные:"
   ]
  },
  {
   "cell_type": "code",
   "execution_count": 6,
   "metadata": {
    "id": "jST2tjgjCTWD"
   },
   "outputs": [
    {
     "data": {
      "text/html": [
       "<div>\n",
       "<style scoped>\n",
       "    .dataframe tbody tr th:only-of-type {\n",
       "        vertical-align: middle;\n",
       "    }\n",
       "\n",
       "    .dataframe tbody tr th {\n",
       "        vertical-align: top;\n",
       "    }\n",
       "\n",
       "    .dataframe thead th {\n",
       "        text-align: right;\n",
       "    }\n",
       "</style>\n",
       "<table border=\"1\" class=\"dataframe\">\n",
       "  <thead>\n",
       "    <tr style=\"text-align: right;\">\n",
       "      <th></th>\n",
       "      <th>emotion</th>\n",
       "      <th>id</th>\n",
       "      <th>date</th>\n",
       "      <th>flag</th>\n",
       "      <th>user</th>\n",
       "      <th>text</th>\n",
       "    </tr>\n",
       "  </thead>\n",
       "  <tbody>\n",
       "    <tr>\n",
       "      <th>0</th>\n",
       "      <td>0</td>\n",
       "      <td>1467810369</td>\n",
       "      <td>Mon Apr 06 22:19:45 PDT 2009</td>\n",
       "      <td>NO_QUERY</td>\n",
       "      <td>_TheSpecialOne_</td>\n",
       "      <td>@switchfoot http://twitpic.com/2y1zl - Awww, t...</td>\n",
       "    </tr>\n",
       "    <tr>\n",
       "      <th>1</th>\n",
       "      <td>0</td>\n",
       "      <td>1467810672</td>\n",
       "      <td>Mon Apr 06 22:19:49 PDT 2009</td>\n",
       "      <td>NO_QUERY</td>\n",
       "      <td>scotthamilton</td>\n",
       "      <td>is upset that he can't update his Facebook by ...</td>\n",
       "    </tr>\n",
       "    <tr>\n",
       "      <th>2</th>\n",
       "      <td>0</td>\n",
       "      <td>1467810917</td>\n",
       "      <td>Mon Apr 06 22:19:53 PDT 2009</td>\n",
       "      <td>NO_QUERY</td>\n",
       "      <td>mattycus</td>\n",
       "      <td>@Kenichan I dived many times for the ball. Man...</td>\n",
       "    </tr>\n",
       "    <tr>\n",
       "      <th>3</th>\n",
       "      <td>0</td>\n",
       "      <td>1467811184</td>\n",
       "      <td>Mon Apr 06 22:19:57 PDT 2009</td>\n",
       "      <td>NO_QUERY</td>\n",
       "      <td>ElleCTF</td>\n",
       "      <td>my whole body feels itchy and like its on fire</td>\n",
       "    </tr>\n",
       "    <tr>\n",
       "      <th>4</th>\n",
       "      <td>0</td>\n",
       "      <td>1467811193</td>\n",
       "      <td>Mon Apr 06 22:19:57 PDT 2009</td>\n",
       "      <td>NO_QUERY</td>\n",
       "      <td>Karoli</td>\n",
       "      <td>@nationwideclass no, it's not behaving at all....</td>\n",
       "    </tr>\n",
       "    <tr>\n",
       "      <th>...</th>\n",
       "      <td>...</td>\n",
       "      <td>...</td>\n",
       "      <td>...</td>\n",
       "      <td>...</td>\n",
       "      <td>...</td>\n",
       "      <td>...</td>\n",
       "    </tr>\n",
       "    <tr>\n",
       "      <th>1599995</th>\n",
       "      <td>4</td>\n",
       "      <td>2193601966</td>\n",
       "      <td>Tue Jun 16 08:40:49 PDT 2009</td>\n",
       "      <td>NO_QUERY</td>\n",
       "      <td>AmandaMarie1028</td>\n",
       "      <td>Just woke up. Having no school is the best fee...</td>\n",
       "    </tr>\n",
       "    <tr>\n",
       "      <th>1599996</th>\n",
       "      <td>4</td>\n",
       "      <td>2193601969</td>\n",
       "      <td>Tue Jun 16 08:40:49 PDT 2009</td>\n",
       "      <td>NO_QUERY</td>\n",
       "      <td>TheWDBoards</td>\n",
       "      <td>TheWDB.com - Very cool to hear old Walt interv...</td>\n",
       "    </tr>\n",
       "    <tr>\n",
       "      <th>1599997</th>\n",
       "      <td>4</td>\n",
       "      <td>2193601991</td>\n",
       "      <td>Tue Jun 16 08:40:49 PDT 2009</td>\n",
       "      <td>NO_QUERY</td>\n",
       "      <td>bpbabe</td>\n",
       "      <td>Are you ready for your MoJo Makeover? Ask me f...</td>\n",
       "    </tr>\n",
       "    <tr>\n",
       "      <th>1599998</th>\n",
       "      <td>4</td>\n",
       "      <td>2193602064</td>\n",
       "      <td>Tue Jun 16 08:40:49 PDT 2009</td>\n",
       "      <td>NO_QUERY</td>\n",
       "      <td>tinydiamondz</td>\n",
       "      <td>Happy 38th Birthday to my boo of alll time!!! ...</td>\n",
       "    </tr>\n",
       "    <tr>\n",
       "      <th>1599999</th>\n",
       "      <td>4</td>\n",
       "      <td>2193602129</td>\n",
       "      <td>Tue Jun 16 08:40:50 PDT 2009</td>\n",
       "      <td>NO_QUERY</td>\n",
       "      <td>RyanTrevMorris</td>\n",
       "      <td>happy #charitytuesday @theNSPCC @SparksCharity...</td>\n",
       "    </tr>\n",
       "  </tbody>\n",
       "</table>\n",
       "<p>1600000 rows × 6 columns</p>\n",
       "</div>"
      ],
      "text/plain": [
       "         emotion          id                          date      flag  \\\n",
       "0              0  1467810369  Mon Apr 06 22:19:45 PDT 2009  NO_QUERY   \n",
       "1              0  1467810672  Mon Apr 06 22:19:49 PDT 2009  NO_QUERY   \n",
       "2              0  1467810917  Mon Apr 06 22:19:53 PDT 2009  NO_QUERY   \n",
       "3              0  1467811184  Mon Apr 06 22:19:57 PDT 2009  NO_QUERY   \n",
       "4              0  1467811193  Mon Apr 06 22:19:57 PDT 2009  NO_QUERY   \n",
       "...          ...         ...                           ...       ...   \n",
       "1599995        4  2193601966  Tue Jun 16 08:40:49 PDT 2009  NO_QUERY   \n",
       "1599996        4  2193601969  Tue Jun 16 08:40:49 PDT 2009  NO_QUERY   \n",
       "1599997        4  2193601991  Tue Jun 16 08:40:49 PDT 2009  NO_QUERY   \n",
       "1599998        4  2193602064  Tue Jun 16 08:40:49 PDT 2009  NO_QUERY   \n",
       "1599999        4  2193602129  Tue Jun 16 08:40:50 PDT 2009  NO_QUERY   \n",
       "\n",
       "                    user                                               text  \n",
       "0        _TheSpecialOne_  @switchfoot http://twitpic.com/2y1zl - Awww, t...  \n",
       "1          scotthamilton  is upset that he can't update his Facebook by ...  \n",
       "2               mattycus  @Kenichan I dived many times for the ball. Man...  \n",
       "3                ElleCTF    my whole body feels itchy and like its on fire   \n",
       "4                 Karoli  @nationwideclass no, it's not behaving at all....  \n",
       "...                  ...                                                ...  \n",
       "1599995  AmandaMarie1028  Just woke up. Having no school is the best fee...  \n",
       "1599996      TheWDBoards  TheWDB.com - Very cool to hear old Walt interv...  \n",
       "1599997           bpbabe  Are you ready for your MoJo Makeover? Ask me f...  \n",
       "1599998     tinydiamondz  Happy 38th Birthday to my boo of alll time!!! ...  \n",
       "1599999   RyanTrevMorris  happy #charitytuesday @theNSPCC @SparksCharity...  \n",
       "\n",
       "[1600000 rows x 6 columns]"
      ]
     },
     "execution_count": 6,
     "metadata": {},
     "output_type": "execute_result"
    }
   ],
   "source": [
    "data"
   ]
  },
  {
   "cell_type": "markdown",
   "metadata": {
    "id": "OhbR5JJyA2VW"
   },
   "source": [
    "Выведем несколько примеров твитов, чтобы понимать, с чем мы имеем дело:"
   ]
  },
  {
   "cell_type": "code",
   "execution_count": 7,
   "metadata": {
    "id": "kCBwe0wR83C2"
   },
   "outputs": [
    {
     "name": "stdout",
     "output_type": "stream",
     "text": [
      "@chrishasboobs AHHH I HOPE YOUR OK!!! \n",
      "@misstoriblack cool , i have no tweet apps  for my razr 2\n",
      "@TiannaChaos i know  just family drama. its lame.hey next time u hang out with kim n u guys like have a sleepover or whatever, ill call u\n",
      "School email won't open  and I have geography stuff on there to revise! *Stupid School* :'(\n",
      "upper airways problem \n",
      "Going to miss Pastor's sermon on Faith... \n",
      "on lunch....dj should come eat with me \n",
      "@piginthepoke oh why are you feeling like that? \n",
      "gahh noo!peyton needs to live!this is horrible \n",
      "@mrstessyman thank you glad you like it! There is a product review bit on the site  Enjoy knitting it!\n"
     ]
    }
   ],
   "source": [
    "examples = data[\"text\"].sample(10)\n",
    "print(\"\\n\".join(examples))"
   ]
  },
  {
   "cell_type": "markdown",
   "metadata": {
    "id": "GvcYW8aX3mKt"
   },
   "source": [
    "Как видим, тексты твитов очень \"грязные\". Нужно предобработать датасет, прежде чем строить для него модель классификации.\n",
    "\n",
    "Чтобы сравнивать различные методы обработки текста/модели/прочее, разделим датасет на dev(для обучения модели) и test(для получения качества модели)."
   ]
  },
  {
   "cell_type": "code",
   "execution_count": 8,
   "metadata": {
    "id": "f8hUK-jnQg6O"
   },
   "outputs": [],
   "source": [
    "indexes = np.arange(data.shape[0])\n",
    "np.random.shuffle(indexes)\n",
    "dev_size = math.ceil(data.shape[0] * 0.8)\n",
    "\n",
    "dev_indexes = indexes[:dev_size]\n",
    "test_indexes = indexes[dev_size:]\n",
    "\n",
    "dev_data = data.iloc[dev_indexes]\n",
    "test_data = data.iloc[test_indexes]\n",
    "\n",
    "dev_data.reset_index(drop=True, inplace=True)\n",
    "test_data.reset_index(drop=True, inplace=True)"
   ]
  },
  {
   "cell_type": "markdown",
   "metadata": {
    "id": "6ivcpeFoCnZA"
   },
   "source": [
    "## Обработка текста"
   ]
  },
  {
   "cell_type": "markdown",
   "metadata": {
    "id": "Df4nca285Dar"
   },
   "source": [
    "Токенизируем текст, избавимся от знаков пунктуации и выкинем все слова, состоящие менее чем из 4 букв:"
   ]
  },
  {
   "cell_type": "code",
   "execution_count": 9,
   "metadata": {
    "id": "nsNHNDES9ZVF"
   },
   "outputs": [
    {
     "name": "stdout",
     "output_type": "stream",
     "text": [
      "@ claire_nelson i ' m on the north devon coast the next few weeks will be down in devon again in may sometime i hope though !\n"
     ]
    }
   ],
   "source": [
    "tokenizer = nltk.WordPunctTokenizer()\n",
    "line = tokenizer.tokenize(dev_data[\"text\"][0].lower())\n",
    "print(\" \".join(line))"
   ]
  },
  {
   "cell_type": "code",
   "execution_count": 10,
   "metadata": {
    "id": "GcBS_u_hTuxp"
   },
   "outputs": [
    {
     "name": "stdout",
     "output_type": "stream",
     "text": [
      "north devon coast next weeks will down devon again sometime hope though\n"
     ]
    }
   ],
   "source": [
    "filtered_line = [w for w in line if all(c not in string.punctuation for c in w) and len(w) > 3]\n",
    "print(\" \".join(filtered_line))"
   ]
  },
  {
   "cell_type": "markdown",
   "metadata": {
    "id": "cuFmlXkC6E7X"
   },
   "source": [
    "Загрузим предобученную модель эмбеддингов. \n",
    "\n",
    "Если хотите, можно попробовать другую. Полный список можно найти здесь: https://github.com/RaRe-Technologies/gensim-data.\n",
    "\n",
    "Данная модель выдает эмбеддинги для **слов**. Строить по эмбеддингам слов эмбеддинги предложений мы будем ниже."
   ]
  },
  {
   "cell_type": "code",
   "execution_count": 11,
   "metadata": {
    "id": "cACJpje2T5bc"
   },
   "outputs": [],
   "source": [
    "word2vec = api.load(\"word2vec-google-news-300\")"
   ]
  },
  {
   "cell_type": "code",
   "execution_count": 12,
   "metadata": {
    "id": "NafmYHrkT5YD"
   },
   "outputs": [
    {
     "name": "stdout",
     "output_type": "stream",
     "text": [
      "(300,)\n"
     ]
    }
   ],
   "source": [
    "emb_line = [word2vec.get_vector(w) for w in filtered_line if w in word2vec]\n",
    "print(sum(emb_line).shape)"
   ]
  },
  {
   "cell_type": "markdown",
   "metadata": {
    "id": "LTS6LCkd6_E7"
   },
   "source": [
    "Нормализуем эмбеддинги, прежде чем обучать на них сеть. \n",
    "(наверное, вы помните, что нейронные сети гораздо лучше обучаются на нормализованных данных)"
   ]
  },
  {
   "cell_type": "code",
   "execution_count": 13,
   "metadata": {
    "id": "3PyLTZ6xf3Oq"
   },
   "outputs": [
    {
     "name": "stdout",
     "output_type": "stream",
     "text": [
      "(300,)\n",
      "[False, False, False, False, False, False, False, False, False, False, False, False]\n"
     ]
    }
   ],
   "source": [
    "mean = np.mean(word2vec.vectors, 0)\n",
    "std = np.std(word2vec.vectors, 0)\n",
    "norm_emb_line = [(word2vec.get_vector(w) - mean) / std for w in filtered_line if w in word2vec and len(w) > 3]  #\n",
    "print(sum(norm_emb_line).shape)\n",
    "print([all(norm_emb_line[i] == emb_line[i]) for i in range(len(emb_line))])"
   ]
  },
  {
   "cell_type": "markdown",
   "metadata": {
    "id": "q7vm6Ppd7Ubw"
   },
   "source": [
    "Сделаем датасет, который будет по запросу возвращать подготовленные данные."
   ]
  },
  {
   "cell_type": "code",
   "execution_count": 14,
   "metadata": {
    "id": "b4eZajF7pZ1X"
   },
   "outputs": [],
   "source": [
    "from torch.utils.data import Dataset, random_split\n",
    "\n",
    "\n",
    "class TwitterDataset(Dataset):\n",
    "    def __init__(self, data: pd.DataFrame, feature_column: str, target_column: str, word2vec: gensim.models.Word2Vec):\n",
    "        self.tokenizer = nltk.WordPunctTokenizer()\n",
    "        \n",
    "        self.data = data\n",
    "\n",
    "        self.feature_column = feature_column\n",
    "        self.target_column = target_column\n",
    "\n",
    "        self.word2vec = word2vec\n",
    "\n",
    "        self.label2num = lambda label: 0 if label == 0 else 1\n",
    "        self.mean = np.mean(word2vec.vectors, axis=0)\n",
    "        self.std = np.std(word2vec.vectors, axis=0)\n",
    "        \n",
    "\n",
    "    def __getitem__(self, item):\n",
    "        text = self.data[self.feature_column][item]\n",
    "        label = self.label2num(self.data[self.target_column][item])\n",
    "\n",
    "        tokens = self.get_tokens_(text)\n",
    "        embeddings = self.get_embeddings_(tokens)\n",
    "\n",
    "        return {\"feature\": embeddings, \"target\": label}\n",
    "    \n",
    "\n",
    "    def get_tokens_(self, text):\n",
    "        tokens = self.tokenizer.tokenize(text.lower())\n",
    "        filtered_tokens = [t for t in tokens if all(ch not in string.punctuation for ch in t) and len(t) > 3]\n",
    "        \n",
    "        return filtered_tokens\n",
    "    \n",
    "\n",
    "    def get_embeddings_(self, tokens):\n",
    "        embeddings = [(self.word2vec.get_vector(t) - self.mean) / self.std for t in tokens if t in self.word2vec]\n",
    "\n",
    "        if len(embeddings) == 0:\n",
    "            embeddings = np.zeros((1, self.word2vec.vector_size))\n",
    "        else:\n",
    "            embeddings = np.array(embeddings)\n",
    "            if len(embeddings.shape) == 1:\n",
    "                embeddings = embeddings.reshape(-1, 1)\n",
    "\n",
    "        return embeddings\n",
    "    \n",
    "\n",
    "    def __len__(self):\n",
    "        return self.data.shape[0]"
   ]
  },
  {
   "cell_type": "code",
   "execution_count": 15,
   "metadata": {
    "id": "IZJpttbXpZyz"
   },
   "outputs": [],
   "source": [
    "dev = TwitterDataset(dev_data, \"text\", \"emotion\", word2vec)"
   ]
  },
  {
   "cell_type": "markdown",
   "metadata": {
    "id": "Sr-aetH0_LH1"
   },
   "source": [
    "Отлично, мы готовы с помощью эмбеддингов слов превращать твиты в векторы и обучать нейронную сеть.\n",
    "\n",
    "Превращать твиты в векторы, используя эмбеддинги слов, можно несколькими способами. А именно такими:"
   ]
  },
  {
   "cell_type": "markdown",
   "metadata": {
    "id": "4AhHrWa196Yc"
   },
   "source": [
    "## Average embedding (2 балла)\n",
    "---\n",
    "Это самый простой вариант, как получить вектор предложения, используя векторные представления слов в предложении. А именно: вектор предложения есть средний вектор всех слов в предложении (которые остались после токенизации и удаления коротких слов, конечно). "
   ]
  },
  {
   "cell_type": "code",
   "execution_count": 16,
   "metadata": {
    "id": "ScdokSW-994t"
   },
   "outputs": [
    {
     "name": "stdout",
     "output_type": "stream",
     "text": [
      "1280\n"
     ]
    }
   ],
   "source": [
    "indexes = np.arange(len(dev))\n",
    "np.random.shuffle(indexes)\n",
    "example_indexes = indexes[::1000]\n",
    "\n",
    "examples = {\"features\": [np.sum(dev[i][\"feature\"], axis=0) for i in example_indexes], \n",
    "            \"targets\": [dev[i][\"target\"] for i in example_indexes]}\n",
    "print(len(examples[\"features\"]))"
   ]
  },
  {
   "cell_type": "markdown",
   "metadata": {
    "id": "1yGQ_lOx_1NL"
   },
   "source": [
    "Давайте сделаем визуализацию полученных векторов твитов тренировочного (dev) датасета. Так мы увидим, насколько хорошо твиты с разными target значениями отделяются друг от друга, т.е. насколько хорошо усреднение эмбеддингов слов предложения передает информацию о предложении."
   ]
  },
  {
   "cell_type": "markdown",
   "metadata": {
    "id": "LZwFksd_8uYO"
   },
   "source": [
    "Для визуализации векторов надо получить их проекцию на плоскость. Сделаем это с помощью `PCA`. Если хотите, можете вместо PCA использовать TSNE: так у вас получится более точная проекция на плоскость (а значит, более информативная, т.е. отражающая реальное положение векторов твитов в пространстве). Но TSNE будет работать намного дольше."
   ]
  },
  {
   "cell_type": "code",
   "execution_count": 22,
   "metadata": {
    "id": "aKFZRSHdtIac"
   },
   "outputs": [],
   "source": [
    "from sklearn.decomposition import PCA\n",
    "\n",
    "pca = PCA(n_components=2)\n",
    "examples[\"transformed_features\"] = pca.fit_transform(np.array(examples['features']))"
   ]
  },
  {
   "cell_type": "code",
   "execution_count": 25,
   "metadata": {
    "id": "szEOWdiNtIX8"
   },
   "outputs": [
    {
     "data": {
      "text/html": [
       "\n",
       "    <div class=\"bk-root\">\n",
       "        <a href=\"https://bokeh.org\" target=\"_blank\" class=\"bk-logo bk-logo-small bk-logo-notebook\"></a>\n",
       "        <span id=\"1002\">Loading BokehJS ...</span>\n",
       "    </div>"
      ]
     },
     "metadata": {},
     "output_type": "display_data"
    },
    {
     "data": {
      "application/javascript": [
       "\n",
       "(function(root) {\n",
       "  function now() {\n",
       "    return new Date();\n",
       "  }\n",
       "\n",
       "  var force = true;\n",
       "\n",
       "  if (typeof root._bokeh_onload_callbacks === \"undefined\" || force === true) {\n",
       "    root._bokeh_onload_callbacks = [];\n",
       "    root._bokeh_is_loading = undefined;\n",
       "  }\n",
       "\n",
       "  var JS_MIME_TYPE = 'application/javascript';\n",
       "  var HTML_MIME_TYPE = 'text/html';\n",
       "  var EXEC_MIME_TYPE = 'application/vnd.bokehjs_exec.v0+json';\n",
       "  var CLASS_NAME = 'output_bokeh rendered_html';\n",
       "\n",
       "  /**\n",
       "   * Render data to the DOM node\n",
       "   */\n",
       "  function render(props, node) {\n",
       "    var script = document.createElement(\"script\");\n",
       "    node.appendChild(script);\n",
       "  }\n",
       "\n",
       "  /**\n",
       "   * Handle when an output is cleared or removed\n",
       "   */\n",
       "  function handleClearOutput(event, handle) {\n",
       "    var cell = handle.cell;\n",
       "\n",
       "    var id = cell.output_area._bokeh_element_id;\n",
       "    var server_id = cell.output_area._bokeh_server_id;\n",
       "    // Clean up Bokeh references\n",
       "    if (id != null && id in Bokeh.index) {\n",
       "      Bokeh.index[id].model.document.clear();\n",
       "      delete Bokeh.index[id];\n",
       "    }\n",
       "\n",
       "    if (server_id !== undefined) {\n",
       "      // Clean up Bokeh references\n",
       "      var cmd = \"from bokeh.io.state import curstate; print(curstate().uuid_to_server['\" + server_id + \"'].get_sessions()[0].document.roots[0]._id)\";\n",
       "      cell.notebook.kernel.execute(cmd, {\n",
       "        iopub: {\n",
       "          output: function(msg) {\n",
       "            var id = msg.content.text.trim();\n",
       "            if (id in Bokeh.index) {\n",
       "              Bokeh.index[id].model.document.clear();\n",
       "              delete Bokeh.index[id];\n",
       "            }\n",
       "          }\n",
       "        }\n",
       "      });\n",
       "      // Destroy server and session\n",
       "      var cmd = \"import bokeh.io.notebook as ion; ion.destroy_server('\" + server_id + \"')\";\n",
       "      cell.notebook.kernel.execute(cmd);\n",
       "    }\n",
       "  }\n",
       "\n",
       "  /**\n",
       "   * Handle when a new output is added\n",
       "   */\n",
       "  function handleAddOutput(event, handle) {\n",
       "    var output_area = handle.output_area;\n",
       "    var output = handle.output;\n",
       "\n",
       "    // limit handleAddOutput to display_data with EXEC_MIME_TYPE content only\n",
       "    if ((output.output_type != \"display_data\") || (!Object.prototype.hasOwnProperty.call(output.data, EXEC_MIME_TYPE))) {\n",
       "      return\n",
       "    }\n",
       "\n",
       "    var toinsert = output_area.element.find(\".\" + CLASS_NAME.split(' ')[0]);\n",
       "\n",
       "    if (output.metadata[EXEC_MIME_TYPE][\"id\"] !== undefined) {\n",
       "      toinsert[toinsert.length - 1].firstChild.textContent = output.data[JS_MIME_TYPE];\n",
       "      // store reference to embed id on output_area\n",
       "      output_area._bokeh_element_id = output.metadata[EXEC_MIME_TYPE][\"id\"];\n",
       "    }\n",
       "    if (output.metadata[EXEC_MIME_TYPE][\"server_id\"] !== undefined) {\n",
       "      var bk_div = document.createElement(\"div\");\n",
       "      bk_div.innerHTML = output.data[HTML_MIME_TYPE];\n",
       "      var script_attrs = bk_div.children[0].attributes;\n",
       "      for (var i = 0; i < script_attrs.length; i++) {\n",
       "        toinsert[toinsert.length - 1].firstChild.setAttribute(script_attrs[i].name, script_attrs[i].value);\n",
       "        toinsert[toinsert.length - 1].firstChild.textContent = bk_div.children[0].textContent\n",
       "      }\n",
       "      // store reference to server id on output_area\n",
       "      output_area._bokeh_server_id = output.metadata[EXEC_MIME_TYPE][\"server_id\"];\n",
       "    }\n",
       "  }\n",
       "\n",
       "  function register_renderer(events, OutputArea) {\n",
       "\n",
       "    function append_mime(data, metadata, element) {\n",
       "      // create a DOM node to render to\n",
       "      var toinsert = this.create_output_subarea(\n",
       "        metadata,\n",
       "        CLASS_NAME,\n",
       "        EXEC_MIME_TYPE\n",
       "      );\n",
       "      this.keyboard_manager.register_events(toinsert);\n",
       "      // Render to node\n",
       "      var props = {data: data, metadata: metadata[EXEC_MIME_TYPE]};\n",
       "      render(props, toinsert[toinsert.length - 1]);\n",
       "      element.append(toinsert);\n",
       "      return toinsert\n",
       "    }\n",
       "\n",
       "    /* Handle when an output is cleared or removed */\n",
       "    events.on('clear_output.CodeCell', handleClearOutput);\n",
       "    events.on('delete.Cell', handleClearOutput);\n",
       "\n",
       "    /* Handle when a new output is added */\n",
       "    events.on('output_added.OutputArea', handleAddOutput);\n",
       "\n",
       "    /**\n",
       "     * Register the mime type and append_mime function with output_area\n",
       "     */\n",
       "    OutputArea.prototype.register_mime_type(EXEC_MIME_TYPE, append_mime, {\n",
       "      /* Is output safe? */\n",
       "      safe: true,\n",
       "      /* Index of renderer in `output_area.display_order` */\n",
       "      index: 0\n",
       "    });\n",
       "  }\n",
       "\n",
       "  // register the mime type if in Jupyter Notebook environment and previously unregistered\n",
       "  if (root.Jupyter !== undefined) {\n",
       "    var events = require('base/js/events');\n",
       "    var OutputArea = require('notebook/js/outputarea').OutputArea;\n",
       "\n",
       "    if (OutputArea.prototype.mime_types().indexOf(EXEC_MIME_TYPE) == -1) {\n",
       "      register_renderer(events, OutputArea);\n",
       "    }\n",
       "  }\n",
       "\n",
       "  \n",
       "  if (typeof (root._bokeh_timeout) === \"undefined\" || force === true) {\n",
       "    root._bokeh_timeout = Date.now() + 5000;\n",
       "    root._bokeh_failed_load = false;\n",
       "  }\n",
       "\n",
       "  var NB_LOAD_WARNING = {'data': {'text/html':\n",
       "     \"<div style='background-color: #fdd'>\\n\"+\n",
       "     \"<p>\\n\"+\n",
       "     \"BokehJS does not appear to have successfully loaded. If loading BokehJS from CDN, this \\n\"+\n",
       "     \"may be due to a slow or bad network connection. Possible fixes:\\n\"+\n",
       "     \"</p>\\n\"+\n",
       "     \"<ul>\\n\"+\n",
       "     \"<li>re-rerun `output_notebook()` to attempt to load from CDN again, or</li>\\n\"+\n",
       "     \"<li>use INLINE resources instead, as so:</li>\\n\"+\n",
       "     \"</ul>\\n\"+\n",
       "     \"<code>\\n\"+\n",
       "     \"from bokeh.resources import INLINE\\n\"+\n",
       "     \"output_notebook(resources=INLINE)\\n\"+\n",
       "     \"</code>\\n\"+\n",
       "     \"</div>\"}};\n",
       "\n",
       "  function display_loaded() {\n",
       "    var el = document.getElementById(\"1002\");\n",
       "    if (el != null) {\n",
       "      el.textContent = \"BokehJS is loading...\";\n",
       "    }\n",
       "    if (root.Bokeh !== undefined) {\n",
       "      if (el != null) {\n",
       "        el.textContent = \"BokehJS \" + root.Bokeh.version + \" successfully loaded.\";\n",
       "      }\n",
       "    } else if (Date.now() < root._bokeh_timeout) {\n",
       "      setTimeout(display_loaded, 100)\n",
       "    }\n",
       "  }\n",
       "\n",
       "\n",
       "  function run_callbacks() {\n",
       "    try {\n",
       "      root._bokeh_onload_callbacks.forEach(function(callback) {\n",
       "        if (callback != null)\n",
       "          callback();\n",
       "      });\n",
       "    } finally {\n",
       "      delete root._bokeh_onload_callbacks\n",
       "    }\n",
       "    console.debug(\"Bokeh: all callbacks have finished\");\n",
       "  }\n",
       "\n",
       "  function load_libs(css_urls, js_urls, callback) {\n",
       "    if (css_urls == null) css_urls = [];\n",
       "    if (js_urls == null) js_urls = [];\n",
       "\n",
       "    root._bokeh_onload_callbacks.push(callback);\n",
       "    if (root._bokeh_is_loading > 0) {\n",
       "      console.debug(\"Bokeh: BokehJS is being loaded, scheduling callback at\", now());\n",
       "      return null;\n",
       "    }\n",
       "    if (js_urls == null || js_urls.length === 0) {\n",
       "      run_callbacks();\n",
       "      return null;\n",
       "    }\n",
       "    console.debug(\"Bokeh: BokehJS not loaded, scheduling load and callback at\", now());\n",
       "    root._bokeh_is_loading = css_urls.length + js_urls.length;\n",
       "\n",
       "    function on_load() {\n",
       "      root._bokeh_is_loading--;\n",
       "      if (root._bokeh_is_loading === 0) {\n",
       "        console.debug(\"Bokeh: all BokehJS libraries/stylesheets loaded\");\n",
       "        run_callbacks()\n",
       "      }\n",
       "    }\n",
       "\n",
       "    function on_error(url) {\n",
       "      console.error(\"failed to load \" + url);\n",
       "    }\n",
       "\n",
       "    for (let i = 0; i < css_urls.length; i++) {\n",
       "      const url = css_urls[i];\n",
       "      const element = document.createElement(\"link\");\n",
       "      element.onload = on_load;\n",
       "      element.onerror = on_error.bind(null, url);\n",
       "      element.rel = \"stylesheet\";\n",
       "      element.type = \"text/css\";\n",
       "      element.href = url;\n",
       "      console.debug(\"Bokeh: injecting link tag for BokehJS stylesheet: \", url);\n",
       "      document.body.appendChild(element);\n",
       "    }\n",
       "\n",
       "    const hashes = {\"https://cdn.bokeh.org/bokeh/release/bokeh-2.3.2.min.js\": \"XypntL49z55iwGVUW4qsEu83zKL3XEcz0MjuGOQ9SlaaQ68X/g+k1FcioZi7oQAc\", \"https://cdn.bokeh.org/bokeh/release/bokeh-tables-2.3.2.min.js\": \"bEsM86IHGDTLCS0Zod8a8WM6Y4+lafAL/eSiyQcuPzinmWNgNO2/olUF0Z2Dkn5i\", \"https://cdn.bokeh.org/bokeh/release/bokeh-widgets-2.3.2.min.js\": \"TX0gSQTdXTTeScqxj6PVQxTiRW8DOoGVwinyi1D3kxv7wuxQ02XkOxv0xwiypcAH\"};\n",
       "\n",
       "    for (let i = 0; i < js_urls.length; i++) {\n",
       "      const url = js_urls[i];\n",
       "      const element = document.createElement('script');\n",
       "      element.onload = on_load;\n",
       "      element.onerror = on_error.bind(null, url);\n",
       "      element.async = false;\n",
       "      element.src = url;\n",
       "      if (url in hashes) {\n",
       "        element.crossOrigin = \"anonymous\";\n",
       "        element.integrity = \"sha384-\" + hashes[url];\n",
       "      }\n",
       "      console.debug(\"Bokeh: injecting script tag for BokehJS library: \", url);\n",
       "      document.head.appendChild(element);\n",
       "    }\n",
       "  };\n",
       "\n",
       "  function inject_raw_css(css) {\n",
       "    const element = document.createElement(\"style\");\n",
       "    element.appendChild(document.createTextNode(css));\n",
       "    document.body.appendChild(element);\n",
       "  }\n",
       "\n",
       "  \n",
       "  var js_urls = [\"https://cdn.bokeh.org/bokeh/release/bokeh-2.3.2.min.js\", \"https://cdn.bokeh.org/bokeh/release/bokeh-widgets-2.3.2.min.js\", \"https://cdn.bokeh.org/bokeh/release/bokeh-tables-2.3.2.min.js\"];\n",
       "  var css_urls = [];\n",
       "  \n",
       "\n",
       "  var inline_js = [\n",
       "    function(Bokeh) {\n",
       "      Bokeh.set_log_level(\"info\");\n",
       "    },\n",
       "    function(Bokeh) {\n",
       "    \n",
       "    \n",
       "    }\n",
       "  ];\n",
       "\n",
       "  function run_inline_js() {\n",
       "    \n",
       "    if (root.Bokeh !== undefined || force === true) {\n",
       "      \n",
       "    for (var i = 0; i < inline_js.length; i++) {\n",
       "      inline_js[i].call(root, root.Bokeh);\n",
       "    }\n",
       "    if (force === true) {\n",
       "        display_loaded();\n",
       "      }} else if (Date.now() < root._bokeh_timeout) {\n",
       "      setTimeout(run_inline_js, 100);\n",
       "    } else if (!root._bokeh_failed_load) {\n",
       "      console.log(\"Bokeh: BokehJS failed to load within specified timeout.\");\n",
       "      root._bokeh_failed_load = true;\n",
       "    } else if (force !== true) {\n",
       "      var cell = $(document.getElementById(\"1002\")).parents('.cell').data().cell;\n",
       "      cell.output_area.append_execute_result(NB_LOAD_WARNING)\n",
       "    }\n",
       "\n",
       "  }\n",
       "\n",
       "  if (root._bokeh_is_loading === 0) {\n",
       "    console.debug(\"Bokeh: BokehJS loaded, going straight to plotting\");\n",
       "    run_inline_js();\n",
       "  } else {\n",
       "    load_libs(css_urls, js_urls, function() {\n",
       "      console.debug(\"Bokeh: BokehJS plotting callback run at\", now());\n",
       "      run_inline_js();\n",
       "    });\n",
       "  }\n",
       "}(window));"
      ],
      "application/vnd.bokehjs_load.v0+json": "\n(function(root) {\n  function now() {\n    return new Date();\n  }\n\n  var force = true;\n\n  if (typeof root._bokeh_onload_callbacks === \"undefined\" || force === true) {\n    root._bokeh_onload_callbacks = [];\n    root._bokeh_is_loading = undefined;\n  }\n\n  \n\n  \n  if (typeof (root._bokeh_timeout) === \"undefined\" || force === true) {\n    root._bokeh_timeout = Date.now() + 5000;\n    root._bokeh_failed_load = false;\n  }\n\n  var NB_LOAD_WARNING = {'data': {'text/html':\n     \"<div style='background-color: #fdd'>\\n\"+\n     \"<p>\\n\"+\n     \"BokehJS does not appear to have successfully loaded. If loading BokehJS from CDN, this \\n\"+\n     \"may be due to a slow or bad network connection. Possible fixes:\\n\"+\n     \"</p>\\n\"+\n     \"<ul>\\n\"+\n     \"<li>re-rerun `output_notebook()` to attempt to load from CDN again, or</li>\\n\"+\n     \"<li>use INLINE resources instead, as so:</li>\\n\"+\n     \"</ul>\\n\"+\n     \"<code>\\n\"+\n     \"from bokeh.resources import INLINE\\n\"+\n     \"output_notebook(resources=INLINE)\\n\"+\n     \"</code>\\n\"+\n     \"</div>\"}};\n\n  function display_loaded() {\n    var el = document.getElementById(\"1002\");\n    if (el != null) {\n      el.textContent = \"BokehJS is loading...\";\n    }\n    if (root.Bokeh !== undefined) {\n      if (el != null) {\n        el.textContent = \"BokehJS \" + root.Bokeh.version + \" successfully loaded.\";\n      }\n    } else if (Date.now() < root._bokeh_timeout) {\n      setTimeout(display_loaded, 100)\n    }\n  }\n\n\n  function run_callbacks() {\n    try {\n      root._bokeh_onload_callbacks.forEach(function(callback) {\n        if (callback != null)\n          callback();\n      });\n    } finally {\n      delete root._bokeh_onload_callbacks\n    }\n    console.debug(\"Bokeh: all callbacks have finished\");\n  }\n\n  function load_libs(css_urls, js_urls, callback) {\n    if (css_urls == null) css_urls = [];\n    if (js_urls == null) js_urls = [];\n\n    root._bokeh_onload_callbacks.push(callback);\n    if (root._bokeh_is_loading > 0) {\n      console.debug(\"Bokeh: BokehJS is being loaded, scheduling callback at\", now());\n      return null;\n    }\n    if (js_urls == null || js_urls.length === 0) {\n      run_callbacks();\n      return null;\n    }\n    console.debug(\"Bokeh: BokehJS not loaded, scheduling load and callback at\", now());\n    root._bokeh_is_loading = css_urls.length + js_urls.length;\n\n    function on_load() {\n      root._bokeh_is_loading--;\n      if (root._bokeh_is_loading === 0) {\n        console.debug(\"Bokeh: all BokehJS libraries/stylesheets loaded\");\n        run_callbacks()\n      }\n    }\n\n    function on_error(url) {\n      console.error(\"failed to load \" + url);\n    }\n\n    for (let i = 0; i < css_urls.length; i++) {\n      const url = css_urls[i];\n      const element = document.createElement(\"link\");\n      element.onload = on_load;\n      element.onerror = on_error.bind(null, url);\n      element.rel = \"stylesheet\";\n      element.type = \"text/css\";\n      element.href = url;\n      console.debug(\"Bokeh: injecting link tag for BokehJS stylesheet: \", url);\n      document.body.appendChild(element);\n    }\n\n    const hashes = {\"https://cdn.bokeh.org/bokeh/release/bokeh-2.3.2.min.js\": \"XypntL49z55iwGVUW4qsEu83zKL3XEcz0MjuGOQ9SlaaQ68X/g+k1FcioZi7oQAc\", \"https://cdn.bokeh.org/bokeh/release/bokeh-tables-2.3.2.min.js\": \"bEsM86IHGDTLCS0Zod8a8WM6Y4+lafAL/eSiyQcuPzinmWNgNO2/olUF0Z2Dkn5i\", \"https://cdn.bokeh.org/bokeh/release/bokeh-widgets-2.3.2.min.js\": \"TX0gSQTdXTTeScqxj6PVQxTiRW8DOoGVwinyi1D3kxv7wuxQ02XkOxv0xwiypcAH\"};\n\n    for (let i = 0; i < js_urls.length; i++) {\n      const url = js_urls[i];\n      const element = document.createElement('script');\n      element.onload = on_load;\n      element.onerror = on_error.bind(null, url);\n      element.async = false;\n      element.src = url;\n      if (url in hashes) {\n        element.crossOrigin = \"anonymous\";\n        element.integrity = \"sha384-\" + hashes[url];\n      }\n      console.debug(\"Bokeh: injecting script tag for BokehJS library: \", url);\n      document.head.appendChild(element);\n    }\n  };\n\n  function inject_raw_css(css) {\n    const element = document.createElement(\"style\");\n    element.appendChild(document.createTextNode(css));\n    document.body.appendChild(element);\n  }\n\n  \n  var js_urls = [\"https://cdn.bokeh.org/bokeh/release/bokeh-2.3.2.min.js\", \"https://cdn.bokeh.org/bokeh/release/bokeh-widgets-2.3.2.min.js\", \"https://cdn.bokeh.org/bokeh/release/bokeh-tables-2.3.2.min.js\"];\n  var css_urls = [];\n  \n\n  var inline_js = [\n    function(Bokeh) {\n      Bokeh.set_log_level(\"info\");\n    },\n    function(Bokeh) {\n    \n    \n    }\n  ];\n\n  function run_inline_js() {\n    \n    if (root.Bokeh !== undefined || force === true) {\n      \n    for (var i = 0; i < inline_js.length; i++) {\n      inline_js[i].call(root, root.Bokeh);\n    }\n    if (force === true) {\n        display_loaded();\n      }} else if (Date.now() < root._bokeh_timeout) {\n      setTimeout(run_inline_js, 100);\n    } else if (!root._bokeh_failed_load) {\n      console.log(\"Bokeh: BokehJS failed to load within specified timeout.\");\n      root._bokeh_failed_load = true;\n    } else if (force !== true) {\n      var cell = $(document.getElementById(\"1002\")).parents('.cell').data().cell;\n      cell.output_area.append_execute_result(NB_LOAD_WARNING)\n    }\n\n  }\n\n  if (root._bokeh_is_loading === 0) {\n    console.debug(\"Bokeh: BokehJS loaded, going straight to plotting\");\n    run_inline_js();\n  } else {\n    load_libs(css_urls, js_urls, function() {\n      console.debug(\"Bokeh: BokehJS plotting callback run at\", now());\n      run_inline_js();\n    });\n  }\n}(window));"
     },
     "metadata": {},
     "output_type": "display_data"
    }
   ],
   "source": [
    "import bokeh.models as bm, bokeh.plotting as pl\n",
    "from bokeh.io import output_notebook\n",
    "output_notebook()\n",
    "\n",
    "def draw_vectors(x, y, radius=10, alpha=0.25, color='blue', width=600, height=400, show=True, **kwargs):\n",
    "    \"\"\" draws an interactive plot for data points with auxilirary info on hover \"\"\"\n",
    "    data_source = bm.ColumnDataSource({ 'x' : x, 'y' : y, 'color': color, **kwargs })\n",
    "\n",
    "    fig = pl.figure(active_scroll='wheel_zoom', width=width, height=height)\n",
    "    fig.scatter('x', 'y', size=radius, color='color', alpha=alpha, source=data_source)\n",
    "\n",
    "    fig.add_tools(bm.HoverTool(tooltips=[(key, \"@\" + key) for key in kwargs.keys()]))\n",
    "    if show: pl.show(fig)\n",
    "        \n",
    "    return fig"
   ]
  },
  {
   "cell_type": "code",
   "execution_count": 26,
   "metadata": {
    "id": "7OONK8ldtIWe"
   },
   "outputs": [
    {
     "data": {
      "text/html": [
       "\n",
       "\n",
       "\n",
       "\n",
       "\n",
       "\n",
       "  <div class=\"bk-root\" id=\"0ae18153-248a-4c17-a995-22d2b0243c9b\" data-root-id=\"1004\"></div>\n"
      ]
     },
     "metadata": {},
     "output_type": "display_data"
    },
    {
     "data": {
      "application/javascript": [
       "(function(root) {\n",
       "  function embed_document(root) {\n",
       "    \n",
       "  var docs_json = {\"b32641fe-0335-4a84-a191-9cd060b8fe19\":{\"defs\":[],\"roots\":{\"references\":[{\"attributes\":{\"below\":[{\"id\":\"1013\"}],\"center\":[{\"id\":\"1016\"},{\"id\":\"1020\"}],\"height\":400,\"left\":[{\"id\":\"1017\"}],\"renderers\":[{\"id\":\"1038\"}],\"title\":{\"id\":\"1042\"},\"toolbar\":{\"id\":\"1028\"},\"x_range\":{\"id\":\"1005\"},\"x_scale\":{\"id\":\"1009\"},\"y_range\":{\"id\":\"1007\"},\"y_scale\":{\"id\":\"1011\"}},\"id\":\"1004\",\"subtype\":\"Figure\",\"type\":\"Plot\"},{\"attributes\":{},\"id\":\"1025\",\"type\":\"ResetTool\"},{\"attributes\":{\"active_multi\":null,\"active_scroll\":{\"id\":\"1022\"},\"tools\":[{\"id\":\"1021\"},{\"id\":\"1022\"},{\"id\":\"1023\"},{\"id\":\"1024\"},{\"id\":\"1025\"},{\"id\":\"1026\"},{\"id\":\"1040\"}]},\"id\":\"1028\",\"type\":\"Toolbar\"},{\"attributes\":{},\"id\":\"1049\",\"type\":\"AllLabels\"},{\"attributes\":{\"bottom_units\":\"screen\",\"fill_alpha\":0.5,\"fill_color\":\"lightgrey\",\"left_units\":\"screen\",\"level\":\"overlay\",\"line_alpha\":1.0,\"line_color\":\"black\",\"line_dash\":[4,4],\"line_width\":2,\"right_units\":\"screen\",\"syncable\":false,\"top_units\":\"screen\"},\"id\":\"1027\",\"type\":\"BoxAnnotation\"},{\"attributes\":{},\"id\":\"1042\",\"type\":\"Title\"},{\"attributes\":{},\"id\":\"1007\",\"type\":\"DataRange1d\"},{\"attributes\":{\"callback\":null,\"tooltips\":[]},\"id\":\"1040\",\"type\":\"HoverTool\"},{\"attributes\":{\"overlay\":{\"id\":\"1027\"}},\"id\":\"1023\",\"type\":\"BoxZoomTool\"},{\"attributes\":{},\"id\":\"1044\",\"type\":\"BasicTickFormatter\"},{\"attributes\":{\"data\":{\"color\":[\"red\",\"red\",\"red\",\"blue\",\"red\",\"blue\",\"blue\",\"blue\",\"blue\",\"blue\",\"blue\",\"blue\",\"blue\",\"red\",\"red\",\"blue\",\"blue\",\"blue\",\"red\",\"blue\",\"blue\",\"blue\",\"blue\",\"red\",\"blue\",\"blue\",\"red\",\"red\",\"blue\",\"red\",\"blue\",\"red\",\"red\",\"blue\",\"red\",\"red\",\"blue\",\"red\",\"blue\",\"blue\",\"red\",\"blue\",\"blue\",\"blue\",\"red\",\"red\",\"red\",\"red\",\"blue\",\"red\",\"blue\",\"blue\",\"blue\",\"red\",\"blue\",\"red\",\"blue\",\"blue\",\"red\",\"red\",\"red\",\"blue\",\"blue\",\"red\",\"red\",\"blue\",\"blue\",\"red\",\"blue\",\"blue\",\"blue\",\"blue\",\"red\",\"red\",\"red\",\"red\",\"red\",\"blue\",\"red\",\"red\",\"blue\",\"blue\",\"red\",\"red\",\"blue\",\"red\",\"red\",\"red\",\"blue\",\"red\",\"red\",\"red\",\"red\",\"blue\",\"blue\",\"red\",\"red\",\"blue\",\"red\",\"red\",\"blue\",\"red\",\"blue\",\"red\",\"red\",\"red\",\"red\",\"blue\",\"red\",\"blue\",\"blue\",\"blue\",\"blue\",\"red\",\"red\",\"blue\",\"blue\",\"blue\",\"red\",\"blue\",\"red\",\"red\",\"red\",\"red\",\"blue\",\"blue\",\"red\",\"blue\",\"red\",\"blue\",\"blue\",\"blue\",\"red\",\"blue\",\"red\",\"blue\",\"red\",\"red\",\"blue\",\"red\",\"red\",\"blue\",\"red\",\"red\",\"blue\",\"red\",\"red\",\"blue\",\"blue\",\"blue\",\"blue\",\"red\",\"red\",\"red\",\"blue\",\"red\",\"red\",\"red\",\"blue\",\"red\",\"red\",\"red\",\"red\",\"red\",\"red\",\"blue\",\"blue\",\"red\",\"blue\",\"blue\",\"red\",\"red\",\"red\",\"blue\",\"red\",\"red\",\"blue\",\"red\",\"blue\",\"blue\",\"red\",\"blue\",\"red\",\"red\",\"blue\",\"blue\",\"blue\",\"blue\",\"blue\",\"red\",\"red\",\"red\",\"blue\",\"blue\",\"blue\",\"red\",\"red\",\"blue\",\"blue\",\"blue\",\"blue\",\"blue\",\"blue\",\"red\",\"red\",\"red\",\"red\",\"red\",\"red\",\"red\",\"red\",\"red\",\"blue\",\"blue\",\"blue\",\"red\",\"blue\",\"red\",\"blue\",\"blue\",\"red\",\"blue\",\"red\",\"blue\",\"blue\",\"red\",\"blue\",\"blue\",\"blue\",\"blue\",\"red\",\"blue\",\"red\",\"red\",\"red\",\"blue\",\"red\",\"blue\",\"red\",\"red\",\"red\",\"blue\",\"red\",\"blue\",\"red\",\"blue\",\"red\",\"blue\",\"red\",\"blue\",\"blue\",\"blue\",\"blue\",\"blue\",\"blue\",\"blue\",\"red\",\"red\",\"red\",\"red\",\"blue\",\"red\",\"red\",\"blue\",\"blue\",\"blue\",\"red\",\"red\",\"red\",\"red\",\"blue\",\"blue\",\"blue\",\"blue\",\"blue\",\"blue\",\"blue\",\"red\",\"blue\",\"red\",\"red\",\"red\",\"blue\",\"red\",\"red\",\"blue\",\"blue\",\"red\",\"blue\",\"blue\",\"red\",\"red\",\"blue\",\"red\",\"red\",\"blue\",\"blue\",\"red\",\"blue\",\"red\",\"red\",\"blue\",\"red\",\"red\",\"blue\",\"red\",\"blue\",\"blue\",\"red\",\"red\",\"blue\",\"blue\",\"blue\",\"red\",\"blue\",\"blue\",\"red\",\"red\",\"red\",\"blue\",\"blue\",\"red\",\"blue\",\"red\",\"red\",\"red\",\"red\",\"red\",\"blue\",\"blue\",\"red\",\"red\",\"red\",\"red\",\"red\",\"blue\",\"red\",\"red\",\"red\",\"blue\",\"blue\",\"blue\",\"blue\",\"blue\",\"red\",\"blue\",\"blue\",\"red\",\"red\",\"blue\",\"blue\",\"blue\",\"blue\",\"red\",\"blue\",\"blue\",\"blue\",\"blue\",\"red\",\"blue\",\"red\",\"blue\",\"red\",\"red\",\"blue\",\"blue\",\"blue\",\"red\",\"red\",\"blue\",\"red\",\"red\",\"red\",\"blue\",\"red\",\"blue\",\"blue\",\"blue\",\"red\",\"red\",\"red\",\"blue\",\"blue\",\"red\",\"blue\",\"blue\",\"red\",\"blue\",\"blue\",\"red\",\"blue\",\"blue\",\"red\",\"blue\",\"red\",\"red\",\"blue\",\"blue\",\"blue\",\"red\",\"blue\",\"blue\",\"blue\",\"red\",\"red\",\"blue\",\"blue\",\"blue\",\"red\",\"blue\",\"blue\",\"blue\",\"red\",\"blue\",\"blue\",\"blue\",\"blue\",\"red\",\"blue\",\"blue\",\"red\",\"red\",\"red\",\"blue\",\"blue\",\"blue\",\"red\",\"red\",\"blue\",\"blue\",\"blue\",\"red\",\"blue\",\"blue\",\"blue\",\"blue\",\"blue\",\"red\",\"red\",\"blue\",\"blue\",\"blue\",\"red\",\"red\",\"blue\",\"red\",\"red\",\"red\",\"blue\",\"red\",\"red\",\"blue\",\"red\",\"blue\",\"blue\",\"red\",\"blue\",\"blue\",\"red\",\"red\",\"blue\",\"blue\",\"blue\",\"blue\",\"red\",\"red\",\"red\",\"red\",\"blue\",\"blue\",\"blue\",\"red\",\"blue\",\"blue\",\"red\",\"blue\",\"red\",\"red\",\"blue\",\"red\",\"blue\",\"red\",\"red\",\"blue\",\"red\",\"blue\",\"blue\",\"blue\",\"red\",\"blue\",\"red\",\"blue\",\"blue\",\"blue\",\"blue\",\"blue\",\"red\",\"blue\",\"blue\",\"red\",\"blue\",\"red\",\"blue\",\"red\",\"blue\",\"red\",\"red\",\"red\",\"red\",\"red\",\"red\",\"blue\",\"blue\",\"blue\",\"red\",\"blue\",\"red\",\"red\",\"blue\",\"red\",\"red\",\"red\",\"red\",\"red\",\"red\",\"blue\",\"blue\",\"blue\",\"red\",\"blue\",\"red\",\"blue\",\"blue\",\"red\",\"red\",\"red\",\"blue\",\"red\",\"blue\",\"blue\",\"blue\",\"red\",\"blue\",\"blue\",\"red\",\"blue\",\"blue\",\"blue\",\"blue\",\"blue\",\"blue\",\"red\",\"red\",\"red\",\"blue\",\"blue\",\"red\",\"blue\",\"blue\",\"blue\",\"red\",\"blue\",\"red\",\"blue\",\"blue\",\"red\",\"red\",\"blue\",\"red\",\"red\",\"red\",\"blue\",\"red\",\"red\",\"blue\",\"red\",\"red\",\"blue\",\"blue\",\"blue\",\"red\",\"red\",\"red\",\"blue\",\"blue\",\"blue\",\"red\",\"red\",\"red\",\"red\",\"blue\",\"blue\",\"red\",\"red\",\"red\",\"red\",\"red\",\"red\",\"blue\",\"blue\",\"red\",\"red\",\"red\",\"blue\",\"red\",\"red\",\"red\",\"blue\",\"red\",\"red\",\"blue\",\"red\",\"red\",\"blue\",\"blue\",\"blue\",\"red\",\"blue\",\"blue\",\"blue\",\"red\",\"red\",\"red\",\"blue\",\"blue\",\"red\",\"red\",\"blue\",\"red\",\"blue\",\"blue\",\"blue\",\"red\",\"red\",\"blue\",\"red\",\"red\",\"blue\",\"red\",\"blue\",\"blue\",\"red\",\"red\",\"red\",\"red\",\"red\",\"red\",\"red\",\"red\",\"red\",\"blue\",\"blue\",\"blue\",\"red\",\"red\",\"blue\",\"blue\",\"blue\",\"red\",\"blue\",\"blue\",\"blue\",\"blue\",\"red\",\"blue\",\"red\",\"blue\",\"red\",\"red\",\"red\",\"blue\",\"red\",\"red\",\"red\",\"blue\",\"red\",\"blue\",\"blue\",\"blue\",\"red\",\"red\",\"red\",\"blue\",\"blue\",\"blue\",\"red\",\"red\",\"red\",\"blue\",\"red\",\"red\",\"red\",\"blue\",\"red\",\"blue\",\"red\",\"red\",\"blue\",\"red\",\"blue\",\"blue\",\"red\",\"red\",\"blue\",\"blue\",\"blue\",\"blue\",\"red\",\"blue\",\"blue\",\"red\",\"red\",\"red\",\"red\",\"blue\",\"blue\",\"red\",\"red\",\"red\",\"red\",\"red\",\"blue\",\"blue\",\"red\",\"red\",\"red\",\"blue\",\"blue\",\"blue\",\"blue\",\"blue\",\"red\",\"red\",\"red\",\"blue\",\"blue\",\"red\",\"red\",\"red\",\"red\",\"red\",\"blue\",\"blue\",\"blue\",\"red\",\"red\",\"red\",\"red\",\"red\",\"blue\",\"red\",\"red\",\"red\",\"blue\",\"red\",\"red\",\"red\",\"red\",\"red\",\"red\",\"red\",\"red\",\"red\",\"blue\",\"blue\",\"blue\",\"blue\",\"blue\",\"red\",\"blue\",\"blue\",\"red\",\"blue\",\"red\",\"red\",\"blue\",\"red\",\"red\",\"blue\",\"red\",\"blue\",\"red\",\"red\",\"red\",\"blue\",\"red\",\"blue\",\"blue\",\"blue\",\"red\",\"blue\",\"blue\",\"red\",\"blue\",\"blue\",\"blue\",\"blue\",\"red\",\"blue\",\"red\",\"red\",\"red\",\"red\",\"blue\",\"blue\",\"red\",\"red\",\"blue\",\"red\",\"red\",\"blue\",\"red\",\"blue\",\"red\",\"blue\",\"blue\",\"red\",\"blue\",\"blue\",\"blue\",\"red\",\"blue\",\"red\",\"blue\",\"blue\",\"red\",\"red\",\"red\",\"blue\",\"blue\",\"blue\",\"red\",\"blue\",\"red\",\"blue\",\"blue\",\"red\",\"blue\",\"blue\",\"blue\",\"red\",\"red\",\"red\",\"blue\",\"red\",\"red\",\"red\",\"blue\",\"red\",\"red\",\"blue\",\"red\",\"blue\",\"blue\",\"blue\",\"red\",\"blue\",\"blue\",\"red\",\"red\",\"red\",\"blue\",\"blue\",\"blue\",\"red\",\"blue\",\"red\",\"blue\",\"red\",\"red\",\"blue\",\"red\",\"red\",\"red\",\"blue\",\"blue\",\"blue\",\"red\",\"red\",\"red\",\"red\",\"red\",\"red\",\"blue\",\"red\",\"red\",\"blue\",\"red\",\"red\",\"blue\",\"red\",\"blue\",\"blue\",\"blue\",\"blue\",\"red\",\"blue\",\"blue\",\"blue\",\"blue\",\"red\",\"red\",\"blue\",\"blue\",\"red\",\"red\",\"red\",\"blue\",\"red\",\"red\",\"blue\",\"blue\",\"red\",\"red\",\"blue\",\"red\",\"red\",\"blue\",\"red\",\"red\",\"red\",\"blue\",\"blue\",\"red\",\"red\",\"red\",\"blue\",\"red\",\"blue\",\"red\",\"blue\",\"red\",\"blue\",\"red\",\"blue\",\"red\",\"red\",\"blue\",\"blue\",\"blue\",\"red\",\"red\",\"red\",\"red\",\"red\",\"red\",\"blue\",\"red\",\"blue\",\"red\",\"blue\",\"red\",\"blue\",\"blue\",\"blue\",\"red\",\"blue\",\"blue\",\"red\",\"blue\",\"blue\",\"blue\",\"red\",\"red\",\"red\",\"blue\",\"blue\",\"blue\",\"red\",\"red\",\"blue\",\"red\",\"red\",\"red\",\"red\",\"blue\",\"red\",\"red\",\"red\",\"red\",\"blue\",\"blue\",\"blue\",\"red\",\"blue\",\"red\",\"red\",\"blue\",\"red\",\"blue\",\"blue\",\"red\",\"red\",\"red\",\"blue\",\"blue\",\"blue\",\"blue\",\"red\",\"red\",\"blue\",\"blue\",\"red\",\"blue\",\"blue\",\"blue\",\"blue\",\"red\",\"blue\",\"red\",\"red\",\"blue\",\"blue\",\"blue\",\"blue\",\"blue\",\"red\",\"red\",\"red\",\"red\",\"blue\",\"red\",\"blue\",\"red\",\"blue\",\"red\",\"blue\",\"red\",\"blue\",\"red\",\"blue\",\"blue\",\"red\",\"blue\",\"red\",\"blue\",\"red\",\"blue\",\"blue\",\"blue\",\"red\",\"red\",\"blue\",\"red\",\"red\",\"blue\",\"blue\",\"blue\",\"red\",\"blue\",\"blue\",\"red\",\"red\",\"red\",\"blue\",\"red\",\"blue\",\"blue\",\"red\",\"red\",\"red\",\"blue\",\"red\",\"blue\",\"blue\",\"blue\",\"red\",\"blue\",\"red\",\"red\",\"red\",\"red\",\"red\",\"red\",\"blue\",\"red\",\"blue\",\"blue\",\"blue\",\"red\",\"blue\",\"red\",\"red\",\"blue\",\"blue\",\"red\",\"red\",\"blue\",\"red\",\"blue\",\"red\",\"red\",\"blue\",\"red\",\"red\",\"blue\",\"red\",\"red\",\"red\",\"blue\",\"blue\",\"blue\",\"red\",\"blue\",\"blue\",\"blue\",\"red\",\"blue\",\"red\",\"red\",\"blue\",\"red\",\"blue\",\"blue\",\"red\",\"blue\",\"red\",\"blue\",\"blue\",\"red\",\"blue\",\"blue\",\"red\",\"blue\",\"blue\",\"blue\",\"red\",\"red\",\"blue\",\"blue\",\"red\",\"blue\",\"red\",\"red\",\"red\",\"blue\",\"blue\",\"blue\",\"red\",\"blue\",\"blue\",\"blue\",\"red\",\"blue\",\"blue\",\"blue\",\"blue\",\"blue\",\"red\",\"blue\",\"blue\",\"red\",\"red\",\"blue\",\"red\",\"red\",\"red\",\"blue\",\"blue\",\"blue\",\"red\",\"blue\",\"blue\",\"blue\",\"red\",\"red\",\"red\",\"red\",\"red\",\"blue\",\"blue\",\"red\",\"blue\",\"red\",\"blue\",\"blue\",\"blue\",\"red\",\"red\",\"red\",\"blue\",\"blue\",\"red\",\"red\",\"blue\",\"red\",\"blue\",\"blue\",\"red\",\"blue\",\"blue\",\"red\",\"red\",\"red\",\"red\",\"red\",\"red\",\"blue\",\"red\",\"red\",\"blue\",\"blue\",\"red\",\"blue\",\"blue\",\"blue\",\"red\",\"blue\",\"blue\",\"blue\",\"blue\",\"blue\",\"red\",\"red\",\"red\",\"red\",\"red\",\"red\",\"blue\",\"blue\",\"red\",\"red\",\"red\",\"blue\",\"red\",\"blue\",\"blue\",\"red\",\"blue\",\"blue\",\"red\",\"blue\",\"red\",\"red\",\"blue\",\"red\",\"red\",\"blue\",\"blue\",\"blue\",\"red\",\"red\",\"red\",\"blue\",\"blue\",\"red\",\"blue\",\"blue\",\"blue\",\"red\",\"red\",\"red\",\"blue\",\"red\",\"red\",\"red\",\"blue\",\"blue\",\"red\",\"blue\",\"blue\",\"blue\",\"blue\",\"blue\",\"blue\",\"blue\",\"blue\",\"blue\",\"red\",\"blue\",\"red\",\"red\",\"blue\",\"blue\",\"red\",\"red\",\"blue\",\"blue\",\"blue\",\"red\"],\"x\":{\"__ndarray__\":\"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\",\"dtype\":\"float64\",\"order\":\"little\",\"shape\":[1280]},\"y\":{\"__ndarray__\":\"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\",\"dtype\":\"float64\",\"order\":\"little\",\"shape\":[1280]}},\"selected\":{\"id\":\"1052\"},\"selection_policy\":{\"id\":\"1051\"}},\"id\":\"1003\",\"type\":\"ColumnDataSource\"},{\"attributes\":{},\"id\":\"1051\",\"type\":\"UnionRenderers\"},{\"attributes\":{\"formatter\":{\"id\":\"1047\"},\"major_label_policy\":{\"id\":\"1049\"},\"ticker\":{\"id\":\"1018\"}},\"id\":\"1017\",\"type\":\"LinearAxis\"},{\"attributes\":{},\"id\":\"1046\",\"type\":\"AllLabels\"},{\"attributes\":{},\"id\":\"1052\",\"type\":\"Selection\"},{\"attributes\":{\"formatter\":{\"id\":\"1044\"},\"major_label_policy\":{\"id\":\"1046\"},\"ticker\":{\"id\":\"1014\"}},\"id\":\"1013\",\"type\":\"LinearAxis\"},{\"attributes\":{},\"id\":\"1005\",\"type\":\"DataRange1d\"},{\"attributes\":{\"data_source\":{\"id\":\"1003\"},\"glyph\":{\"id\":\"1036\"},\"hover_glyph\":null,\"muted_glyph\":null,\"nonselection_glyph\":{\"id\":\"1037\"},\"view\":{\"id\":\"1039\"}},\"id\":\"1038\",\"type\":\"GlyphRenderer\"},{\"attributes\":{},\"id\":\"1011\",\"type\":\"LinearScale\"},{\"attributes\":{},\"id\":\"1009\",\"type\":\"LinearScale\"},{\"attributes\":{},\"id\":\"1014\",\"type\":\"BasicTicker\"},{\"attributes\":{\"fill_alpha\":{\"value\":0.1},\"fill_color\":{\"field\":\"color\"},\"line_alpha\":{\"value\":0.1},\"line_color\":{\"field\":\"color\"},\"size\":{\"value\":10},\"x\":{\"field\":\"x\"},\"y\":{\"field\":\"y\"}},\"id\":\"1037\",\"type\":\"Scatter\"},{\"attributes\":{\"axis\":{\"id\":\"1013\"},\"ticker\":null},\"id\":\"1016\",\"type\":\"Grid\"},{\"attributes\":{\"axis\":{\"id\":\"1017\"},\"dimension\":1,\"ticker\":null},\"id\":\"1020\",\"type\":\"Grid\"},{\"attributes\":{},\"id\":\"1018\",\"type\":\"BasicTicker\"},{\"attributes\":{},\"id\":\"1026\",\"type\":\"HelpTool\"},{\"attributes\":{\"fill_alpha\":{\"value\":0.25},\"fill_color\":{\"field\":\"color\"},\"line_alpha\":{\"value\":0.25},\"line_color\":{\"field\":\"color\"},\"size\":{\"value\":10},\"x\":{\"field\":\"x\"},\"y\":{\"field\":\"y\"}},\"id\":\"1036\",\"type\":\"Scatter\"},{\"attributes\":{\"source\":{\"id\":\"1003\"}},\"id\":\"1039\",\"type\":\"CDSView\"},{\"attributes\":{},\"id\":\"1047\",\"type\":\"BasicTickFormatter\"},{\"attributes\":{},\"id\":\"1021\",\"type\":\"PanTool\"},{\"attributes\":{},\"id\":\"1022\",\"type\":\"WheelZoomTool\"},{\"attributes\":{},\"id\":\"1024\",\"type\":\"SaveTool\"}],\"root_ids\":[\"1004\"]},\"title\":\"Bokeh Application\",\"version\":\"2.3.2\"}};\n",
       "  var render_items = [{\"docid\":\"b32641fe-0335-4a84-a191-9cd060b8fe19\",\"root_ids\":[\"1004\"],\"roots\":{\"1004\":\"0ae18153-248a-4c17-a995-22d2b0243c9b\"}}];\n",
       "  root.Bokeh.embed.embed_items_notebook(docs_json, render_items);\n",
       "\n",
       "  }\n",
       "  if (root.Bokeh !== undefined) {\n",
       "    embed_document(root);\n",
       "  } else {\n",
       "    var attempts = 0;\n",
       "    var timer = setInterval(function(root) {\n",
       "      if (root.Bokeh !== undefined) {\n",
       "        clearInterval(timer);\n",
       "        embed_document(root);\n",
       "      } else {\n",
       "        attempts++;\n",
       "        if (attempts > 100) {\n",
       "          clearInterval(timer);\n",
       "          console.log(\"Bokeh: ERROR: Unable to run BokehJS code because BokehJS library is missing\");\n",
       "        }\n",
       "      }\n",
       "    }, 10, root)\n",
       "  }\n",
       "})(window);"
      ],
      "application/vnd.bokehjs_exec.v0+json": ""
     },
     "metadata": {
      "application/vnd.bokehjs_exec.v0+json": {
       "id": "1004"
      }
     },
     "output_type": "display_data"
    },
    {
     "data": {
      "text/html": [
       "<div style=\"display: table;\"><div style=\"display: table-row;\"><div style=\"display: table-cell;\"><b title=\"bokeh.plotting.figure.Figure\">Figure</b>(</div><div style=\"display: table-cell;\">id&nbsp;=&nbsp;'1004', <span id=\"1109\" style=\"cursor: pointer;\">&hellip;)</span></div></div><div class=\"1108\" style=\"display: none;\"><div style=\"display: table-cell;\"></div><div style=\"display: table-cell;\">above&nbsp;=&nbsp;[],</div></div><div class=\"1108\" style=\"display: none;\"><div style=\"display: table-cell;\"></div><div style=\"display: table-cell;\">align&nbsp;=&nbsp;'start',</div></div><div class=\"1108\" style=\"display: none;\"><div style=\"display: table-cell;\"></div><div style=\"display: table-cell;\">aspect_ratio&nbsp;=&nbsp;None,</div></div><div class=\"1108\" style=\"display: none;\"><div style=\"display: table-cell;\"></div><div style=\"display: table-cell;\">aspect_scale&nbsp;=&nbsp;1,</div></div><div class=\"1108\" style=\"display: none;\"><div style=\"display: table-cell;\"></div><div style=\"display: table-cell;\">background&nbsp;=&nbsp;None,</div></div><div class=\"1108\" style=\"display: none;\"><div style=\"display: table-cell;\"></div><div style=\"display: table-cell;\">background_fill_alpha&nbsp;=&nbsp;1.0,</div></div><div class=\"1108\" style=\"display: none;\"><div style=\"display: table-cell;\"></div><div style=\"display: table-cell;\">background_fill_color&nbsp;=&nbsp;'#ffffff',</div></div><div class=\"1108\" style=\"display: none;\"><div style=\"display: table-cell;\"></div><div style=\"display: table-cell;\">below&nbsp;=&nbsp;[LinearAxis(id='1013', ...)],</div></div><div class=\"1108\" style=\"display: none;\"><div style=\"display: table-cell;\"></div><div style=\"display: table-cell;\">border_fill_alpha&nbsp;=&nbsp;1.0,</div></div><div class=\"1108\" style=\"display: none;\"><div style=\"display: table-cell;\"></div><div style=\"display: table-cell;\">border_fill_color&nbsp;=&nbsp;'#ffffff',</div></div><div class=\"1108\" style=\"display: none;\"><div style=\"display: table-cell;\"></div><div style=\"display: table-cell;\">center&nbsp;=&nbsp;[Grid(id='1016', ...), Grid(id='1020', ...)],</div></div><div class=\"1108\" style=\"display: none;\"><div style=\"display: table-cell;\"></div><div style=\"display: table-cell;\">css_classes&nbsp;=&nbsp;[],</div></div><div class=\"1108\" style=\"display: none;\"><div style=\"display: table-cell;\"></div><div style=\"display: table-cell;\">disabled&nbsp;=&nbsp;False,</div></div><div class=\"1108\" style=\"display: none;\"><div style=\"display: table-cell;\"></div><div style=\"display: table-cell;\">extra_x_ranges&nbsp;=&nbsp;{},</div></div><div class=\"1108\" style=\"display: none;\"><div style=\"display: table-cell;\"></div><div style=\"display: table-cell;\">extra_y_ranges&nbsp;=&nbsp;{},</div></div><div class=\"1108\" style=\"display: none;\"><div style=\"display: table-cell;\"></div><div style=\"display: table-cell;\">frame_height&nbsp;=&nbsp;None,</div></div><div class=\"1108\" style=\"display: none;\"><div style=\"display: table-cell;\"></div><div style=\"display: table-cell;\">frame_width&nbsp;=&nbsp;None,</div></div><div class=\"1108\" style=\"display: none;\"><div style=\"display: table-cell;\"></div><div style=\"display: table-cell;\">height&nbsp;=&nbsp;400,</div></div><div class=\"1108\" style=\"display: none;\"><div style=\"display: table-cell;\"></div><div style=\"display: table-cell;\">height_policy&nbsp;=&nbsp;'auto',</div></div><div class=\"1108\" style=\"display: none;\"><div style=\"display: table-cell;\"></div><div style=\"display: table-cell;\">hidpi&nbsp;=&nbsp;True,</div></div><div class=\"1108\" style=\"display: none;\"><div style=\"display: table-cell;\"></div><div style=\"display: table-cell;\">inner_height&nbsp;=&nbsp;0,</div></div><div class=\"1108\" style=\"display: none;\"><div style=\"display: table-cell;\"></div><div style=\"display: table-cell;\">inner_width&nbsp;=&nbsp;0,</div></div><div class=\"1108\" style=\"display: none;\"><div style=\"display: table-cell;\"></div><div style=\"display: table-cell;\">js_event_callbacks&nbsp;=&nbsp;{},</div></div><div class=\"1108\" style=\"display: none;\"><div style=\"display: table-cell;\"></div><div style=\"display: table-cell;\">js_property_callbacks&nbsp;=&nbsp;{},</div></div><div class=\"1108\" style=\"display: none;\"><div style=\"display: table-cell;\"></div><div style=\"display: table-cell;\">left&nbsp;=&nbsp;[LinearAxis(id='1017', ...)],</div></div><div class=\"1108\" style=\"display: none;\"><div style=\"display: table-cell;\"></div><div style=\"display: table-cell;\">lod_factor&nbsp;=&nbsp;10,</div></div><div class=\"1108\" style=\"display: none;\"><div style=\"display: table-cell;\"></div><div style=\"display: table-cell;\">lod_interval&nbsp;=&nbsp;300,</div></div><div class=\"1108\" style=\"display: none;\"><div style=\"display: table-cell;\"></div><div style=\"display: table-cell;\">lod_threshold&nbsp;=&nbsp;2000,</div></div><div class=\"1108\" style=\"display: none;\"><div style=\"display: table-cell;\"></div><div style=\"display: table-cell;\">lod_timeout&nbsp;=&nbsp;500,</div></div><div class=\"1108\" style=\"display: none;\"><div style=\"display: table-cell;\"></div><div style=\"display: table-cell;\">margin&nbsp;=&nbsp;(0, 0, 0, 0),</div></div><div class=\"1108\" style=\"display: none;\"><div style=\"display: table-cell;\"></div><div style=\"display: table-cell;\">match_aspect&nbsp;=&nbsp;False,</div></div><div class=\"1108\" style=\"display: none;\"><div style=\"display: table-cell;\"></div><div style=\"display: table-cell;\">max_height&nbsp;=&nbsp;None,</div></div><div class=\"1108\" style=\"display: none;\"><div style=\"display: table-cell;\"></div><div style=\"display: table-cell;\">max_width&nbsp;=&nbsp;None,</div></div><div class=\"1108\" style=\"display: none;\"><div style=\"display: table-cell;\"></div><div style=\"display: table-cell;\">min_border&nbsp;=&nbsp;5,</div></div><div class=\"1108\" style=\"display: none;\"><div style=\"display: table-cell;\"></div><div style=\"display: table-cell;\">min_border_bottom&nbsp;=&nbsp;None,</div></div><div class=\"1108\" style=\"display: none;\"><div style=\"display: table-cell;\"></div><div style=\"display: table-cell;\">min_border_left&nbsp;=&nbsp;None,</div></div><div class=\"1108\" style=\"display: none;\"><div style=\"display: table-cell;\"></div><div style=\"display: table-cell;\">min_border_right&nbsp;=&nbsp;None,</div></div><div class=\"1108\" style=\"display: none;\"><div style=\"display: table-cell;\"></div><div style=\"display: table-cell;\">min_border_top&nbsp;=&nbsp;None,</div></div><div class=\"1108\" style=\"display: none;\"><div style=\"display: table-cell;\"></div><div style=\"display: table-cell;\">min_height&nbsp;=&nbsp;None,</div></div><div class=\"1108\" style=\"display: none;\"><div style=\"display: table-cell;\"></div><div style=\"display: table-cell;\">min_width&nbsp;=&nbsp;None,</div></div><div class=\"1108\" style=\"display: none;\"><div style=\"display: table-cell;\"></div><div style=\"display: table-cell;\">name&nbsp;=&nbsp;None,</div></div><div class=\"1108\" style=\"display: none;\"><div style=\"display: table-cell;\"></div><div style=\"display: table-cell;\">outer_height&nbsp;=&nbsp;0,</div></div><div class=\"1108\" style=\"display: none;\"><div style=\"display: table-cell;\"></div><div style=\"display: table-cell;\">outer_width&nbsp;=&nbsp;0,</div></div><div class=\"1108\" style=\"display: none;\"><div style=\"display: table-cell;\"></div><div style=\"display: table-cell;\">outline_line_alpha&nbsp;=&nbsp;1.0,</div></div><div class=\"1108\" style=\"display: none;\"><div style=\"display: table-cell;\"></div><div style=\"display: table-cell;\">outline_line_cap&nbsp;=&nbsp;'butt',</div></div><div class=\"1108\" style=\"display: none;\"><div style=\"display: table-cell;\"></div><div style=\"display: table-cell;\">outline_line_color&nbsp;=&nbsp;'#e5e5e5',</div></div><div class=\"1108\" style=\"display: none;\"><div style=\"display: table-cell;\"></div><div style=\"display: table-cell;\">outline_line_dash&nbsp;=&nbsp;[],</div></div><div class=\"1108\" style=\"display: none;\"><div style=\"display: table-cell;\"></div><div style=\"display: table-cell;\">outline_line_dash_offset&nbsp;=&nbsp;0,</div></div><div class=\"1108\" style=\"display: none;\"><div style=\"display: table-cell;\"></div><div style=\"display: table-cell;\">outline_line_join&nbsp;=&nbsp;'bevel',</div></div><div class=\"1108\" style=\"display: none;\"><div style=\"display: table-cell;\"></div><div style=\"display: table-cell;\">outline_line_width&nbsp;=&nbsp;1,</div></div><div class=\"1108\" style=\"display: none;\"><div style=\"display: table-cell;\"></div><div style=\"display: table-cell;\">output_backend&nbsp;=&nbsp;'canvas',</div></div><div class=\"1108\" style=\"display: none;\"><div style=\"display: table-cell;\"></div><div style=\"display: table-cell;\">renderers&nbsp;=&nbsp;[GlyphRenderer(id='1038', ...)],</div></div><div class=\"1108\" style=\"display: none;\"><div style=\"display: table-cell;\"></div><div style=\"display: table-cell;\">reset_policy&nbsp;=&nbsp;'standard',</div></div><div class=\"1108\" style=\"display: none;\"><div style=\"display: table-cell;\"></div><div style=\"display: table-cell;\">right&nbsp;=&nbsp;[],</div></div><div class=\"1108\" style=\"display: none;\"><div style=\"display: table-cell;\"></div><div style=\"display: table-cell;\">sizing_mode&nbsp;=&nbsp;None,</div></div><div class=\"1108\" style=\"display: none;\"><div style=\"display: table-cell;\"></div><div style=\"display: table-cell;\">subscribed_events&nbsp;=&nbsp;[],</div></div><div class=\"1108\" style=\"display: none;\"><div style=\"display: table-cell;\"></div><div style=\"display: table-cell;\">syncable&nbsp;=&nbsp;True,</div></div><div class=\"1108\" style=\"display: none;\"><div style=\"display: table-cell;\"></div><div style=\"display: table-cell;\">tags&nbsp;=&nbsp;[],</div></div><div class=\"1108\" style=\"display: none;\"><div style=\"display: table-cell;\"></div><div style=\"display: table-cell;\">title&nbsp;=&nbsp;Title(id='1042', ...),</div></div><div class=\"1108\" style=\"display: none;\"><div style=\"display: table-cell;\"></div><div style=\"display: table-cell;\">title_location&nbsp;=&nbsp;'above',</div></div><div class=\"1108\" style=\"display: none;\"><div style=\"display: table-cell;\"></div><div style=\"display: table-cell;\">toolbar&nbsp;=&nbsp;Toolbar(id='1028', ...),</div></div><div class=\"1108\" style=\"display: none;\"><div style=\"display: table-cell;\"></div><div style=\"display: table-cell;\">toolbar_location&nbsp;=&nbsp;'right',</div></div><div class=\"1108\" style=\"display: none;\"><div style=\"display: table-cell;\"></div><div style=\"display: table-cell;\">toolbar_sticky&nbsp;=&nbsp;True,</div></div><div class=\"1108\" style=\"display: none;\"><div style=\"display: table-cell;\"></div><div style=\"display: table-cell;\">visible&nbsp;=&nbsp;True,</div></div><div class=\"1108\" style=\"display: none;\"><div style=\"display: table-cell;\"></div><div style=\"display: table-cell;\">width&nbsp;=&nbsp;600,</div></div><div class=\"1108\" style=\"display: none;\"><div style=\"display: table-cell;\"></div><div style=\"display: table-cell;\">width_policy&nbsp;=&nbsp;'auto',</div></div><div class=\"1108\" style=\"display: none;\"><div style=\"display: table-cell;\"></div><div style=\"display: table-cell;\">x_range&nbsp;=&nbsp;DataRange1d(id='1005', ...),</div></div><div class=\"1108\" style=\"display: none;\"><div style=\"display: table-cell;\"></div><div style=\"display: table-cell;\">x_scale&nbsp;=&nbsp;LinearScale(id='1009', ...),</div></div><div class=\"1108\" style=\"display: none;\"><div style=\"display: table-cell;\"></div><div style=\"display: table-cell;\">y_range&nbsp;=&nbsp;DataRange1d(id='1007', ...),</div></div><div class=\"1108\" style=\"display: none;\"><div style=\"display: table-cell;\"></div><div style=\"display: table-cell;\">y_scale&nbsp;=&nbsp;LinearScale(id='1011', ...))</div></div></div>\n",
       "<script>\n",
       "(function() {\n",
       "  var expanded = false;\n",
       "  var ellipsis = document.getElementById(\"1109\");\n",
       "  ellipsis.addEventListener(\"click\", function() {\n",
       "    var rows = document.getElementsByClassName(\"1108\");\n",
       "    for (var i = 0; i < rows.length; i++) {\n",
       "      var el = rows[i];\n",
       "      el.style.display = expanded ? \"none\" : \"table-row\";\n",
       "    }\n",
       "    ellipsis.innerHTML = expanded ? \"&hellip;)\" : \"&lsaquo;&lsaquo;&lsaquo;\";\n",
       "    expanded = !expanded;\n",
       "  });\n",
       "})();\n",
       "</script>\n"
      ],
      "text/plain": [
       "Figure(id='1004', ...)"
      ]
     },
     "execution_count": 26,
     "metadata": {},
     "output_type": "execute_result"
    }
   ],
   "source": [
    "draw_vectors(\n",
    "    examples[\"transformed_features\"][:, 0], \n",
    "    examples[\"transformed_features\"][:, 1], \n",
    "    color=[[\"red\", \"blue\"][t] for t in examples[\"targets\"]]\n",
    "    )"
   ]
  },
  {
   "cell_type": "code",
   "execution_count": 27,
   "metadata": {},
   "outputs": [],
   "source": [
    "from MulticoreTSNE import MulticoreTSNE as TSNE\n",
    "\n",
    "tsne = TSNE(n_jobs=4)\n",
    "examples[\"transformed_features_tsne\"]= tsne.fit_transform(np.array(examples['features']))"
   ]
  },
  {
   "cell_type": "code",
   "execution_count": 28,
   "metadata": {},
   "outputs": [
    {
     "data": {
      "text/html": [
       "\n",
       "\n",
       "\n",
       "\n",
       "\n",
       "\n",
       "  <div class=\"bk-root\" id=\"52c96301-3eee-4935-be8b-18ae0b878aa1\" data-root-id=\"1113\"></div>\n"
      ]
     },
     "metadata": {},
     "output_type": "display_data"
    },
    {
     "data": {
      "application/javascript": [
       "(function(root) {\n",
       "  function embed_document(root) {\n",
       "    \n",
       "  var docs_json = {\"34d76f72-cfa3-4b85-962b-e74639929f77\":{\"defs\":[],\"roots\":{\"references\":[{\"attributes\":{\"below\":[{\"id\":\"1122\"}],\"center\":[{\"id\":\"1125\"},{\"id\":\"1129\"}],\"height\":400,\"left\":[{\"id\":\"1126\"}],\"renderers\":[{\"id\":\"1147\"}],\"title\":{\"id\":\"1162\"},\"toolbar\":{\"id\":\"1137\"},\"x_range\":{\"id\":\"1114\"},\"x_scale\":{\"id\":\"1118\"},\"y_range\":{\"id\":\"1116\"},\"y_scale\":{\"id\":\"1120\"}},\"id\":\"1113\",\"subtype\":\"Figure\",\"type\":\"Plot\"},{\"attributes\":{},\"id\":\"1133\",\"type\":\"SaveTool\"},{\"attributes\":{},\"id\":\"1134\",\"type\":\"ResetTool\"},{\"attributes\":{},\"id\":\"1169\",\"type\":\"AllLabels\"},{\"attributes\":{},\"id\":\"1162\",\"type\":\"Title\"},{\"attributes\":{\"callback\":null,\"tooltips\":[]},\"id\":\"1149\",\"type\":\"HoverTool\"},{\"attributes\":{},\"id\":\"1164\",\"type\":\"BasicTickFormatter\"},{\"attributes\":{\"data_source\":{\"id\":\"1112\"},\"glyph\":{\"id\":\"1145\"},\"hover_glyph\":null,\"muted_glyph\":null,\"nonselection_glyph\":{\"id\":\"1146\"},\"view\":{\"id\":\"1148\"}},\"id\":\"1147\",\"type\":\"GlyphRenderer\"},{\"attributes\":{},\"id\":\"1166\",\"type\":\"AllLabels\"},{\"attributes\":{\"source\":{\"id\":\"1112\"}},\"id\":\"1148\",\"type\":\"CDSView\"},{\"attributes\":{\"bottom_units\":\"screen\",\"fill_alpha\":0.5,\"fill_color\":\"lightgrey\",\"left_units\":\"screen\",\"level\":\"overlay\",\"line_alpha\":1.0,\"line_color\":\"black\",\"line_dash\":[4,4],\"line_width\":2,\"right_units\":\"screen\",\"syncable\":false,\"top_units\":\"screen\"},\"id\":\"1136\",\"type\":\"BoxAnnotation\"},{\"attributes\":{\"data\":{\"color\":[\"red\",\"red\",\"red\",\"blue\",\"red\",\"blue\",\"blue\",\"blue\",\"blue\",\"blue\",\"blue\",\"blue\",\"blue\",\"red\",\"red\",\"blue\",\"blue\",\"blue\",\"red\",\"blue\",\"blue\",\"blue\",\"blue\",\"red\",\"blue\",\"blue\",\"red\",\"red\",\"blue\",\"red\",\"blue\",\"red\",\"red\",\"blue\",\"red\",\"red\",\"blue\",\"red\",\"blue\",\"blue\",\"red\",\"blue\",\"blue\",\"blue\",\"red\",\"red\",\"red\",\"red\",\"blue\",\"red\",\"blue\",\"blue\",\"blue\",\"red\",\"blue\",\"red\",\"blue\",\"blue\",\"red\",\"red\",\"red\",\"blue\",\"blue\",\"red\",\"red\",\"blue\",\"blue\",\"red\",\"blue\",\"blue\",\"blue\",\"blue\",\"red\",\"red\",\"red\",\"red\",\"red\",\"blue\",\"red\",\"red\",\"blue\",\"blue\",\"red\",\"red\",\"blue\",\"red\",\"red\",\"red\",\"blue\",\"red\",\"red\",\"red\",\"red\",\"blue\",\"blue\",\"red\",\"red\",\"blue\",\"red\",\"red\",\"blue\",\"red\",\"blue\",\"red\",\"red\",\"red\",\"red\",\"blue\",\"red\",\"blue\",\"blue\",\"blue\",\"blue\",\"red\",\"red\",\"blue\",\"blue\",\"blue\",\"red\",\"blue\",\"red\",\"red\",\"red\",\"red\",\"blue\",\"blue\",\"red\",\"blue\",\"red\",\"blue\",\"blue\",\"blue\",\"red\",\"blue\",\"red\",\"blue\",\"red\",\"red\",\"blue\",\"red\",\"red\",\"blue\",\"red\",\"red\",\"blue\",\"red\",\"red\",\"blue\",\"blue\",\"blue\",\"blue\",\"red\",\"red\",\"red\",\"blue\",\"red\",\"red\",\"red\",\"blue\",\"red\",\"red\",\"red\",\"red\",\"red\",\"red\",\"blue\",\"blue\",\"red\",\"blue\",\"blue\",\"red\",\"red\",\"red\",\"blue\",\"red\",\"red\",\"blue\",\"red\",\"blue\",\"blue\",\"red\",\"blue\",\"red\",\"red\",\"blue\",\"blue\",\"blue\",\"blue\",\"blue\",\"red\",\"red\",\"red\",\"blue\",\"blue\",\"blue\",\"red\",\"red\",\"blue\",\"blue\",\"blue\",\"blue\",\"blue\",\"blue\",\"red\",\"red\",\"red\",\"red\",\"red\",\"red\",\"red\",\"red\",\"red\",\"blue\",\"blue\",\"blue\",\"red\",\"blue\",\"red\",\"blue\",\"blue\",\"red\",\"blue\",\"red\",\"blue\",\"blue\",\"red\",\"blue\",\"blue\",\"blue\",\"blue\",\"red\",\"blue\",\"red\",\"red\",\"red\",\"blue\",\"red\",\"blue\",\"red\",\"red\",\"red\",\"blue\",\"red\",\"blue\",\"red\",\"blue\",\"red\",\"blue\",\"red\",\"blue\",\"blue\",\"blue\",\"blue\",\"blue\",\"blue\",\"blue\",\"red\",\"red\",\"red\",\"red\",\"blue\",\"red\",\"red\",\"blue\",\"blue\",\"blue\",\"red\",\"red\",\"red\",\"red\",\"blue\",\"blue\",\"blue\",\"blue\",\"blue\",\"blue\",\"blue\",\"red\",\"blue\",\"red\",\"red\",\"red\",\"blue\",\"red\",\"red\",\"blue\",\"blue\",\"red\",\"blue\",\"blue\",\"red\",\"red\",\"blue\",\"red\",\"red\",\"blue\",\"blue\",\"red\",\"blue\",\"red\",\"red\",\"blue\",\"red\",\"red\",\"blue\",\"red\",\"blue\",\"blue\",\"red\",\"red\",\"blue\",\"blue\",\"blue\",\"red\",\"blue\",\"blue\",\"red\",\"red\",\"red\",\"blue\",\"blue\",\"red\",\"blue\",\"red\",\"red\",\"red\",\"red\",\"red\",\"blue\",\"blue\",\"red\",\"red\",\"red\",\"red\",\"red\",\"blue\",\"red\",\"red\",\"red\",\"blue\",\"blue\",\"blue\",\"blue\",\"blue\",\"red\",\"blue\",\"blue\",\"red\",\"red\",\"blue\",\"blue\",\"blue\",\"blue\",\"red\",\"blue\",\"blue\",\"blue\",\"blue\",\"red\",\"blue\",\"red\",\"blue\",\"red\",\"red\",\"blue\",\"blue\",\"blue\",\"red\",\"red\",\"blue\",\"red\",\"red\",\"red\",\"blue\",\"red\",\"blue\",\"blue\",\"blue\",\"red\",\"red\",\"red\",\"blue\",\"blue\",\"red\",\"blue\",\"blue\",\"red\",\"blue\",\"blue\",\"red\",\"blue\",\"blue\",\"red\",\"blue\",\"red\",\"red\",\"blue\",\"blue\",\"blue\",\"red\",\"blue\",\"blue\",\"blue\",\"red\",\"red\",\"blue\",\"blue\",\"blue\",\"red\",\"blue\",\"blue\",\"blue\",\"red\",\"blue\",\"blue\",\"blue\",\"blue\",\"red\",\"blue\",\"blue\",\"red\",\"red\",\"red\",\"blue\",\"blue\",\"blue\",\"red\",\"red\",\"blue\",\"blue\",\"blue\",\"red\",\"blue\",\"blue\",\"blue\",\"blue\",\"blue\",\"red\",\"red\",\"blue\",\"blue\",\"blue\",\"red\",\"red\",\"blue\",\"red\",\"red\",\"red\",\"blue\",\"red\",\"red\",\"blue\",\"red\",\"blue\",\"blue\",\"red\",\"blue\",\"blue\",\"red\",\"red\",\"blue\",\"blue\",\"blue\",\"blue\",\"red\",\"red\",\"red\",\"red\",\"blue\",\"blue\",\"blue\",\"red\",\"blue\",\"blue\",\"red\",\"blue\",\"red\",\"red\",\"blue\",\"red\",\"blue\",\"red\",\"red\",\"blue\",\"red\",\"blue\",\"blue\",\"blue\",\"red\",\"blue\",\"red\",\"blue\",\"blue\",\"blue\",\"blue\",\"blue\",\"red\",\"blue\",\"blue\",\"red\",\"blue\",\"red\",\"blue\",\"red\",\"blue\",\"red\",\"red\",\"red\",\"red\",\"red\",\"red\",\"blue\",\"blue\",\"blue\",\"red\",\"blue\",\"red\",\"red\",\"blue\",\"red\",\"red\",\"red\",\"red\",\"red\",\"red\",\"blue\",\"blue\",\"blue\",\"red\",\"blue\",\"red\",\"blue\",\"blue\",\"red\",\"red\",\"red\",\"blue\",\"red\",\"blue\",\"blue\",\"blue\",\"red\",\"blue\",\"blue\",\"red\",\"blue\",\"blue\",\"blue\",\"blue\",\"blue\",\"blue\",\"red\",\"red\",\"red\",\"blue\",\"blue\",\"red\",\"blue\",\"blue\",\"blue\",\"red\",\"blue\",\"red\",\"blue\",\"blue\",\"red\",\"red\",\"blue\",\"red\",\"red\",\"red\",\"blue\",\"red\",\"red\",\"blue\",\"red\",\"red\",\"blue\",\"blue\",\"blue\",\"red\",\"red\",\"red\",\"blue\",\"blue\",\"blue\",\"red\",\"red\",\"red\",\"red\",\"blue\",\"blue\",\"red\",\"red\",\"red\",\"red\",\"red\",\"red\",\"blue\",\"blue\",\"red\",\"red\",\"red\",\"blue\",\"red\",\"red\",\"red\",\"blue\",\"red\",\"red\",\"blue\",\"red\",\"red\",\"blue\",\"blue\",\"blue\",\"red\",\"blue\",\"blue\",\"blue\",\"red\",\"red\",\"red\",\"blue\",\"blue\",\"red\",\"red\",\"blue\",\"red\",\"blue\",\"blue\",\"blue\",\"red\",\"red\",\"blue\",\"red\",\"red\",\"blue\",\"red\",\"blue\",\"blue\",\"red\",\"red\",\"red\",\"red\",\"red\",\"red\",\"red\",\"red\",\"red\",\"blue\",\"blue\",\"blue\",\"red\",\"red\",\"blue\",\"blue\",\"blue\",\"red\",\"blue\",\"blue\",\"blue\",\"blue\",\"red\",\"blue\",\"red\",\"blue\",\"red\",\"red\",\"red\",\"blue\",\"red\",\"red\",\"red\",\"blue\",\"red\",\"blue\",\"blue\",\"blue\",\"red\",\"red\",\"red\",\"blue\",\"blue\",\"blue\",\"red\",\"red\",\"red\",\"blue\",\"red\",\"red\",\"red\",\"blue\",\"red\",\"blue\",\"red\",\"red\",\"blue\",\"red\",\"blue\",\"blue\",\"red\",\"red\",\"blue\",\"blue\",\"blue\",\"blue\",\"red\",\"blue\",\"blue\",\"red\",\"red\",\"red\",\"red\",\"blue\",\"blue\",\"red\",\"red\",\"red\",\"red\",\"red\",\"blue\",\"blue\",\"red\",\"red\",\"red\",\"blue\",\"blue\",\"blue\",\"blue\",\"blue\",\"red\",\"red\",\"red\",\"blue\",\"blue\",\"red\",\"red\",\"red\",\"red\",\"red\",\"blue\",\"blue\",\"blue\",\"red\",\"red\",\"red\",\"red\",\"red\",\"blue\",\"red\",\"red\",\"red\",\"blue\",\"red\",\"red\",\"red\",\"red\",\"red\",\"red\",\"red\",\"red\",\"red\",\"blue\",\"blue\",\"blue\",\"blue\",\"blue\",\"red\",\"blue\",\"blue\",\"red\",\"blue\",\"red\",\"red\",\"blue\",\"red\",\"red\",\"blue\",\"red\",\"blue\",\"red\",\"red\",\"red\",\"blue\",\"red\",\"blue\",\"blue\",\"blue\",\"red\",\"blue\",\"blue\",\"red\",\"blue\",\"blue\",\"blue\",\"blue\",\"red\",\"blue\",\"red\",\"red\",\"red\",\"red\",\"blue\",\"blue\",\"red\",\"red\",\"blue\",\"red\",\"red\",\"blue\",\"red\",\"blue\",\"red\",\"blue\",\"blue\",\"red\",\"blue\",\"blue\",\"blue\",\"red\",\"blue\",\"red\",\"blue\",\"blue\",\"red\",\"red\",\"red\",\"blue\",\"blue\",\"blue\",\"red\",\"blue\",\"red\",\"blue\",\"blue\",\"red\",\"blue\",\"blue\",\"blue\",\"red\",\"red\",\"red\",\"blue\",\"red\",\"red\",\"red\",\"blue\",\"red\",\"red\",\"blue\",\"red\",\"blue\",\"blue\",\"blue\",\"red\",\"blue\",\"blue\",\"red\",\"red\",\"red\",\"blue\",\"blue\",\"blue\",\"red\",\"blue\",\"red\",\"blue\",\"red\",\"red\",\"blue\",\"red\",\"red\",\"red\",\"blue\",\"blue\",\"blue\",\"red\",\"red\",\"red\",\"red\",\"red\",\"red\",\"blue\",\"red\",\"red\",\"blue\",\"red\",\"red\",\"blue\",\"red\",\"blue\",\"blue\",\"blue\",\"blue\",\"red\",\"blue\",\"blue\",\"blue\",\"blue\",\"red\",\"red\",\"blue\",\"blue\",\"red\",\"red\",\"red\",\"blue\",\"red\",\"red\",\"blue\",\"blue\",\"red\",\"red\",\"blue\",\"red\",\"red\",\"blue\",\"red\",\"red\",\"red\",\"blue\",\"blue\",\"red\",\"red\",\"red\",\"blue\",\"red\",\"blue\",\"red\",\"blue\",\"red\",\"blue\",\"red\",\"blue\",\"red\",\"red\",\"blue\",\"blue\",\"blue\",\"red\",\"red\",\"red\",\"red\",\"red\",\"red\",\"blue\",\"red\",\"blue\",\"red\",\"blue\",\"red\",\"blue\",\"blue\",\"blue\",\"red\",\"blue\",\"blue\",\"red\",\"blue\",\"blue\",\"blue\",\"red\",\"red\",\"red\",\"blue\",\"blue\",\"blue\",\"red\",\"red\",\"blue\",\"red\",\"red\",\"red\",\"red\",\"blue\",\"red\",\"red\",\"red\",\"red\",\"blue\",\"blue\",\"blue\",\"red\",\"blue\",\"red\",\"red\",\"blue\",\"red\",\"blue\",\"blue\",\"red\",\"red\",\"red\",\"blue\",\"blue\",\"blue\",\"blue\",\"red\",\"red\",\"blue\",\"blue\",\"red\",\"blue\",\"blue\",\"blue\",\"blue\",\"red\",\"blue\",\"red\",\"red\",\"blue\",\"blue\",\"blue\",\"blue\",\"blue\",\"red\",\"red\",\"red\",\"red\",\"blue\",\"red\",\"blue\",\"red\",\"blue\",\"red\",\"blue\",\"red\",\"blue\",\"red\",\"blue\",\"blue\",\"red\",\"blue\",\"red\",\"blue\",\"red\",\"blue\",\"blue\",\"blue\",\"red\",\"red\",\"blue\",\"red\",\"red\",\"blue\",\"blue\",\"blue\",\"red\",\"blue\",\"blue\",\"red\",\"red\",\"red\",\"blue\",\"red\",\"blue\",\"blue\",\"red\",\"red\",\"red\",\"blue\",\"red\",\"blue\",\"blue\",\"blue\",\"red\",\"blue\",\"red\",\"red\",\"red\",\"red\",\"red\",\"red\",\"blue\",\"red\",\"blue\",\"blue\",\"blue\",\"red\",\"blue\",\"red\",\"red\",\"blue\",\"blue\",\"red\",\"red\",\"blue\",\"red\",\"blue\",\"red\",\"red\",\"blue\",\"red\",\"red\",\"blue\",\"red\",\"red\",\"red\",\"blue\",\"blue\",\"blue\",\"red\",\"blue\",\"blue\",\"blue\",\"red\",\"blue\",\"red\",\"red\",\"blue\",\"red\",\"blue\",\"blue\",\"red\",\"blue\",\"red\",\"blue\",\"blue\",\"red\",\"blue\",\"blue\",\"red\",\"blue\",\"blue\",\"blue\",\"red\",\"red\",\"blue\",\"blue\",\"red\",\"blue\",\"red\",\"red\",\"red\",\"blue\",\"blue\",\"blue\",\"red\",\"blue\",\"blue\",\"blue\",\"red\",\"blue\",\"blue\",\"blue\",\"blue\",\"blue\",\"red\",\"blue\",\"blue\",\"red\",\"red\",\"blue\",\"red\",\"red\",\"red\",\"blue\",\"blue\",\"blue\",\"red\",\"blue\",\"blue\",\"blue\",\"red\",\"red\",\"red\",\"red\",\"red\",\"blue\",\"blue\",\"red\",\"blue\",\"red\",\"blue\",\"blue\",\"blue\",\"red\",\"red\",\"red\",\"blue\",\"blue\",\"red\",\"red\",\"blue\",\"red\",\"blue\",\"blue\",\"red\",\"blue\",\"blue\",\"red\",\"red\",\"red\",\"red\",\"red\",\"red\",\"blue\",\"red\",\"red\",\"blue\",\"blue\",\"red\",\"blue\",\"blue\",\"blue\",\"red\",\"blue\",\"blue\",\"blue\",\"blue\",\"blue\",\"red\",\"red\",\"red\",\"red\",\"red\",\"red\",\"blue\",\"blue\",\"red\",\"red\",\"red\",\"blue\",\"red\",\"blue\",\"blue\",\"red\",\"blue\",\"blue\",\"red\",\"blue\",\"red\",\"red\",\"blue\",\"red\",\"red\",\"blue\",\"blue\",\"blue\",\"red\",\"red\",\"red\",\"blue\",\"blue\",\"red\",\"blue\",\"blue\",\"blue\",\"red\",\"red\",\"red\",\"blue\",\"red\",\"red\",\"red\",\"blue\",\"blue\",\"red\",\"blue\",\"blue\",\"blue\",\"blue\",\"blue\",\"blue\",\"blue\",\"blue\",\"blue\",\"red\",\"blue\",\"red\",\"red\",\"blue\",\"blue\",\"red\",\"red\",\"blue\",\"blue\",\"blue\",\"red\"],\"x\":{\"__ndarray__\":\"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\",\"dtype\":\"float64\",\"order\":\"little\",\"shape\":[1280]},\"y\":{\"__ndarray__\":\"+rovdwBb8L8qPBnvRlTgv1LfnZF5CwZADoKL/Iv28j+2SrBaC54kwBivt5IeSCdATZfRHLK04L99Yc9yw9MUwOO1bXgaxAFA6BbxSECCub91+2UBr+kaQLFJVDeVE/G/h7WS+fnM/b9hnIoVomEdwCtS/hElaxfAh/oW6pgxDcA6EWy0olYmQH+boMXOdyZAnYuhu3yoHsD4SWTjwvAmwCOqhSfVyRFAahpKaOr4HcBtnnj/ZVsEQPXaVqcJAOu/fajtepkE8L/neW+SBBIWQMbA3H4wBQLAjY8bQHpk2T/ruTpPgGoBwLsRTGrNgBtAraaGZ2K+GcBSQ6aepGUMwMQoDAJUcBlARAhSBuDMzb/3rUJId/4LwCz2cEhocgDAkCVW/x647b+22CHVzzAOQNahmJNdIfI/V6C3QFeqGUDRMftWJ6ASQD4hWWITvP2/yjukqFuLHkCgTfKYKeEnwP5f3hv/xxRACOgd0lXCGECO+SmWR94JwHtFMgXyFQ3AWI5vCJlIAUBXu0eLOeTlv4sbPjQ2HRFAMn3+DHqtEMAmAM7mPc/zv4OuILVT5w3AgMP49OV7JMBk8DYqqG75vzhSw5I8ugbA3nFihL0/GsBIfaC7JIcZwCXNplDJVfS/52UybKCq879SXxTMEQYiQHJ6jAi9rQFAcmqNZhC1JMA1Wqc285APQLkW59N/p9K/oOkYzs0kIcAxpciZ+XkkQMZkkvtJMwJArmlMUaKGHECmWTUsvyIEwFndnLzpYArAm5WGVGi5F8DuzZxZW1MFQHwj6R1/vRXAIW2uV/R3/D8zUBk5E2PmP+uyBD44/yNA/ADYorLnB8CVJwH8nf/1P53wG0/xkRtAaFxkKulyHMB5kMZwxd8fQJu2QGplvSBAOd0PLsYlA0DZO/UNDQUgwCKYpd0wtOS/h5uDpZGwGcBTnhSrMuULQDdk2SiVdBDArqcEEBKeB8D+79fx89D7Pw1G6hJT/gvAbfdyRV+rF0B1axrBPXkUwE4d4iWFpQBAa9WEh8jgHUBGF7ZTA6gYQG4ntwAjtBfALxY4cQx4C0BtmPBlIFPrP3QxZjdRoBFAI32ZTMLz6r8e/vdGtYQBQGnQ3ofVtgxAV1mR/1Jo6r+I2KsCfQ4RwJtuUxXK6h9ArzV1aCJjEMD4xujvQKkQwKYsKTkf+gdAbuXmVpsSH8Ccx70alCAIwH2OHRDzWAFAoS4impMf/z/08SRF1oPRP/RJPpb+Ms2/dlj02AsME0CYLeOPj60KQO1lS7SYzgVAWtZg4KVjyj+H15xvSlMVwKXX7SxMUQbA3AKzdKiTH0BaU8PYK17+P5ZS0b67mhdA7F4H1ADh+b+hz3LDI87Tv6qW7xeLeihAxGlzqRkeCsBzjit8d5Tyv0F+vkNy1u+/QSQ1z9T8/79ueKNGxf4cQPLAWMwlouU/LzKK4GaiAkBHmsZ12zYPwOnf8VIgPCNAEKGOsm0XFUAEVqPO2mwUQJWKX4uWg/2/HPcJ2p7d4D9uu1e+eV8fQJTKcp9VTiZAxhCYTN28DMCVbfDEi6LtP4LCEPI47fU/8ZK06ET9DUAZ4zM7RgkNQJXFL6pSShlAH3qJAZrLHUBbqTFDQjz3P1OLfcXGUA5Anaz+U4iIKUCfttfeohEPwO8pr20L/Q/Av1uB+5b6JcBbd/CJP/8VwC8rkErxYwlA6GeHi5sX+L840Cxwjnb9P1KBQLnLkiRAKYncRKtsE8AvM3P+HOkXQN7QYBlZoiTAVJAMx4FjAUCUEIV9VykLwMdflUt4KSfA7swkvMuNJEBHp0hD9dwJwMcDZsjMjyRAzoaS3NbFF8DllI1mqsr6P8bVG/EZAQzAF0TDzE5kF8BbKYyHt8QfwLfJzk/jjRZA+hWM4EvQDMDMxv04oDsQwOSN8oVJXw/A2yNWsNIR9z9Ln61Mwpaev4c8+EacOhJAq5n7TGvUAMA1a+dpMZwOQDGqesiZUAFAQyuGElQvJECqWfaVYgnmv0K5Df7wX/u/cu8PcQ4P5L+XlmWAgY4YQEC5fDHlLvc/nHYAKTUVEUBZRR7W24H4v+WmyAGl6AtAhoEd5QsH/j8c0YzZJjnyvxCSdIMzegtApYOhLUbe7r9JdrKBLAAMwPnMDezLHw5ABro7hTx0GsDYIf7e6XcDQHTklm7MHB3AhFnxh8nDEUCFcfGSoVMYQCV5gvMJZhDAPE0UxkVBCcCAEqSs5ZQEwISRowudGA/A3J/3m6sRJ8CpTBGnSgEMwC7nOX1txwtA4YeCkbDkCkC+M1FyOADOv43HDwva5B5AsIjF7RSEEsC4Oz5iQmEYQAT9v4UxTSXA89v2MqJyE8BY0qIf+gcbQFmkYx1iFOm/LtHElsRSHMACCBVh9sgEQGfSciJTRRlAoH5C8Jv+BEDY8s3ab8XdP54/oDT+KSNAoovgUY3TCcAPldbtOXkEQDHey2aerAxAsGzyH+LjFcCiT+28vTj3vyGS2PyP5PW/bj4TISzsIcCysq5uFCAhwIDSu9hokR7ANNhlm4BIEcAqJ9DRfxANQAO1OFAluCRAv4EqQM2uDkDpi1N2QlAqQH5Mx172VQjAvi5T9/Q6EcDz7HKjlcnsvzzBrgFwXw1AugX/exyuCEANfFAdzL4ZwMdCJTchaPo/LNw3pgR2xr8AQ9m4rGQUwJXHfm3QLw5AhiAcRFp7GMCgmtMfG9ELwGUaktLkIRVAcWI7br8qIEAL64DsmFgQwEGnjJi59CHA4Xpa+s+HCkBu5GeKqSMNwAg/biKCcR5AS6VYkLX4BEC7ID/QoNnhPwYgQXtmVynAocrgnoCvJECydpL+YQgNQDVSLMyS/ghAyMhvEO4TEUDMtV1aM70SwAaNVNrPXxJAFaIq0/S1CsCWpSz/4o8DwAuPES5JWhJALG7tpKdQKcCasbx+3WP4P2HW9lNKZRPACgF1AC92279hjwMob+UQwMPvDWypsihA5ua7pC3UDMBMReansoUWwDLjuCUlexFAE3uTlwjWsj8nWS0C9hgKwIEGMPDCgA5ArMu4myJZFMCfL2+Z8PwSwLcBxeQG+h9AoYQjaAxXDkA/080xbfEbQLQf0aZBw/+/7CKuDEg8EMA27yhf69kewKHp+3CfKx1A/SyOjP4JHcC35HZ2C4QbQDwtjpbjvipAFp2wn+egA0DrKodgBk8NQKBIg5BEXB/AxH/tuNDb8D9+/1c2FZ8hQFpLua6hzgpAJHfbE3OQC8CWsXNvSjkRQDRKBT4/GwJAekVBVTNkA0CTqIU535ghQGipDsZAQhDAef7RotOb2j+oHRMOaWohwFNiLg/o/fG/vIAsHoyQ979EtnY99GoRQBjpC1VrSOE/OJKwEhY1IUCoiwdJibATQAkMAvMofvW/sOORw6c8F8BZQ9sn/tkawCR7deeKHhDAFsV5s61S8L+q4HWb1hryv+NFBEtW+QrADpLbHeQADMBHG9OVwDMRQNtgeTr84xzA3+vstT8LIMAgPbRrPBkjwAJAxWb0iwFAsfcLzlcnFcDMCGBAFrIcQEI9FEJHlBfAJrj4kUp8+j/6ulF94hTPv7W7G6445wFA2zM5ldDB5L+ht0NpXvcQwPD9AN7CAgNA++2tgDHr1j/hmK0bKLEkwG/FvOuoUPS/JxE6rGcjKcDADpsWGBQYQLPkXVEWoAPAhkgnPR2fIsBdccic32MXQEsL/zq04iBATmSt2glhFEC5DHgSaWjxv/0mctBUCRpA7kisgYm9479q62SvsNcPwL1leiZ7efg/F/x+KpwyC8B+H+0jcfsfQHVVYqymPXa//pRJ3xqA6D81bHg8i34kwE08osFsWgJAtXF1wwlQAkBOgV19K2/9P2ioOkMUHwnAuWebVC3Z+z+Fe+i/B88SwCYj+GnTaSJAqEaWa5zlEsCfetr+du8GwB/t+yCsHAHA/gzBwCWRFMCO8Nj7DpYVQN63SeaKhRXA3+aQRdgADUDrEmtgRN4hQAIAaqn4Rh1A0SvPSmioCsD6l2m11eX5P2h4PaTTvArACP6YPn7y8b+j8ZzckUccQASQOaH4IhrASql7TZyrAMAEqDaJWF0JwOP+683zRCJApycflEPC6r95LHF1ZoUVwEEL8m9VqgzA9yxHS6eO/L8nM+wXGb4bQDa+d8K5Ww/An91wZHv1FMC4egjEUxL7P4dDu8V/ggTAZcWNd4xzBcAke9wZNiULQMRrif3M9BVAWPkEEH/+CcAcSs9UpOcfwLbT+CU+cQTAhrSfyc8pEcB3Nh+ef9b1P+NxuZaGixBACOsniVfGEUDvLYto+SMqQFj8IO4ZFSHAKPhF0so2IsAxNqZQnqMHQDs7/PFwqAdAACtvEHy3A8CiztpKfhEQQJUQhX1XKQvA5qXrwP7PDUCHYUq4+g8TQMVN838RKwLAz56tpQ2XCkCiUC65d6sRwAbmvD00LhxAq2qF4NmWGMCugI71i0AMwImVQynacCBApEu9DWNXEEBpe00jzYfqPxaP9n4gI/Q/6bdbSL4VGcAUpdBvQoHwP5IAfs295cC/CgrvXBaQCkAxLP7rqGAgQKaiV0kX8RZACeRml30kHsCAc+9XaBsQQKl1PtFNgwjA3cABUYa8CECO0Qe9Ar8hQGATFIEQVwlAD3qaEXLREsAWIQkXd0QTQJCC8OSoWuo/Iv2Gmu8DIcAh1N1JEE8YQClidjZqKg/AmrU4wwJlGEBe/Gr/lqQkQADqrA3OqQvAFlTb/MWrFMCrMpGgi7TVP+waGRXh7QpA8c9LqRfhB8CFYCvAP1UXQBIFgmabzxTAbxJjdEuFIsBsJLaCRMUWQMoJKlVBnv+/aKC6BIBqDkCrPKgMcK8SwNZamLbF/QbAVkXHTxTJKMB5nIXqxVQEwAm0L8mk/NU/bvaeuOv+A0DTooxU3NspQDRRWjkdhgxAtkZbMvJP/D9hz/cH/DgqQN03mX+fkSNABiIa3PrWAMBPiGG4bj4hQD0PD8EaLBnA3JEzPuRlBUBD9yjokzsBwMWoPESUmxlAzvxe/9XMFUAmWs9y90gTwGhNXEU3Lvg/ZuDf2ysdDUAs75pMAr4VwHoV8lAy5wzA67n1I3F1IMBXEbtuD4/nP9sNAClDVBLAmtGiRBz6D8AucAdq3XkYQI4tGfCvChfArTw3UZP5I0C6gQMqwyAfQEh3d4GABBjAGUDDNP9jGUA1Zqsb72IDwFRZbSabt/e/pMiqbaIRFkA5tk7XiwcGwP1vBDVjvhnA5i+ym8BgGcBkj50V5XUSQGMf0d4dHw9A9AhpbekHKMD/6fWFU9MUQBFTq4tCZQJAFf6VUpYGIsBmH+/HvgPHv85FS1G2ZfU/x/1mffZb9D9qg5GUgGQNQLWwaPd9vhdACTvwKurM+b9kWb/IeEkdwA7N4yDxTwnA/dxjZvIn0z/cSQciQGQHwJN2uozMJhHAin5V1cYxAcBlsANqX2MhQC5iWWczcwBAdh0S7AyTIMCY98+By3b2P78pYu8iHvS/hJMjIwaTCEAEt+lNk6AfwBgCLrDEPwjA7HIW0U3j+L+3VmYorRYdwKbJ/nSGqyNAoPOuWcWzFMDhMJwNG0wcwEH/Vlh3FBXAFM/tM4dBIEBtS11lJRkHwMPL8TPAfx/A4xjOoK2KH0CPN+XjIIvbvxfM4GnjAxfAd45lb2F8BUC/5pE5Q5b6v6fn5+6q9xVAFuJMC/W3C0BR+hPc+vMowEzSPHOSOOE/gKikxTz35L/H5iwLeIMIwCiSSXH56iBAfHUQKM9iHsBxQX3gQOkQQGPsBTkPd+e/omRf95FtCUBYnFxww3IhwPQS5YNTXf2/BlCTHmj8EEAUW7VtQwWiv7aDIlJ4Ox7A9+/86qxDJcChAbLwt4ofQI4JyScCzBjATn4yVnHOAUBBwOF/VWEXQHpQV2Ig7gRAWrBXeXhLuD+vcOG6iATYP3ROUljE2hxAxxKGAbNHDMBbfnm8oUEKQEhYKbQCIBbAwEOLzu69A8CUnhY5iyYTQNa/x2E3bCPA7fOQINRn3D/Ru8Ivj133v30cuTcRMwnAIHyTaFJxHMDIXCtEb3EKQEv61CUzKQ1A+DyFs4TmFsC+/IutW1EKQHU5d0IonA5A+rUxyKkVDEBPJPacphznv71UOvpdo/U//psbNEW0/L+0TGhGdHkfwHor3bcVGgbAycDI9BqRE8AcBR54e/sSQJvuzuofox/AVR6X3jhcIEBB8pWOvdzhvyE4mA3D3AjA4xj6k/1yCsB3tN9cl4QUwCm7V9AO6xnAucNS6qOaAcDQh27HRfYVQChYJrdJhh9AUMIXLKXoFkBTcfUq9oUdQK5U3uYX2/U/HVjXT8/4EkC1ESGXIZ78P46MWTHfFxnAeCOSirHvEMDbbT4wg/wTQPp8asYNCxhA/eR1mX7qGUBmsyHkNcQTQJcgYCUV4Q3A27ON7DHnA0CSGtrZeVAiwC2DsIO1FxHACACOOAlmCcB59ilJFNwLwHClVMTIMvg/NzzyIh64DcB72GHLbe4KwMePTNP/OBXAO8DkGO1vJEBKoZk/rfEowKDjqP5rBhLAeudAF11LFEATrYTfvvEDwEm0UIRHgg7AzWF0K2wmDsDqKKdKUVMVwMmIUY9G0gBAnI04bVPFAsCX2dNZcLYEQJYVE4RBGiFAGXXRorhgDcAvYYjCry0jQK5ITHm6/gPAAUYjeO0JBcD0B9JU4v0RwBN2DRmkJxDAg2KFAKe88j/IvTfqlEAeQC5BzGoYrBDARVDYc6I3JEAkTNeyPdcjwCoVHUWiVRnA3U93MkGF+T+KAlQwufX9PzIDuDML6hZArJRbO8T4CsChCXKfj8AewBhRPEx8lhnAmJye4pPED0AYYyfnTwHAP4PExX5RwvE/D9oWjsexCUDSmEV3s2EbwG7O1uG5cBhAuyK3BXb55D/g5CR04tL5P+Awk7JS6QjAYECpz5eNEEBMsefuZUMfwMaHxw8OHglAo7dgbDfRE0DhqRAZyYgaQLhIOtAsawFAb38v+ZoC9r/NJPQy2xQhwAmImMWMRxDAN5mw2hDdpj/fgaXy2aQmQOKDROP2j96/BrR9iLMI8T/LtxKimt4KwOk5U/GX/x5AGjS0U+8kEsDVTqy3UpAlwOQ+syOG+RJA5rOvlwSnvj8TuPPZ80b9P5SZlUL3awzAj1cnW9W5AEBtYsTe4ablP4u5wuOZyu+/wgN6+DwmEEB1xIlPNy4RwMhlhksGkOi/3+bIP1d4J0BXRQ3jaw8mQJPzjwKD8RJAE6cEnbtiCkCThR2bEty7vyxUFmBfrRDA8jgFqSZ88T9NchUlk+QVwP7CaPb/ovw/nyMWTi5DEkAUWsxb8TEbQO7rSbUbvvS/I03ws+lZ7L8dZXaFZqUnQMOp7yTs/gvAYB3tPI0oJ8C+b/8TWmoCwNpuQEaOThHAqwXnOO3DAsDq1muSYLTlvztE1MuyaSdAU24y5+0dEsA4b72rE48owN1FAM0RVRdA8Vzdbw6QEsDLSu7Ear4XwPu1AMK0AAzA/haHxfJ4FECr4w0vgpIFwI8x9LPKHgLA26FoRk/qHUCXY63fUCwJQPc4SkxWbQJA0nT5uAhEF0DqfGBCZcEFQJ4apasHqB3APBnMBIHy879RZ5d+Tw8QQFCO4e+aD/S/IztnLAG3BcCVwKJ0f03tv4Kap5HcSx3ALdAhgVUlGkAPf+1H7u0RQAtAFaPAXBLArNuVbeFGD0A6L1uHNsQUwD8n5RFPLN2/nOc7oS/XDcBXSV7+BmkUwIY8sog7AQzAKm1AJ48pI8CtyBfHsRcoQBVLtxke7A/A92XqvXd1EcBM+mcs3QsLQKXpFjtYS+o/1eecOqN1H8AA3CW1C+cYQNoYrU4TM/k/cs2NwYv8BkDCNieTuBsWwD5r2yG8ESnACVtzzmF2IMBeBmwwqUcTQNzygjTdfBtA5qVArTSeA8Dz+ZIOsz0PwK0PK/GMvQ3AipbooMq4zD/qI90TkwAMwJtAg/wApwRAuX5K5QcKEUBJ8M0JYIohwOtkQAUmkRbAcWBjgUgJKUCyrfz5l0cXQD4JFhapt+U/hC4LJKd8IECjNDRV/YAHQJTjFDZXSR3AHEYcfBFu4T/b3S3A8jAEwOWmfitG/wPAYMy6lkKMFMDa1e0oyPQMwC7nHOsLYQtAI07lMj/YGsDkfs/hTaAHwCY6DO4bzQNAZWvt9E2uH0CJoSxmsQshwPh6DfHP+BJAYkhtuEqjHkBgMhMcPIy3P2t4Kg9TRBHAub1DfansCkDiN+NO6n0QwP7pUVj29SRACLV4BK9IAUDUWGBOek4HQNgA+YtY1/K/aIOanSEwBEAWAoq/DM0QQMcqoyTyWBRAV73HMHAlC0BgssaCq2XKv8zIuhvGpBfASeIxW02KJkAdDb9X8bwZwIN+v9CBdeY/ICgW2csrIMD+ozeHSH/bv57c+a6/ZSnA4bEKHUI9+b8ALFMnv0/6v+2EioGeJgtA9Cuzsk6fCkDUcqk2Aa4UQDOKzWUnUQjACQf5ckCIIEBZasQmmusFwLiDd4Ha8R5AZi3LM6IDD0BChB11nvskwOcNqJP+9ShAROZj4xUwEcAbTvfHwBQQwIxJ7bunWhDAWeVGedClE0AJiUnFgTIgwLnOXznKVhzAexve4L9lKUAJ6fBrlQkIQGIO5+9KfRhA3zdCFJ1L5T+eMjtzWxcZwJmK39QYagBAhWJu56JGBMAgge6bAZrEP/K3lDI78/k/FYWnwxsdAUDQvaXsUAEMwM8VmBYPaxZA58PzErG0FcAY3+ieXKAbwMsj1+vHnShAxPpGSjmeC0Cszn6nIQECQFi6jlcSRhnAc9rS/LtaEEDuXRPKpCQPQBIub7+5PuS/ICfyR8mNDUB98AY3isUHwLTD6V4fUhbACmtd2XA5D0D6LH4W4MEDQIVeaYl9Gt+/39DnrNfAHMDp/rQkNO3nvySeIxBN6R9AveBSEIU7FEAole7pZabBPxUgCa83/AJA5lXsqfsV9L/QQCIrQ/8LQD3QmAJNlBDAFwwUXwyoKMBXlxT+en4RQJahufbHm7a/mVSZj0ogFsDilijbgHkHwEMeBDqtVynAL9IzDZ2X57+X/J/gerjrv7n1W9MBNBFAD100SPbIEUANB2D/WN8UQPxzsEQ7Fw5AbNCxb+wY9L/Q67lPZSYGQOOGuaERwiLA116Tv6cX+D922IcWDTILQFVrOl9aXwrA3fTwyq28GkCELigWzpf/v/01d5WniBNAY2uiJt5g8L81kL4t8eLxv7PNF2ugOBzAbeyAy3sW/b+m2kPFDIMfwMfHkVdOexFA7LDtjOhrE8BGl9uZ59MKwEiOJAEtkxRAIzHt0OMRA0DutJYl85oAwMHTGsr9/PG/HjO0vrcuD0Bk96otp+4WwHwu6x1XvuU/TDfJE/GZF0DEC7b2TS4TwKW2Q1D9Qvq/16fGsUL7C8DcQUpgsBwXwFhWcmOE1+O/nUwQNO6mC0DCLqMzfToAQKvnFGNoyQDAGMZaSW2GBkCAToriQM8iwNNu7h+L1uE/cfefRYTZH8AfpdIscqQWwClcO1M+IOI/zvlcA4aD/79QEOQIX7whwE3bavy4Kh7AX9GGhYCZEUBkLifAQ+IFwP04Pu++wA3AwjV6Kkk2/D8gX0j9AQEMwIpDk+x3eyLA1zBey0DQFcCR45+6XVAoQHQkdAxQICLAp/uHYV6oE8DTGG1bpw8dwIxdhqw68/I/h5tAZ3CWE0B0r69mu5AUwAXIzB1BqglAPjWECoQcw79RxrnZjrEFQFVNViE8ouQ/fdhWVlpkEUDyqsVcbKESwG5bM/CLbwZAC0jmLEGrCcBcTfikMwEPwAyp70pFyx7AcgfMSFzEEEBUnc4I0XgIQED4Nsd2MP0/rqs/o69WGUDBRHKVB8AGwMvoKVfiMg9Ab4i4e1DfFsBd662s09gYQPCZlf9pvhnAv/JBDnNcF8C7+HofrjwLwHcDB9InoCRApw2TEySBD8CbrKwOoOHvv7Ic396pZg1AEFR6AbPIAEDJNCpyPHjzv6EKcH+8SgLAZb3QSAZwEcDAi8LyOO7XPxXhw1LL6RPAZ4IXBb1QCkC5HG3JsAkkwCuHaRjKgBvAQmMjj6tyIECmzPkKI4ypP4iI9l6+KCPAzs8shJh1EUBV9dqRkHAkwK0bGesZgPA/4y4/KzXrGUAGB74FeNMgQMDoy96x7cc/X/LF+pdB9D+tVNAIbhwFQHYqPhcJMQbARdcRjX2yEUBaW2FucpsSwK0Ggv/xCw1AbuMSQo2PEEDxT1imFPwmQPSAAaGBXOc/Vu4igJU0GsDz/7lyKUcPQD6J9nysOw/A9+nGZKHJrz/S4OZE6xMOwPyy59O7/hXA4+Zmf8aEJkBVdzDWh5QAwE3fdPTLew/A6OzhbNPM1j9EbuhTid4fQNADewm7YMc/N1Ep8YWTHsDBlqBF3yvRP5nQveUosPY/DX7HDSFDJ0BpGz/Whp8IQNzptr/EPRTATEQOC8n/FcChFIRD2YsOwHfZ+bVHIxfAHKeu1ofg9z+AqT1GC330P/LOJk6TAAzAqsaOdFAs9j+tIBOfMz8MwIDGupXJ1PS/tA4juF03KUAhPu4zzHgGwAb7kUOhfBBAywWuTbodIcA5lv4gI6wpQIbP/Nro9K8/bQJUrsZcBkBdC2U0nU76v5g/KGHDIB5AxqwjlR7PFUCsXachZmIRwKhvt2A8CRVARpbJG48qHUBNi90PDPT8PzjXjGqCygZAoZ28CcuhtD+ztSjGISHlv+0tIGBkiwZAWMaq7SIJEUDd3P8Zm4D0P+hlwMsTzhbA8igdh2hHFECrsstVUdLhPzKRTji9ng/AB5SFsJfw9L/s/MXbh/PQP3fvpMv5pvc/h4DnSGNQ5z9a/mEt53MgQEm9cttkbRHAXL1iwokKIEAllNKS3MQhwHgUSU0RMes/b2NHLV2wDsAuYkGZH20WQNd5FEQVj9a/G083ptSSCMDJHNQur8UhwHPz8FMicANApnkdxwytCMAlFNY9JkUTwNTTY/kATvi/4XVn9t+L/b/BFhTwTyYUQOT8dIgpXRxAuSqFUQd4FEB61ei5uA/xv1gSQsxP9Oy/4bKkfoYfG8Bfxjp/OmUhwL4it9XI6BVA4eVIXu+y7z8lV6Xvt1n6v/xwxq3dSf6/hstIYeKtEkBeDOkAykMMwP0MCECgOQrAmUySQawtEcAbNpaw1JIUwEc6e2GznRZAi6EVfH2ED8A8mwuzYVERwES5DpCdYxPATFSh/K6PEsDpIWDqPOYDQPIKIGxxNu+/t29B6j+u4D8gfjlIvFAEwL2mZBdHUx5AWGsjgqIBE8CsMBQmeRf3P6XdMVS8fAxAmMAlu0XzDcAjOoIXtDYcQEs34Nw6iARANuB6OEMC/7/ss68NcP8LwGmLm8InXgBAqlqGKVbwFcDII5KrUqD+P4QRraFbIQBADzu+/Gg0EsAvc92EydQbQOSpb/Kk8fg/S2IEVhxkIUCTCCNQZ5r0PwzwrLsIGhrAkvIz0898JsAW/ZqseIcWQLFgLtKk/tC/O74ul21zBMDl5MI2feYXQHW7nd4wTgDAo/HunuOJFkAafawxJgECQA1yjk5MOfa/cdtnR30TIEBAgI7p3Cj+P6tfBuA5dRNAkULMCDTFDEDwCwt4guMXQPcDFTliuhRAN0pd7K/DDECrjOH+kukcwJYRw6hhpCXA/ORCWRkV0b9SA56NlHQTQGIEBm+hC+g/F9KDhqmjEUDKnC/t9Dr3P/nITSxEDQlAqWX02wvLHcCuV8vq16ojwFTvmjnFcvg/wtfkm8dlFUBp2ZrDqNsnQKcWKnxjShbAW5KWZaA4I8Bdr6OhG/UWQDrQL8mpRRZAEbJ/14uSFEBwvzy1zNjzP3W6NXhlxwDAtqxGfcGaEMAzts/sRKQWQPVlSYOzFQxAYFSojKRQDsBWQTLZPsHyPxlo1JHrTipAAcYuNNU5EUDDLzLAewwjwHTCGb8DhBfAWGZG29/MHcAzFjCsTUggQHtwcW4dyx7AJxtNX9IgFMBsFsrCPAohwAeZmNKqcvI/DB/2wI0SHECSyzb6oeYiwGakagzmHgfAkkOX1c6IHsDu6tzs6YsFQHNQCj3JgfO/nFNdN6mU8b8doguzTPoIwOmbVaouuShApNXo/SGp9T//z4542Rjzv1WcecQ6bPa/kV9PohmzGMDgO7Qwhz7uv8jNDDRhIsA/3Jj5ExGzGUAi1UM8XuscwNLez81cVsU/Q16A7LxrAcAs6xssWur8v+EFNpoKghFARsuZOXo+GcAMuVpiXYvyv89Qqs/kkhPAW9HIZuSCIMBgOQ7e0n4mQHYHroBKdiHAE7qjg+IfEECvpMKRKMHnP8/SHrlg2BFA+th/pkvfFsBKTf4xP2X2v5H82CJjkN0/6EPkDhw6E0AUT2+1zWrkP4h9HPQ5ax/ALqdm/rn1FsCvIlYorm0TQDS/d6l9EgfAi3aMB6rUBcBZEeni4G8DQCgn7NMk5/M/XIcx7TE4GkB1CLwb7YEDwCTIEfaL5wVA2b8mZqCAD8D3+A64AQEMwEhbEyM4gAZA3FQNhj9MJkBLaFa9w6YkwFvCx3KH0RVAQCvIxdxpH0Ck6WjNDDkeQLoAw/ceUhfAffkNLV3av7/IRzLW7p7Nv8kLk1ohJSTA8/HT5mpZEcBkOKFg8AoDwF4TKY1pKva/Mgp6aennHkCX9LsMGf8VQNZnyMmLGyPALG5PtAXzBcBhNSIUTE8iwLsv9GXE7SBAsVEJHWJtIcBfN8Y3eHEBQKIZFld/KxFAbntNAVpHwj8N8i5tdJIdQIoQ5OsIRhjA+y4Wt94KCMB2L+A1ZuMewNmJ56joDyXAnwswjkv1KECyBl9RHxzkP6Gzzju2AAtARYQtmQLlFUAbx/KE4rokQObHtNoG/SLAruykFaJcH8AId2e2Z8wBwNrcLp10kBNAfBoEbM//D0BaXVY/ujsHQPBNd4BaKyFAmPBxaPlzzb9LdhpjsyUcQEFQT0MGYwdAgeG6U3CA8T9Rs9w1RJ4VQFQzlo73pBXAC7CYo5afHECRmgsZBA4PQE8vD6e6qyHALN/CGQc9EkB/Or/d/I0kwF8i6e+/rg5AYz7Z7pSdE8BFzUZUMociwJ0Xla/x+hfAY5EnktevJ0CFqeo8cJ0SwCwWcXtxn8S/fRVeK7Dv8D8GGJB8WuwgwLQ1tUtJog3AXVCMdY6hKkCm4AD0ntfxP+mH62U2oAHAADaSXuqKCsBHNv8n+yUHwF7YpBEkkRRAo3k/fSt/IEDeIGxnNhsQQJ+/XIUQsChAbG3/W35r878MXWvPE1y4v2GmAZ5xGd2/KfM5WLJCDUBgT2zuZGcRwJo1MCmi/B1AnOdludGMFcBxLJplTZH6P3vGk/yB5AhAMtQKi7xnDMBa7e5LQcIUQFDRSI23twxAvUyK/+tBG0DuERClAEHxP5Rft2WFaB9AhxP8C/cFA8DZGYE6HhQBQJDowxdXhs0/7WycCtR6+7955jShhK/dv/urj4Vv2RpA/PEO3K98AsCwIX8EUawSQBPCD3l4wN6/skRgGZCPKED4Lh//GYojwJzx0npMTxDAjFjdzUhdBsAPkVVw62AhwKUQka2VkCpAFb1eEnvTEMBY+TH2jqYgwA==\",\"dtype\":\"float64\",\"order\":\"little\",\"shape\":[1280]}},\"selected\":{\"id\":\"1172\"},\"selection_policy\":{\"id\":\"1171\"}},\"id\":\"1112\",\"type\":\"ColumnDataSource\"},{\"attributes\":{\"fill_alpha\":{\"value\":0.25},\"fill_color\":{\"field\":\"color\"},\"line_alpha\":{\"value\":0.25},\"line_color\":{\"field\":\"color\"},\"size\":{\"value\":10},\"x\":{\"field\":\"x\"},\"y\":{\"field\":\"y\"}},\"id\":\"1145\",\"type\":\"Scatter\"},{\"attributes\":{},\"id\":\"1120\",\"type\":\"LinearScale\"},{\"attributes\":{},\"id\":\"1116\",\"type\":\"DataRange1d\"},{\"attributes\":{},\"id\":\"1114\",\"type\":\"DataRange1d\"},{\"attributes\":{\"formatter\":{\"id\":\"1167\"},\"major_label_policy\":{\"id\":\"1169\"},\"ticker\":{\"id\":\"1127\"}},\"id\":\"1126\",\"type\":\"LinearAxis\"},{\"attributes\":{\"formatter\":{\"id\":\"1164\"},\"major_label_policy\":{\"id\":\"1166\"},\"ticker\":{\"id\":\"1123\"}},\"id\":\"1122\",\"type\":\"LinearAxis\"},{\"attributes\":{},\"id\":\"1118\",\"type\":\"LinearScale\"},{\"attributes\":{},\"id\":\"1171\",\"type\":\"UnionRenderers\"},{\"attributes\":{},\"id\":\"1135\",\"type\":\"HelpTool\"},{\"attributes\":{},\"id\":\"1172\",\"type\":\"Selection\"},{\"attributes\":{},\"id\":\"1123\",\"type\":\"BasicTicker\"},{\"attributes\":{\"axis\":{\"id\":\"1122\"},\"ticker\":null},\"id\":\"1125\",\"type\":\"Grid\"},{\"attributes\":{\"axis\":{\"id\":\"1126\"},\"dimension\":1,\"ticker\":null},\"id\":\"1129\",\"type\":\"Grid\"},{\"attributes\":{},\"id\":\"1127\",\"type\":\"BasicTicker\"},{\"attributes\":{\"fill_alpha\":{\"value\":0.1},\"fill_color\":{\"field\":\"color\"},\"line_alpha\":{\"value\":0.1},\"line_color\":{\"field\":\"color\"},\"size\":{\"value\":10},\"x\":{\"field\":\"x\"},\"y\":{\"field\":\"y\"}},\"id\":\"1146\",\"type\":\"Scatter\"},{\"attributes\":{\"active_multi\":null,\"active_scroll\":{\"id\":\"1131\"},\"tools\":[{\"id\":\"1130\"},{\"id\":\"1131\"},{\"id\":\"1132\"},{\"id\":\"1133\"},{\"id\":\"1134\"},{\"id\":\"1135\"},{\"id\":\"1149\"}]},\"id\":\"1137\",\"type\":\"Toolbar\"},{\"attributes\":{},\"id\":\"1167\",\"type\":\"BasicTickFormatter\"},{\"attributes\":{},\"id\":\"1131\",\"type\":\"WheelZoomTool\"},{\"attributes\":{},\"id\":\"1130\",\"type\":\"PanTool\"},{\"attributes\":{\"overlay\":{\"id\":\"1136\"}},\"id\":\"1132\",\"type\":\"BoxZoomTool\"}],\"root_ids\":[\"1113\"]},\"title\":\"Bokeh Application\",\"version\":\"2.3.2\"}};\n",
       "  var render_items = [{\"docid\":\"34d76f72-cfa3-4b85-962b-e74639929f77\",\"root_ids\":[\"1113\"],\"roots\":{\"1113\":\"52c96301-3eee-4935-be8b-18ae0b878aa1\"}}];\n",
       "  root.Bokeh.embed.embed_items_notebook(docs_json, render_items);\n",
       "\n",
       "  }\n",
       "  if (root.Bokeh !== undefined) {\n",
       "    embed_document(root);\n",
       "  } else {\n",
       "    var attempts = 0;\n",
       "    var timer = setInterval(function(root) {\n",
       "      if (root.Bokeh !== undefined) {\n",
       "        clearInterval(timer);\n",
       "        embed_document(root);\n",
       "      } else {\n",
       "        attempts++;\n",
       "        if (attempts > 100) {\n",
       "          clearInterval(timer);\n",
       "          console.log(\"Bokeh: ERROR: Unable to run BokehJS code because BokehJS library is missing\");\n",
       "        }\n",
       "      }\n",
       "    }, 10, root)\n",
       "  }\n",
       "})(window);"
      ],
      "application/vnd.bokehjs_exec.v0+json": ""
     },
     "metadata": {
      "application/vnd.bokehjs_exec.v0+json": {
       "id": "1113"
      }
     },
     "output_type": "display_data"
    },
    {
     "data": {
      "text/html": [
       "<div style=\"display: table;\"><div style=\"display: table-row;\"><div style=\"display: table-cell;\"><b title=\"bokeh.plotting.figure.Figure\">Figure</b>(</div><div style=\"display: table-cell;\">id&nbsp;=&nbsp;'1113', <span id=\"1229\" style=\"cursor: pointer;\">&hellip;)</span></div></div><div class=\"1228\" style=\"display: none;\"><div style=\"display: table-cell;\"></div><div style=\"display: table-cell;\">above&nbsp;=&nbsp;[],</div></div><div class=\"1228\" style=\"display: none;\"><div style=\"display: table-cell;\"></div><div style=\"display: table-cell;\">align&nbsp;=&nbsp;'start',</div></div><div class=\"1228\" style=\"display: none;\"><div style=\"display: table-cell;\"></div><div style=\"display: table-cell;\">aspect_ratio&nbsp;=&nbsp;None,</div></div><div class=\"1228\" style=\"display: none;\"><div style=\"display: table-cell;\"></div><div style=\"display: table-cell;\">aspect_scale&nbsp;=&nbsp;1,</div></div><div class=\"1228\" style=\"display: none;\"><div style=\"display: table-cell;\"></div><div style=\"display: table-cell;\">background&nbsp;=&nbsp;None,</div></div><div class=\"1228\" style=\"display: none;\"><div style=\"display: table-cell;\"></div><div style=\"display: table-cell;\">background_fill_alpha&nbsp;=&nbsp;1.0,</div></div><div class=\"1228\" style=\"display: none;\"><div style=\"display: table-cell;\"></div><div style=\"display: table-cell;\">background_fill_color&nbsp;=&nbsp;'#ffffff',</div></div><div class=\"1228\" style=\"display: none;\"><div style=\"display: table-cell;\"></div><div style=\"display: table-cell;\">below&nbsp;=&nbsp;[LinearAxis(id='1122', ...)],</div></div><div class=\"1228\" style=\"display: none;\"><div style=\"display: table-cell;\"></div><div style=\"display: table-cell;\">border_fill_alpha&nbsp;=&nbsp;1.0,</div></div><div class=\"1228\" style=\"display: none;\"><div style=\"display: table-cell;\"></div><div style=\"display: table-cell;\">border_fill_color&nbsp;=&nbsp;'#ffffff',</div></div><div class=\"1228\" style=\"display: none;\"><div style=\"display: table-cell;\"></div><div style=\"display: table-cell;\">center&nbsp;=&nbsp;[Grid(id='1125', ...), Grid(id='1129', ...)],</div></div><div class=\"1228\" style=\"display: none;\"><div style=\"display: table-cell;\"></div><div style=\"display: table-cell;\">css_classes&nbsp;=&nbsp;[],</div></div><div class=\"1228\" style=\"display: none;\"><div style=\"display: table-cell;\"></div><div style=\"display: table-cell;\">disabled&nbsp;=&nbsp;False,</div></div><div class=\"1228\" style=\"display: none;\"><div style=\"display: table-cell;\"></div><div style=\"display: table-cell;\">extra_x_ranges&nbsp;=&nbsp;{},</div></div><div class=\"1228\" style=\"display: none;\"><div style=\"display: table-cell;\"></div><div style=\"display: table-cell;\">extra_y_ranges&nbsp;=&nbsp;{},</div></div><div class=\"1228\" style=\"display: none;\"><div style=\"display: table-cell;\"></div><div style=\"display: table-cell;\">frame_height&nbsp;=&nbsp;None,</div></div><div class=\"1228\" style=\"display: none;\"><div style=\"display: table-cell;\"></div><div style=\"display: table-cell;\">frame_width&nbsp;=&nbsp;None,</div></div><div class=\"1228\" style=\"display: none;\"><div style=\"display: table-cell;\"></div><div style=\"display: table-cell;\">height&nbsp;=&nbsp;400,</div></div><div class=\"1228\" style=\"display: none;\"><div style=\"display: table-cell;\"></div><div style=\"display: table-cell;\">height_policy&nbsp;=&nbsp;'auto',</div></div><div class=\"1228\" style=\"display: none;\"><div style=\"display: table-cell;\"></div><div style=\"display: table-cell;\">hidpi&nbsp;=&nbsp;True,</div></div><div class=\"1228\" style=\"display: none;\"><div style=\"display: table-cell;\"></div><div style=\"display: table-cell;\">inner_height&nbsp;=&nbsp;0,</div></div><div class=\"1228\" style=\"display: none;\"><div style=\"display: table-cell;\"></div><div style=\"display: table-cell;\">inner_width&nbsp;=&nbsp;0,</div></div><div class=\"1228\" style=\"display: none;\"><div style=\"display: table-cell;\"></div><div style=\"display: table-cell;\">js_event_callbacks&nbsp;=&nbsp;{},</div></div><div class=\"1228\" style=\"display: none;\"><div style=\"display: table-cell;\"></div><div style=\"display: table-cell;\">js_property_callbacks&nbsp;=&nbsp;{},</div></div><div class=\"1228\" style=\"display: none;\"><div style=\"display: table-cell;\"></div><div style=\"display: table-cell;\">left&nbsp;=&nbsp;[LinearAxis(id='1126', ...)],</div></div><div class=\"1228\" style=\"display: none;\"><div style=\"display: table-cell;\"></div><div style=\"display: table-cell;\">lod_factor&nbsp;=&nbsp;10,</div></div><div class=\"1228\" style=\"display: none;\"><div style=\"display: table-cell;\"></div><div style=\"display: table-cell;\">lod_interval&nbsp;=&nbsp;300,</div></div><div class=\"1228\" style=\"display: none;\"><div style=\"display: table-cell;\"></div><div style=\"display: table-cell;\">lod_threshold&nbsp;=&nbsp;2000,</div></div><div class=\"1228\" style=\"display: none;\"><div style=\"display: table-cell;\"></div><div style=\"display: table-cell;\">lod_timeout&nbsp;=&nbsp;500,</div></div><div class=\"1228\" style=\"display: none;\"><div style=\"display: table-cell;\"></div><div style=\"display: table-cell;\">margin&nbsp;=&nbsp;(0, 0, 0, 0),</div></div><div class=\"1228\" style=\"display: none;\"><div style=\"display: table-cell;\"></div><div style=\"display: table-cell;\">match_aspect&nbsp;=&nbsp;False,</div></div><div class=\"1228\" style=\"display: none;\"><div style=\"display: table-cell;\"></div><div style=\"display: table-cell;\">max_height&nbsp;=&nbsp;None,</div></div><div class=\"1228\" style=\"display: none;\"><div style=\"display: table-cell;\"></div><div style=\"display: table-cell;\">max_width&nbsp;=&nbsp;None,</div></div><div class=\"1228\" style=\"display: none;\"><div style=\"display: table-cell;\"></div><div style=\"display: table-cell;\">min_border&nbsp;=&nbsp;5,</div></div><div class=\"1228\" style=\"display: none;\"><div style=\"display: table-cell;\"></div><div style=\"display: table-cell;\">min_border_bottom&nbsp;=&nbsp;None,</div></div><div class=\"1228\" style=\"display: none;\"><div style=\"display: table-cell;\"></div><div style=\"display: table-cell;\">min_border_left&nbsp;=&nbsp;None,</div></div><div class=\"1228\" style=\"display: none;\"><div style=\"display: table-cell;\"></div><div style=\"display: table-cell;\">min_border_right&nbsp;=&nbsp;None,</div></div><div class=\"1228\" style=\"display: none;\"><div style=\"display: table-cell;\"></div><div style=\"display: table-cell;\">min_border_top&nbsp;=&nbsp;None,</div></div><div class=\"1228\" style=\"display: none;\"><div style=\"display: table-cell;\"></div><div style=\"display: table-cell;\">min_height&nbsp;=&nbsp;None,</div></div><div class=\"1228\" style=\"display: none;\"><div style=\"display: table-cell;\"></div><div style=\"display: table-cell;\">min_width&nbsp;=&nbsp;None,</div></div><div class=\"1228\" style=\"display: none;\"><div style=\"display: table-cell;\"></div><div style=\"display: table-cell;\">name&nbsp;=&nbsp;None,</div></div><div class=\"1228\" style=\"display: none;\"><div style=\"display: table-cell;\"></div><div style=\"display: table-cell;\">outer_height&nbsp;=&nbsp;0,</div></div><div class=\"1228\" style=\"display: none;\"><div style=\"display: table-cell;\"></div><div style=\"display: table-cell;\">outer_width&nbsp;=&nbsp;0,</div></div><div class=\"1228\" style=\"display: none;\"><div style=\"display: table-cell;\"></div><div style=\"display: table-cell;\">outline_line_alpha&nbsp;=&nbsp;1.0,</div></div><div class=\"1228\" style=\"display: none;\"><div style=\"display: table-cell;\"></div><div style=\"display: table-cell;\">outline_line_cap&nbsp;=&nbsp;'butt',</div></div><div class=\"1228\" style=\"display: none;\"><div style=\"display: table-cell;\"></div><div style=\"display: table-cell;\">outline_line_color&nbsp;=&nbsp;'#e5e5e5',</div></div><div class=\"1228\" style=\"display: none;\"><div style=\"display: table-cell;\"></div><div style=\"display: table-cell;\">outline_line_dash&nbsp;=&nbsp;[],</div></div><div class=\"1228\" style=\"display: none;\"><div style=\"display: table-cell;\"></div><div style=\"display: table-cell;\">outline_line_dash_offset&nbsp;=&nbsp;0,</div></div><div class=\"1228\" style=\"display: none;\"><div style=\"display: table-cell;\"></div><div style=\"display: table-cell;\">outline_line_join&nbsp;=&nbsp;'bevel',</div></div><div class=\"1228\" style=\"display: none;\"><div style=\"display: table-cell;\"></div><div style=\"display: table-cell;\">outline_line_width&nbsp;=&nbsp;1,</div></div><div class=\"1228\" style=\"display: none;\"><div style=\"display: table-cell;\"></div><div style=\"display: table-cell;\">output_backend&nbsp;=&nbsp;'canvas',</div></div><div class=\"1228\" style=\"display: none;\"><div style=\"display: table-cell;\"></div><div style=\"display: table-cell;\">renderers&nbsp;=&nbsp;[GlyphRenderer(id='1147', ...)],</div></div><div class=\"1228\" style=\"display: none;\"><div style=\"display: table-cell;\"></div><div style=\"display: table-cell;\">reset_policy&nbsp;=&nbsp;'standard',</div></div><div class=\"1228\" style=\"display: none;\"><div style=\"display: table-cell;\"></div><div style=\"display: table-cell;\">right&nbsp;=&nbsp;[],</div></div><div class=\"1228\" style=\"display: none;\"><div style=\"display: table-cell;\"></div><div style=\"display: table-cell;\">sizing_mode&nbsp;=&nbsp;None,</div></div><div class=\"1228\" style=\"display: none;\"><div style=\"display: table-cell;\"></div><div style=\"display: table-cell;\">subscribed_events&nbsp;=&nbsp;[],</div></div><div class=\"1228\" style=\"display: none;\"><div style=\"display: table-cell;\"></div><div style=\"display: table-cell;\">syncable&nbsp;=&nbsp;True,</div></div><div class=\"1228\" style=\"display: none;\"><div style=\"display: table-cell;\"></div><div style=\"display: table-cell;\">tags&nbsp;=&nbsp;[],</div></div><div class=\"1228\" style=\"display: none;\"><div style=\"display: table-cell;\"></div><div style=\"display: table-cell;\">title&nbsp;=&nbsp;Title(id='1162', ...),</div></div><div class=\"1228\" style=\"display: none;\"><div style=\"display: table-cell;\"></div><div style=\"display: table-cell;\">title_location&nbsp;=&nbsp;'above',</div></div><div class=\"1228\" style=\"display: none;\"><div style=\"display: table-cell;\"></div><div style=\"display: table-cell;\">toolbar&nbsp;=&nbsp;Toolbar(id='1137', ...),</div></div><div class=\"1228\" style=\"display: none;\"><div style=\"display: table-cell;\"></div><div style=\"display: table-cell;\">toolbar_location&nbsp;=&nbsp;'right',</div></div><div class=\"1228\" style=\"display: none;\"><div style=\"display: table-cell;\"></div><div style=\"display: table-cell;\">toolbar_sticky&nbsp;=&nbsp;True,</div></div><div class=\"1228\" style=\"display: none;\"><div style=\"display: table-cell;\"></div><div style=\"display: table-cell;\">visible&nbsp;=&nbsp;True,</div></div><div class=\"1228\" style=\"display: none;\"><div style=\"display: table-cell;\"></div><div style=\"display: table-cell;\">width&nbsp;=&nbsp;600,</div></div><div class=\"1228\" style=\"display: none;\"><div style=\"display: table-cell;\"></div><div style=\"display: table-cell;\">width_policy&nbsp;=&nbsp;'auto',</div></div><div class=\"1228\" style=\"display: none;\"><div style=\"display: table-cell;\"></div><div style=\"display: table-cell;\">x_range&nbsp;=&nbsp;DataRange1d(id='1114', ...),</div></div><div class=\"1228\" style=\"display: none;\"><div style=\"display: table-cell;\"></div><div style=\"display: table-cell;\">x_scale&nbsp;=&nbsp;LinearScale(id='1118', ...),</div></div><div class=\"1228\" style=\"display: none;\"><div style=\"display: table-cell;\"></div><div style=\"display: table-cell;\">y_range&nbsp;=&nbsp;DataRange1d(id='1116', ...),</div></div><div class=\"1228\" style=\"display: none;\"><div style=\"display: table-cell;\"></div><div style=\"display: table-cell;\">y_scale&nbsp;=&nbsp;LinearScale(id='1120', ...))</div></div></div>\n",
       "<script>\n",
       "(function() {\n",
       "  var expanded = false;\n",
       "  var ellipsis = document.getElementById(\"1229\");\n",
       "  ellipsis.addEventListener(\"click\", function() {\n",
       "    var rows = document.getElementsByClassName(\"1228\");\n",
       "    for (var i = 0; i < rows.length; i++) {\n",
       "      var el = rows[i];\n",
       "      el.style.display = expanded ? \"none\" : \"table-row\";\n",
       "    }\n",
       "    ellipsis.innerHTML = expanded ? \"&hellip;)\" : \"&lsaquo;&lsaquo;&lsaquo;\";\n",
       "    expanded = !expanded;\n",
       "  });\n",
       "})();\n",
       "</script>\n"
      ],
      "text/plain": [
       "Figure(id='1113', ...)"
      ]
     },
     "execution_count": 28,
     "metadata": {},
     "output_type": "execute_result"
    }
   ],
   "source": [
    "draw_vectors(\n",
    "    examples[\"transformed_features_tsne\"][:, 0], \n",
    "    examples[\"transformed_features_tsne\"][:, 1], \n",
    "    color=[[\"red\", \"blue\"][t] for t in examples[\"targets\"]]\n",
    "    )"
   ]
  },
  {
   "cell_type": "markdown",
   "metadata": {
    "id": "0fNF6LRQ9MPI"
   },
   "source": [
    "Скорее всего, на визуализации нет четкого разделения твитов между классами. Это значит, что по полученным нами векторам твитов не так-то просто определить, к какому классу твит пренадлежит. Значит, обычный линейный классификатор не очень хорошо справится с задачей. Надо будет делать глубокую (хотя бы два слоя) нейронную сеть.\n",
    "\n",
    "Подготовим загрузчики данных.\n",
    "Усреднее векторов будем делать в \"батчевалке\"(`collate_fn`). Она используется для того, чтобы собирать из данных `torch.Tensor` батчи, которые можно отправлять в модель.\n"
   ]
  },
  {
   "cell_type": "code",
   "execution_count": null,
   "metadata": {
    "id": "y1XapsADtITv"
   },
   "outputs": [],
   "source": [
    "from torch.utils.data import DataLoader\n",
    "\n",
    "\n",
    "batch_size = 1024\n",
    "num_workers = 4\n",
    "\n",
    "def average_emb(batch):\n",
    "    features = [np.mean(b[\"feature\"], axis=0) for b in batch]\n",
    "    targets = [b[\"target\"] for b in batch]\n",
    "\n",
    "    return {\"features\": torch.FloatTensor(features), \"targets\": torch.LongTensor(targets)}\n",
    "\n",
    "\n",
    "train_size = math.ceil(len(dev) * 0.8)\n",
    "\n",
    "train, valid = random_split(dev, [train_size, len(dev) - train_size])\n",
    "\n",
    "train_loader = DataLoader(\n",
    "    train, \n",
    "    batch_size=batch_size, \n",
    "    num_workers=num_workers, \n",
    "    shuffle=True, \n",
    "    drop_last=True, \n",
    "    collate_fn=average_emb\n",
    ")\n",
    "valid_loader = DataLoader(\n",
    "    valid, \n",
    "    batch_size=batch_size, \n",
    "    num_workers=num_workers, \n",
    "    shuffle=False, \n",
    "    drop_last=False, \n",
    "    collate_fn=average_emb\n",
    ")"
   ]
  },
  {
   "cell_type": "markdown",
   "metadata": {
    "id": "p-zs0WEK-Vkt"
   },
   "source": [
    "Определим функции для тренировки и теста модели:"
   ]
  },
  {
   "cell_type": "code",
   "execution_count": null,
   "metadata": {
    "id": "U--T2Gjw1r27"
   },
   "outputs": [],
   "source": [
    "from tqdm.notebook import tqdm\n",
    "\n",
    "\n",
    "def training(model, optimizer, criterion, train_loader, epoch, device=\"cpu\"):\n",
    "    pbar = tqdm(train_loader, desc=f\"Epoch {e + 1}. Train Loss: {0}\")\n",
    "    model.train()\n",
    "    for batch in pbar:\n",
    "        features = batch[\"features\"].to(device)\n",
    "        targets = batch[\"targets\"].to(device)\n",
    "\n",
    "        # Получи предсказания модели\n",
    "        loss = ... # Посчитай лосс\n",
    "        # Обнови параметры модели\n",
    "\n",
    "        pbar.set_description(f\"Epoch {e + 1}. Train Loss: {loss:.4}\")\n",
    "    \n",
    "\n",
    "def testing(model, criterion, test_loader, device=\"cpu\"):\n",
    "    pbar = tqdm(test_loader, desc=f\"Test Loss: {0}, Test Acc: {0}\")\n",
    "    mean_loss = 0\n",
    "    mean_acc = 0\n",
    "    model.eval()\n",
    "    with torch.no_grad():\n",
    "        for batch in pbar:\n",
    "            features = batch[\"features\"].to(device)\n",
    "            targets = batch[\"targets\"].to(device)\n",
    "\n",
    "            # Получи предсказания модели\n",
    "            loss = ... # Посчитай лосс\n",
    "            acc = ... # Посчитай точность модели\n",
    "\n",
    "            mean_loss += loss.item()\n",
    "            mean_acc += acc.item()\n",
    "\n",
    "            pbar.set_description(f\"Test Loss: {loss:.4}, Test Acc: {acc:.4}\")\n",
    "\n",
    "    pbar.set_description(f\"Test Loss: {mean_loss / len(test_loader):.4}, Test Acc: {mean_acc / len(test_loader):.4}\")\n",
    "\n",
    "    return {\"Test Loss\": mean_loss / len(test_loader), \"Test Acc\": mean_acc / len(test_loader)}"
   ]
  },
  {
   "cell_type": "markdown",
   "metadata": {
    "id": "oVg_XBBb-YBH"
   },
   "source": [
    "Создадим модель, оптимизатор и целевую функцию. Вы можете сами выбрать количество слоев в нейронной сети, ваш любимый оптимизатор и целевую функцию.\n"
   ]
  },
  {
   "cell_type": "code",
   "execution_count": null,
   "metadata": {
    "id": "EBoZ4F3Fx1Hm"
   },
   "outputs": [],
   "source": [
    "import torch.nn as nn\n",
    "from torch.optim import Adam\n",
    "\n",
    "\n",
    "# Не забудь поиграться с параметрами ;)\n",
    "vector_size = dev.word2vec.vector_size\n",
    "num_classes = 2\n",
    "lr = 1e-2\n",
    "num_epochs = 1\n",
    "\n",
    "model = # Твоя модель\n",
    "model = model.cuda()\n",
    "criterion = # Твой лосс\n",
    "optimizer = # Твой оптимайзер"
   ]
  },
  {
   "cell_type": "markdown",
   "metadata": {
    "id": "-AitU8AR-zBj"
   },
   "source": [
    "Наконец, обучим модель и протестируем её.\n",
    "\n",
    "После каждой эпохи будем проверять качество модели на валидационной части датасета. Если метрика стала лучше, будем сохранять модель. **Подумайте, какая метрика (точность или лосс) будет лучше работать в этой задаче?** "
   ]
  },
  {
   "cell_type": "code",
   "execution_count": null,
   "metadata": {
    "id": "gKhk71Pmx1F1"
   },
   "outputs": [],
   "source": [
    "best_metric = np.inf\n",
    "for e in range(num_epochs):\n",
    "    training(model, optimizer, criterion, train_loader, e, device)\n",
    "    log = testing(model, criterion, valid_loader, device)\n",
    "    print(log)\n",
    "    if log[\"Test Loss\"] < best_metric:\n",
    "        torch.save(model.state_dict(), \"model.pt\")\n",
    "        best_metric = log[\"Test Loss\"]"
   ]
  },
  {
   "cell_type": "code",
   "execution_count": null,
   "metadata": {
    "id": "di4dGwD4x1Dt"
   },
   "outputs": [],
   "source": [
    "test_loader = DataLoader(\n",
    "    TwitterDataset(test_data, \"text\", \"emotion\", word2vec), \n",
    "    batch_size=batch_size, \n",
    "    num_workers=num_workers, \n",
    "    shuffle=False,\n",
    "    drop_last=False, \n",
    "    collate_fn=average_emb)\n",
    "\n",
    "model.load_state_dict(torch.load(\"model.pt\", map_location=device))\n",
    "\n",
    "print(testing(model, criterion, test_loader, device=device))"
   ]
  },
  {
   "cell_type": "markdown",
   "metadata": {
    "id": "ZRvzpldHSAu0"
   },
   "source": [
    "## Embeddings for unknown words (8 баллов)\n",
    "\n",
    "Пока что использовалась не вся информация из текста. Часть информации фильтровалось – если слова не было в словаре эмбеддингов, то мы просто превращали слово в нулевой вектор. Хочется использовать информацию по-максимуму. Поэтому рассмотрим другие способы обработки слов, которых нет в словаре. А именно:\n",
    "\n",
    "- Для каждого незнакомого слова будем запоминать его контекст(слова слева и справа от этого слова). Эмбеддингом нашего незнакомого слова будет сумма эмбеддингов всех слов из его контекста. (4 балла)\n",
    "- Для каждого слова текста получим его эмбеддинг из Tfidf с помощью ```TfidfVectorizer``` из [sklearn](https://scikit-learn.org/stable/modules/generated/sklearn.feature_extraction.text.TfidfVectorizer.html#sklearn.feature_extraction.text.TfidfVectorizer). Итоговым эмбеддингом для каждого слова будет сумма двух эмбеддингов: предобученного и Tfidf-ного. Для слов, которых нет в словаре предобученных эмбеддингов, результирующий эмбеддинг будет просто полученный из Tfidf. (4 балла)\n",
    "\n",
    "Реализуйте оба варианта **ниже**. Напишите, какой способ сработал лучше и ваши мысли, почему так получилось."
   ]
  },
  {
   "cell_type": "code",
   "execution_count": null,
   "metadata": {
    "id": "RxhEpKalU1UQ"
   },
   "outputs": [],
   "source": []
  }
 ],
 "metadata": {
  "accelerator": "GPU",
  "colab": {
   "collapsed_sections": [],
   "include_colab_link": true,
   "name": "[homework]embeddings.ipynb",
   "private_outputs": true,
   "provenance": []
  },
  "kernelspec": {
   "display_name": "Python 3",
   "language": "python",
   "name": "python3"
  },
  "language_info": {
   "codemirror_mode": {
    "name": "ipython",
    "version": 3
   },
   "file_extension": ".py",
   "mimetype": "text/x-python",
   "name": "python",
   "nbconvert_exporter": "python",
   "pygments_lexer": "ipython3",
   "version": "3.8.8"
  }
 },
 "nbformat": 4,
 "nbformat_minor": 1
}
