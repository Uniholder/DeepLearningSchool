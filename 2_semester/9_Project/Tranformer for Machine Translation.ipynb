{
  "cells": [
    {
      "cell_type": "markdown",
      "metadata": {
        "id": "view-in-github",
        "colab_type": "text"
      },
      "source": [
        "<a href=\"https://colab.research.google.com/github/Uniholder/DeepLearningSchool/blob/main/2_semester/9_Project/Tranformer%20for%20Machine%20Translation.ipynb\" target=\"_parent\"><img src=\"https://colab.research.google.com/assets/colab-badge.svg\" alt=\"Open In Colab\"/></a>"
      ]
    },
    {
      "cell_type": "markdown",
      "id": "668eb582",
      "metadata": {
        "id": "668eb582"
      },
      "source": [
        "# Машинный перевод\n",
        "\n",
        "Задача: реализовать модель Transformer\n",
        "\n",
        "Нормализация текстов для предобработки перед подачей в языковую модель\n",
        "распознавания речи (“сегодня 23 сентября и я заработал 33 руб” -> “сегодня\n",
        "двадцать третье сентября и я заработал тридцать три рубля"
      ]
    },
    {
      "cell_type": "code",
      "execution_count": 1,
      "id": "4d8b3249",
      "metadata": {
        "id": "4d8b3249",
        "outputId": "4e7b4f7d-5764-47d2-ad6c-d136e89d39f4",
        "colab": {
          "base_uri": "https://localhost:8080/"
        }
      },
      "outputs": [
        {
          "output_type": "stream",
          "name": "stdout",
          "text": [
            "Downloading...\n",
            "From: https://drive.google.com/uc?id=1kodL3nMXPmbjrhR18ri_Ekd4cv6LH1eZ\n",
            "To: /content/archive.zip\n",
            "100% 1.52G/1.52G [00:10<00:00, 149MB/s]\n"
          ]
        }
      ],
      "source": [
        "!gdown --id 1kodL3nMXPmbjrhR18ri_Ekd4cv6LH1eZ\n",
        "!unzip archive.zip -d data"
      ]
    },
    {
      "cell_type": "code",
      "source": [
        "import pandas as pd\n",
        "import os\n",
        "\n",
        "PATH = 'data'"
      ],
      "metadata": {
        "id": "mTFoCdZwWZ1s"
      },
      "id": "mTFoCdZwWZ1s",
      "execution_count": 4,
      "outputs": []
    },
    {
      "cell_type": "code",
      "source": [
        "df = pd.read_csv(os.path.join(PATH, 'output_1.csv'), nrows=10)\n",
        "df"
      ],
      "metadata": {
        "id": "Uwiu96tEVZM-",
        "outputId": "68106702-cc94-43ef-9aa7-0b785479cd89",
        "colab": {
          "base_uri": "https://localhost:8080/",
          "height": 363
        }
      },
      "id": "Uwiu96tEVZM-",
      "execution_count": 8,
      "outputs": [
        {
          "output_type": "execute_result",
          "data": {
            "text/html": [
              "\n",
              "  <div id=\"df-305c7167-aec5-4324-9d22-47a033e7db71\">\n",
              "    <div class=\"colab-df-container\">\n",
              "      <div>\n",
              "<style scoped>\n",
              "    .dataframe tbody tr th:only-of-type {\n",
              "        vertical-align: middle;\n",
              "    }\n",
              "\n",
              "    .dataframe tbody tr th {\n",
              "        vertical-align: top;\n",
              "    }\n",
              "\n",
              "    .dataframe thead th {\n",
              "        text-align: right;\n",
              "    }\n",
              "</style>\n",
              "<table border=\"1\" class=\"dataframe\">\n",
              "  <thead>\n",
              "    <tr style=\"text-align: right;\">\n",
              "      <th></th>\n",
              "      <th>Semiotic Class</th>\n",
              "      <th>Input Token</th>\n",
              "      <th>Output Token</th>\n",
              "    </tr>\n",
              "  </thead>\n",
              "  <tbody>\n",
              "    <tr>\n",
              "      <th>0</th>\n",
              "      <td>PLAIN</td>\n",
              "      <td>Brillantaisia</td>\n",
              "      <td>&lt;self&gt;</td>\n",
              "    </tr>\n",
              "    <tr>\n",
              "      <th>1</th>\n",
              "      <td>PLAIN</td>\n",
              "      <td>is</td>\n",
              "      <td>&lt;self&gt;</td>\n",
              "    </tr>\n",
              "    <tr>\n",
              "      <th>2</th>\n",
              "      <td>PLAIN</td>\n",
              "      <td>a</td>\n",
              "      <td>&lt;self&gt;</td>\n",
              "    </tr>\n",
              "    <tr>\n",
              "      <th>3</th>\n",
              "      <td>PLAIN</td>\n",
              "      <td>genus</td>\n",
              "      <td>&lt;self&gt;</td>\n",
              "    </tr>\n",
              "    <tr>\n",
              "      <th>4</th>\n",
              "      <td>PLAIN</td>\n",
              "      <td>of</td>\n",
              "      <td>&lt;self&gt;</td>\n",
              "    </tr>\n",
              "    <tr>\n",
              "      <th>5</th>\n",
              "      <td>PLAIN</td>\n",
              "      <td>plant</td>\n",
              "      <td>&lt;self&gt;</td>\n",
              "    </tr>\n",
              "    <tr>\n",
              "      <th>6</th>\n",
              "      <td>PLAIN</td>\n",
              "      <td>in</td>\n",
              "      <td>&lt;self&gt;</td>\n",
              "    </tr>\n",
              "    <tr>\n",
              "      <th>7</th>\n",
              "      <td>PLAIN</td>\n",
              "      <td>family</td>\n",
              "      <td>&lt;self&gt;</td>\n",
              "    </tr>\n",
              "    <tr>\n",
              "      <th>8</th>\n",
              "      <td>PLAIN</td>\n",
              "      <td>Acanthaceae</td>\n",
              "      <td>&lt;self&gt;</td>\n",
              "    </tr>\n",
              "    <tr>\n",
              "      <th>9</th>\n",
              "      <td>PUNCT</td>\n",
              "      <td>.</td>\n",
              "      <td>sil</td>\n",
              "    </tr>\n",
              "  </tbody>\n",
              "</table>\n",
              "</div>\n",
              "      <button class=\"colab-df-convert\" onclick=\"convertToInteractive('df-305c7167-aec5-4324-9d22-47a033e7db71')\"\n",
              "              title=\"Convert this dataframe to an interactive table.\"\n",
              "              style=\"display:none;\">\n",
              "        \n",
              "  <svg xmlns=\"http://www.w3.org/2000/svg\" height=\"24px\"viewBox=\"0 0 24 24\"\n",
              "       width=\"24px\">\n",
              "    <path d=\"M0 0h24v24H0V0z\" fill=\"none\"/>\n",
              "    <path d=\"M18.56 5.44l.94 2.06.94-2.06 2.06-.94-2.06-.94-.94-2.06-.94 2.06-2.06.94zm-11 1L8.5 8.5l.94-2.06 2.06-.94-2.06-.94L8.5 2.5l-.94 2.06-2.06.94zm10 10l.94 2.06.94-2.06 2.06-.94-2.06-.94-.94-2.06-.94 2.06-2.06.94z\"/><path d=\"M17.41 7.96l-1.37-1.37c-.4-.4-.92-.59-1.43-.59-.52 0-1.04.2-1.43.59L10.3 9.45l-7.72 7.72c-.78.78-.78 2.05 0 2.83L4 21.41c.39.39.9.59 1.41.59.51 0 1.02-.2 1.41-.59l7.78-7.78 2.81-2.81c.8-.78.8-2.07 0-2.86zM5.41 20L4 18.59l7.72-7.72 1.47 1.35L5.41 20z\"/>\n",
              "  </svg>\n",
              "      </button>\n",
              "      \n",
              "  <style>\n",
              "    .colab-df-container {\n",
              "      display:flex;\n",
              "      flex-wrap:wrap;\n",
              "      gap: 12px;\n",
              "    }\n",
              "\n",
              "    .colab-df-convert {\n",
              "      background-color: #E8F0FE;\n",
              "      border: none;\n",
              "      border-radius: 50%;\n",
              "      cursor: pointer;\n",
              "      display: none;\n",
              "      fill: #1967D2;\n",
              "      height: 32px;\n",
              "      padding: 0 0 0 0;\n",
              "      width: 32px;\n",
              "    }\n",
              "\n",
              "    .colab-df-convert:hover {\n",
              "      background-color: #E2EBFA;\n",
              "      box-shadow: 0px 1px 2px rgba(60, 64, 67, 0.3), 0px 1px 3px 1px rgba(60, 64, 67, 0.15);\n",
              "      fill: #174EA6;\n",
              "    }\n",
              "\n",
              "    [theme=dark] .colab-df-convert {\n",
              "      background-color: #3B4455;\n",
              "      fill: #D2E3FC;\n",
              "    }\n",
              "\n",
              "    [theme=dark] .colab-df-convert:hover {\n",
              "      background-color: #434B5C;\n",
              "      box-shadow: 0px 1px 3px 1px rgba(0, 0, 0, 0.15);\n",
              "      filter: drop-shadow(0px 1px 2px rgba(0, 0, 0, 0.3));\n",
              "      fill: #FFFFFF;\n",
              "    }\n",
              "  </style>\n",
              "\n",
              "      <script>\n",
              "        const buttonEl =\n",
              "          document.querySelector('#df-305c7167-aec5-4324-9d22-47a033e7db71 button.colab-df-convert');\n",
              "        buttonEl.style.display =\n",
              "          google.colab.kernel.accessAllowed ? 'block' : 'none';\n",
              "\n",
              "        async function convertToInteractive(key) {\n",
              "          const element = document.querySelector('#df-305c7167-aec5-4324-9d22-47a033e7db71');\n",
              "          const dataTable =\n",
              "            await google.colab.kernel.invokeFunction('convertToInteractive',\n",
              "                                                     [key], {});\n",
              "          if (!dataTable) return;\n",
              "\n",
              "          const docLinkHtml = 'Like what you see? Visit the ' +\n",
              "            '<a target=\"_blank\" href=https://colab.research.google.com/notebooks/data_table.ipynb>data table notebook</a>'\n",
              "            + ' to learn more about interactive tables.';\n",
              "          element.innerHTML = '';\n",
              "          dataTable['output_type'] = 'display_data';\n",
              "          await google.colab.output.renderOutput(dataTable, element);\n",
              "          const docLink = document.createElement('div');\n",
              "          docLink.innerHTML = docLinkHtml;\n",
              "          element.appendChild(docLink);\n",
              "        }\n",
              "      </script>\n",
              "    </div>\n",
              "  </div>\n",
              "  "
            ],
            "text/plain": [
              "  Semiotic Class    Input Token Output Token\n",
              "0          PLAIN  Brillantaisia       <self>\n",
              "1          PLAIN             is       <self>\n",
              "2          PLAIN              a       <self>\n",
              "3          PLAIN          genus       <self>\n",
              "4          PLAIN             of       <self>\n",
              "5          PLAIN          plant       <self>\n",
              "6          PLAIN             in       <self>\n",
              "7          PLAIN         family       <self>\n",
              "8          PLAIN    Acanthaceae       <self>\n",
              "9          PUNCT              .          sil"
            ]
          },
          "metadata": {},
          "execution_count": 8
        }
      ]
    },
    {
      "cell_type": "markdown",
      "source": [
        "1. bpe-токенизация\n",
        "2. word2vec\n",
        "3. обучение\n",
        "    1. encoder\n",
        "    2. decoder\n",
        "4. рабочее демо идеально через бота (PyTelegramBotAPI)\n",
        "5. прунинг для голов трансформера"
      ],
      "metadata": {
        "id": "u0h4YTbsd7i8"
      },
      "id": "u0h4YTbsd7i8"
    },
    {
      "cell_type": "code",
      "source": [
        ""
      ],
      "metadata": {
        "id": "kJyZ2RhUW-lC"
      },
      "id": "kJyZ2RhUW-lC",
      "execution_count": null,
      "outputs": []
    }
  ],
  "metadata": {
    "kernelspec": {
      "display_name": "Python 3",
      "language": "python",
      "name": "python3"
    },
    "language_info": {
      "codemirror_mode": {
        "name": "ipython",
        "version": 3
      },
      "file_extension": ".py",
      "mimetype": "text/x-python",
      "name": "python",
      "nbconvert_exporter": "python",
      "pygments_lexer": "ipython3",
      "version": "3.8.8"
    },
    "colab": {
      "name": "Tranformer for Machine Translation.ipynb",
      "provenance": [],
      "include_colab_link": true
    }
  },
  "nbformat": 4,
  "nbformat_minor": 5
}